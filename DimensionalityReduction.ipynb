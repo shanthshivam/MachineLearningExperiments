{
 "cells": [
  {
   "cell_type": "markdown",
   "metadata": {
    "cell_id": "00001-5900c1a8-db0e-4148-b800-6cd7a48ddc9d",
    "deepnote_cell_type": "markdown",
    "tags": []
   },
   "source": [
    "# Penalized Regression and Dimensionality Reduction\n",
    "\n",
    "The third assignment will takle the peanlized regression problem in order to reduce the number of significant predictors. We can use two different methods: **Ridge** or **Lasso** penalization, which can be applied to both the linear regression and the logisit regression.\n",
    "These methods can be applied when we have a lot of predictors and we want to reduce the dimensionality because a lot of them can be multicollinear, similar to other ad add noise to our predictions.\n",
    "\n",
    "We will see them applied to the **classification** problem.\n",
    "\n",
    "Moreover, you will be asked to evaluate the models using the different metrics specific to the *classification* problem.\n",
    "\n",
    "\n",
    "The dataset used in this second part is different, because now we will takle a classification problem in which the target variable assumes only 2 possible values: 0 or 1, and it is no longer a continuos output.\n",
    "\n",
    "In the second part of the assignment we will work on data manipulation (how to populat the missings) and on the Logistic Regression. The Logistic Regression allows us to **classify**  if the individual, given some features, will obtain the loan (target=1) or will not obtain the loan (target=0). In the dataset there are multiple vairables related to the individuals, which are a little less than 40K, related to: amount of credit requested, annual income, number of children, type of job, etc...\n",
    "\n",
    "The dataset is not \"ready-to-go\", hence before fitting the Logistic regression you will need to manipulate the data in order to clean them. Moreover, there are some initial steps in order to include dummy vairables and non-linear predictors which you have already seen in the previous assignmemnt.\n",
    "\n",
    "Each group has to do the following: \n",
    "\n",
    "1. From sklearn.metrics import the following metrics to evaluate the models: accuracy score, roc_auc_score,confusion_matrix, classification report, roc_curve and precision_score\n",
    "2. From sklearn import the packages needed to perform: Logist Regression, GridSearch and spli of the sample.\n",
    "3. If there are missings populate them using one of the methods we saw in the Tutorial 1 and **explain why you have decided to use such method**.\n",
    "4. Determine how many are the categorical variables using the command **.dtypes()**. Convert all of them into dumy using the command **.get_dummy()** proper of the pandas DataFrame Structure, and include them to the original dataset.\n",
    "5. Take the variables **AMT_CREDIT**, **AMT_INCOME_TOTAL**, **CNT_FAM_MEMBERS** from X, and by using the class **PolynomialFeature** create the non-linear combinations. You need to compute all the second order combinations. The option that needs to be specified are: **degree=2**, **interaction_only=False**, **include_bias=False**, and then use the **.fit_transform(Data)** to compute all the elements. \n",
    "6. Add those elements to the dataset you have created at point 4, and split the data into training and test sample.\n",
    "7. We want to fit the penalized logistic regression with both Lasso and Ridge penalization but first we need to standardize the predictors (X):\n",
    "     - Standardize only the variables that are recorded as **'float64'**. Do not standardize the dummy variables or the numerical one (recorded as integer numbers 1,2,3 etc..). \n",
    "     \n",
    "     **Hint**: Split the variables, of both the training and the test, in two groups, one that contians the 'float64' vairbales, by type using **.select_dtypes(include=['float64'])**, which needs to be standardize, and one that contains the 'int64' variables, by using **.select_dtypes(include=['int64'])** ,which do not have to be standardized. Once you have standardized the 'float64' variables, you need to concatenate them with the 'int64' ones.\n",
    "     - Use the mean and the standard deviation of the training sample to standardize also the test sample variables.\n",
    "8. Define and fit the Logistic Regression with Ridge penalization (l2 penalty) using **GridSearchCV**. Use 100 values of lambdas starting from 0 to 10 and a number of fold equalt to 5(cv = 5). Specify return_train_score= True. (**NB** the hyperparameters name in Python is 'C' not lambda).\n",
    "9. Plot the chart in which you show the evoluation of **only** the **test score** in correspondence to the lambda values. Which is the best estimator value of lambda (C)?\n",
    "10. Produce the prediction using the command **.predict()**\n",
    "11. Evaluate the performance using the following metrics: accuracy_score and roc_auc_score.\n",
    "12. Show the classification_report and the confusion matrix. \n",
    "13. Compute manually the accuracy, precision, and sensitivity values from the confusion matrix. (**NB** they should be the same as the one in the classification report related to the outcome 1)\n",
    "\n",
    "14. Define and fit the Logistic Regression with Lasso penalization (l1 penalty) using **GridSearchCV**. Use 100 values of lambdas starting from 0 to 10 and a number of fold equal to 5(cv = 5). Specify return_train_score= True. (**NB** the hyperparameters name in Python is 'C' not lambda). (Use the standardized training and test data defined at point 7.)\n",
    "15. Do from point 11 to point 14 for the Logistic Regression with Lasso penalization.\n",
    "16. Which one between the Ridge and the Lasso penalization delivers the best performance in terms of accuracy? Which has the best precision values? Which one has the best recall (sensitivity) value?\n",
    "\n",
    "17.  Define and fit the Logistic Regression with Ridge penalization (l2 penalty) specifing also **class_weight='balanced' **. Use **GridSearchCV** to estimate the shrinkage parameter. Use 100 values of lambdas starting from 0 to 10 and a number of fold equalt to 5(cv = 5). (Use the standardized training and test data defined at point 7.)\n",
    "18. Produce the prediction using the command **.predict()**\n",
    "19. Evaluate the performance using the classification report.\n",
    "20. Have the results of the classification report at point 19 changed from the one at point 12? If yes, why?\n",
    "\n",
    "\n"
   ]
  },
  {
   "cell_type": "code",
   "execution_count": 1,
   "metadata": {
    "cell_id": "00002-a34ea22b-ffd3-4282-862a-3d8702aea070",
    "deepnote_cell_type": "code",
    "deepnote_to_be_reexecuted": false,
    "execution_millis": 2384,
    "execution_start": 1622488614241,
    "source_hash": "223a801b",
    "tags": []
   },
   "outputs": [],
   "source": [
    "## Q1 and Q2: load all the other packages, class or function in order to complete the assignment.\n",
    "import pandas as pd\n",
    "import numpy as np\n",
    "import matplotlib.pyplot as plt\n",
    "from sklearn.metrics import accuracy_score, confusion_matrix, roc_auc_score\n",
    "from sklearn.metrics import classification_report, roc_curve, precision_score\n",
    "from sklearn.preprocessing import PolynomialFeatures\n",
    "from sklearn.linear_model import LogisticRegression, Ridge, Lasso\n",
    "from sklearn.model_selection import train_test_split, GridSearchCV\n",
    "import warnings\n",
    "warnings.filterwarnings(\"ignore\")"
   ]
  },
  {
   "cell_type": "code",
   "execution_count": 2,
   "metadata": {
    "cell_id": "00001-afcd60e5-69a1-40ff-b5ac-24ad6509afd3",
    "deepnote_cell_type": "code",
    "deepnote_to_be_reexecuted": false,
    "execution_millis": 354,
    "execution_start": 1622488616629,
    "source_hash": "a1aeffee",
    "tags": []
   },
   "outputs": [
    {
     "data": {
      "application/vnd.deepnote.dataframe.v2+json": {
       "column_count": 52,
       "columns": [
        {
         "dtype": "float64",
         "name": "AMT_CREDIT",
         "stats": {
          "histogram": [
           {
            "bin_end": 363780,
            "bin_start": 284400,
            "count": 2
           },
           {
            "bin_end": 443160,
            "bin_start": 363780,
            "count": 1
           },
           {
            "bin_end": 522540,
            "bin_start": 443160,
            "count": 0
           },
           {
            "bin_end": 601920,
            "bin_start": 522540,
            "count": 0
           },
           {
            "bin_end": 681300,
            "bin_start": 601920,
            "count": 0
           },
           {
            "bin_end": 760680,
            "bin_start": 681300,
            "count": 0
           },
           {
            "bin_end": 840060,
            "bin_start": 760680,
            "count": 0
           },
           {
            "bin_end": 919440,
            "bin_start": 840060,
            "count": 0
           },
           {
            "bin_end": 998820,
            "bin_start": 919440,
            "count": 1
           },
           {
            "bin_end": 1078200,
            "bin_start": 998820,
            "count": 1
           }
          ],
          "max": "1078200.0",
          "min": "284400.0",
          "nan_count": 0,
          "unique_count": 5
         }
        },
        {
         "dtype": "float64",
         "name": "AMT_GOODS_PRICE",
         "stats": {
          "histogram": [
           {
            "bin_end": 20628.9,
            "bin_start": 19134,
            "count": 1
           },
           {
            "bin_end": 22123.8,
            "bin_start": 20628.9,
            "count": 0
           },
           {
            "bin_end": 23618.7,
            "bin_start": 22123.8,
            "count": 0
           },
           {
            "bin_end": 25113.6,
            "bin_start": 23618.7,
            "count": 0
           },
           {
            "bin_end": 26608.5,
            "bin_start": 25113.6,
            "count": 1
           },
           {
            "bin_end": 28103.4,
            "bin_start": 26608.5,
            "count": 1
           },
           {
            "bin_end": 29598.300000000003,
            "bin_start": 28103.4,
            "count": 0
           },
           {
            "bin_end": 31093.2,
            "bin_start": 29598.300000000003,
            "count": 0
           },
           {
            "bin_end": 32588.1,
            "bin_start": 31093.2,
            "count": 1
           },
           {
            "bin_end": 34083,
            "bin_start": 32588.1,
            "count": 1
           }
          ],
          "max": "34083.0",
          "min": "19134.0",
          "nan_count": 0,
          "unique_count": 5
         }
        },
        {
         "dtype": "float64",
         "name": "AMT_INCOME_TOTAL",
         "stats": {
          "histogram": [
           {
            "bin_end": 132750,
            "bin_start": 112500,
            "count": 2
           },
           {
            "bin_end": 153000,
            "bin_start": 132750,
            "count": 1
           },
           {
            "bin_end": 173250,
            "bin_start": 153000,
            "count": 0
           },
           {
            "bin_end": 193500,
            "bin_start": 173250,
            "count": 0
           },
           {
            "bin_end": 213750,
            "bin_start": 193500,
            "count": 0
           },
           {
            "bin_end": 234000,
            "bin_start": 213750,
            "count": 0
           },
           {
            "bin_end": 254250,
            "bin_start": 234000,
            "count": 0
           },
           {
            "bin_end": 274500,
            "bin_start": 254250,
            "count": 1
           },
           {
            "bin_end": 294750,
            "bin_start": 274500,
            "count": 0
           },
           {
            "bin_end": 315000,
            "bin_start": 294750,
            "count": 1
           }
          ],
          "max": "315000.0",
          "min": "112500.0",
          "nan_count": 0,
          "unique_count": 5
         }
        },
        {
         "dtype": "int64",
         "name": "CNT_CHILDREN",
         "stats": {
          "histogram": [
           {
            "bin_end": 0.1,
            "bin_start": 0,
            "count": 3
           },
           {
            "bin_end": 0.2,
            "bin_start": 0.1,
            "count": 0
           },
           {
            "bin_end": 0.30000000000000004,
            "bin_start": 0.2,
            "count": 0
           },
           {
            "bin_end": 0.4,
            "bin_start": 0.30000000000000004,
            "count": 0
           },
           {
            "bin_end": 0.5,
            "bin_start": 0.4,
            "count": 0
           },
           {
            "bin_end": 0.6000000000000001,
            "bin_start": 0.5,
            "count": 0
           },
           {
            "bin_end": 0.7000000000000001,
            "bin_start": 0.6000000000000001,
            "count": 0
           },
           {
            "bin_end": 0.8,
            "bin_start": 0.7000000000000001,
            "count": 0
           },
           {
            "bin_end": 0.9,
            "bin_start": 0.8,
            "count": 0
           },
           {
            "bin_end": 1,
            "bin_start": 0.9,
            "count": 2
           }
          ],
          "max": "1",
          "min": "0",
          "nan_count": 0,
          "unique_count": 2
         }
        },
        {
         "dtype": "int64",
         "name": "CNT_FAM_MEMBERS",
         "stats": {
          "histogram": [
           {
            "bin_end": 1.2,
            "bin_start": 1,
            "count": 3
           },
           {
            "bin_end": 1.4,
            "bin_start": 1.2,
            "count": 0
           },
           {
            "bin_end": 1.6,
            "bin_start": 1.4,
            "count": 0
           },
           {
            "bin_end": 1.8,
            "bin_start": 1.6,
            "count": 0
           },
           {
            "bin_end": 2,
            "bin_start": 1.8,
            "count": 0
           },
           {
            "bin_end": 2.2,
            "bin_start": 2,
            "count": 0
           },
           {
            "bin_end": 2.4000000000000004,
            "bin_start": 2.2,
            "count": 0
           },
           {
            "bin_end": 2.6,
            "bin_start": 2.4000000000000004,
            "count": 0
           },
           {
            "bin_end": 2.8,
            "bin_start": 2.6,
            "count": 0
           },
           {
            "bin_end": 3,
            "bin_start": 2.8,
            "count": 2
           }
          ],
          "max": "3",
          "min": "1",
          "nan_count": 0,
          "unique_count": 2
         }
        },
        {
         "dtype": "object",
         "name": "CODE_GENDER",
         "stats": {
          "categories": [
           {
            "count": 4,
            "name": "F"
           },
           {
            "count": 1,
            "name": "M"
           }
          ],
          "nan_count": 0,
          "unique_count": 2
         }
        },
        {
         "dtype": "int64",
         "name": "DAYS_EMPLOYED",
         "stats": {
          "histogram": [
           {
            "bin_end": 34744.1,
            "bin_start": -1978,
            "count": 4
           },
           {
            "bin_end": 71466.2,
            "bin_start": 34744.1,
            "count": 0
           },
           {
            "bin_end": 108188.29999999999,
            "bin_start": 71466.2,
            "count": 0
           },
           {
            "bin_end": 144910.4,
            "bin_start": 108188.29999999999,
            "count": 0
           },
           {
            "bin_end": 181632.5,
            "bin_start": 144910.4,
            "count": 0
           },
           {
            "bin_end": 218354.59999999998,
            "bin_start": 181632.5,
            "count": 0
           },
           {
            "bin_end": 255076.69999999998,
            "bin_start": 218354.59999999998,
            "count": 0
           },
           {
            "bin_end": 291798.8,
            "bin_start": 255076.69999999998,
            "count": 0
           },
           {
            "bin_end": 328520.89999999997,
            "bin_start": 291798.8,
            "count": 0
           },
           {
            "bin_end": 365243,
            "bin_start": 328520.89999999997,
            "count": 1
           }
          ],
          "max": "365243",
          "min": "-1978",
          "nan_count": 0,
          "unique_count": 5
         }
        },
        {
         "dtype": "int64",
         "name": "DAYS_ID_PUBLISH",
         "stats": {
          "histogram": [
           {
            "bin_end": -3758.7,
            "bin_start": -4116,
            "count": 1
           },
           {
            "bin_end": -3401.4,
            "bin_start": -3758.7,
            "count": 0
           },
           {
            "bin_end": -3044.1,
            "bin_start": -3401.4,
            "count": 0
           },
           {
            "bin_end": -2686.8,
            "bin_start": -3044.1,
            "count": 0
           },
           {
            "bin_end": -2329.5,
            "bin_start": -2686.8,
            "count": 0
           },
           {
            "bin_end": -1972.1999999999998,
            "bin_start": -2329.5,
            "count": 0
           },
           {
            "bin_end": -1614.9,
            "bin_start": -1972.1999999999998,
            "count": 0
           },
           {
            "bin_end": -1257.6,
            "bin_start": -1614.9,
            "count": 0
           },
           {
            "bin_end": -900.2999999999997,
            "bin_start": -1257.6,
            "count": 2
           },
           {
            "bin_end": -543,
            "bin_start": -900.2999999999997,
            "count": 2
           }
          ],
          "max": "-543",
          "min": "-4116",
          "nan_count": 0,
          "unique_count": 5
         }
        },
        {
         "dtype": "float64",
         "name": "DAYS_LAST_PHONE_CHANGE",
         "stats": {
          "histogram": [
           {
            "bin_end": -1846.8,
            "bin_start": -2052,
            "count": 1
           },
           {
            "bin_end": -1641.6,
            "bin_start": -1846.8,
            "count": 0
           },
           {
            "bin_end": -1436.4,
            "bin_start": -1641.6,
            "count": 0
           },
           {
            "bin_end": -1231.2,
            "bin_start": -1436.4,
            "count": 0
           },
           {
            "bin_end": -1026,
            "bin_start": -1231.2,
            "count": 0
           },
           {
            "bin_end": -820.8000000000002,
            "bin_start": -1026,
            "count": 1
           },
           {
            "bin_end": -615.6000000000001,
            "bin_start": -820.8000000000002,
            "count": 1
           },
           {
            "bin_end": -410.4000000000001,
            "bin_start": -615.6000000000001,
            "count": 0
           },
           {
            "bin_end": -205.20000000000005,
            "bin_start": -410.4000000000001,
            "count": 0
           },
           {
            "bin_end": 0,
            "bin_start": -205.20000000000005,
            "count": 1
           }
          ],
          "max": "0.0",
          "min": "-2052.0",
          "nan_count": 1,
          "unique_count": 4
         }
        },
        {
         "dtype": "int64",
         "name": "DAYS_REGISTRATION",
         "stats": {
          "histogram": [
           {
            "bin_end": -4628.4,
            "bin_start": -5103,
            "count": 2
           },
           {
            "bin_end": -4153.8,
            "bin_start": -4628.4,
            "count": 1
           },
           {
            "bin_end": -3679.2,
            "bin_start": -4153.8,
            "count": 0
           },
           {
            "bin_end": -3204.6,
            "bin_start": -3679.2,
            "count": 0
           },
           {
            "bin_end": -2730,
            "bin_start": -3204.6,
            "count": 0
           },
           {
            "bin_end": -2255.3999999999996,
            "bin_start": -2730,
            "count": 0
           },
           {
            "bin_end": -1780.7999999999997,
            "bin_start": -2255.3999999999996,
            "count": 0
           },
           {
            "bin_end": -1306.1999999999998,
            "bin_start": -1780.7999999999997,
            "count": 0
           },
           {
            "bin_end": -831.5999999999995,
            "bin_start": -1306.1999999999998,
            "count": 0
           },
           {
            "bin_end": -357,
            "bin_start": -831.5999999999995,
            "count": 2
           }
          ],
          "max": "-357",
          "min": "-5103",
          "nan_count": 0,
          "unique_count": 5
         }
        },
        {
         "dtype": "int64",
         "name": "FLAG_DOCUMENT_10",
         "stats": {
          "histogram": [
           {
            "bin_end": -0.4,
            "bin_start": -0.5,
            "count": 0
           },
           {
            "bin_end": -0.3,
            "bin_start": -0.4,
            "count": 0
           },
           {
            "bin_end": -0.19999999999999996,
            "bin_start": -0.3,
            "count": 0
           },
           {
            "bin_end": -0.09999999999999998,
            "bin_start": -0.19999999999999996,
            "count": 0
           },
           {
            "bin_end": 0,
            "bin_start": -0.09999999999999998,
            "count": 0
           },
           {
            "bin_end": 0.10000000000000009,
            "bin_start": 0,
            "count": 5
           },
           {
            "bin_end": 0.20000000000000007,
            "bin_start": 0.10000000000000009,
            "count": 0
           },
           {
            "bin_end": 0.30000000000000004,
            "bin_start": 0.20000000000000007,
            "count": 0
           },
           {
            "bin_end": 0.4,
            "bin_start": 0.30000000000000004,
            "count": 0
           },
           {
            "bin_end": 0.5,
            "bin_start": 0.4,
            "count": 0
           }
          ],
          "max": "0",
          "min": "0",
          "nan_count": 0,
          "unique_count": 1
         }
        },
        {
         "dtype": "int64",
         "name": "FLAG_DOCUMENT_11",
         "stats": {
          "histogram": [
           {
            "bin_end": -0.4,
            "bin_start": -0.5,
            "count": 0
           },
           {
            "bin_end": -0.3,
            "bin_start": -0.4,
            "count": 0
           },
           {
            "bin_end": -0.19999999999999996,
            "bin_start": -0.3,
            "count": 0
           },
           {
            "bin_end": -0.09999999999999998,
            "bin_start": -0.19999999999999996,
            "count": 0
           },
           {
            "bin_end": 0,
            "bin_start": -0.09999999999999998,
            "count": 0
           },
           {
            "bin_end": 0.10000000000000009,
            "bin_start": 0,
            "count": 5
           },
           {
            "bin_end": 0.20000000000000007,
            "bin_start": 0.10000000000000009,
            "count": 0
           },
           {
            "bin_end": 0.30000000000000004,
            "bin_start": 0.20000000000000007,
            "count": 0
           },
           {
            "bin_end": 0.4,
            "bin_start": 0.30000000000000004,
            "count": 0
           },
           {
            "bin_end": 0.5,
            "bin_start": 0.4,
            "count": 0
           }
          ],
          "max": "0",
          "min": "0",
          "nan_count": 0,
          "unique_count": 1
         }
        },
        {
         "dtype": "int64",
         "name": "FLAG_DOCUMENT_12",
         "stats": {
          "histogram": [
           {
            "bin_end": -0.4,
            "bin_start": -0.5,
            "count": 0
           },
           {
            "bin_end": -0.3,
            "bin_start": -0.4,
            "count": 0
           },
           {
            "bin_end": -0.19999999999999996,
            "bin_start": -0.3,
            "count": 0
           },
           {
            "bin_end": -0.09999999999999998,
            "bin_start": -0.19999999999999996,
            "count": 0
           },
           {
            "bin_end": 0,
            "bin_start": -0.09999999999999998,
            "count": 0
           },
           {
            "bin_end": 0.10000000000000009,
            "bin_start": 0,
            "count": 5
           },
           {
            "bin_end": 0.20000000000000007,
            "bin_start": 0.10000000000000009,
            "count": 0
           },
           {
            "bin_end": 0.30000000000000004,
            "bin_start": 0.20000000000000007,
            "count": 0
           },
           {
            "bin_end": 0.4,
            "bin_start": 0.30000000000000004,
            "count": 0
           },
           {
            "bin_end": 0.5,
            "bin_start": 0.4,
            "count": 0
           }
          ],
          "max": "0",
          "min": "0",
          "nan_count": 0,
          "unique_count": 1
         }
        },
        {
         "dtype": "int64",
         "name": "FLAG_DOCUMENT_13",
         "stats": {
          "histogram": [
           {
            "bin_end": -0.4,
            "bin_start": -0.5,
            "count": 0
           },
           {
            "bin_end": -0.3,
            "bin_start": -0.4,
            "count": 0
           },
           {
            "bin_end": -0.19999999999999996,
            "bin_start": -0.3,
            "count": 0
           },
           {
            "bin_end": -0.09999999999999998,
            "bin_start": -0.19999999999999996,
            "count": 0
           },
           {
            "bin_end": 0,
            "bin_start": -0.09999999999999998,
            "count": 0
           },
           {
            "bin_end": 0.10000000000000009,
            "bin_start": 0,
            "count": 5
           },
           {
            "bin_end": 0.20000000000000007,
            "bin_start": 0.10000000000000009,
            "count": 0
           },
           {
            "bin_end": 0.30000000000000004,
            "bin_start": 0.20000000000000007,
            "count": 0
           },
           {
            "bin_end": 0.4,
            "bin_start": 0.30000000000000004,
            "count": 0
           },
           {
            "bin_end": 0.5,
            "bin_start": 0.4,
            "count": 0
           }
          ],
          "max": "0",
          "min": "0",
          "nan_count": 0,
          "unique_count": 1
         }
        },
        {
         "dtype": "int64",
         "name": "FLAG_DOCUMENT_14",
         "stats": {
          "histogram": [
           {
            "bin_end": -0.4,
            "bin_start": -0.5,
            "count": 0
           },
           {
            "bin_end": -0.3,
            "bin_start": -0.4,
            "count": 0
           },
           {
            "bin_end": -0.19999999999999996,
            "bin_start": -0.3,
            "count": 0
           },
           {
            "bin_end": -0.09999999999999998,
            "bin_start": -0.19999999999999996,
            "count": 0
           },
           {
            "bin_end": 0,
            "bin_start": -0.09999999999999998,
            "count": 0
           },
           {
            "bin_end": 0.10000000000000009,
            "bin_start": 0,
            "count": 5
           },
           {
            "bin_end": 0.20000000000000007,
            "bin_start": 0.10000000000000009,
            "count": 0
           },
           {
            "bin_end": 0.30000000000000004,
            "bin_start": 0.20000000000000007,
            "count": 0
           },
           {
            "bin_end": 0.4,
            "bin_start": 0.30000000000000004,
            "count": 0
           },
           {
            "bin_end": 0.5,
            "bin_start": 0.4,
            "count": 0
           }
          ],
          "max": "0",
          "min": "0",
          "nan_count": 0,
          "unique_count": 1
         }
        },
        {
         "dtype": "int64",
         "name": "FLAG_DOCUMENT_15",
         "stats": {
          "histogram": [
           {
            "bin_end": -0.4,
            "bin_start": -0.5,
            "count": 0
           },
           {
            "bin_end": -0.3,
            "bin_start": -0.4,
            "count": 0
           },
           {
            "bin_end": -0.19999999999999996,
            "bin_start": -0.3,
            "count": 0
           },
           {
            "bin_end": -0.09999999999999998,
            "bin_start": -0.19999999999999996,
            "count": 0
           },
           {
            "bin_end": 0,
            "bin_start": -0.09999999999999998,
            "count": 0
           },
           {
            "bin_end": 0.10000000000000009,
            "bin_start": 0,
            "count": 5
           },
           {
            "bin_end": 0.20000000000000007,
            "bin_start": 0.10000000000000009,
            "count": 0
           },
           {
            "bin_end": 0.30000000000000004,
            "bin_start": 0.20000000000000007,
            "count": 0
           },
           {
            "bin_end": 0.4,
            "bin_start": 0.30000000000000004,
            "count": 0
           },
           {
            "bin_end": 0.5,
            "bin_start": 0.4,
            "count": 0
           }
          ],
          "max": "0",
          "min": "0",
          "nan_count": 0,
          "unique_count": 1
         }
        },
        {
         "dtype": "int64",
         "name": "FLAG_DOCUMENT_16",
         "stats": {
          "histogram": [
           {
            "bin_end": -0.4,
            "bin_start": -0.5,
            "count": 0
           },
           {
            "bin_end": -0.3,
            "bin_start": -0.4,
            "count": 0
           },
           {
            "bin_end": -0.19999999999999996,
            "bin_start": -0.3,
            "count": 0
           },
           {
            "bin_end": -0.09999999999999998,
            "bin_start": -0.19999999999999996,
            "count": 0
           },
           {
            "bin_end": 0,
            "bin_start": -0.09999999999999998,
            "count": 0
           },
           {
            "bin_end": 0.10000000000000009,
            "bin_start": 0,
            "count": 5
           },
           {
            "bin_end": 0.20000000000000007,
            "bin_start": 0.10000000000000009,
            "count": 0
           },
           {
            "bin_end": 0.30000000000000004,
            "bin_start": 0.20000000000000007,
            "count": 0
           },
           {
            "bin_end": 0.4,
            "bin_start": 0.30000000000000004,
            "count": 0
           },
           {
            "bin_end": 0.5,
            "bin_start": 0.4,
            "count": 0
           }
          ],
          "max": "0",
          "min": "0",
          "nan_count": 0,
          "unique_count": 1
         }
        },
        {
         "dtype": "int64",
         "name": "FLAG_DOCUMENT_17",
         "stats": {
          "histogram": [
           {
            "bin_end": -0.4,
            "bin_start": -0.5,
            "count": 0
           },
           {
            "bin_end": -0.3,
            "bin_start": -0.4,
            "count": 0
           },
           {
            "bin_end": -0.19999999999999996,
            "bin_start": -0.3,
            "count": 0
           },
           {
            "bin_end": -0.09999999999999998,
            "bin_start": -0.19999999999999996,
            "count": 0
           },
           {
            "bin_end": 0,
            "bin_start": -0.09999999999999998,
            "count": 0
           },
           {
            "bin_end": 0.10000000000000009,
            "bin_start": 0,
            "count": 5
           },
           {
            "bin_end": 0.20000000000000007,
            "bin_start": 0.10000000000000009,
            "count": 0
           },
           {
            "bin_end": 0.30000000000000004,
            "bin_start": 0.20000000000000007,
            "count": 0
           },
           {
            "bin_end": 0.4,
            "bin_start": 0.30000000000000004,
            "count": 0
           },
           {
            "bin_end": 0.5,
            "bin_start": 0.4,
            "count": 0
           }
          ],
          "max": "0",
          "min": "0",
          "nan_count": 0,
          "unique_count": 1
         }
        },
        {
         "dtype": "int64",
         "name": "FLAG_DOCUMENT_18",
         "stats": {
          "histogram": [
           {
            "bin_end": -0.4,
            "bin_start": -0.5,
            "count": 0
           },
           {
            "bin_end": -0.3,
            "bin_start": -0.4,
            "count": 0
           },
           {
            "bin_end": -0.19999999999999996,
            "bin_start": -0.3,
            "count": 0
           },
           {
            "bin_end": -0.09999999999999998,
            "bin_start": -0.19999999999999996,
            "count": 0
           },
           {
            "bin_end": 0,
            "bin_start": -0.09999999999999998,
            "count": 0
           },
           {
            "bin_end": 0.10000000000000009,
            "bin_start": 0,
            "count": 5
           },
           {
            "bin_end": 0.20000000000000007,
            "bin_start": 0.10000000000000009,
            "count": 0
           },
           {
            "bin_end": 0.30000000000000004,
            "bin_start": 0.20000000000000007,
            "count": 0
           },
           {
            "bin_end": 0.4,
            "bin_start": 0.30000000000000004,
            "count": 0
           },
           {
            "bin_end": 0.5,
            "bin_start": 0.4,
            "count": 0
           }
          ],
          "max": "0",
          "min": "0",
          "nan_count": 0,
          "unique_count": 1
         }
        },
        {
         "dtype": "int64",
         "name": "FLAG_DOCUMENT_19",
         "stats": {
          "histogram": [
           {
            "bin_end": -0.4,
            "bin_start": -0.5,
            "count": 0
           },
           {
            "bin_end": -0.3,
            "bin_start": -0.4,
            "count": 0
           },
           {
            "bin_end": -0.19999999999999996,
            "bin_start": -0.3,
            "count": 0
           },
           {
            "bin_end": -0.09999999999999998,
            "bin_start": -0.19999999999999996,
            "count": 0
           },
           {
            "bin_end": 0,
            "bin_start": -0.09999999999999998,
            "count": 0
           },
           {
            "bin_end": 0.10000000000000009,
            "bin_start": 0,
            "count": 5
           },
           {
            "bin_end": 0.20000000000000007,
            "bin_start": 0.10000000000000009,
            "count": 0
           },
           {
            "bin_end": 0.30000000000000004,
            "bin_start": 0.20000000000000007,
            "count": 0
           },
           {
            "bin_end": 0.4,
            "bin_start": 0.30000000000000004,
            "count": 0
           },
           {
            "bin_end": 0.5,
            "bin_start": 0.4,
            "count": 0
           }
          ],
          "max": "0",
          "min": "0",
          "nan_count": 0,
          "unique_count": 1
         }
        },
        {
         "dtype": "int64",
         "name": "FLAG_DOCUMENT_2",
         "stats": {
          "histogram": [
           {
            "bin_end": -0.4,
            "bin_start": -0.5,
            "count": 0
           },
           {
            "bin_end": -0.3,
            "bin_start": -0.4,
            "count": 0
           },
           {
            "bin_end": -0.19999999999999996,
            "bin_start": -0.3,
            "count": 0
           },
           {
            "bin_end": -0.09999999999999998,
            "bin_start": -0.19999999999999996,
            "count": 0
           },
           {
            "bin_end": 0,
            "bin_start": -0.09999999999999998,
            "count": 0
           },
           {
            "bin_end": 0.10000000000000009,
            "bin_start": 0,
            "count": 5
           },
           {
            "bin_end": 0.20000000000000007,
            "bin_start": 0.10000000000000009,
            "count": 0
           },
           {
            "bin_end": 0.30000000000000004,
            "bin_start": 0.20000000000000007,
            "count": 0
           },
           {
            "bin_end": 0.4,
            "bin_start": 0.30000000000000004,
            "count": 0
           },
           {
            "bin_end": 0.5,
            "bin_start": 0.4,
            "count": 0
           }
          ],
          "max": "0",
          "min": "0",
          "nan_count": 0,
          "unique_count": 1
         }
        },
        {
         "dtype": "int64",
         "name": "FLAG_DOCUMENT_20",
         "stats": {
          "histogram": [
           {
            "bin_end": -0.4,
            "bin_start": -0.5,
            "count": 0
           },
           {
            "bin_end": -0.3,
            "bin_start": -0.4,
            "count": 0
           },
           {
            "bin_end": -0.19999999999999996,
            "bin_start": -0.3,
            "count": 0
           },
           {
            "bin_end": -0.09999999999999998,
            "bin_start": -0.19999999999999996,
            "count": 0
           },
           {
            "bin_end": 0,
            "bin_start": -0.09999999999999998,
            "count": 0
           },
           {
            "bin_end": 0.10000000000000009,
            "bin_start": 0,
            "count": 5
           },
           {
            "bin_end": 0.20000000000000007,
            "bin_start": 0.10000000000000009,
            "count": 0
           },
           {
            "bin_end": 0.30000000000000004,
            "bin_start": 0.20000000000000007,
            "count": 0
           },
           {
            "bin_end": 0.4,
            "bin_start": 0.30000000000000004,
            "count": 0
           },
           {
            "bin_end": 0.5,
            "bin_start": 0.4,
            "count": 0
           }
          ],
          "max": "0",
          "min": "0",
          "nan_count": 0,
          "unique_count": 1
         }
        },
        {
         "dtype": "int64",
         "name": "FLAG_DOCUMENT_21",
         "stats": {
          "histogram": [
           {
            "bin_end": -0.4,
            "bin_start": -0.5,
            "count": 0
           },
           {
            "bin_end": -0.3,
            "bin_start": -0.4,
            "count": 0
           },
           {
            "bin_end": -0.19999999999999996,
            "bin_start": -0.3,
            "count": 0
           },
           {
            "bin_end": -0.09999999999999998,
            "bin_start": -0.19999999999999996,
            "count": 0
           },
           {
            "bin_end": 0,
            "bin_start": -0.09999999999999998,
            "count": 0
           },
           {
            "bin_end": 0.10000000000000009,
            "bin_start": 0,
            "count": 5
           },
           {
            "bin_end": 0.20000000000000007,
            "bin_start": 0.10000000000000009,
            "count": 0
           },
           {
            "bin_end": 0.30000000000000004,
            "bin_start": 0.20000000000000007,
            "count": 0
           },
           {
            "bin_end": 0.4,
            "bin_start": 0.30000000000000004,
            "count": 0
           },
           {
            "bin_end": 0.5,
            "bin_start": 0.4,
            "count": 0
           }
          ],
          "max": "0",
          "min": "0",
          "nan_count": 0,
          "unique_count": 1
         }
        },
        {
         "dtype": "int64",
         "name": "FLAG_DOCUMENT_3",
         "stats": {
          "histogram": [
           {
            "bin_end": 0.1,
            "bin_start": 0,
            "count": 1
           },
           {
            "bin_end": 0.2,
            "bin_start": 0.1,
            "count": 0
           },
           {
            "bin_end": 0.30000000000000004,
            "bin_start": 0.2,
            "count": 0
           },
           {
            "bin_end": 0.4,
            "bin_start": 0.30000000000000004,
            "count": 0
           },
           {
            "bin_end": 0.5,
            "bin_start": 0.4,
            "count": 0
           },
           {
            "bin_end": 0.6000000000000001,
            "bin_start": 0.5,
            "count": 0
           },
           {
            "bin_end": 0.7000000000000001,
            "bin_start": 0.6000000000000001,
            "count": 0
           },
           {
            "bin_end": 0.8,
            "bin_start": 0.7000000000000001,
            "count": 0
           },
           {
            "bin_end": 0.9,
            "bin_start": 0.8,
            "count": 0
           },
           {
            "bin_end": 1,
            "bin_start": 0.9,
            "count": 4
           }
          ],
          "max": "1",
          "min": "0",
          "nan_count": 0,
          "unique_count": 2
         }
        },
        {
         "dtype": "int64",
         "name": "FLAG_DOCUMENT_4",
         "stats": {
          "histogram": [
           {
            "bin_end": -0.4,
            "bin_start": -0.5,
            "count": 0
           },
           {
            "bin_end": -0.3,
            "bin_start": -0.4,
            "count": 0
           },
           {
            "bin_end": -0.19999999999999996,
            "bin_start": -0.3,
            "count": 0
           },
           {
            "bin_end": -0.09999999999999998,
            "bin_start": -0.19999999999999996,
            "count": 0
           },
           {
            "bin_end": 0,
            "bin_start": -0.09999999999999998,
            "count": 0
           },
           {
            "bin_end": 0.10000000000000009,
            "bin_start": 0,
            "count": 5
           },
           {
            "bin_end": 0.20000000000000007,
            "bin_start": 0.10000000000000009,
            "count": 0
           },
           {
            "bin_end": 0.30000000000000004,
            "bin_start": 0.20000000000000007,
            "count": 0
           },
           {
            "bin_end": 0.4,
            "bin_start": 0.30000000000000004,
            "count": 0
           },
           {
            "bin_end": 0.5,
            "bin_start": 0.4,
            "count": 0
           }
          ],
          "max": "0",
          "min": "0",
          "nan_count": 0,
          "unique_count": 1
         }
        },
        {
         "dtype": "int64",
         "name": "FLAG_DOCUMENT_5",
         "stats": {
          "histogram": [
           {
            "bin_end": -0.4,
            "bin_start": -0.5,
            "count": 0
           },
           {
            "bin_end": -0.3,
            "bin_start": -0.4,
            "count": 0
           },
           {
            "bin_end": -0.19999999999999996,
            "bin_start": -0.3,
            "count": 0
           },
           {
            "bin_end": -0.09999999999999998,
            "bin_start": -0.19999999999999996,
            "count": 0
           },
           {
            "bin_end": 0,
            "bin_start": -0.09999999999999998,
            "count": 0
           },
           {
            "bin_end": 0.10000000000000009,
            "bin_start": 0,
            "count": 5
           },
           {
            "bin_end": 0.20000000000000007,
            "bin_start": 0.10000000000000009,
            "count": 0
           },
           {
            "bin_end": 0.30000000000000004,
            "bin_start": 0.20000000000000007,
            "count": 0
           },
           {
            "bin_end": 0.4,
            "bin_start": 0.30000000000000004,
            "count": 0
           },
           {
            "bin_end": 0.5,
            "bin_start": 0.4,
            "count": 0
           }
          ],
          "max": "0",
          "min": "0",
          "nan_count": 0,
          "unique_count": 1
         }
        },
        {
         "dtype": "int64",
         "name": "FLAG_DOCUMENT_6",
         "stats": {
          "histogram": [
           {
            "bin_end": 0.1,
            "bin_start": 0,
            "count": 4
           },
           {
            "bin_end": 0.2,
            "bin_start": 0.1,
            "count": 0
           },
           {
            "bin_end": 0.30000000000000004,
            "bin_start": 0.2,
            "count": 0
           },
           {
            "bin_end": 0.4,
            "bin_start": 0.30000000000000004,
            "count": 0
           },
           {
            "bin_end": 0.5,
            "bin_start": 0.4,
            "count": 0
           },
           {
            "bin_end": 0.6000000000000001,
            "bin_start": 0.5,
            "count": 0
           },
           {
            "bin_end": 0.7000000000000001,
            "bin_start": 0.6000000000000001,
            "count": 0
           },
           {
            "bin_end": 0.8,
            "bin_start": 0.7000000000000001,
            "count": 0
           },
           {
            "bin_end": 0.9,
            "bin_start": 0.8,
            "count": 0
           },
           {
            "bin_end": 1,
            "bin_start": 0.9,
            "count": 1
           }
          ],
          "max": "1",
          "min": "0",
          "nan_count": 0,
          "unique_count": 2
         }
        },
        {
         "dtype": "int64",
         "name": "FLAG_DOCUMENT_7",
         "stats": {
          "histogram": [
           {
            "bin_end": -0.4,
            "bin_start": -0.5,
            "count": 0
           },
           {
            "bin_end": -0.3,
            "bin_start": -0.4,
            "count": 0
           },
           {
            "bin_end": -0.19999999999999996,
            "bin_start": -0.3,
            "count": 0
           },
           {
            "bin_end": -0.09999999999999998,
            "bin_start": -0.19999999999999996,
            "count": 0
           },
           {
            "bin_end": 0,
            "bin_start": -0.09999999999999998,
            "count": 0
           },
           {
            "bin_end": 0.10000000000000009,
            "bin_start": 0,
            "count": 5
           },
           {
            "bin_end": 0.20000000000000007,
            "bin_start": 0.10000000000000009,
            "count": 0
           },
           {
            "bin_end": 0.30000000000000004,
            "bin_start": 0.20000000000000007,
            "count": 0
           },
           {
            "bin_end": 0.4,
            "bin_start": 0.30000000000000004,
            "count": 0
           },
           {
            "bin_end": 0.5,
            "bin_start": 0.4,
            "count": 0
           }
          ],
          "max": "0",
          "min": "0",
          "nan_count": 0,
          "unique_count": 1
         }
        },
        {
         "dtype": "int64",
         "name": "FLAG_DOCUMENT_8",
         "stats": {
          "histogram": [
           {
            "bin_end": -0.4,
            "bin_start": -0.5,
            "count": 0
           },
           {
            "bin_end": -0.3,
            "bin_start": -0.4,
            "count": 0
           },
           {
            "bin_end": -0.19999999999999996,
            "bin_start": -0.3,
            "count": 0
           },
           {
            "bin_end": -0.09999999999999998,
            "bin_start": -0.19999999999999996,
            "count": 0
           },
           {
            "bin_end": 0,
            "bin_start": -0.09999999999999998,
            "count": 0
           },
           {
            "bin_end": 0.10000000000000009,
            "bin_start": 0,
            "count": 5
           },
           {
            "bin_end": 0.20000000000000007,
            "bin_start": 0.10000000000000009,
            "count": 0
           },
           {
            "bin_end": 0.30000000000000004,
            "bin_start": 0.20000000000000007,
            "count": 0
           },
           {
            "bin_end": 0.4,
            "bin_start": 0.30000000000000004,
            "count": 0
           },
           {
            "bin_end": 0.5,
            "bin_start": 0.4,
            "count": 0
           }
          ],
          "max": "0",
          "min": "0",
          "nan_count": 0,
          "unique_count": 1
         }
        },
        {
         "dtype": "int64",
         "name": "FLAG_DOCUMENT_9",
         "stats": {
          "histogram": [
           {
            "bin_end": -0.4,
            "bin_start": -0.5,
            "count": 0
           },
           {
            "bin_end": -0.3,
            "bin_start": -0.4,
            "count": 0
           },
           {
            "bin_end": -0.19999999999999996,
            "bin_start": -0.3,
            "count": 0
           },
           {
            "bin_end": -0.09999999999999998,
            "bin_start": -0.19999999999999996,
            "count": 0
           },
           {
            "bin_end": 0,
            "bin_start": -0.09999999999999998,
            "count": 0
           },
           {
            "bin_end": 0.10000000000000009,
            "bin_start": 0,
            "count": 5
           },
           {
            "bin_end": 0.20000000000000007,
            "bin_start": 0.10000000000000009,
            "count": 0
           },
           {
            "bin_end": 0.30000000000000004,
            "bin_start": 0.20000000000000007,
            "count": 0
           },
           {
            "bin_end": 0.4,
            "bin_start": 0.30000000000000004,
            "count": 0
           },
           {
            "bin_end": 0.5,
            "bin_start": 0.4,
            "count": 0
           }
          ],
          "max": "0",
          "min": "0",
          "nan_count": 0,
          "unique_count": 1
         }
        },
        {
         "dtype": "int64",
         "name": "FLAG_EMAIL",
         "stats": {
          "histogram": [
           {
            "bin_end": 0.1,
            "bin_start": 0,
            "count": 3
           },
           {
            "bin_end": 0.2,
            "bin_start": 0.1,
            "count": 0
           },
           {
            "bin_end": 0.30000000000000004,
            "bin_start": 0.2,
            "count": 0
           },
           {
            "bin_end": 0.4,
            "bin_start": 0.30000000000000004,
            "count": 0
           },
           {
            "bin_end": 0.5,
            "bin_start": 0.4,
            "count": 0
           },
           {
            "bin_end": 0.6000000000000001,
            "bin_start": 0.5,
            "count": 0
           },
           {
            "bin_end": 0.7000000000000001,
            "bin_start": 0.6000000000000001,
            "count": 0
           },
           {
            "bin_end": 0.8,
            "bin_start": 0.7000000000000001,
            "count": 0
           },
           {
            "bin_end": 0.9,
            "bin_start": 0.8,
            "count": 0
           },
           {
            "bin_end": 1,
            "bin_start": 0.9,
            "count": 2
           }
          ],
          "max": "1",
          "min": "0",
          "nan_count": 0,
          "unique_count": 2
         }
        },
        {
         "dtype": "object",
         "name": "FLAG_OWN_CAR",
         "stats": {
          "categories": [
           {
            "count": 5,
            "name": "N"
           }
          ],
          "nan_count": 0,
          "unique_count": 1
         }
        },
        {
         "dtype": "object",
         "name": "FLAG_OWN_REALTY",
         "stats": {
          "categories": [
           {
            "count": 3,
            "name": "Y"
           },
           {
            "count": 2,
            "name": "N"
           }
          ],
          "nan_count": 0,
          "unique_count": 2
         }
        },
        {
         "dtype": "int64",
         "name": "FLAG_PHONE",
         "stats": {
          "histogram": [
           {
            "bin_end": 0.1,
            "bin_start": 0,
            "count": 3
           },
           {
            "bin_end": 0.2,
            "bin_start": 0.1,
            "count": 0
           },
           {
            "bin_end": 0.30000000000000004,
            "bin_start": 0.2,
            "count": 0
           },
           {
            "bin_end": 0.4,
            "bin_start": 0.30000000000000004,
            "count": 0
           },
           {
            "bin_end": 0.5,
            "bin_start": 0.4,
            "count": 0
           },
           {
            "bin_end": 0.6000000000000001,
            "bin_start": 0.5,
            "count": 0
           },
           {
            "bin_end": 0.7000000000000001,
            "bin_start": 0.6000000000000001,
            "count": 0
           },
           {
            "bin_end": 0.8,
            "bin_start": 0.7000000000000001,
            "count": 0
           },
           {
            "bin_end": 0.9,
            "bin_start": 0.8,
            "count": 0
           },
           {
            "bin_end": 1,
            "bin_start": 0.9,
            "count": 2
           }
          ],
          "max": "1",
          "min": "0",
          "nan_count": 0,
          "unique_count": 2
         }
        },
        {
         "dtype": "int64",
         "name": "FLAG_WORK_PHONE",
         "stats": {
          "histogram": [
           {
            "bin_end": -0.4,
            "bin_start": -0.5,
            "count": 0
           },
           {
            "bin_end": -0.3,
            "bin_start": -0.4,
            "count": 0
           },
           {
            "bin_end": -0.19999999999999996,
            "bin_start": -0.3,
            "count": 0
           },
           {
            "bin_end": -0.09999999999999998,
            "bin_start": -0.19999999999999996,
            "count": 0
           },
           {
            "bin_end": 0,
            "bin_start": -0.09999999999999998,
            "count": 0
           },
           {
            "bin_end": 0.10000000000000009,
            "bin_start": 0,
            "count": 5
           },
           {
            "bin_end": 0.20000000000000007,
            "bin_start": 0.10000000000000009,
            "count": 0
           },
           {
            "bin_end": 0.30000000000000004,
            "bin_start": 0.20000000000000007,
            "count": 0
           },
           {
            "bin_end": 0.4,
            "bin_start": 0.30000000000000004,
            "count": 0
           },
           {
            "bin_end": 0.5,
            "bin_start": 0.4,
            "count": 0
           }
          ],
          "max": "0",
          "min": "0",
          "nan_count": 0,
          "unique_count": 1
         }
        },
        {
         "dtype": "int64",
         "name": "LIVE_CITY_NOT_WORK_CITY",
         "stats": {
          "histogram": [
           {
            "bin_end": -0.4,
            "bin_start": -0.5,
            "count": 0
           },
           {
            "bin_end": -0.3,
            "bin_start": -0.4,
            "count": 0
           },
           {
            "bin_end": -0.19999999999999996,
            "bin_start": -0.3,
            "count": 0
           },
           {
            "bin_end": -0.09999999999999998,
            "bin_start": -0.19999999999999996,
            "count": 0
           },
           {
            "bin_end": 0,
            "bin_start": -0.09999999999999998,
            "count": 0
           },
           {
            "bin_end": 0.10000000000000009,
            "bin_start": 0,
            "count": 5
           },
           {
            "bin_end": 0.20000000000000007,
            "bin_start": 0.10000000000000009,
            "count": 0
           },
           {
            "bin_end": 0.30000000000000004,
            "bin_start": 0.20000000000000007,
            "count": 0
           },
           {
            "bin_end": 0.4,
            "bin_start": 0.30000000000000004,
            "count": 0
           },
           {
            "bin_end": 0.5,
            "bin_start": 0.4,
            "count": 0
           }
          ],
          "max": "0",
          "min": "0",
          "nan_count": 0,
          "unique_count": 1
         }
        },
        {
         "dtype": "int64",
         "name": "LIVE_REGION_NOT_WORK_REGION",
         "stats": {
          "histogram": [
           {
            "bin_end": 0.1,
            "bin_start": 0,
            "count": 4
           },
           {
            "bin_end": 0.2,
            "bin_start": 0.1,
            "count": 0
           },
           {
            "bin_end": 0.30000000000000004,
            "bin_start": 0.2,
            "count": 0
           },
           {
            "bin_end": 0.4,
            "bin_start": 0.30000000000000004,
            "count": 0
           },
           {
            "bin_end": 0.5,
            "bin_start": 0.4,
            "count": 0
           },
           {
            "bin_end": 0.6000000000000001,
            "bin_start": 0.5,
            "count": 0
           },
           {
            "bin_end": 0.7000000000000001,
            "bin_start": 0.6000000000000001,
            "count": 0
           },
           {
            "bin_end": 0.8,
            "bin_start": 0.7000000000000001,
            "count": 0
           },
           {
            "bin_end": 0.9,
            "bin_start": 0.8,
            "count": 0
           },
           {
            "bin_end": 1,
            "bin_start": 0.9,
            "count": 1
           }
          ],
          "max": "1",
          "min": "0",
          "nan_count": 0,
          "unique_count": 2
         }
        },
        {
         "dtype": "object",
         "name": "NAME_CONTRACT_TYPE",
         "stats": {
          "categories": [
           {
            "count": 5,
            "name": "Cash loans"
           }
          ],
          "nan_count": 0,
          "unique_count": 1
         }
        },
        {
         "dtype": "object",
         "name": "NAME_EDUCATION_TYPE",
         "stats": {
          "categories": [
           {
            "count": 4,
            "name": "Secondary / secondary special"
           },
           {
            "count": 1,
            "name": "Higher education"
           }
          ],
          "nan_count": 0,
          "unique_count": 2
         }
        },
        {
         "dtype": "object",
         "name": "NAME_FAMILY_STATUS",
         "stats": {
          "categories": [
           {
            "count": 2,
            "name": "Married"
           },
           {
            "count": 1,
            "name": "Widow"
           },
           {
            "count": 2,
            "name": "2 others"
           }
          ],
          "nan_count": 0,
          "unique_count": 4
         }
        },
        {
         "dtype": "object",
         "name": "NAME_HOUSING_TYPE",
         "stats": {
          "categories": [
           {
            "count": 3,
            "name": "House / apartment"
           },
           {
            "count": 1,
            "name": "Rented apartment"
           },
           {
            "count": 1,
            "name": "Office apartment"
           }
          ],
          "nan_count": 0,
          "unique_count": 3
         }
        },
        {
         "dtype": "object",
         "name": "NAME_INCOME_TYPE",
         "stats": {
          "categories": [
           {
            "count": 2,
            "name": "Commercial associate"
           },
           {
            "count": 2,
            "name": "Working"
           },
           {
            "count": 1,
            "name": "Pensioner"
           }
          ],
          "nan_count": 0,
          "unique_count": 3
         }
        },
        {
         "dtype": "object",
         "name": "NAME_TYPE_SUITE",
         "stats": {
          "categories": [
           {
            "count": 4,
            "name": "Unaccompanied"
           },
           {
            "count": 1,
            "name": "Family"
           }
          ],
          "nan_count": 0,
          "unique_count": 2
         }
        },
        {
         "dtype": "object",
         "name": "ORGANIZATION_TYPE",
         "stats": {
          "categories": [
           {
            "count": 2,
            "name": "Business Entity Type 3"
           },
           {
            "count": 1,
            "name": "Trade: type 2"
           },
           {
            "count": 2,
            "name": "2 others"
           }
          ],
          "nan_count": 0,
          "unique_count": 4
         }
        },
        {
         "dtype": "float64",
         "name": "REGION_POPULATION_RELATIVE",
         "stats": {
          "histogram": [
           {
            "bin_end": 0.0132169,
            "bin_start": 0.006629,
            "count": 3
           },
           {
            "bin_end": 0.0198048,
            "bin_start": 0.0132169,
            "count": 1
           },
           {
            "bin_end": 0.0263927,
            "bin_start": 0.0198048,
            "count": 0
           },
           {
            "bin_end": 0.032980600000000006,
            "bin_start": 0.0263927,
            "count": 0
           },
           {
            "bin_end": 0.039568500000000006,
            "bin_start": 0.032980600000000006,
            "count": 0
           },
           {
            "bin_end": 0.04615640000000001,
            "bin_start": 0.039568500000000006,
            "count": 0
           },
           {
            "bin_end": 0.05274430000000001,
            "bin_start": 0.04615640000000001,
            "count": 0
           },
           {
            "bin_end": 0.05933220000000001,
            "bin_start": 0.05274430000000001,
            "count": 0
           },
           {
            "bin_end": 0.06592010000000001,
            "bin_start": 0.05933220000000001,
            "count": 0
           },
           {
            "bin_end": 0.072508,
            "bin_start": 0.06592010000000001,
            "count": 1
           }
          ],
          "max": "0.072508",
          "min": "0.006629",
          "nan_count": 0,
          "unique_count": 5
         }
        },
        {
         "dtype": "int64",
         "name": "REGION_RATING_CLIENT",
         "stats": {
          "histogram": [
           {
            "bin_end": 1.1,
            "bin_start": 1,
            "count": 1
           },
           {
            "bin_end": 1.2,
            "bin_start": 1.1,
            "count": 0
           },
           {
            "bin_end": 1.3,
            "bin_start": 1.2,
            "count": 0
           },
           {
            "bin_end": 1.4,
            "bin_start": 1.3,
            "count": 0
           },
           {
            "bin_end": 1.5,
            "bin_start": 1.4,
            "count": 0
           },
           {
            "bin_end": 1.6,
            "bin_start": 1.5,
            "count": 0
           },
           {
            "bin_end": 1.7000000000000002,
            "bin_start": 1.6,
            "count": 0
           },
           {
            "bin_end": 1.8,
            "bin_start": 1.7000000000000002,
            "count": 0
           },
           {
            "bin_end": 1.9,
            "bin_start": 1.8,
            "count": 0
           },
           {
            "bin_end": 2,
            "bin_start": 1.9,
            "count": 4
           }
          ],
          "max": "2",
          "min": "1",
          "nan_count": 0,
          "unique_count": 2
         }
        },
        {
         "dtype": "int64",
         "name": "REGION_RATING_CLIENT_W_CITY",
         "stats": {
          "histogram": [
           {
            "bin_end": 1.1,
            "bin_start": 1,
            "count": 1
           },
           {
            "bin_end": 1.2,
            "bin_start": 1.1,
            "count": 0
           },
           {
            "bin_end": 1.3,
            "bin_start": 1.2,
            "count": 0
           },
           {
            "bin_end": 1.4,
            "bin_start": 1.3,
            "count": 0
           },
           {
            "bin_end": 1.5,
            "bin_start": 1.4,
            "count": 0
           },
           {
            "bin_end": 1.6,
            "bin_start": 1.5,
            "count": 0
           },
           {
            "bin_end": 1.7000000000000002,
            "bin_start": 1.6,
            "count": 0
           },
           {
            "bin_end": 1.8,
            "bin_start": 1.7000000000000002,
            "count": 0
           },
           {
            "bin_end": 1.9,
            "bin_start": 1.8,
            "count": 0
           },
           {
            "bin_end": 2,
            "bin_start": 1.9,
            "count": 4
           }
          ],
          "max": "2",
          "min": "1",
          "nan_count": 0,
          "unique_count": 2
         }
        },
        {
         "dtype": "int64",
         "name": "REG_CITY_NOT_LIVE_CITY",
         "stats": {
          "histogram": [
           {
            "bin_end": 0.1,
            "bin_start": 0,
            "count": 4
           },
           {
            "bin_end": 0.2,
            "bin_start": 0.1,
            "count": 0
           },
           {
            "bin_end": 0.30000000000000004,
            "bin_start": 0.2,
            "count": 0
           },
           {
            "bin_end": 0.4,
            "bin_start": 0.30000000000000004,
            "count": 0
           },
           {
            "bin_end": 0.5,
            "bin_start": 0.4,
            "count": 0
           },
           {
            "bin_end": 0.6000000000000001,
            "bin_start": 0.5,
            "count": 0
           },
           {
            "bin_end": 0.7000000000000001,
            "bin_start": 0.6000000000000001,
            "count": 0
           },
           {
            "bin_end": 0.8,
            "bin_start": 0.7000000000000001,
            "count": 0
           },
           {
            "bin_end": 0.9,
            "bin_start": 0.8,
            "count": 0
           },
           {
            "bin_end": 1,
            "bin_start": 0.9,
            "count": 1
           }
          ],
          "max": "1",
          "min": "0",
          "nan_count": 0,
          "unique_count": 2
         }
        },
        {
         "dtype": "int64",
         "name": "REG_CITY_NOT_WORK_CITY",
         "stats": {
          "histogram": [
           {
            "bin_end": 0.1,
            "bin_start": 0,
            "count": 4
           },
           {
            "bin_end": 0.2,
            "bin_start": 0.1,
            "count": 0
           },
           {
            "bin_end": 0.30000000000000004,
            "bin_start": 0.2,
            "count": 0
           },
           {
            "bin_end": 0.4,
            "bin_start": 0.30000000000000004,
            "count": 0
           },
           {
            "bin_end": 0.5,
            "bin_start": 0.4,
            "count": 0
           },
           {
            "bin_end": 0.6000000000000001,
            "bin_start": 0.5,
            "count": 0
           },
           {
            "bin_end": 0.7000000000000001,
            "bin_start": 0.6000000000000001,
            "count": 0
           },
           {
            "bin_end": 0.8,
            "bin_start": 0.7000000000000001,
            "count": 0
           },
           {
            "bin_end": 0.9,
            "bin_start": 0.8,
            "count": 0
           },
           {
            "bin_end": 1,
            "bin_start": 0.9,
            "count": 1
           }
          ],
          "max": "1",
          "min": "0",
          "nan_count": 0,
          "unique_count": 2
         }
        },
        {
         "dtype": "int64",
         "name": "REG_REGION_NOT_LIVE_REGION",
         "stats": {
          "histogram": [
           {
            "bin_end": 0.1,
            "bin_start": 0,
            "count": 4
           },
           {
            "bin_end": 0.2,
            "bin_start": 0.1,
            "count": 0
           },
           {
            "bin_end": 0.30000000000000004,
            "bin_start": 0.2,
            "count": 0
           },
           {
            "bin_end": 0.4,
            "bin_start": 0.30000000000000004,
            "count": 0
           },
           {
            "bin_end": 0.5,
            "bin_start": 0.4,
            "count": 0
           },
           {
            "bin_end": 0.6000000000000001,
            "bin_start": 0.5,
            "count": 0
           },
           {
            "bin_end": 0.7000000000000001,
            "bin_start": 0.6000000000000001,
            "count": 0
           },
           {
            "bin_end": 0.8,
            "bin_start": 0.7000000000000001,
            "count": 0
           },
           {
            "bin_end": 0.9,
            "bin_start": 0.8,
            "count": 0
           },
           {
            "bin_end": 1,
            "bin_start": 0.9,
            "count": 1
           }
          ],
          "max": "1",
          "min": "0",
          "nan_count": 0,
          "unique_count": 2
         }
        },
        {
         "dtype": "int64",
         "name": "REG_REGION_NOT_WORK_REGION",
         "stats": {
          "histogram": [
           {
            "bin_end": -0.4,
            "bin_start": -0.5,
            "count": 0
           },
           {
            "bin_end": -0.3,
            "bin_start": -0.4,
            "count": 0
           },
           {
            "bin_end": -0.19999999999999996,
            "bin_start": -0.3,
            "count": 0
           },
           {
            "bin_end": -0.09999999999999998,
            "bin_start": -0.19999999999999996,
            "count": 0
           },
           {
            "bin_end": 0,
            "bin_start": -0.09999999999999998,
            "count": 0
           },
           {
            "bin_end": 0.10000000000000009,
            "bin_start": 0,
            "count": 5
           },
           {
            "bin_end": 0.20000000000000007,
            "bin_start": 0.10000000000000009,
            "count": 0
           },
           {
            "bin_end": 0.30000000000000004,
            "bin_start": 0.20000000000000007,
            "count": 0
           },
           {
            "bin_end": 0.4,
            "bin_start": 0.30000000000000004,
            "count": 0
           },
           {
            "bin_end": 0.5,
            "bin_start": 0.4,
            "count": 0
           }
          ],
          "max": "0",
          "min": "0",
          "nan_count": 0,
          "unique_count": 1
         }
        },
        {
         "dtype": "int64",
         "name": "TARGET",
         "stats": {
          "histogram": [
           {
            "bin_end": 0.1,
            "bin_start": 0,
            "count": 1
           },
           {
            "bin_end": 0.2,
            "bin_start": 0.1,
            "count": 0
           },
           {
            "bin_end": 0.30000000000000004,
            "bin_start": 0.2,
            "count": 0
           },
           {
            "bin_end": 0.4,
            "bin_start": 0.30000000000000004,
            "count": 0
           },
           {
            "bin_end": 0.5,
            "bin_start": 0.4,
            "count": 0
           },
           {
            "bin_end": 0.6000000000000001,
            "bin_start": 0.5,
            "count": 0
           },
           {
            "bin_end": 0.7000000000000001,
            "bin_start": 0.6000000000000001,
            "count": 0
           },
           {
            "bin_end": 0.8,
            "bin_start": 0.7000000000000001,
            "count": 0
           },
           {
            "bin_end": 0.9,
            "bin_start": 0.8,
            "count": 0
           },
           {
            "bin_end": 1,
            "bin_start": 0.9,
            "count": 4
           }
          ],
          "max": "1",
          "min": "0",
          "nan_count": 0,
          "unique_count": 2
         }
        },
        {
         "dtype": "int64",
         "name": "_deepnote_index_column"
        }
       ],
       "row_count": 5,
       "rows_bottom": null,
       "rows_top": [
        {
         "AMT_CREDIT": 1078200,
         "AMT_GOODS_PRICE": 31522.5,
         "AMT_INCOME_TOTAL": 135000,
         "CNT_CHILDREN": 1,
         "CNT_FAM_MEMBERS": 3,
         "CODE_GENDER": "F",
         "DAYS_EMPLOYED": -230,
         "DAYS_ID_PUBLISH": -1118,
         "DAYS_LAST_PHONE_CHANGE": "nan",
         "DAYS_REGISTRATION": -4962,
         "FLAG_DOCUMENT_10": 0,
         "FLAG_DOCUMENT_11": 0,
         "FLAG_DOCUMENT_12": 0,
         "FLAG_DOCUMENT_13": 0,
         "FLAG_DOCUMENT_14": 0,
         "FLAG_DOCUMENT_15": 0,
         "FLAG_DOCUMENT_16": 0,
         "FLAG_DOCUMENT_17": 0,
         "FLAG_DOCUMENT_18": 0,
         "FLAG_DOCUMENT_19": 0,
         "FLAG_DOCUMENT_2": 0,
         "FLAG_DOCUMENT_20": 0,
         "FLAG_DOCUMENT_21": 0,
         "FLAG_DOCUMENT_3": 1,
         "FLAG_DOCUMENT_4": 0,
         "FLAG_DOCUMENT_5": 0,
         "FLAG_DOCUMENT_6": 0,
         "FLAG_DOCUMENT_7": 0,
         "FLAG_DOCUMENT_8": 0,
         "FLAG_DOCUMENT_9": 0,
         "FLAG_EMAIL": 0,
         "FLAG_OWN_CAR": "N",
         "FLAG_OWN_REALTY": "N",
         "FLAG_PHONE": 1,
         "FLAG_WORK_PHONE": 0,
         "LIVE_CITY_NOT_WORK_CITY": 0,
         "LIVE_REGION_NOT_WORK_REGION": 0,
         "NAME_CONTRACT_TYPE": "Cash loans",
         "NAME_EDUCATION_TYPE": "Secondary / secondary special",
         "NAME_FAMILY_STATUS": "Married",
         "NAME_HOUSING_TYPE": "Rented apartment",
         "NAME_INCOME_TYPE": "Commercial associate",
         "NAME_TYPE_SUITE": "Unaccompanied",
         "ORGANIZATION_TYPE": "Trade: type 2",
         "REGION_POPULATION_RELATIVE": 0.010643,
         "REGION_RATING_CLIENT": 2,
         "REGION_RATING_CLIENT_W_CITY": 2,
         "REG_CITY_NOT_LIVE_CITY": 1,
         "REG_CITY_NOT_WORK_CITY": 1,
         "REG_REGION_NOT_LIVE_REGION": 0,
         "REG_REGION_NOT_WORK_REGION": 0,
         "TARGET": 1,
         "_deepnote_index_column": 0
        },
        {
         "AMT_CREDIT": 284400,
         "AMT_GOODS_PRICE": 19134,
         "AMT_INCOME_TOTAL": 112500,
         "CNT_CHILDREN": 1,
         "CNT_FAM_MEMBERS": 3,
         "CODE_GENDER": "F",
         "DAYS_EMPLOYED": -1338,
         "DAYS_ID_PUBLISH": -1076,
         "DAYS_LAST_PHONE_CHANGE": -938,
         "DAYS_REGISTRATION": -673,
         "FLAG_DOCUMENT_10": 0,
         "FLAG_DOCUMENT_11": 0,
         "FLAG_DOCUMENT_12": 0,
         "FLAG_DOCUMENT_13": 0,
         "FLAG_DOCUMENT_14": 0,
         "FLAG_DOCUMENT_15": 0,
         "FLAG_DOCUMENT_16": 0,
         "FLAG_DOCUMENT_17": 0,
         "FLAG_DOCUMENT_18": 0,
         "FLAG_DOCUMENT_19": 0,
         "FLAG_DOCUMENT_2": 0,
         "FLAG_DOCUMENT_20": 0,
         "FLAG_DOCUMENT_21": 0,
         "FLAG_DOCUMENT_3": 1,
         "FLAG_DOCUMENT_4": 0,
         "FLAG_DOCUMENT_5": 0,
         "FLAG_DOCUMENT_6": 0,
         "FLAG_DOCUMENT_7": 0,
         "FLAG_DOCUMENT_8": 0,
         "FLAG_DOCUMENT_9": 0,
         "FLAG_EMAIL": 0,
         "FLAG_OWN_CAR": "N",
         "FLAG_OWN_REALTY": "Y",
         "FLAG_PHONE": 0,
         "FLAG_WORK_PHONE": 0,
         "LIVE_CITY_NOT_WORK_CITY": 0,
         "LIVE_REGION_NOT_WORK_REGION": 0,
         "NAME_CONTRACT_TYPE": "Cash loans",
         "NAME_EDUCATION_TYPE": "Secondary / secondary special",
         "NAME_FAMILY_STATUS": "Married",
         "NAME_HOUSING_TYPE": "House / apartment",
         "NAME_INCOME_TYPE": "Commercial associate",
         "NAME_TYPE_SUITE": "Unaccompanied",
         "ORGANIZATION_TYPE": "Business Entity Type 3",
         "REGION_POPULATION_RELATIVE": 0.006629,
         "REGION_RATING_CLIENT": 2,
         "REGION_RATING_CLIENT_W_CITY": 2,
         "REG_CITY_NOT_LIVE_CITY": 0,
         "REG_CITY_NOT_WORK_CITY": 0,
         "REG_REGION_NOT_LIVE_REGION": 0,
         "REG_REGION_NOT_WORK_REGION": 0,
         "TARGET": 0,
         "_deepnote_index_column": 1
        },
        {
         "AMT_CREDIT": 942300,
         "AMT_GOODS_PRICE": 27679.5,
         "AMT_INCOME_TOTAL": 121500,
         "CNT_CHILDREN": 0,
         "CNT_FAM_MEMBERS": 1,
         "CODE_GENDER": "F",
         "DAYS_EMPLOYED": 365243,
         "DAYS_ID_PUBLISH": -4116,
         "DAYS_LAST_PHONE_CHANGE": -2052,
         "DAYS_REGISTRATION": -357,
         "FLAG_DOCUMENT_10": 0,
         "FLAG_DOCUMENT_11": 0,
         "FLAG_DOCUMENT_12": 0,
         "FLAG_DOCUMENT_13": 0,
         "FLAG_DOCUMENT_14": 0,
         "FLAG_DOCUMENT_15": 0,
         "FLAG_DOCUMENT_16": 0,
         "FLAG_DOCUMENT_17": 0,
         "FLAG_DOCUMENT_18": 0,
         "FLAG_DOCUMENT_19": 0,
         "FLAG_DOCUMENT_2": 0,
         "FLAG_DOCUMENT_20": 0,
         "FLAG_DOCUMENT_21": 0,
         "FLAG_DOCUMENT_3": 0,
         "FLAG_DOCUMENT_4": 0,
         "FLAG_DOCUMENT_5": 0,
         "FLAG_DOCUMENT_6": 1,
         "FLAG_DOCUMENT_7": 0,
         "FLAG_DOCUMENT_8": 0,
         "FLAG_DOCUMENT_9": 0,
         "FLAG_EMAIL": 0,
         "FLAG_OWN_CAR": "N",
         "FLAG_OWN_REALTY": "Y",
         "FLAG_PHONE": 1,
         "FLAG_WORK_PHONE": 0,
         "LIVE_CITY_NOT_WORK_CITY": 0,
         "LIVE_REGION_NOT_WORK_REGION": 0,
         "NAME_CONTRACT_TYPE": "Cash loans",
         "NAME_EDUCATION_TYPE": "Secondary / secondary special",
         "NAME_FAMILY_STATUS": "Widow",
         "NAME_HOUSING_TYPE": "Office apartment",
         "NAME_INCOME_TYPE": "Pensioner",
         "NAME_TYPE_SUITE": "Unaccompanied",
         "ORGANIZATION_TYPE": "XNA",
         "REGION_POPULATION_RELATIVE": 0.019689,
         "REGION_RATING_CLIENT": 2,
         "REGION_RATING_CLIENT_W_CITY": 2,
         "REG_CITY_NOT_LIVE_CITY": 0,
         "REG_CITY_NOT_WORK_CITY": 0,
         "REG_REGION_NOT_LIVE_REGION": 0,
         "REG_REGION_NOT_WORK_REGION": 0,
         "TARGET": 1,
         "_deepnote_index_column": 2
        },
        {
         "AMT_CREDIT": 429763.5,
         "AMT_GOODS_PRICE": 34083,
         "AMT_INCOME_TOTAL": 315000,
         "CNT_CHILDREN": 0,
         "CNT_FAM_MEMBERS": 1,
         "CODE_GENDER": "F",
         "DAYS_EMPLOYED": -1978,
         "DAYS_ID_PUBLISH": -839,
         "DAYS_LAST_PHONE_CHANGE": 0,
         "DAYS_REGISTRATION": -4549,
         "FLAG_DOCUMENT_10": 0,
         "FLAG_DOCUMENT_11": 0,
         "FLAG_DOCUMENT_12": 0,
         "FLAG_DOCUMENT_13": 0,
         "FLAG_DOCUMENT_14": 0,
         "FLAG_DOCUMENT_15": 0,
         "FLAG_DOCUMENT_16": 0,
         "FLAG_DOCUMENT_17": 0,
         "FLAG_DOCUMENT_18": 0,
         "FLAG_DOCUMENT_19": 0,
         "FLAG_DOCUMENT_2": 0,
         "FLAG_DOCUMENT_20": 0,
         "FLAG_DOCUMENT_21": 0,
         "FLAG_DOCUMENT_3": 1,
         "FLAG_DOCUMENT_4": 0,
         "FLAG_DOCUMENT_5": 0,
         "FLAG_DOCUMENT_6": 0,
         "FLAG_DOCUMENT_7": 0,
         "FLAG_DOCUMENT_8": 0,
         "FLAG_DOCUMENT_9": 0,
         "FLAG_EMAIL": 1,
         "FLAG_OWN_CAR": "N",
         "FLAG_OWN_REALTY": "N",
         "FLAG_PHONE": 0,
         "FLAG_WORK_PHONE": 0,
         "LIVE_CITY_NOT_WORK_CITY": 0,
         "LIVE_REGION_NOT_WORK_REGION": 0,
         "NAME_CONTRACT_TYPE": "Cash loans",
         "NAME_EDUCATION_TYPE": "Secondary / secondary special",
         "NAME_FAMILY_STATUS": "Separated",
         "NAME_HOUSING_TYPE": "House / apartment",
         "NAME_INCOME_TYPE": "Working",
         "NAME_TYPE_SUITE": "Unaccompanied",
         "ORGANIZATION_TYPE": "Self-employed",
         "REGION_POPULATION_RELATIVE": 0.008019,
         "REGION_RATING_CLIENT": 2,
         "REGION_RATING_CLIENT_W_CITY": 2,
         "REG_CITY_NOT_LIVE_CITY": 0,
         "REG_CITY_NOT_WORK_CITY": 0,
         "REG_REGION_NOT_LIVE_REGION": 0,
         "REG_REGION_NOT_WORK_REGION": 0,
         "TARGET": 1,
         "_deepnote_index_column": 3
        },
        {
         "AMT_CREDIT": 323388,
         "AMT_GOODS_PRICE": 25677,
         "AMT_INCOME_TOTAL": 265500,
         "CNT_CHILDREN": 0,
         "CNT_FAM_MEMBERS": 1,
         "CODE_GENDER": "M",
         "DAYS_EMPLOYED": -890,
         "DAYS_ID_PUBLISH": -543,
         "DAYS_LAST_PHONE_CHANGE": -714,
         "DAYS_REGISTRATION": -5103,
         "FLAG_DOCUMENT_10": 0,
         "FLAG_DOCUMENT_11": 0,
         "FLAG_DOCUMENT_12": 0,
         "FLAG_DOCUMENT_13": 0,
         "FLAG_DOCUMENT_14": 0,
         "FLAG_DOCUMENT_15": 0,
         "FLAG_DOCUMENT_16": 0,
         "FLAG_DOCUMENT_17": 0,
         "FLAG_DOCUMENT_18": 0,
         "FLAG_DOCUMENT_19": 0,
         "FLAG_DOCUMENT_2": 0,
         "FLAG_DOCUMENT_20": 0,
         "FLAG_DOCUMENT_21": 0,
         "FLAG_DOCUMENT_3": 1,
         "FLAG_DOCUMENT_4": 0,
         "FLAG_DOCUMENT_5": 0,
         "FLAG_DOCUMENT_6": 0,
         "FLAG_DOCUMENT_7": 0,
         "FLAG_DOCUMENT_8": 0,
         "FLAG_DOCUMENT_9": 0,
         "FLAG_EMAIL": 1,
         "FLAG_OWN_CAR": "N",
         "FLAG_OWN_REALTY": "Y",
         "FLAG_PHONE": 0,
         "FLAG_WORK_PHONE": 0,
         "LIVE_CITY_NOT_WORK_CITY": 0,
         "LIVE_REGION_NOT_WORK_REGION": 1,
         "NAME_CONTRACT_TYPE": "Cash loans",
         "NAME_EDUCATION_TYPE": "Higher education",
         "NAME_FAMILY_STATUS": "Single / not married",
         "NAME_HOUSING_TYPE": "House / apartment",
         "NAME_INCOME_TYPE": "Working",
         "NAME_TYPE_SUITE": "Family",
         "ORGANIZATION_TYPE": "Business Entity Type 3",
         "REGION_POPULATION_RELATIVE": 0.072508,
         "REGION_RATING_CLIENT": 1,
         "REGION_RATING_CLIENT_W_CITY": 1,
         "REG_CITY_NOT_LIVE_CITY": 0,
         "REG_CITY_NOT_WORK_CITY": 0,
         "REG_REGION_NOT_LIVE_REGION": 1,
         "REG_REGION_NOT_WORK_REGION": 0,
         "TARGET": 1,
         "_deepnote_index_column": 4
        }
       ]
      },
      "text/html": [
       "<div>\n",
       "<style scoped>\n",
       "    .dataframe tbody tr th:only-of-type {\n",
       "        vertical-align: middle;\n",
       "    }\n",
       "\n",
       "    .dataframe tbody tr th {\n",
       "        vertical-align: top;\n",
       "    }\n",
       "\n",
       "    .dataframe thead th {\n",
       "        text-align: right;\n",
       "    }\n",
       "</style>\n",
       "<table border=\"1\" class=\"dataframe\">\n",
       "  <thead>\n",
       "    <tr style=\"text-align: right;\">\n",
       "      <th></th>\n",
       "      <th>AMT_CREDIT</th>\n",
       "      <th>AMT_GOODS_PRICE</th>\n",
       "      <th>AMT_INCOME_TOTAL</th>\n",
       "      <th>CNT_CHILDREN</th>\n",
       "      <th>CNT_FAM_MEMBERS</th>\n",
       "      <th>CODE_GENDER</th>\n",
       "      <th>DAYS_EMPLOYED</th>\n",
       "      <th>DAYS_ID_PUBLISH</th>\n",
       "      <th>DAYS_LAST_PHONE_CHANGE</th>\n",
       "      <th>DAYS_REGISTRATION</th>\n",
       "      <th>...</th>\n",
       "      <th>NAME_TYPE_SUITE</th>\n",
       "      <th>ORGANIZATION_TYPE</th>\n",
       "      <th>REGION_POPULATION_RELATIVE</th>\n",
       "      <th>REGION_RATING_CLIENT</th>\n",
       "      <th>REGION_RATING_CLIENT_W_CITY</th>\n",
       "      <th>REG_CITY_NOT_LIVE_CITY</th>\n",
       "      <th>REG_CITY_NOT_WORK_CITY</th>\n",
       "      <th>REG_REGION_NOT_LIVE_REGION</th>\n",
       "      <th>REG_REGION_NOT_WORK_REGION</th>\n",
       "      <th>TARGET</th>\n",
       "    </tr>\n",
       "  </thead>\n",
       "  <tbody>\n",
       "    <tr>\n",
       "      <th>0</th>\n",
       "      <td>1078200.0</td>\n",
       "      <td>31522.5</td>\n",
       "      <td>135000.0</td>\n",
       "      <td>1</td>\n",
       "      <td>3</td>\n",
       "      <td>F</td>\n",
       "      <td>-230</td>\n",
       "      <td>-1118</td>\n",
       "      <td>NaN</td>\n",
       "      <td>-4962</td>\n",
       "      <td>...</td>\n",
       "      <td>Unaccompanied</td>\n",
       "      <td>Trade: type 2</td>\n",
       "      <td>0.010643</td>\n",
       "      <td>2</td>\n",
       "      <td>2</td>\n",
       "      <td>1</td>\n",
       "      <td>1</td>\n",
       "      <td>0</td>\n",
       "      <td>0</td>\n",
       "      <td>1</td>\n",
       "    </tr>\n",
       "    <tr>\n",
       "      <th>1</th>\n",
       "      <td>284400.0</td>\n",
       "      <td>19134.0</td>\n",
       "      <td>112500.0</td>\n",
       "      <td>1</td>\n",
       "      <td>3</td>\n",
       "      <td>F</td>\n",
       "      <td>-1338</td>\n",
       "      <td>-1076</td>\n",
       "      <td>-938.0</td>\n",
       "      <td>-673</td>\n",
       "      <td>...</td>\n",
       "      <td>Unaccompanied</td>\n",
       "      <td>Business Entity Type 3</td>\n",
       "      <td>0.006629</td>\n",
       "      <td>2</td>\n",
       "      <td>2</td>\n",
       "      <td>0</td>\n",
       "      <td>0</td>\n",
       "      <td>0</td>\n",
       "      <td>0</td>\n",
       "      <td>0</td>\n",
       "    </tr>\n",
       "    <tr>\n",
       "      <th>2</th>\n",
       "      <td>942300.0</td>\n",
       "      <td>27679.5</td>\n",
       "      <td>121500.0</td>\n",
       "      <td>0</td>\n",
       "      <td>1</td>\n",
       "      <td>F</td>\n",
       "      <td>365243</td>\n",
       "      <td>-4116</td>\n",
       "      <td>-2052.0</td>\n",
       "      <td>-357</td>\n",
       "      <td>...</td>\n",
       "      <td>Unaccompanied</td>\n",
       "      <td>XNA</td>\n",
       "      <td>0.019689</td>\n",
       "      <td>2</td>\n",
       "      <td>2</td>\n",
       "      <td>0</td>\n",
       "      <td>0</td>\n",
       "      <td>0</td>\n",
       "      <td>0</td>\n",
       "      <td>1</td>\n",
       "    </tr>\n",
       "    <tr>\n",
       "      <th>3</th>\n",
       "      <td>429763.5</td>\n",
       "      <td>34083.0</td>\n",
       "      <td>315000.0</td>\n",
       "      <td>0</td>\n",
       "      <td>1</td>\n",
       "      <td>F</td>\n",
       "      <td>-1978</td>\n",
       "      <td>-839</td>\n",
       "      <td>0.0</td>\n",
       "      <td>-4549</td>\n",
       "      <td>...</td>\n",
       "      <td>Unaccompanied</td>\n",
       "      <td>Self-employed</td>\n",
       "      <td>0.008019</td>\n",
       "      <td>2</td>\n",
       "      <td>2</td>\n",
       "      <td>0</td>\n",
       "      <td>0</td>\n",
       "      <td>0</td>\n",
       "      <td>0</td>\n",
       "      <td>1</td>\n",
       "    </tr>\n",
       "    <tr>\n",
       "      <th>4</th>\n",
       "      <td>323388.0</td>\n",
       "      <td>25677.0</td>\n",
       "      <td>265500.0</td>\n",
       "      <td>0</td>\n",
       "      <td>1</td>\n",
       "      <td>M</td>\n",
       "      <td>-890</td>\n",
       "      <td>-543</td>\n",
       "      <td>-714.0</td>\n",
       "      <td>-5103</td>\n",
       "      <td>...</td>\n",
       "      <td>Family</td>\n",
       "      <td>Business Entity Type 3</td>\n",
       "      <td>0.072508</td>\n",
       "      <td>1</td>\n",
       "      <td>1</td>\n",
       "      <td>0</td>\n",
       "      <td>0</td>\n",
       "      <td>1</td>\n",
       "      <td>0</td>\n",
       "      <td>1</td>\n",
       "    </tr>\n",
       "  </tbody>\n",
       "</table>\n",
       "<p>5 rows × 52 columns</p>\n",
       "</div>"
      ],
      "text/plain": [
       "   AMT_CREDIT  AMT_GOODS_PRICE  AMT_INCOME_TOTAL  CNT_CHILDREN  \\\n",
       "0   1078200.0          31522.5          135000.0             1   \n",
       "1    284400.0          19134.0          112500.0             1   \n",
       "2    942300.0          27679.5          121500.0             0   \n",
       "3    429763.5          34083.0          315000.0             0   \n",
       "4    323388.0          25677.0          265500.0             0   \n",
       "\n",
       "   CNT_FAM_MEMBERS CODE_GENDER  DAYS_EMPLOYED  DAYS_ID_PUBLISH  \\\n",
       "0                3           F           -230            -1118   \n",
       "1                3           F          -1338            -1076   \n",
       "2                1           F         365243            -4116   \n",
       "3                1           F          -1978             -839   \n",
       "4                1           M           -890             -543   \n",
       "\n",
       "   DAYS_LAST_PHONE_CHANGE  DAYS_REGISTRATION  ...  NAME_TYPE_SUITE  \\\n",
       "0                     NaN              -4962  ...    Unaccompanied   \n",
       "1                  -938.0               -673  ...    Unaccompanied   \n",
       "2                 -2052.0               -357  ...    Unaccompanied   \n",
       "3                     0.0              -4549  ...    Unaccompanied   \n",
       "4                  -714.0              -5103  ...           Family   \n",
       "\n",
       "        ORGANIZATION_TYPE  REGION_POPULATION_RELATIVE  REGION_RATING_CLIENT  \\\n",
       "0           Trade: type 2                    0.010643                     2   \n",
       "1  Business Entity Type 3                    0.006629                     2   \n",
       "2                     XNA                    0.019689                     2   \n",
       "3           Self-employed                    0.008019                     2   \n",
       "4  Business Entity Type 3                    0.072508                     1   \n",
       "\n",
       "   REGION_RATING_CLIENT_W_CITY  REG_CITY_NOT_LIVE_CITY  \\\n",
       "0                            2                       1   \n",
       "1                            2                       0   \n",
       "2                            2                       0   \n",
       "3                            2                       0   \n",
       "4                            1                       0   \n",
       "\n",
       "   REG_CITY_NOT_WORK_CITY  REG_REGION_NOT_LIVE_REGION  \\\n",
       "0                       1                           0   \n",
       "1                       0                           0   \n",
       "2                       0                           0   \n",
       "3                       0                           0   \n",
       "4                       0                           1   \n",
       "\n",
       "   REG_REGION_NOT_WORK_REGION  TARGET  \n",
       "0                           0       1  \n",
       "1                           0       0  \n",
       "2                           0       1  \n",
       "3                           0       1  \n",
       "4                           0       1  \n",
       "\n",
       "[5 rows x 52 columns]"
      ]
     },
     "execution_count": 2,
     "metadata": {},
     "output_type": "execute_result"
    }
   ],
   "source": [
    "# import the data using pandas\n",
    "loan_data = pd.read_csv(\"../Data/loan_balanced_missing.csv\", header = 0, sep=\",\")\n",
    "\n",
    "# Display the first 5 rows and 10 colums of the dataset.\n",
    "loan_data.head()"
   ]
  },
  {
   "cell_type": "code",
   "execution_count": 3,
   "metadata": {
    "cell_id": "00006-5ce5a0fc-3413-451a-89c9-74b0e83aadfe",
    "deepnote_cell_type": "code",
    "deepnote_to_be_reexecuted": false,
    "execution_millis": 4456,
    "execution_start": 1622488616980,
    "source_hash": "a81a2750",
    "tags": []
   },
   "outputs": [
    {
     "data": {
      "text/plain": [
       "'\\nWe used mean values to fill in the missing values (not medians) in order to increase comprehensiveness of the analysis,\\nrather than to focus on mitigating the effect of outliers. \\n'"
      ]
     },
     "execution_count": 3,
     "metadata": {},
     "output_type": "execute_result"
    }
   ],
   "source": [
    "# Q3: Replace missing values with means\n",
    "loan_data_fillna_mean = loan_data.fillna(loan_data.mean()).copy()\n",
    "'''\n",
    "We used mean values to fill in the missing values (not medians) in order to increase comprehensiveness of the analysis,\n",
    "rather than to focus on mitigating the effect of outliers. \n",
    "'''"
   ]
  },
  {
   "cell_type": "code",
   "execution_count": 4,
   "metadata": {
    "cell_id": "00005-890fbecf-a642-4fca-bbbd-b4dc1a4f2deb",
    "deepnote_cell_type": "code",
    "deepnote_to_be_reexecuted": false,
    "execution_millis": 69,
    "execution_start": 1622488621449,
    "source_hash": "eda1f0d7",
    "tags": []
   },
   "outputs": [
    {
     "name": "stdout",
     "output_type": "stream",
     "text": [
      "int64      37\n",
      "object     10\n",
      "float64     5\n",
      "dtype: int64\n",
      "uint8      87\n",
      "int64      37\n",
      "float64     5\n",
      "dtype: int64\n"
     ]
    }
   ],
   "source": [
    "# Q4: Determine how many are categorical variables and Convert them into dummy\n",
    "print(loan_data_fillna_mean.dtypes.value_counts())\n",
    "loan_data_dummy = pd.get_dummies(loan_data_fillna_mean, drop_first=True)\n",
    "print(loan_data_dummy.dtypes.value_counts())"
   ]
  },
  {
   "cell_type": "code",
   "execution_count": 5,
   "metadata": {
    "cell_id": "00006-2bd675eb-d707-4a50-87bc-fb80d32e9e39",
    "deepnote_cell_type": "code",
    "deepnote_to_be_reexecuted": false,
    "execution_millis": 88,
    "execution_start": 1622488621521,
    "source_hash": "87377bd1",
    "tags": []
   },
   "outputs": [],
   "source": [
    "# Q5: create the non-linear combinations\n",
    "poly_fit = PolynomialFeatures(degree = 2, interaction_only = False, \n",
    "                              include_bias= False)\n",
    "data_nonlin = poly_fit.fit_transform(loan_data_dummy[['AMT_CREDIT', \n",
    "                                    'AMT_INCOME_TOTAL', 'CNT_FAM_MEMBERS']])\n",
    "name_list = ['AMT_CREDIT', 'AMT_INCOME_TOTAL', 'CNT_FAM_MEMBERS',\n",
    "             'AMT_CREDIT^2', 'AMT_CREDIT*AMT_INCOME_TOTAL',\n",
    "             'AMT_CREDIT*CNT_FAM_MEMBERS', 'AMT_INCOME_TOTAL^2',\n",
    "             'AMT_INCOME_TOTAL*CNT_FAM_MEMBERS', 'CNT_FAM_MEMBERS^2']\n",
    "data_nonlin_df = pd.DataFrame(data_nonlin, columns = name_list)\n",
    "# Concat the original data and non-linear data (avoid duplication)\n",
    "loan_data_concat = pd.concat([loan_data_dummy.drop(['AMT_CREDIT', \n",
    "    'AMT_INCOME_TOTAL', 'CNT_FAM_MEMBERS'], axis=1), data_nonlin_df], axis=1)"
   ]
  },
  {
   "cell_type": "code",
   "execution_count": 6,
   "metadata": {
    "cell_id": "00007-eec3c4a6-80cd-4649-8382-10e39e575500",
    "deepnote_cell_type": "code",
    "deepnote_to_be_reexecuted": false,
    "execution_millis": 44,
    "execution_start": 1622488621610,
    "source_hash": "fe24d39d",
    "tags": []
   },
   "outputs": [],
   "source": [
    "# Q6: Split the data into training and test sample\n",
    "Y = loan_data_concat[['TARGET']]\n",
    "X = loan_data_concat.drop('TARGET',axis=1)\n",
    "\n",
    "X_training, X_test, Y_training, Y_test = train_test_split(X,Y,test_size=0.2, \n",
    "                                                          random_state=3)"
   ]
  },
  {
   "cell_type": "code",
   "execution_count": 7,
   "metadata": {
    "cell_id": "00008-e2bdeb45-d807-4609-a0ca-16936f205fe3",
    "deepnote_cell_type": "code",
    "deepnote_to_be_reexecuted": false,
    "execution_millis": 44,
    "execution_start": 1622488621654,
    "source_hash": "a7ba104e",
    "tags": []
   },
   "outputs": [],
   "source": [
    "# Q7: Standardize predictors (only those in float64)\n",
    "# Select float64 and int data\n",
    "X_training_float = X_training.select_dtypes(include =['float64']) \n",
    "X_test_float = X_test.select_dtypes(include =['float64']) \n",
    "X_training_int = X_training.select_dtypes(include =['int64']) \n",
    "X_test_int = X_test.select_dtypes(include =['int64']) \n",
    "\n",
    "# standardize the data\n",
    "X_training_float_std = (X_training_float - \n",
    "                        X_training_float.mean())/X_training_float.std()\n",
    "X_test_float_std = (X_test_float - \n",
    "                    X_training_float.mean())/X_training_float.std()\n",
    "\n",
    "# concatenate with int\n",
    "X_training_concat = pd.concat([X_training_float_std, X_training_int], axis = 1)\n",
    "X_test_concat = pd.concat([X_test_float_std, X_test_int], axis = 1)"
   ]
  },
  {
   "cell_type": "code",
   "execution_count": 8,
   "metadata": {
    "cell_id": "00009-480e69ea-bb12-4bde-97bc-8e90424e1264",
    "deepnote_cell_type": "code",
    "deepnote_to_be_reexecuted": false,
    "execution_millis": 79537,
    "execution_start": 1622488621698,
    "source_hash": "9abf1636",
    "tags": []
   },
   "outputs": [
    {
     "name": "stdout",
     "output_type": "stream",
     "text": [
      "Best lambda:  0.101\n"
     ]
    },
    {
     "data": {
      "text/plain": [
       "'\\nBest lambda:  0.101\\n'"
      ]
     },
     "execution_count": 8,
     "metadata": {},
     "output_type": "execute_result"
    }
   ],
   "source": [
    "# Q8: Define and fit the Logistic Regression with Ridge penalization  \n",
    "# remap the target\n",
    "Y_train_ = (Y_training > Y_training.median())*1\n",
    "Y_test_ = (Y_test > Y_training.median())*1\n",
    "\n",
    "# Define and fit the Logistic Regression with Ridge penalization (l2 penalty)\n",
    "LogReg_ridge = LogisticRegression(penalty='l2', \n",
    "                                  solver='liblinear', random_state=8)\n",
    "\n",
    "# Define GridSearchCV and the hyperparameters\n",
    "# we define the grid at random, it can be more \n",
    "params = {'C': np.linspace(0,10,100)}\n",
    "\n",
    "LogReg_ridge_gscv = GridSearchCV(estimator = LogReg_ridge,\n",
    "                          param_grid = params,\n",
    "                          cv = 5,\n",
    "                          scoring = 'average_precision',\n",
    "                          return_train_score= True,\n",
    "                          refit = True)\n",
    "# Fit the Logistic regression with ridge penalization \n",
    "# and determine the best value of Lambda\n",
    "LogReg_ridge_gscv.fit(X_training_concat, Y_train_.values.flatten())\n",
    "print('Best lambda: ', round(LogReg_ridge_gscv.best_params_['C'], 3))\n",
    "\"\"\"\n",
    "Best lambda:  0.101\n",
    "\"\"\""
   ]
  },
  {
   "cell_type": "code",
   "execution_count": 9,
   "metadata": {
    "cell_id": "00010-bb59ff35-064e-4e36-b615-9e78a4b0ab92",
    "deepnote_cell_type": "code",
    "deepnote_to_be_reexecuted": false,
    "execution_millis": 320,
    "execution_start": 1622488701235,
    "source_hash": "2230b2cf",
    "tags": []
   },
   "outputs": [
    {
     "data": {
      "image/png": "[encoded data removed]",
      "text/plain": [
       "<Figure size 576x432 with 1 Axes>"
      ]
     },
     "metadata": {
      "image/png": {
       "height": 387,
       "width": 504
      },
      "needs_background": "light"
     },
     "output_type": "display_data"
    }
   ],
   "source": [
    "# Q9: Plot the chart in which you show the evoluation of only the test score\n",
    "plt.figure(figsize=(8,6))\n",
    "plt.plot(params['C'], LogReg_ridge_gscv.cv_results_['mean_test_score'])\n",
    "plt.xlabel('Lambda')\n",
    "plt.ylabel('Average Precision')\n",
    "plt.title('Average Precision averaged across 5 K-folds - Test')\n",
    "plt.grid()"
   ]
  },
  {
   "cell_type": "code",
   "execution_count": 10,
   "metadata": {
    "cell_id": "00011-6a982bd7-3b22-47b9-b562-5513b6195fbb",
    "deepnote_cell_type": "code",
    "deepnote_to_be_reexecuted": false,
    "execution_millis": 22,
    "execution_start": 1622488701564,
    "source_hash": "2a09c356",
    "tags": []
   },
   "outputs": [
    {
     "name": "stdout",
     "output_type": "stream",
     "text": [
      "Accuracy score:  0.531\n",
      "Roc auc score:  0.5\n"
     ]
    }
   ],
   "source": [
    "# Q10: Produce the prediction using the command predict()\n",
    "Y_pred_lr_ridge = LogReg_ridge_gscv.predict(X_test_concat)\n",
    "\n",
    "# Q11: Evaluate the performance using accuracy_score and roc_auc_score\n",
    "acc_score_lr_r = accuracy_score(Y_test_, Y_pred_lr_ridge)\n",
    "rocauc_lr_r = roc_auc_score(Y_test_, Y_pred_lr_ridge)\n",
    "print('Accuracy score: ', round(acc_score_lr_r,3))\n",
    "print('Roc auc score: ', round(rocauc_lr_r,3))\n"
   ]
  },
  {
   "cell_type": "code",
   "execution_count": 11,
   "metadata": {
    "cell_id": "00012-4066d885-4616-44cc-8695-7abf5074d643",
    "deepnote_cell_type": "code",
    "deepnote_to_be_reexecuted": false,
    "execution_millis": 59,
    "execution_start": 1622488701584,
    "source_hash": "c4b04e47",
    "tags": []
   },
   "outputs": [
    {
     "name": "stdout",
     "output_type": "stream",
     "text": [
      "              precision    recall  f1-score   support\n",
      "\n",
      "           0       0.53      1.00      0.69      4033\n",
      "           1       0.60      0.00      0.00      3557\n",
      "\n",
      "    accuracy                           0.53      7590\n",
      "   macro avg       0.57      0.50      0.35      7590\n",
      "weighted avg       0.56      0.53      0.37      7590\n",
      "\n"
     ]
    },
    {
     "data": {
      "application/vnd.deepnote.dataframe.v2+json": {
       "column_count": 2,
       "columns": [
        {
         "dtype": "int64",
         "name": "0",
         "stats": {
          "histogram": [
           {
            "bin_end": 3601.7,
            "bin_start": 3554,
            "count": 1
           },
           {
            "bin_end": 3649.4,
            "bin_start": 3601.7,
            "count": 0
           },
           {
            "bin_end": 3697.1,
            "bin_start": 3649.4,
            "count": 0
           },
           {
            "bin_end": 3744.8,
            "bin_start": 3697.1,
            "count": 0
           },
           {
            "bin_end": 3792.5,
            "bin_start": 3744.8,
            "count": 0
           },
           {
            "bin_end": 3840.2,
            "bin_start": 3792.5,
            "count": 0
           },
           {
            "bin_end": 3887.9,
            "bin_start": 3840.2,
            "count": 0
           },
           {
            "bin_end": 3935.6,
            "bin_start": 3887.9,
            "count": 0
           },
           {
            "bin_end": 3983.3,
            "bin_start": 3935.6,
            "count": 0
           },
           {
            "bin_end": 4031,
            "bin_start": 3983.3,
            "count": 1
           }
          ],
          "max": "4031",
          "min": "3554",
          "nan_count": 0,
          "unique_count": 2
         }
        },
        {
         "dtype": "int64",
         "name": "1",
         "stats": {
          "histogram": [
           {
            "bin_end": 2.1,
            "bin_start": 2,
            "count": 1
           },
           {
            "bin_end": 2.2,
            "bin_start": 2.1,
            "count": 0
           },
           {
            "bin_end": 2.3,
            "bin_start": 2.2,
            "count": 0
           },
           {
            "bin_end": 2.4,
            "bin_start": 2.3,
            "count": 0
           },
           {
            "bin_end": 2.5,
            "bin_start": 2.4,
            "count": 0
           },
           {
            "bin_end": 2.6,
            "bin_start": 2.5,
            "count": 0
           },
           {
            "bin_end": 2.7,
            "bin_start": 2.6,
            "count": 0
           },
           {
            "bin_end": 2.8,
            "bin_start": 2.7,
            "count": 0
           },
           {
            "bin_end": 2.9,
            "bin_start": 2.8,
            "count": 0
           },
           {
            "bin_end": 3,
            "bin_start": 2.9,
            "count": 1
           }
          ],
          "max": "3",
          "min": "2",
          "nan_count": 0,
          "unique_count": 2
         }
        },
        {
         "dtype": "object",
         "name": "_deepnote_index_column"
        }
       ],
       "row_count": 2,
       "rows_bottom": null,
       "rows_top": [
        {
         "0": 4031,
         "1": 2,
         "_deepnote_index_column": "0"
        },
        {
         "0": 3554,
         "1": 3,
         "_deepnote_index_column": "1"
        }
       ]
      },
      "text/html": [
       "<div>\n",
       "<style scoped>\n",
       "    .dataframe tbody tr th:only-of-type {\n",
       "        vertical-align: middle;\n",
       "    }\n",
       "\n",
       "    .dataframe tbody tr th {\n",
       "        vertical-align: top;\n",
       "    }\n",
       "\n",
       "    .dataframe thead th {\n",
       "        text-align: right;\n",
       "    }\n",
       "</style>\n",
       "<table border=\"1\" class=\"dataframe\">\n",
       "  <thead>\n",
       "    <tr style=\"text-align: right;\">\n",
       "      <th></th>\n",
       "      <th>0</th>\n",
       "      <th>1</th>\n",
       "    </tr>\n",
       "  </thead>\n",
       "  <tbody>\n",
       "    <tr>\n",
       "      <th>0</th>\n",
       "      <td>4031</td>\n",
       "      <td>2</td>\n",
       "    </tr>\n",
       "    <tr>\n",
       "      <th>1</th>\n",
       "      <td>3554</td>\n",
       "      <td>3</td>\n",
       "    </tr>\n",
       "  </tbody>\n",
       "</table>\n",
       "</div>"
      ],
      "text/plain": [
       "      0  1\n",
       "0  4031  2\n",
       "1  3554  3"
      ]
     },
     "execution_count": 11,
     "metadata": {},
     "output_type": "execute_result"
    }
   ],
   "source": [
    "# Q12: Show the classification_report and the confusion matrix\n",
    "print(classification_report(Y_test_, Y_pred_lr_ridge))\n",
    "conf_mat = confusion_matrix(Y_test_, Y_pred_lr_ridge)\n",
    "conf_mat_df = pd.DataFrame(conf_mat, index = ['0', '1'], columns=['0', '1'])\n",
    "conf_mat_df"
   ]
  },
  {
   "cell_type": "code",
   "execution_count": 12,
   "metadata": {
    "cell_id": "00012-5bde8c78-841f-45f8-9b32-1098b083bed2",
    "deepnote_cell_type": "code",
    "deepnote_to_be_reexecuted": false,
    "execution_millis": 5,
    "execution_start": 1622488701698,
    "source_hash": "12f75ae0",
    "tags": []
   },
   "outputs": [
    {
     "name": "stdout",
     "output_type": "stream",
     "text": [
      " Accuracy manual:  0.5314888010540184\n",
      " Precision manual:  0.6\n",
      " Sensitivity manual:  0.0008434073657576609\n"
     ]
    }
   ],
   "source": [
    "# Q13: Compute manually the accuracy, precision, \n",
    "# and sensitivity values from the confusion matrix\n",
    "acc_manual = (conf_mat_df.iloc[0,0]+conf_mat_df.iloc[1,1])/conf_mat_df.sum().sum()\n",
    "print(' Accuracy manual: ', acc_manual)\n",
    "prec_manual = conf_mat_df.iloc[1,1]/(conf_mat_df.iloc[1,1]+conf_mat_df.iloc[0,1])\n",
    "print(' Precision manual: ', prec_manual)\n",
    "sensitivity_manual = conf_mat_df.iloc[1,1]/(conf_mat_df.iloc[1,1]+conf_mat_df.iloc[1,0])\n",
    "print(' Sensitivity manual: ', sensitivity_manual)\n"
   ]
  },
  {
   "cell_type": "code",
   "execution_count": 13,
   "metadata": {
    "cell_id": "00013-1bc1fff1-c2f4-453e-9264-f17f419b4d7b",
    "deepnote_cell_type": "code",
    "deepnote_to_be_reexecuted": false,
    "execution_millis": 265920,
    "execution_start": 1622488701699,
    "source_hash": "28c3a31a",
    "tags": []
   },
   "outputs": [
    {
     "name": "stdout",
     "output_type": "stream",
     "text": [
      "Best lambda:  0.404\n"
     ]
    },
    {
     "data": {
      "text/plain": [
       "'\\nBest lambda:  0.404\\n'"
      ]
     },
     "execution_count": 13,
     "metadata": {},
     "output_type": "execute_result"
    }
   ],
   "source": [
    "# Q14: Define and fit the Logistic Regression with Lasso penalization (l1 penalty)\n",
    "LogReg_lasso = LogisticRegression(penalty='l1', \n",
    "                                  solver='liblinear', random_state=8)\n",
    "\n",
    "# Define GridSearchCV and the hyperparameters\n",
    "# we define the grid at random, it can be more \n",
    "params = {'C': np.linspace(0,10,100)}\n",
    "\n",
    "LogReg_lasso_gscv = GridSearchCV(estimator = LogReg_lasso,\n",
    "                          param_grid = params,\n",
    "                          cv = 5,\n",
    "                          scoring = 'average_precision',\n",
    "                          return_train_score= True,\n",
    "                          refit = True)\n",
    "# Fit the Logistic regression with lasso penalization \n",
    "# and determine the best value of Lambda\n",
    "LogReg_lasso_gscv.fit(X_training_concat, Y_train_.values.flatten())\n",
    "print('Best lambda: ', round(LogReg_lasso_gscv.best_params_['C'], 3))\n",
    "\"\"\"\n",
    "Best lambda:  0.404\n",
    "\"\"\""
   ]
  },
  {
   "cell_type": "code",
   "execution_count": 14,
   "metadata": {
    "cell_id": "00014-a86c5343-445d-4b7b-a527-1845978c9e66",
    "deepnote_cell_type": "code",
    "deepnote_to_be_reexecuted": false,
    "execution_millis": 183,
    "execution_start": 1622488967656,
    "source_hash": "a7423379",
    "tags": []
   },
   "outputs": [
    {
     "data": {
      "image/png": "[encoded data removed]",
      "text/plain": [
       "<Figure size 576x432 with 1 Axes>"
      ]
     },
     "metadata": {
      "image/png": {
       "height": 387,
       "width": 516
      },
      "needs_background": "light"
     },
     "output_type": "display_data"
    }
   ],
   "source": [
    "# Q15: Do from point 11 to point 14 for the Logistic Regression with Lasso penalization\n",
    "plt.figure(figsize=(8,6))\n",
    "plt.plot(params['C'], LogReg_lasso_gscv.cv_results_['mean_test_score'])\n",
    "plt.xlabel('Lambda')\n",
    "plt.ylabel('Average Precision')\n",
    "plt.title('Average Precision averaged across 5 K-folds - Test')\n",
    "plt.grid()"
   ]
  },
  {
   "cell_type": "code",
   "execution_count": 15,
   "metadata": {
    "cell_id": "00015-f4fbcdc1-9b03-4efa-bc39-4bfbc31773a9",
    "deepnote_cell_type": "code",
    "deepnote_to_be_reexecuted": false,
    "execution_millis": 22,
    "execution_start": 1622488967828,
    "source_hash": "1c8b5f88",
    "tags": []
   },
   "outputs": [
    {
     "name": "stdout",
     "output_type": "stream",
     "text": [
      "Accuracy score:  0.603\n",
      "Roc auc score:  0.595\n"
     ]
    }
   ],
   "source": [
    "# Produce the prediction using the command predict()\n",
    "Y_pred_lr_lasso = LogReg_lasso_gscv.predict(X_test_concat)\n",
    "\n",
    "# Evaluate the performance using accuracy_score and roc_auc_score\n",
    "acc_score_lr_l = accuracy_score(Y_test_, Y_pred_lr_lasso)\n",
    "rocauc_lr_l = roc_auc_score(Y_test_, Y_pred_lr_lasso)\n",
    "print('Accuracy score: ', round(acc_score_lr_l,3))\n",
    "print('Roc auc score: ', round(rocauc_lr_l,3))"
   ]
  },
  {
   "cell_type": "code",
   "execution_count": 16,
   "metadata": {
    "cell_id": "00016-d9914529-3b66-4dd9-ad07-f29d558a7d11",
    "deepnote_cell_type": "code",
    "deepnote_to_be_reexecuted": false,
    "execution_millis": 77,
    "execution_start": 1622488967854,
    "source_hash": "9f65ca9f",
    "tags": []
   },
   "outputs": [
    {
     "name": "stdout",
     "output_type": "stream",
     "text": [
      "              precision    recall  f1-score   support\n",
      "\n",
      "           0       0.61      0.73      0.66      4033\n",
      "           1       0.60      0.46      0.52      3557\n",
      "\n",
      "    accuracy                           0.60      7590\n",
      "   macro avg       0.60      0.60      0.59      7590\n",
      "weighted avg       0.60      0.60      0.60      7590\n",
      "\n"
     ]
    },
    {
     "data": {
      "application/vnd.deepnote.dataframe.v2+json": {
       "column_count": 2,
       "columns": [
        {
         "dtype": "int64",
         "name": "0",
         "stats": {
          "histogram": [
           {
            "bin_end": 2012.3,
            "bin_start": 1910,
            "count": 1
           },
           {
            "bin_end": 2114.6,
            "bin_start": 2012.3,
            "count": 0
           },
           {
            "bin_end": 2216.9,
            "bin_start": 2114.6,
            "count": 0
           },
           {
            "bin_end": 2319.2,
            "bin_start": 2216.9,
            "count": 0
           },
           {
            "bin_end": 2421.5,
            "bin_start": 2319.2,
            "count": 0
           },
           {
            "bin_end": 2523.8,
            "bin_start": 2421.5,
            "count": 0
           },
           {
            "bin_end": 2626.1,
            "bin_start": 2523.8,
            "count": 0
           },
           {
            "bin_end": 2728.4,
            "bin_start": 2626.1,
            "count": 0
           },
           {
            "bin_end": 2830.7,
            "bin_start": 2728.4,
            "count": 0
           },
           {
            "bin_end": 2933,
            "bin_start": 2830.7,
            "count": 1
           }
          ],
          "max": "2933",
          "min": "1910",
          "nan_count": 0,
          "unique_count": 2
         }
        },
        {
         "dtype": "int64",
         "name": "1",
         "stats": {
          "histogram": [
           {
            "bin_end": 1154.7,
            "bin_start": 1100,
            "count": 1
           },
           {
            "bin_end": 1209.4,
            "bin_start": 1154.7,
            "count": 0
           },
           {
            "bin_end": 1264.1,
            "bin_start": 1209.4,
            "count": 0
           },
           {
            "bin_end": 1318.8,
            "bin_start": 1264.1,
            "count": 0
           },
           {
            "bin_end": 1373.5,
            "bin_start": 1318.8,
            "count": 0
           },
           {
            "bin_end": 1428.2,
            "bin_start": 1373.5,
            "count": 0
           },
           {
            "bin_end": 1482.9,
            "bin_start": 1428.2,
            "count": 0
           },
           {
            "bin_end": 1537.6,
            "bin_start": 1482.9,
            "count": 0
           },
           {
            "bin_end": 1592.3,
            "bin_start": 1537.6,
            "count": 0
           },
           {
            "bin_end": 1647,
            "bin_start": 1592.3,
            "count": 1
           }
          ],
          "max": "1647",
          "min": "1100",
          "nan_count": 0,
          "unique_count": 2
         }
        },
        {
         "dtype": "object",
         "name": "_deepnote_index_column"
        }
       ],
       "row_count": 2,
       "rows_bottom": null,
       "rows_top": [
        {
         "0": 2933,
         "1": 1100,
         "_deepnote_index_column": "0"
        },
        {
         "0": 1910,
         "1": 1647,
         "_deepnote_index_column": "1"
        }
       ]
      },
      "text/html": [
       "<div>\n",
       "<style scoped>\n",
       "    .dataframe tbody tr th:only-of-type {\n",
       "        vertical-align: middle;\n",
       "    }\n",
       "\n",
       "    .dataframe tbody tr th {\n",
       "        vertical-align: top;\n",
       "    }\n",
       "\n",
       "    .dataframe thead th {\n",
       "        text-align: right;\n",
       "    }\n",
       "</style>\n",
       "<table border=\"1\" class=\"dataframe\">\n",
       "  <thead>\n",
       "    <tr style=\"text-align: right;\">\n",
       "      <th></th>\n",
       "      <th>0</th>\n",
       "      <th>1</th>\n",
       "    </tr>\n",
       "  </thead>\n",
       "  <tbody>\n",
       "    <tr>\n",
       "      <th>0</th>\n",
       "      <td>2933</td>\n",
       "      <td>1100</td>\n",
       "    </tr>\n",
       "    <tr>\n",
       "      <th>1</th>\n",
       "      <td>1910</td>\n",
       "      <td>1647</td>\n",
       "    </tr>\n",
       "  </tbody>\n",
       "</table>\n",
       "</div>"
      ],
      "text/plain": [
       "      0     1\n",
       "0  2933  1100\n",
       "1  1910  1647"
      ]
     },
     "execution_count": 16,
     "metadata": {},
     "output_type": "execute_result"
    }
   ],
   "source": [
    "# Show the classification_report and the confusion matrix\n",
    "print(classification_report(Y_test_, Y_pred_lr_lasso))\n",
    "conf_mat = confusion_matrix(Y_test_, Y_pred_lr_lasso)\n",
    "conf_mat_df = pd.DataFrame(conf_mat, index = ['0', '1'], columns=['0', '1'])\n",
    "conf_mat_df"
   ]
  },
  {
   "cell_type": "code",
   "execution_count": 17,
   "metadata": {
    "cell_id": "00018-3ab81444-cc0a-4647-be98-87d45f14f828",
    "deepnote_cell_type": "code",
    "deepnote_to_be_reexecuted": false,
    "execution_millis": 17,
    "execution_start": 1622488967928,
    "source_hash": "c46c5dec",
    "tags": []
   },
   "outputs": [
    {
     "name": "stdout",
     "output_type": "stream",
     "text": [
      " Accuracy manual:  0.6034255599472991\n",
      " Precision manual:  0.5995631598107026\n",
      " Sensitivity manual:  0.4630306438009559\n"
     ]
    }
   ],
   "source": [
    "# Compute manually the accuracy, precision, \n",
    "# and sensitivity values from the confusion matrix\n",
    "acc_manual = (conf_mat_df.iloc[0,0]+conf_mat_df.iloc[1,1])/conf_mat_df.sum().sum()\n",
    "print(' Accuracy manual: ', acc_manual)\n",
    "prec_manual = conf_mat_df.iloc[1,1]/(conf_mat_df.iloc[1,1]+conf_mat_df.iloc[0,1])\n",
    "print(' Precision manual: ', prec_manual)\n",
    "sensitivity_manual = conf_mat_df.iloc[1,1]/(conf_mat_df.iloc[1,1]+conf_mat_df.iloc[1,0])\n",
    "print(' Sensitivity manual: ', sensitivity_manual)"
   ]
  },
  {
   "cell_type": "code",
   "execution_count": 18,
   "metadata": {
    "cell_id": "00019-60028e8f-59c4-444a-924c-919633daa488",
    "deepnote_cell_type": "code",
    "deepnote_to_be_reexecuted": false,
    "execution_millis": 13,
    "execution_start": 1622488967946,
    "source_hash": "9701dec1",
    "tags": []
   },
   "outputs": [
    {
     "data": {
      "text/plain": [
       "'\\nQ16:\\nWhich one between the Ridge and the Lasso penalization delivers the best performance in terms of accuracy? \\nWhich has the best precision values? \\nWhich one has the best recall (sensitivity) value?\\n\\nIn terms of accuracy, Lasso provides the best performance. (Ridge: 0.53, Lasso: 0.60)\\nRegarding precision, the performance of Ridge is slightly better than that of Lasso. (Ridge: 0.6, Lasso: 0.59)\\nLasso delivers a far better performance in terms of sensitivity. (Ridge: 0.00084, Lasso: 0.46)\\n'"
      ]
     },
     "execution_count": 18,
     "metadata": {},
     "output_type": "execute_result"
    }
   ],
   "source": [
    "\"\"\"\n",
    "Q16:\n",
    "Which one between the Ridge and the Lasso penalization delivers the best performance in terms of accuracy? \n",
    "Which has the best precision values? \n",
    "Which one has the best recall (sensitivity) value?\n",
    "\n",
    "In terms of accuracy, Lasso provides the best performance. (Ridge: 0.53, Lasso: 0.60)\n",
    "Regarding precision, the performance of Ridge is slightly better than that of Lasso. (Ridge: 0.6, Lasso: 0.59)\n",
    "Lasso delivers a far better performance in terms of sensitivity. (Ridge: 0.00084, Lasso: 0.46)\n",
    "\"\"\""
   ]
  },
  {
   "cell_type": "code",
   "execution_count": 19,
   "metadata": {
    "cell_id": "00019-2dd908d7-e81c-41b7-a18c-b421fa7d672b",
    "deepnote_cell_type": "code",
    "deepnote_to_be_reexecuted": false,
    "execution_millis": 75247,
    "execution_start": 1622488967963,
    "source_hash": "829c8b5f",
    "tags": []
   },
   "outputs": [
    {
     "name": "stdout",
     "output_type": "stream",
     "text": [
      "Best lambda:  0.101\n"
     ]
    },
    {
     "data": {
      "text/plain": [
       "'\\nBest lambda:  0.101\\n'"
      ]
     },
     "execution_count": 19,
     "metadata": {},
     "output_type": "execute_result"
    }
   ],
   "source": [
    "# Q17: Define and fit the Logistic Regression with Ridge penalization (l2 penalty) specifing also class_weight='balanced' \n",
    "\n",
    "LogReg_ridge_bal = LogisticRegression(penalty='l2',\n",
    "                                  class_weight = 'balanced',\n",
    "                                  solver='liblinear', random_state=8)\n",
    "\n",
    "# Define GridSearchCV and the hyperparameters\n",
    "# we define the grid at random, it can be more \n",
    "params = {'C': np.linspace(0,10,100)}\n",
    "\n",
    "LogReg_ridge_gscv_bal = GridSearchCV(estimator = LogReg_ridge_bal,\n",
    "                          param_grid = params,\n",
    "                          cv = 5,\n",
    "                          scoring = 'average_precision',\n",
    "                          return_train_score= True,\n",
    "                          refit = True)\n",
    "# Fit the Logistic regression with ridge penalization \n",
    "# and determine the best value of Lambda\n",
    "LogReg_ridge_gscv_bal.fit(X_training_concat, Y_train_.values.flatten())\n",
    "print('Best lambda: ', round(LogReg_ridge_gscv_bal.best_params_['C'], 3))\n",
    "\"\"\"\n",
    "Best lambda:  0.101\n",
    "\"\"\"\n"
   ]
  },
  {
   "cell_type": "code",
   "execution_count": 20,
   "metadata": {
    "cell_id": "00020-e99f7296-828b-4a28-943e-b8ae2178696e",
    "deepnote_cell_type": "code",
    "deepnote_to_be_reexecuted": false,
    "execution_millis": 218,
    "execution_start": 1622489043204,
    "source_hash": "4fa9dc2d",
    "tags": []
   },
   "outputs": [
    {
     "data": {
      "image/png": "[encoded data removed]",
      "text/plain": [
       "<Figure size 576x432 with 1 Axes>"
      ]
     },
     "metadata": {
      "image/png": {
       "height": 387,
       "width": 503
      },
      "needs_background": "light"
     },
     "output_type": "display_data"
    }
   ],
   "source": [
    "# Plot\n",
    "plt.figure(figsize=(8,6))\n",
    "plt.plot(params['C'], LogReg_ridge_gscv_bal.cv_results_['mean_test_score'])\n",
    "plt.xlabel('Lambda')\n",
    "plt.ylabel('Average Precision')\n",
    "plt.title('Average Precision averaged across 5 K-folds - Test')\n",
    "plt.grid()"
   ]
  },
  {
   "cell_type": "code",
   "execution_count": 21,
   "metadata": {
    "cell_id": "00021-842a32f9-1dfe-401b-b32f-06d4655d5b7b",
    "deepnote_cell_type": "code",
    "deepnote_to_be_reexecuted": false,
    "execution_millis": 20,
    "execution_start": 1622489043426,
    "source_hash": "b91294a7",
    "tags": []
   },
   "outputs": [
    {
     "name": "stdout",
     "output_type": "stream",
     "text": [
      "Accuracy score:  0.532\n",
      "Roc auc score:  0.514\n"
     ]
    }
   ],
   "source": [
    "# Q18: Produce the prediction using the command predict()\n",
    "Y_pred_lr_ridge_bal = LogReg_ridge_gscv_bal.predict(X_test_concat)\n",
    "\n",
    "# Q19: Evaluate the using accuracy_score and roc_auc_score\n",
    "acc_score_lr_r_bal = accuracy_score(Y_test_, Y_pred_lr_ridge_bal)\n",
    "rocauc_lr_r_bal = roc_auc_score(Y_test_, Y_pred_lr_ridge_bal)\n",
    "print('Accuracy score: ', round(acc_score_lr_r_bal,3))\n",
    "print('Roc auc score: ', round(rocauc_lr_r_bal,3))\n"
   ]
  },
  {
   "cell_type": "code",
   "execution_count": 22,
   "metadata": {
    "cell_id": "00022-d26d93ba-0bf0-4a12-b228-0bc45d129974",
    "deepnote_cell_type": "code",
    "deepnote_to_be_reexecuted": false,
    "execution_millis": 44,
    "execution_start": 1622489043458,
    "source_hash": "ad9a1125",
    "tags": []
   },
   "outputs": [
    {
     "name": "stdout",
     "output_type": "stream",
     "text": [
      "              precision    recall  f1-score   support\n",
      "\n",
      "           0       0.54      0.80      0.64      4033\n",
      "           1       0.50      0.23      0.32      3557\n",
      "\n",
      "    accuracy                           0.53      7590\n",
      "   macro avg       0.52      0.51      0.48      7590\n",
      "weighted avg       0.52      0.53      0.49      7590\n",
      "\n"
     ]
    },
    {
     "data": {
      "application/vnd.deepnote.dataframe.v2+json": {
       "column_count": 2,
       "columns": [
        {
         "dtype": "int64",
         "name": "0",
         "stats": {
          "histogram": [
           {
            "bin_end": 2776,
            "bin_start": 2728,
            "count": 1
           },
           {
            "bin_end": 2824,
            "bin_start": 2776,
            "count": 0
           },
           {
            "bin_end": 2872,
            "bin_start": 2824,
            "count": 0
           },
           {
            "bin_end": 2920,
            "bin_start": 2872,
            "count": 0
           },
           {
            "bin_end": 2968,
            "bin_start": 2920,
            "count": 0
           },
           {
            "bin_end": 3016,
            "bin_start": 2968,
            "count": 0
           },
           {
            "bin_end": 3064,
            "bin_start": 3016,
            "count": 0
           },
           {
            "bin_end": 3112,
            "bin_start": 3064,
            "count": 0
           },
           {
            "bin_end": 3160,
            "bin_start": 3112,
            "count": 0
           },
           {
            "bin_end": 3208,
            "bin_start": 3160,
            "count": 1
           }
          ],
          "max": "3208",
          "min": "2728",
          "nan_count": 0,
          "unique_count": 2
         }
        },
        {
         "dtype": "int64",
         "name": "1",
         "stats": {
          "histogram": [
           {
            "bin_end": 825.4,
            "bin_start": 825,
            "count": 1
           },
           {
            "bin_end": 825.8,
            "bin_start": 825.4,
            "count": 0
           },
           {
            "bin_end": 826.2,
            "bin_start": 825.8,
            "count": 0
           },
           {
            "bin_end": 826.6,
            "bin_start": 826.2,
            "count": 0
           },
           {
            "bin_end": 827,
            "bin_start": 826.6,
            "count": 0
           },
           {
            "bin_end": 827.4,
            "bin_start": 827,
            "count": 0
           },
           {
            "bin_end": 827.8,
            "bin_start": 827.4,
            "count": 0
           },
           {
            "bin_end": 828.2,
            "bin_start": 827.8,
            "count": 0
           },
           {
            "bin_end": 828.6,
            "bin_start": 828.2,
            "count": 0
           },
           {
            "bin_end": 829,
            "bin_start": 828.6,
            "count": 1
           }
          ],
          "max": "829",
          "min": "825",
          "nan_count": 0,
          "unique_count": 2
         }
        },
        {
         "dtype": "object",
         "name": "_deepnote_index_column"
        }
       ],
       "row_count": 2,
       "rows_bottom": null,
       "rows_top": [
        {
         "0": 3208,
         "1": 825,
         "_deepnote_index_column": "0"
        },
        {
         "0": 2728,
         "1": 829,
         "_deepnote_index_column": "1"
        }
       ]
      },
      "text/html": [
       "<div>\n",
       "<style scoped>\n",
       "    .dataframe tbody tr th:only-of-type {\n",
       "        vertical-align: middle;\n",
       "    }\n",
       "\n",
       "    .dataframe tbody tr th {\n",
       "        vertical-align: top;\n",
       "    }\n",
       "\n",
       "    .dataframe thead th {\n",
       "        text-align: right;\n",
       "    }\n",
       "</style>\n",
       "<table border=\"1\" class=\"dataframe\">\n",
       "  <thead>\n",
       "    <tr style=\"text-align: right;\">\n",
       "      <th></th>\n",
       "      <th>0</th>\n",
       "      <th>1</th>\n",
       "    </tr>\n",
       "  </thead>\n",
       "  <tbody>\n",
       "    <tr>\n",
       "      <th>0</th>\n",
       "      <td>3208</td>\n",
       "      <td>825</td>\n",
       "    </tr>\n",
       "    <tr>\n",
       "      <th>1</th>\n",
       "      <td>2728</td>\n",
       "      <td>829</td>\n",
       "    </tr>\n",
       "  </tbody>\n",
       "</table>\n",
       "</div>"
      ],
      "text/plain": [
       "      0    1\n",
       "0  3208  825\n",
       "1  2728  829"
      ]
     },
     "execution_count": 22,
     "metadata": {},
     "output_type": "execute_result"
    }
   ],
   "source": [
    "# Q19: Evaluate the performance using the classification report\n",
    "print(classification_report(Y_test_, Y_pred_lr_ridge_bal))\n",
    "conf_mat = confusion_matrix(Y_test_, Y_pred_lr_ridge_bal)\n",
    "conf_mat_df = pd.DataFrame(conf_mat, index = ['0', '1'], columns=['0', '1'])\n",
    "conf_mat_df"
   ]
  },
  {
   "cell_type": "code",
   "execution_count": 23,
   "metadata": {
    "cell_id": "00023-ba9a14dd-d457-442d-a93c-465a037309a6",
    "deepnote_cell_type": "code",
    "deepnote_to_be_reexecuted": false,
    "execution_millis": 34,
    "execution_start": 1622489043500,
    "source_hash": "5aec3f16",
    "tags": []
   },
   "outputs": [
    {
     "name": "stdout",
     "output_type": "stream",
     "text": [
      " Accuracy manual:  0.5318840579710145\n",
      " Precision manual:  0.5012091898428053\n",
      " Sensitivity manual:  0.23306156873770031\n"
     ]
    }
   ],
   "source": [
    "# Compute manually the accuracy, precision, \n",
    "# and sensitivity values from the confusion matrix\n",
    "acc_manual = (conf_mat_df.iloc[0,0]+conf_mat_df.iloc[1,1])/conf_mat_df.sum().sum()\n",
    "print(' Accuracy manual: ', acc_manual)\n",
    "prec_manual = conf_mat_df.iloc[1,1]/(conf_mat_df.iloc[1,1]+conf_mat_df.iloc[0,1])\n",
    "print(' Precision manual: ', prec_manual)\n",
    "sensitivity_manual = conf_mat_df.iloc[1,1]/(conf_mat_df.iloc[1,1]+conf_mat_df.iloc[1,0])\n",
    "print(' Sensitivity manual: ', sensitivity_manual)\n"
   ]
  },
  {
   "cell_type": "code",
   "execution_count": 24,
   "metadata": {
    "cell_id": "00025-71c4d500-c2db-4e79-9e7c-710f28408dd9",
    "deepnote_cell_type": "code",
    "deepnote_to_be_reexecuted": false,
    "execution_millis": 9,
    "execution_start": 1622489043527,
    "source_hash": "df939be4",
    "tags": []
   },
   "outputs": [
    {
     "data": {
      "text/plain": [
       "\"\\nQ20:\\nHave the results of the classification report at point 19 changed from the one at point 12? If yes, why?\\n\\nYes, there is no significant change in the precision but the recall (sensitivity) increaces from 0.0008 to 0.23.\\nThe reason behind this is that the large disparity between positives and negatives were adjusted by explicitly specifying the param \\nclass_weight = 'balanced' so that more negatives are detected\\n\\n\""
      ]
     },
     "execution_count": 24,
     "metadata": {},
     "output_type": "execute_result"
    }
   ],
   "source": [
    "\"\"\"\n",
    "Q20:\n",
    "Have the results of the classification report at point 19 changed from the one at point 12? If yes, why?\n",
    "\n",
    "Yes, there is no significant change in the precision but the recall (sensitivity) increaces from 0.0008 to 0.23.\n",
    "The reason behind this is that the large disparity between positives and negatives were adjusted by explicitly specifying the param \n",
    "class_weight = 'balanced' so that more negatives are detected\n",
    "\n",
    "\"\"\""
   ]
  },
  {
   "cell_type": "markdown",
   "metadata": {
    "created_in_deepnote_cell": true,
    "deepnote_cell_type": "markdown",
    "tags": []
   },
   "source": [
    "<a style='text-decoration:none;line-height:16px;display:flex;color:#5B5B62;padding:10px;justify-content:end;' href='https://deepnote.com?utm_source=created-in-deepnote-cell&projectId=26e61e51-8df2-4f94-b353-f6e5a84655c2' target=\"_blank\">\n",
    "<img alt='Created in deepnote.com' style='display:inline;max-height:16px;margin:0px;margin-right:7.5px;' src='data:image/svg+xml;base64,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' > </img>\n",
    "Created in <span style='font-weight:600;margin-left:4px;'>Deepnote</span></a>"
   ]
  }
 ],
 "metadata": {
  "deepnote": {
   "is_reactive": false
  },
  "deepnote_execution_queue": [],
  "deepnote_notebook_id": "e5949e53-1413-4760-bcc7-52c82392bf41",
  "language_info": {
   "name": "python"
  },
  "orig_nbformat": 2
 },
 "nbformat": 4,
 "nbformat_minor": 2
}
