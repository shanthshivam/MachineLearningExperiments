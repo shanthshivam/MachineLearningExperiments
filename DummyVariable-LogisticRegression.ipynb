{
 "cells": [
  {
   "cell_type": "markdown",
   "metadata": {
    "cell_id": "00000-4e61408e-a1ad-4bc1-9978-554a71d63a20",
    "deepnote_cell_type": "markdown"
   },
   "source": [
    "# Escaping Linearity - Dummy Variables - Logistic Regression\n",
    "\n",
    "The second assignment will tackle 3 crucial topics, 2 related to the manipulation fo the dataset, and 1 related to the **classification** problem. We will deal with two dataset.\n",
    "\n",
    "**Escaping the linearity**, feature that can be added to the dataset by creating new variables from non-linear relations of the variables already in the dataset, and the **dummy variables** conversion will be applied to the same dataset as the one used in the Tutorial 1 which tackles the linear regression problme. The **Logistic regression**, which has the scope to predict to which class (0 or 1) a specific individual/object belongs given certain features (predictors - X), will be applied to a different dataset.\n",
    "\n",
    "\n",
    "### Part A assignment 2\n",
    "We **want to predict the sale price of a house** using not only the features available but creating some new features given by the interaction of the ones already available, or by converting in numerical the categoriacal variables.\n",
    "\n",
    "In this case the dataset is still complete and do not require any manipulation in order to populate or delete missing valueus.\n",
    "\n",
    "Each group has to do the follwing: \n",
    "\n",
    "1. From sklearn.metrics import the following metrics to evaluate the models: mean squared error and r2-score.\n",
    "2. Using the comand **.select_dtypes(include=[#name])**, create a subset of the otiginal data which contains only the data recorded as int64 and float64. - The target is a float64, so it will be included in this subset. - NB get rid of the **Id** column.\n",
    "3. Compute the correlation matrix of the subset matrix created at step 2, select the colums which refers to **SalePrice** which contains how the variables correlates with the target and as predictors X select the top 10 variables. (the one with the highest correlation with SalePrice). Define the target variable Y as **SalePrice**.\n",
    "4. Split the data into training and test sample, fit the Linear Regression and compute the mean squared error (or the root mean squared error) and the R-squared on the test data.\n",
    "\n",
    "Using the X determined at point 3 do the following: \n",
    "\n",
    "5. **Escape linearity**: take the variables **GrLivArea**, **TotalBsmtSF**, **FullBath** from X, and by using the class **PolynomialFeature** create the non-linear combinations. You need to compute all the second order combinations. The option that needs to be specified are: **degree=2**, **interaction_only=False**, **include_bias=False**, and then use the **.fit_transform(Data_)** to compute all the elements. (guide can be found here: https://scikit-learn.org/stable/modules/generated/sklearn.preprocessing.PolynomialFeatures.html)\n",
    "6. Add the nonlinear interactions created at point X to the data selected at point 3 (the top 10 most correlated data with the target).\n",
    "7. Split the new dataset into training and test sample, fit the Linear Regression and compute the mean squared error (or the root mean squared error) and the R-squared on the test data.\n",
    "\n",
    "Using the X obtained at point 6 we now add some dummy variable to see if we are able to improve the performance:\n",
    "\n",
    "8. **Dummy variables**: from the original data imported (**house_data**), select the follwing three columns: BldgType, Street, SaleCondition and convert them into dummies by using the command **.get_dummies()** (NB: Remember to specify the option drop_first=True).\n",
    "9. Add the dummies to the data obtained at point 6\n",
    "10. Split the new dataset into training and test sample, fit the Linear Regression and compute the mean squared error (or the root mean squared error) and the R-squared on the test data.\n",
    "\n",
    "11. Which model has the best performances in the test sample?\n",
    "\n",
    "\n",
    "### Part B assignment 2\n",
    "\n",
    "The dataset used in this second part is different, because now we will takle a classification problem in which the target variable assumes only 2 possible values: 0 or 1, and it is no longer a continuos output.\n",
    "\n",
    "In the second part of the assignment we will work on data manipulation (how to populat the missings) and on the Logistic Regression. The Logistic Regression allows us to **classify**  if the individual, given some features, will obtain the loan (target=1) or will not obtain the loan (target=0). In the dataset there are multiple vairables related to the individuals, which are a little less than 40K, related to: amount of credit requested, annual income, number of children, type of job, etc...\n",
    "\n",
    "The dataset is not \"ready-to-go\" as in the Assignment 1, hence before fitting the Logistic regression you will need to manipulate the data in order to clean them. \n",
    "\n",
    "Each group has to do the following: \n",
    "\n",
    "1. From sklearn.metrics import the following metrics to evaluate the models: accuracy score, classification report.\n",
    "2. Check if there are missing. If there are missings how many missings there are in the dataset in total?\n",
    "3. If there are missings populate them using one of the methods we saw in the Tutorial 1 and **explain why you have decided to use such method**.\n",
    "4.  Using the comand **.select_dtypes(include=[#name])**, create a subset of original data which contains only the data recorded as int64 and float64. - The target is a int64, so it will be included in this subset.\n",
    "5. From the data obtained at point 4 (of part 2), create the matrix of the predictors X with: 'AMT_CREDIT', 'AMT_GOODS_PRICE', 'AMT_INCOME_TOTAL', 'CNT_CHILDREN', 'CNT_FAM_MEMBERS', 'DAYS_EMPLOYED', 'DAYS_LAST_PHONE_CHANGE', 'DAYS_REGISTRATION.  Define and isolate the target variable Y from the other predictors. (Its name in the original datast is **TARGET**.)\n",
    "6. Split the data into training and test sample.\n",
    "7. Fit the LogisticRegression parameters\n",
    "8. Produce the out sample predictions and evaluate the out of sample model performances using the accuracy_score function and the classification_report function. What can you say about the accuracy_score value? is it good or not?\n",
    "\n",
    "(Documentation details about the accuracy_score and the classification report can be found here: \n",
    "- https://scikit-learn.org/stable/modules/generated/sklearn.metrics.accuracy_score.html (accurcy_score)\n",
    "- https://scikit-learn.org/stable/modules/generated/sklearn.metrics.classification_report.html#sklearn.metrics.classification_report (classification_report)"
   ]
  },
  {
   "cell_type": "markdown",
   "metadata": {
    "cell_id": "00002-cfc569f1-a979-4fb6-bc3a-49b42e7c1c20",
    "deepnote_cell_type": "text-cell-h3",
    "tags": []
   },
   "source": [
    "### 1. From sklearn.metrics import the      following metrics to evaluate the models: mean squared error and r2-score."
   ]
  },
  {
   "cell_type": "code",
   "execution_count": null,
   "metadata": {
    "cell_id": "00001-5ca045be-173f-43c9-a09b-90852b6199d4",
    "deepnote_cell_type": "code",
    "deepnote_to_be_reexecuted": false,
    "execution_millis": 4395,
    "execution_start": 1621879881642,
    "source_hash": "76e1209f"
   },
   "outputs": [],
   "source": [
    "# Load the packages\n",
    "import pandas as pd\n",
    "import numpy as np\n",
    "from sklearn.linear_model import LinearRegression, LogisticRegression\n",
    "from sklearn.preprocessing import PolynomialFeatures\n",
    "from sklearn.model_selection import train_test_split\n",
    "from sklearn.metrics import mean_squared_error, r2_score\n",
    "\n",
    "import matplotlib.pyplot as plt\n",
    "import os"
   ]
  },
  {
   "cell_type": "markdown",
   "metadata": {
    "cell_id": "00002-0b216454-9fb6-4931-837d-60d1ffe0c40d",
    "deepnote_cell_type": "markdown"
   },
   "source": [
    "## Part A"
   ]
  },
  {
   "cell_type": "code",
   "execution_count": null,
   "metadata": {
    "cell_id": "00003-0365105b-24e1-4429-be5d-d7980c5d44bc",
    "deepnote_cell_type": "code",
    "deepnote_to_be_reexecuted": false,
    "execution_millis": 603,
    "execution_start": 1621879886041,
    "source_hash": "8d86481a"
   },
   "outputs": [
    {
     "data": {
      "application/vnd.deepnote.dataframe.v2+json": {
       "column_count": 81,
       "columns": [
        {
         "dtype": "int64",
         "name": "Id",
         "stats": {
          "histogram": [
           {
            "bin_end": 1.4,
            "bin_start": 1,
            "count": 1
           },
           {
            "bin_end": 1.8,
            "bin_start": 1.4,
            "count": 0
           },
           {
            "bin_end": 2.2,
            "bin_start": 1.8,
            "count": 1
           },
           {
            "bin_end": 2.6,
            "bin_start": 2.2,
            "count": 0
           },
           {
            "bin_end": 3,
            "bin_start": 2.6,
            "count": 0
           },
           {
            "bin_end": 3.4000000000000004,
            "bin_start": 3,
            "count": 1
           },
           {
            "bin_end": 3.8000000000000003,
            "bin_start": 3.4000000000000004,
            "count": 0
           },
           {
            "bin_end": 4.2,
            "bin_start": 3.8000000000000003,
            "count": 1
           },
           {
            "bin_end": 4.6,
            "bin_start": 4.2,
            "count": 0
           },
           {
            "bin_end": 5,
            "bin_start": 4.6,
            "count": 1
           }
          ],
          "max": "5",
          "min": "1",
          "nan_count": 0,
          "unique_count": 5
         }
        },
        {
         "dtype": "int64",
         "name": "MSSubClass",
         "stats": {
          "histogram": [
           {
            "bin_end": 25,
            "bin_start": 20,
            "count": 1
           },
           {
            "bin_end": 30,
            "bin_start": 25,
            "count": 0
           },
           {
            "bin_end": 35,
            "bin_start": 30,
            "count": 0
           },
           {
            "bin_end": 40,
            "bin_start": 35,
            "count": 0
           },
           {
            "bin_end": 45,
            "bin_start": 40,
            "count": 0
           },
           {
            "bin_end": 50,
            "bin_start": 45,
            "count": 0
           },
           {
            "bin_end": 55,
            "bin_start": 50,
            "count": 0
           },
           {
            "bin_end": 60,
            "bin_start": 55,
            "count": 0
           },
           {
            "bin_end": 65,
            "bin_start": 60,
            "count": 3
           },
           {
            "bin_end": 70,
            "bin_start": 65,
            "count": 1
           }
          ],
          "max": "70",
          "min": "20",
          "nan_count": 0,
          "unique_count": 3
         }
        },
        {
         "dtype": "object",
         "name": "MSZoning",
         "stats": {
          "categories": [
           {
            "count": 5,
            "name": "RL"
           }
          ],
          "nan_count": 0,
          "unique_count": 1
         }
        },
        {
         "dtype": "float64",
         "name": "LotFrontage",
         "stats": {
          "histogram": [
           {
            "bin_end": 62.4,
            "bin_start": 60,
            "count": 1
           },
           {
            "bin_end": 64.8,
            "bin_start": 62.4,
            "count": 0
           },
           {
            "bin_end": 67.2,
            "bin_start": 64.8,
            "count": 1
           },
           {
            "bin_end": 69.6,
            "bin_start": 67.2,
            "count": 1
           },
           {
            "bin_end": 72,
            "bin_start": 69.6,
            "count": 0
           },
           {
            "bin_end": 74.4,
            "bin_start": 72,
            "count": 0
           },
           {
            "bin_end": 76.8,
            "bin_start": 74.4,
            "count": 0
           },
           {
            "bin_end": 79.2,
            "bin_start": 76.8,
            "count": 0
           },
           {
            "bin_end": 81.6,
            "bin_start": 79.2,
            "count": 1
           },
           {
            "bin_end": 84,
            "bin_start": 81.6,
            "count": 1
           }
          ],
          "max": "84.0",
          "min": "60.0",
          "nan_count": 0,
          "unique_count": 5
         }
        },
        {
         "dtype": "int64",
         "name": "LotArea",
         "stats": {
          "histogram": [
           {
            "bin_end": 9031,
            "bin_start": 8450,
            "count": 1
           },
           {
            "bin_end": 9612,
            "bin_start": 9031,
            "count": 2
           },
           {
            "bin_end": 10193,
            "bin_start": 9612,
            "count": 0
           },
           {
            "bin_end": 10774,
            "bin_start": 10193,
            "count": 0
           },
           {
            "bin_end": 11355,
            "bin_start": 10774,
            "count": 1
           },
           {
            "bin_end": 11936,
            "bin_start": 11355,
            "count": 0
           },
           {
            "bin_end": 12517,
            "bin_start": 11936,
            "count": 0
           },
           {
            "bin_end": 13098,
            "bin_start": 12517,
            "count": 0
           },
           {
            "bin_end": 13679,
            "bin_start": 13098,
            "count": 0
           },
           {
            "bin_end": 14260,
            "bin_start": 13679,
            "count": 1
           }
          ],
          "max": "14260",
          "min": "8450",
          "nan_count": 0,
          "unique_count": 5
         }
        },
        {
         "dtype": "object",
         "name": "Street",
         "stats": {
          "categories": [
           {
            "count": 5,
            "name": "Pave"
           }
          ],
          "nan_count": 0,
          "unique_count": 1
         }
        },
        {
         "dtype": "object",
         "name": "Alley",
         "stats": {
          "categories": [
           {
            "count": 5,
            "name": "Missing"
           }
          ],
          "nan_count": 5,
          "unique_count": 0
         }
        },
        {
         "dtype": "object",
         "name": "LotShape",
         "stats": {
          "categories": [
           {
            "count": 3,
            "name": "IR1"
           },
           {
            "count": 2,
            "name": "Reg"
           }
          ],
          "nan_count": 0,
          "unique_count": 2
         }
        },
        {
         "dtype": "object",
         "name": "LandContour",
         "stats": {
          "categories": [
           {
            "count": 5,
            "name": "Lvl"
           }
          ],
          "nan_count": 0,
          "unique_count": 1
         }
        },
        {
         "dtype": "object",
         "name": "Utilities",
         "stats": {
          "categories": [
           {
            "count": 5,
            "name": "AllPub"
           }
          ],
          "nan_count": 0,
          "unique_count": 1
         }
        },
        {
         "dtype": "object",
         "name": "LotConfig",
         "stats": {
          "categories": [
           {
            "count": 2,
            "name": "Inside"
           },
           {
            "count": 2,
            "name": "FR2"
           },
           {
            "count": 1,
            "name": "Corner"
           }
          ],
          "nan_count": 0,
          "unique_count": 3
         }
        },
        {
         "dtype": "object",
         "name": "LandSlope",
         "stats": {
          "categories": [
           {
            "count": 5,
            "name": "Gtl"
           }
          ],
          "nan_count": 0,
          "unique_count": 1
         }
        },
        {
         "dtype": "object",
         "name": "Neighborhood",
         "stats": {
          "categories": [
           {
            "count": 2,
            "name": "CollgCr"
           },
           {
            "count": 1,
            "name": "Veenker"
           },
           {
            "count": 2,
            "name": "2 others"
           }
          ],
          "nan_count": 0,
          "unique_count": 4
         }
        },
        {
         "dtype": "object",
         "name": "Condition1",
         "stats": {
          "categories": [
           {
            "count": 4,
            "name": "Norm"
           },
           {
            "count": 1,
            "name": "Feedr"
           }
          ],
          "nan_count": 0,
          "unique_count": 2
         }
        },
        {
         "dtype": "object",
         "name": "Condition2",
         "stats": {
          "categories": [
           {
            "count": 5,
            "name": "Norm"
           }
          ],
          "nan_count": 0,
          "unique_count": 1
         }
        },
        {
         "dtype": "object",
         "name": "BldgType",
         "stats": {
          "categories": [
           {
            "count": 5,
            "name": "1Fam"
           }
          ],
          "nan_count": 0,
          "unique_count": 1
         }
        },
        {
         "dtype": "object",
         "name": "HouseStyle",
         "stats": {
          "categories": [
           {
            "count": 4,
            "name": "2Story"
           },
           {
            "count": 1,
            "name": "1Story"
           }
          ],
          "nan_count": 0,
          "unique_count": 2
         }
        },
        {
         "dtype": "int64",
         "name": "OverallQual",
         "stats": {
          "histogram": [
           {
            "bin_end": 6.2,
            "bin_start": 6,
            "count": 1
           },
           {
            "bin_end": 6.4,
            "bin_start": 6.2,
            "count": 0
           },
           {
            "bin_end": 6.6,
            "bin_start": 6.4,
            "count": 0
           },
           {
            "bin_end": 6.8,
            "bin_start": 6.6,
            "count": 0
           },
           {
            "bin_end": 7,
            "bin_start": 6.8,
            "count": 0
           },
           {
            "bin_end": 7.2,
            "bin_start": 7,
            "count": 3
           },
           {
            "bin_end": 7.4,
            "bin_start": 7.2,
            "count": 0
           },
           {
            "bin_end": 7.6,
            "bin_start": 7.4,
            "count": 0
           },
           {
            "bin_end": 7.8,
            "bin_start": 7.6,
            "count": 0
           },
           {
            "bin_end": 8,
            "bin_start": 7.8,
            "count": 1
           }
          ],
          "max": "8",
          "min": "6",
          "nan_count": 0,
          "unique_count": 3
         }
        },
        {
         "dtype": "int64",
         "name": "OverallCond",
         "stats": {
          "histogram": [
           {
            "bin_end": 5.3,
            "bin_start": 5,
            "count": 4
           },
           {
            "bin_end": 5.6,
            "bin_start": 5.3,
            "count": 0
           },
           {
            "bin_end": 5.9,
            "bin_start": 5.6,
            "count": 0
           },
           {
            "bin_end": 6.2,
            "bin_start": 5.9,
            "count": 0
           },
           {
            "bin_end": 6.5,
            "bin_start": 6.2,
            "count": 0
           },
           {
            "bin_end": 6.8,
            "bin_start": 6.5,
            "count": 0
           },
           {
            "bin_end": 7.1,
            "bin_start": 6.8,
            "count": 0
           },
           {
            "bin_end": 7.4,
            "bin_start": 7.1,
            "count": 0
           },
           {
            "bin_end": 7.699999999999999,
            "bin_start": 7.4,
            "count": 0
           },
           {
            "bin_end": 8,
            "bin_start": 7.699999999999999,
            "count": 1
           }
          ],
          "max": "8",
          "min": "5",
          "nan_count": 0,
          "unique_count": 2
         }
        },
        {
         "dtype": "int64",
         "name": "YearBuilt",
         "stats": {
          "histogram": [
           {
            "bin_end": 1923.8,
            "bin_start": 1915,
            "count": 1
           },
           {
            "bin_end": 1932.6,
            "bin_start": 1923.8,
            "count": 0
           },
           {
            "bin_end": 1941.4,
            "bin_start": 1932.6,
            "count": 0
           },
           {
            "bin_end": 1950.2,
            "bin_start": 1941.4,
            "count": 0
           },
           {
            "bin_end": 1959,
            "bin_start": 1950.2,
            "count": 0
           },
           {
            "bin_end": 1967.8,
            "bin_start": 1959,
            "count": 0
           },
           {
            "bin_end": 1976.6,
            "bin_start": 1967.8,
            "count": 1
           },
           {
            "bin_end": 1985.4,
            "bin_start": 1976.6,
            "count": 0
           },
           {
            "bin_end": 1994.2,
            "bin_start": 1985.4,
            "count": 0
           },
           {
            "bin_end": 2003,
            "bin_start": 1994.2,
            "count": 3
           }
          ],
          "max": "2003",
          "min": "1915",
          "nan_count": 0,
          "unique_count": 5
         }
        },
        {
         "dtype": "int64",
         "name": "YearRemodAdd",
         "stats": {
          "histogram": [
           {
            "bin_end": 1973.3,
            "bin_start": 1970,
            "count": 1
           },
           {
            "bin_end": 1976.6,
            "bin_start": 1973.3,
            "count": 1
           },
           {
            "bin_end": 1979.9,
            "bin_start": 1976.6,
            "count": 0
           },
           {
            "bin_end": 1983.2,
            "bin_start": 1979.9,
            "count": 0
           },
           {
            "bin_end": 1986.5,
            "bin_start": 1983.2,
            "count": 0
           },
           {
            "bin_end": 1989.8,
            "bin_start": 1986.5,
            "count": 0
           },
           {
            "bin_end": 1993.1,
            "bin_start": 1989.8,
            "count": 0
           },
           {
            "bin_end": 1996.4,
            "bin_start": 1993.1,
            "count": 0
           },
           {
            "bin_end": 1999.7,
            "bin_start": 1996.4,
            "count": 0
           },
           {
            "bin_end": 2003,
            "bin_start": 1999.7,
            "count": 3
           }
          ],
          "max": "2003",
          "min": "1970",
          "nan_count": 0,
          "unique_count": 5
         }
        },
        {
         "dtype": "object",
         "name": "RoofStyle",
         "stats": {
          "categories": [
           {
            "count": 5,
            "name": "Gable"
           }
          ],
          "nan_count": 0,
          "unique_count": 1
         }
        },
        {
         "dtype": "object",
         "name": "RoofMatl",
         "stats": {
          "categories": [
           {
            "count": 5,
            "name": "CompShg"
           }
          ],
          "nan_count": 0,
          "unique_count": 1
         }
        },
        {
         "dtype": "object",
         "name": "Exterior1st",
         "stats": {
          "categories": [
           {
            "count": 3,
            "name": "VinylSd"
           },
           {
            "count": 1,
            "name": "MetalSd"
           },
           {
            "count": 1,
            "name": "Wd Sdng"
           }
          ],
          "nan_count": 0,
          "unique_count": 3
         }
        },
        {
         "dtype": "object",
         "name": "Exterior2nd",
         "stats": {
          "categories": [
           {
            "count": 3,
            "name": "VinylSd"
           },
           {
            "count": 1,
            "name": "MetalSd"
           },
           {
            "count": 1,
            "name": "Wd Shng"
           }
          ],
          "nan_count": 0,
          "unique_count": 3
         }
        },
        {
         "dtype": "object",
         "name": "MasVnrType",
         "stats": {
          "categories": [
           {
            "count": 3,
            "name": "BrkFace"
           },
           {
            "count": 2,
            "name": "None"
           }
          ],
          "nan_count": 0,
          "unique_count": 2
         }
        },
        {
         "dtype": "float64",
         "name": "MasVnrArea",
         "stats": {
          "histogram": [
           {
            "bin_end": 35,
            "bin_start": 0,
            "count": 2
           },
           {
            "bin_end": 70,
            "bin_start": 35,
            "count": 0
           },
           {
            "bin_end": 105,
            "bin_start": 70,
            "count": 0
           },
           {
            "bin_end": 140,
            "bin_start": 105,
            "count": 0
           },
           {
            "bin_end": 175,
            "bin_start": 140,
            "count": 1
           },
           {
            "bin_end": 210,
            "bin_start": 175,
            "count": 1
           },
           {
            "bin_end": 245,
            "bin_start": 210,
            "count": 0
           },
           {
            "bin_end": 280,
            "bin_start": 245,
            "count": 0
           },
           {
            "bin_end": 315,
            "bin_start": 280,
            "count": 0
           },
           {
            "bin_end": 350,
            "bin_start": 315,
            "count": 1
           }
          ],
          "max": "350.0",
          "min": "0.0",
          "nan_count": 0,
          "unique_count": 4
         }
        },
        {
         "dtype": "object",
         "name": "ExterQual",
         "stats": {
          "categories": [
           {
            "count": 3,
            "name": "Gd"
           },
           {
            "count": 2,
            "name": "TA"
           }
          ],
          "nan_count": 0,
          "unique_count": 2
         }
        },
        {
         "dtype": "object",
         "name": "ExterCond",
         "stats": {
          "categories": [
           {
            "count": 5,
            "name": "TA"
           }
          ],
          "nan_count": 0,
          "unique_count": 1
         }
        },
        {
         "dtype": "object",
         "name": "Foundation",
         "stats": {
          "categories": [
           {
            "count": 3,
            "name": "PConc"
           },
           {
            "count": 1,
            "name": "CBlock"
           },
           {
            "count": 1,
            "name": "BrkTil"
           }
          ],
          "nan_count": 0,
          "unique_count": 3
         }
        },
        {
         "dtype": "object",
         "name": "BsmtQual",
         "stats": {
          "categories": [
           {
            "count": 4,
            "name": "Gd"
           },
           {
            "count": 1,
            "name": "TA"
           }
          ],
          "nan_count": 0,
          "unique_count": 2
         }
        },
        {
         "dtype": "object",
         "name": "BsmtCond",
         "stats": {
          "categories": [
           {
            "count": 4,
            "name": "TA"
           },
           {
            "count": 1,
            "name": "Gd"
           }
          ],
          "nan_count": 0,
          "unique_count": 2
         }
        },
        {
         "dtype": "object",
         "name": "BsmtExposure",
         "stats": {
          "categories": [
           {
            "count": 2,
            "name": "No"
           },
           {
            "count": 1,
            "name": "Gd"
           },
           {
            "count": 2,
            "name": "2 others"
           }
          ],
          "nan_count": 0,
          "unique_count": 4
         }
        },
        {
         "dtype": "object",
         "name": "BsmtFinType1",
         "stats": {
          "categories": [
           {
            "count": 3,
            "name": "GLQ"
           },
           {
            "count": 2,
            "name": "ALQ"
           }
          ],
          "nan_count": 0,
          "unique_count": 2
         }
        },
        {
         "dtype": "int64",
         "name": "BsmtFinSF1",
         "stats": {
          "histogram": [
           {
            "bin_end": 292.2,
            "bin_start": 216,
            "count": 1
           },
           {
            "bin_end": 368.4,
            "bin_start": 292.2,
            "count": 0
           },
           {
            "bin_end": 444.6,
            "bin_start": 368.4,
            "count": 0
           },
           {
            "bin_end": 520.8,
            "bin_start": 444.6,
            "count": 1
           },
           {
            "bin_end": 597,
            "bin_start": 520.8,
            "count": 0
           },
           {
            "bin_end": 673.2,
            "bin_start": 597,
            "count": 1
           },
           {
            "bin_end": 749.4,
            "bin_start": 673.2,
            "count": 1
           },
           {
            "bin_end": 825.6,
            "bin_start": 749.4,
            "count": 0
           },
           {
            "bin_end": 901.8000000000001,
            "bin_start": 825.6,
            "count": 0
           },
           {
            "bin_end": 978,
            "bin_start": 901.8000000000001,
            "count": 1
           }
          ],
          "max": "978",
          "min": "216",
          "nan_count": 0,
          "unique_count": 5
         }
        },
        {
         "dtype": "object",
         "name": "BsmtFinType2",
         "stats": {
          "categories": [
           {
            "count": 5,
            "name": "Unf"
           }
          ],
          "nan_count": 0,
          "unique_count": 1
         }
        },
        {
         "dtype": "int64",
         "name": "BsmtFinSF2",
         "stats": {
          "histogram": [
           {
            "bin_end": -0.4,
            "bin_start": -0.5,
            "count": 0
           },
           {
            "bin_end": -0.3,
            "bin_start": -0.4,
            "count": 0
           },
           {
            "bin_end": -0.19999999999999996,
            "bin_start": -0.3,
            "count": 0
           },
           {
            "bin_end": -0.09999999999999998,
            "bin_start": -0.19999999999999996,
            "count": 0
           },
           {
            "bin_end": 0,
            "bin_start": -0.09999999999999998,
            "count": 0
           },
           {
            "bin_end": 0.10000000000000009,
            "bin_start": 0,
            "count": 5
           },
           {
            "bin_end": 0.20000000000000007,
            "bin_start": 0.10000000000000009,
            "count": 0
           },
           {
            "bin_end": 0.30000000000000004,
            "bin_start": 0.20000000000000007,
            "count": 0
           },
           {
            "bin_end": 0.4,
            "bin_start": 0.30000000000000004,
            "count": 0
           },
           {
            "bin_end": 0.5,
            "bin_start": 0.4,
            "count": 0
           }
          ],
          "max": "0",
          "min": "0",
          "nan_count": 0,
          "unique_count": 1
         }
        },
        {
         "dtype": "int64",
         "name": "BsmtUnfSF",
         "stats": {
          "histogram": [
           {
            "bin_end": 189,
            "bin_start": 150,
            "count": 1
           },
           {
            "bin_end": 228,
            "bin_start": 189,
            "count": 0
           },
           {
            "bin_end": 267,
            "bin_start": 228,
            "count": 0
           },
           {
            "bin_end": 306,
            "bin_start": 267,
            "count": 1
           },
           {
            "bin_end": 345,
            "bin_start": 306,
            "count": 0
           },
           {
            "bin_end": 384,
            "bin_start": 345,
            "count": 0
           },
           {
            "bin_end": 423,
            "bin_start": 384,
            "count": 0
           },
           {
            "bin_end": 462,
            "bin_start": 423,
            "count": 1
           },
           {
            "bin_end": 501,
            "bin_start": 462,
            "count": 1
           },
           {
            "bin_end": 540,
            "bin_start": 501,
            "count": 1
           }
          ],
          "max": "540",
          "min": "150",
          "nan_count": 0,
          "unique_count": 5
         }
        },
        {
         "dtype": "int64",
         "name": "TotalBsmtSF",
         "stats": {
          "histogram": [
           {
            "bin_end": 806.6,
            "bin_start": 756,
            "count": 1
           },
           {
            "bin_end": 857.2,
            "bin_start": 806.6,
            "count": 1
           },
           {
            "bin_end": 907.8,
            "bin_start": 857.2,
            "count": 0
           },
           {
            "bin_end": 958.4,
            "bin_start": 907.8,
            "count": 1
           },
           {
            "bin_end": 1009,
            "bin_start": 958.4,
            "count": 0
           },
           {
            "bin_end": 1059.6,
            "bin_start": 1009,
            "count": 0
           },
           {
            "bin_end": 1110.2,
            "bin_start": 1059.6,
            "count": 0
           },
           {
            "bin_end": 1160.8,
            "bin_start": 1110.2,
            "count": 1
           },
           {
            "bin_end": 1211.4,
            "bin_start": 1160.8,
            "count": 0
           },
           {
            "bin_end": 1262,
            "bin_start": 1211.4,
            "count": 1
           }
          ],
          "max": "1262",
          "min": "756",
          "nan_count": 0,
          "unique_count": 5
         }
        },
        {
         "dtype": "object",
         "name": "Heating",
         "stats": {
          "categories": [
           {
            "count": 5,
            "name": "GasA"
           }
          ],
          "nan_count": 0,
          "unique_count": 1
         }
        },
        {
         "dtype": "object",
         "name": "HeatingQC",
         "stats": {
          "categories": [
           {
            "count": 4,
            "name": "Ex"
           },
           {
            "count": 1,
            "name": "Gd"
           }
          ],
          "nan_count": 0,
          "unique_count": 2
         }
        },
        {
         "dtype": "object",
         "name": "CentralAir",
         "stats": {
          "categories": [
           {
            "count": 5,
            "name": "Y"
           }
          ],
          "nan_count": 0,
          "unique_count": 1
         }
        },
        {
         "dtype": "object",
         "name": "Electrical",
         "stats": {
          "categories": [
           {
            "count": 5,
            "name": "SBrkr"
           }
          ],
          "nan_count": 0,
          "unique_count": 1
         }
        },
        {
         "dtype": "int64",
         "name": "1stFlrSF",
         "stats": {
          "histogram": [
           {
            "bin_end": 896.6,
            "bin_start": 856,
            "count": 1
           },
           {
            "bin_end": 937.2,
            "bin_start": 896.6,
            "count": 1
           },
           {
            "bin_end": 977.8,
            "bin_start": 937.2,
            "count": 1
           },
           {
            "bin_end": 1018.4,
            "bin_start": 977.8,
            "count": 0
           },
           {
            "bin_end": 1059,
            "bin_start": 1018.4,
            "count": 0
           },
           {
            "bin_end": 1099.6,
            "bin_start": 1059,
            "count": 0
           },
           {
            "bin_end": 1140.2,
            "bin_start": 1099.6,
            "count": 0
           },
           {
            "bin_end": 1180.8,
            "bin_start": 1140.2,
            "count": 1
           },
           {
            "bin_end": 1221.4,
            "bin_start": 1180.8,
            "count": 0
           },
           {
            "bin_end": 1262,
            "bin_start": 1221.4,
            "count": 1
           }
          ],
          "max": "1262",
          "min": "856",
          "nan_count": 0,
          "unique_count": 5
         }
        },
        {
         "dtype": "int64",
         "name": "2ndFlrSF",
         "stats": {
          "histogram": [
           {
            "bin_end": 105.3,
            "bin_start": 0,
            "count": 1
           },
           {
            "bin_end": 210.6,
            "bin_start": 105.3,
            "count": 0
           },
           {
            "bin_end": 315.9,
            "bin_start": 210.6,
            "count": 0
           },
           {
            "bin_end": 421.2,
            "bin_start": 315.9,
            "count": 0
           },
           {
            "bin_end": 526.5,
            "bin_start": 421.2,
            "count": 0
           },
           {
            "bin_end": 631.8,
            "bin_start": 526.5,
            "count": 0
           },
           {
            "bin_end": 737.1,
            "bin_start": 631.8,
            "count": 0
           },
           {
            "bin_end": 842.4,
            "bin_start": 737.1,
            "count": 1
           },
           {
            "bin_end": 947.6999999999999,
            "bin_start": 842.4,
            "count": 2
           },
           {
            "bin_end": 1053,
            "bin_start": 947.6999999999999,
            "count": 1
           }
          ],
          "max": "1053",
          "min": "0",
          "nan_count": 0,
          "unique_count": 5
         }
        },
        {
         "dtype": "int64",
         "name": "LowQualFinSF",
         "stats": {
          "histogram": [
           {
            "bin_end": -0.4,
            "bin_start": -0.5,
            "count": 0
           },
           {
            "bin_end": -0.3,
            "bin_start": -0.4,
            "count": 0
           },
           {
            "bin_end": -0.19999999999999996,
            "bin_start": -0.3,
            "count": 0
           },
           {
            "bin_end": -0.09999999999999998,
            "bin_start": -0.19999999999999996,
            "count": 0
           },
           {
            "bin_end": 0,
            "bin_start": -0.09999999999999998,
            "count": 0
           },
           {
            "bin_end": 0.10000000000000009,
            "bin_start": 0,
            "count": 5
           },
           {
            "bin_end": 0.20000000000000007,
            "bin_start": 0.10000000000000009,
            "count": 0
           },
           {
            "bin_end": 0.30000000000000004,
            "bin_start": 0.20000000000000007,
            "count": 0
           },
           {
            "bin_end": 0.4,
            "bin_start": 0.30000000000000004,
            "count": 0
           },
           {
            "bin_end": 0.5,
            "bin_start": 0.4,
            "count": 0
           }
          ],
          "max": "0",
          "min": "0",
          "nan_count": 0,
          "unique_count": 1
         }
        },
        {
         "dtype": "int64",
         "name": "GrLivArea",
         "stats": {
          "histogram": [
           {
            "bin_end": 1355.6,
            "bin_start": 1262,
            "count": 1
           },
           {
            "bin_end": 1449.2,
            "bin_start": 1355.6,
            "count": 0
           },
           {
            "bin_end": 1542.8,
            "bin_start": 1449.2,
            "count": 0
           },
           {
            "bin_end": 1636.4,
            "bin_start": 1542.8,
            "count": 0
           },
           {
            "bin_end": 1730,
            "bin_start": 1636.4,
            "count": 2
           },
           {
            "bin_end": 1823.6,
            "bin_start": 1730,
            "count": 1
           },
           {
            "bin_end": 1917.1999999999998,
            "bin_start": 1823.6,
            "count": 0
           },
           {
            "bin_end": 2010.8,
            "bin_start": 1917.1999999999998,
            "count": 0
           },
           {
            "bin_end": 2104.4,
            "bin_start": 2010.8,
            "count": 0
           },
           {
            "bin_end": 2198,
            "bin_start": 2104.4,
            "count": 1
           }
          ],
          "max": "2198",
          "min": "1262",
          "nan_count": 0,
          "unique_count": 5
         }
        },
        {
         "dtype": "int64",
         "name": "BsmtFullBath",
         "stats": {
          "histogram": [
           {
            "bin_end": 0.1,
            "bin_start": 0,
            "count": 1
           },
           {
            "bin_end": 0.2,
            "bin_start": 0.1,
            "count": 0
           },
           {
            "bin_end": 0.30000000000000004,
            "bin_start": 0.2,
            "count": 0
           },
           {
            "bin_end": 0.4,
            "bin_start": 0.30000000000000004,
            "count": 0
           },
           {
            "bin_end": 0.5,
            "bin_start": 0.4,
            "count": 0
           },
           {
            "bin_end": 0.6000000000000001,
            "bin_start": 0.5,
            "count": 0
           },
           {
            "bin_end": 0.7000000000000001,
            "bin_start": 0.6000000000000001,
            "count": 0
           },
           {
            "bin_end": 0.8,
            "bin_start": 0.7000000000000001,
            "count": 0
           },
           {
            "bin_end": 0.9,
            "bin_start": 0.8,
            "count": 0
           },
           {
            "bin_end": 1,
            "bin_start": 0.9,
            "count": 4
           }
          ],
          "max": "1",
          "min": "0",
          "nan_count": 0,
          "unique_count": 2
         }
        },
        {
         "dtype": "int64",
         "name": "BsmtHalfBath",
         "stats": {
          "histogram": [
           {
            "bin_end": 0.1,
            "bin_start": 0,
            "count": 4
           },
           {
            "bin_end": 0.2,
            "bin_start": 0.1,
            "count": 0
           },
           {
            "bin_end": 0.30000000000000004,
            "bin_start": 0.2,
            "count": 0
           },
           {
            "bin_end": 0.4,
            "bin_start": 0.30000000000000004,
            "count": 0
           },
           {
            "bin_end": 0.5,
            "bin_start": 0.4,
            "count": 0
           },
           {
            "bin_end": 0.6000000000000001,
            "bin_start": 0.5,
            "count": 0
           },
           {
            "bin_end": 0.7000000000000001,
            "bin_start": 0.6000000000000001,
            "count": 0
           },
           {
            "bin_end": 0.8,
            "bin_start": 0.7000000000000001,
            "count": 0
           },
           {
            "bin_end": 0.9,
            "bin_start": 0.8,
            "count": 0
           },
           {
            "bin_end": 1,
            "bin_start": 0.9,
            "count": 1
           }
          ],
          "max": "1",
          "min": "0",
          "nan_count": 0,
          "unique_count": 2
         }
        },
        {
         "dtype": "int64",
         "name": "FullBath",
         "stats": {
          "histogram": [
           {
            "bin_end": 1.1,
            "bin_start": 1,
            "count": 1
           },
           {
            "bin_end": 1.2,
            "bin_start": 1.1,
            "count": 0
           },
           {
            "bin_end": 1.3,
            "bin_start": 1.2,
            "count": 0
           },
           {
            "bin_end": 1.4,
            "bin_start": 1.3,
            "count": 0
           },
           {
            "bin_end": 1.5,
            "bin_start": 1.4,
            "count": 0
           },
           {
            "bin_end": 1.6,
            "bin_start": 1.5,
            "count": 0
           },
           {
            "bin_end": 1.7000000000000002,
            "bin_start": 1.6,
            "count": 0
           },
           {
            "bin_end": 1.8,
            "bin_start": 1.7000000000000002,
            "count": 0
           },
           {
            "bin_end": 1.9,
            "bin_start": 1.8,
            "count": 0
           },
           {
            "bin_end": 2,
            "bin_start": 1.9,
            "count": 4
           }
          ],
          "max": "2",
          "min": "1",
          "nan_count": 0,
          "unique_count": 2
         }
        },
        {
         "dtype": "int64",
         "name": "HalfBath",
         "stats": {
          "histogram": [
           {
            "bin_end": 0.1,
            "bin_start": 0,
            "count": 2
           },
           {
            "bin_end": 0.2,
            "bin_start": 0.1,
            "count": 0
           },
           {
            "bin_end": 0.30000000000000004,
            "bin_start": 0.2,
            "count": 0
           },
           {
            "bin_end": 0.4,
            "bin_start": 0.30000000000000004,
            "count": 0
           },
           {
            "bin_end": 0.5,
            "bin_start": 0.4,
            "count": 0
           },
           {
            "bin_end": 0.6000000000000001,
            "bin_start": 0.5,
            "count": 0
           },
           {
            "bin_end": 0.7000000000000001,
            "bin_start": 0.6000000000000001,
            "count": 0
           },
           {
            "bin_end": 0.8,
            "bin_start": 0.7000000000000001,
            "count": 0
           },
           {
            "bin_end": 0.9,
            "bin_start": 0.8,
            "count": 0
           },
           {
            "bin_end": 1,
            "bin_start": 0.9,
            "count": 3
           }
          ],
          "max": "1",
          "min": "0",
          "nan_count": 0,
          "unique_count": 2
         }
        },
        {
         "dtype": "int64",
         "name": "BedroomAbvGr",
         "stats": {
          "histogram": [
           {
            "bin_end": 3.1,
            "bin_start": 3,
            "count": 4
           },
           {
            "bin_end": 3.2,
            "bin_start": 3.1,
            "count": 0
           },
           {
            "bin_end": 3.3,
            "bin_start": 3.2,
            "count": 0
           },
           {
            "bin_end": 3.4,
            "bin_start": 3.3,
            "count": 0
           },
           {
            "bin_end": 3.5,
            "bin_start": 3.4,
            "count": 0
           },
           {
            "bin_end": 3.6,
            "bin_start": 3.5,
            "count": 0
           },
           {
            "bin_end": 3.7,
            "bin_start": 3.6,
            "count": 0
           },
           {
            "bin_end": 3.8,
            "bin_start": 3.7,
            "count": 0
           },
           {
            "bin_end": 3.9,
            "bin_start": 3.8,
            "count": 0
           },
           {
            "bin_end": 4,
            "bin_start": 3.9,
            "count": 1
           }
          ],
          "max": "4",
          "min": "3",
          "nan_count": 0,
          "unique_count": 2
         }
        },
        {
         "dtype": "int64",
         "name": "KitchenAbvGr",
         "stats": {
          "histogram": [
           {
            "bin_end": 0.6,
            "bin_start": 0.5,
            "count": 0
           },
           {
            "bin_end": 0.7,
            "bin_start": 0.6,
            "count": 0
           },
           {
            "bin_end": 0.8,
            "bin_start": 0.7,
            "count": 0
           },
           {
            "bin_end": 0.9,
            "bin_start": 0.8,
            "count": 0
           },
           {
            "bin_end": 1,
            "bin_start": 0.9,
            "count": 0
           },
           {
            "bin_end": 1.1,
            "bin_start": 1,
            "count": 5
           },
           {
            "bin_end": 1.2000000000000002,
            "bin_start": 1.1,
            "count": 0
           },
           {
            "bin_end": 1.3,
            "bin_start": 1.2000000000000002,
            "count": 0
           },
           {
            "bin_end": 1.4,
            "bin_start": 1.3,
            "count": 0
           },
           {
            "bin_end": 1.5,
            "bin_start": 1.4,
            "count": 0
           }
          ],
          "max": "1",
          "min": "1",
          "nan_count": 0,
          "unique_count": 1
         }
        },
        {
         "dtype": "object",
         "name": "KitchenQual",
         "stats": {
          "categories": [
           {
            "count": 4,
            "name": "Gd"
           },
           {
            "count": 1,
            "name": "TA"
           }
          ],
          "nan_count": 0,
          "unique_count": 2
         }
        },
        {
         "dtype": "int64",
         "name": "TotRmsAbvGrd",
         "stats": {
          "histogram": [
           {
            "bin_end": 6.3,
            "bin_start": 6,
            "count": 2
           },
           {
            "bin_end": 6.6,
            "bin_start": 6.3,
            "count": 0
           },
           {
            "bin_end": 6.9,
            "bin_start": 6.6,
            "count": 0
           },
           {
            "bin_end": 7.2,
            "bin_start": 6.9,
            "count": 1
           },
           {
            "bin_end": 7.5,
            "bin_start": 7.2,
            "count": 0
           },
           {
            "bin_end": 7.8,
            "bin_start": 7.5,
            "count": 0
           },
           {
            "bin_end": 8.1,
            "bin_start": 7.8,
            "count": 1
           },
           {
            "bin_end": 8.4,
            "bin_start": 8.1,
            "count": 0
           },
           {
            "bin_end": 8.7,
            "bin_start": 8.4,
            "count": 0
           },
           {
            "bin_end": 9,
            "bin_start": 8.7,
            "count": 1
           }
          ],
          "max": "9",
          "min": "6",
          "nan_count": 0,
          "unique_count": 4
         }
        },
        {
         "dtype": "object",
         "name": "Functional",
         "stats": {
          "categories": [
           {
            "count": 5,
            "name": "Typ"
           }
          ],
          "nan_count": 0,
          "unique_count": 1
         }
        },
        {
         "dtype": "int64",
         "name": "Fireplaces",
         "stats": {
          "histogram": [
           {
            "bin_end": 0.1,
            "bin_start": 0,
            "count": 1
           },
           {
            "bin_end": 0.2,
            "bin_start": 0.1,
            "count": 0
           },
           {
            "bin_end": 0.30000000000000004,
            "bin_start": 0.2,
            "count": 0
           },
           {
            "bin_end": 0.4,
            "bin_start": 0.30000000000000004,
            "count": 0
           },
           {
            "bin_end": 0.5,
            "bin_start": 0.4,
            "count": 0
           },
           {
            "bin_end": 0.6000000000000001,
            "bin_start": 0.5,
            "count": 0
           },
           {
            "bin_end": 0.7000000000000001,
            "bin_start": 0.6000000000000001,
            "count": 0
           },
           {
            "bin_end": 0.8,
            "bin_start": 0.7000000000000001,
            "count": 0
           },
           {
            "bin_end": 0.9,
            "bin_start": 0.8,
            "count": 0
           },
           {
            "bin_end": 1,
            "bin_start": 0.9,
            "count": 4
           }
          ],
          "max": "1",
          "min": "0",
          "nan_count": 0,
          "unique_count": 2
         }
        },
        {
         "dtype": "object",
         "name": "FireplaceQu",
         "stats": {
          "categories": [
           {
            "count": 3,
            "name": "TA"
           },
           {
            "count": 1,
            "name": "Gd"
           },
           {
            "count": 1,
            "name": "Missing"
           }
          ],
          "nan_count": 1,
          "unique_count": 2
         }
        },
        {
         "dtype": "object",
         "name": "GarageType",
         "stats": {
          "categories": [
           {
            "count": 4,
            "name": "Attchd"
           },
           {
            "count": 1,
            "name": "Detchd"
           }
          ],
          "nan_count": 0,
          "unique_count": 2
         }
        },
        {
         "dtype": "float64",
         "name": "GarageYrBlt",
         "stats": {
          "histogram": [
           {
            "bin_end": 1978.7,
            "bin_start": 1976,
            "count": 1
           },
           {
            "bin_end": 1981.4,
            "bin_start": 1978.7,
            "count": 0
           },
           {
            "bin_end": 1984.1,
            "bin_start": 1981.4,
            "count": 0
           },
           {
            "bin_end": 1986.8,
            "bin_start": 1984.1,
            "count": 0
           },
           {
            "bin_end": 1989.5,
            "bin_start": 1986.8,
            "count": 0
           },
           {
            "bin_end": 1992.2,
            "bin_start": 1989.5,
            "count": 0
           },
           {
            "bin_end": 1994.9,
            "bin_start": 1992.2,
            "count": 0
           },
           {
            "bin_end": 1997.6,
            "bin_start": 1994.9,
            "count": 0
           },
           {
            "bin_end": 2000.3,
            "bin_start": 1997.6,
            "count": 2
           },
           {
            "bin_end": 2003,
            "bin_start": 2000.3,
            "count": 2
           }
          ],
          "max": "2003.0",
          "min": "1976.0",
          "nan_count": 0,
          "unique_count": 5
         }
        },
        {
         "dtype": "object",
         "name": "GarageFinish",
         "stats": {
          "categories": [
           {
            "count": 4,
            "name": "RFn"
           },
           {
            "count": 1,
            "name": "Unf"
           }
          ],
          "nan_count": 0,
          "unique_count": 2
         }
        },
        {
         "dtype": "int64",
         "name": "GarageCars",
         "stats": {
          "histogram": [
           {
            "bin_end": 2.1,
            "bin_start": 2,
            "count": 3
           },
           {
            "bin_end": 2.2,
            "bin_start": 2.1,
            "count": 0
           },
           {
            "bin_end": 2.3,
            "bin_start": 2.2,
            "count": 0
           },
           {
            "bin_end": 2.4,
            "bin_start": 2.3,
            "count": 0
           },
           {
            "bin_end": 2.5,
            "bin_start": 2.4,
            "count": 0
           },
           {
            "bin_end": 2.6,
            "bin_start": 2.5,
            "count": 0
           },
           {
            "bin_end": 2.7,
            "bin_start": 2.6,
            "count": 0
           },
           {
            "bin_end": 2.8,
            "bin_start": 2.7,
            "count": 0
           },
           {
            "bin_end": 2.9,
            "bin_start": 2.8,
            "count": 0
           },
           {
            "bin_end": 3,
            "bin_start": 2.9,
            "count": 2
           }
          ],
          "max": "3",
          "min": "2",
          "nan_count": 0,
          "unique_count": 2
         }
        },
        {
         "dtype": "int64",
         "name": "GarageArea",
         "stats": {
          "histogram": [
           {
            "bin_end": 497.6,
            "bin_start": 460,
            "count": 1
           },
           {
            "bin_end": 535.2,
            "bin_start": 497.6,
            "count": 0
           },
           {
            "bin_end": 572.8,
            "bin_start": 535.2,
            "count": 1
           },
           {
            "bin_end": 610.4,
            "bin_start": 572.8,
            "count": 1
           },
           {
            "bin_end": 648,
            "bin_start": 610.4,
            "count": 1
           },
           {
            "bin_end": 685.6,
            "bin_start": 648,
            "count": 0
           },
           {
            "bin_end": 723.2,
            "bin_start": 685.6,
            "count": 0
           },
           {
            "bin_end": 760.8,
            "bin_start": 723.2,
            "count": 0
           },
           {
            "bin_end": 798.4000000000001,
            "bin_start": 760.8,
            "count": 0
           },
           {
            "bin_end": 836,
            "bin_start": 798.4000000000001,
            "count": 1
           }
          ],
          "max": "836",
          "min": "460",
          "nan_count": 0,
          "unique_count": 5
         }
        },
        {
         "dtype": "object",
         "name": "GarageQual",
         "stats": {
          "categories": [
           {
            "count": 5,
            "name": "TA"
           }
          ],
          "nan_count": 0,
          "unique_count": 1
         }
        },
        {
         "dtype": "object",
         "name": "GarageCond",
         "stats": {
          "categories": [
           {
            "count": 5,
            "name": "TA"
           }
          ],
          "nan_count": 0,
          "unique_count": 1
         }
        },
        {
         "dtype": "object",
         "name": "PavedDrive",
         "stats": {
          "categories": [
           {
            "count": 5,
            "name": "Y"
           }
          ],
          "nan_count": 0,
          "unique_count": 1
         }
        },
        {
         "dtype": "int64",
         "name": "WoodDeckSF",
         "stats": {
          "histogram": [
           {
            "bin_end": 29.8,
            "bin_start": 0,
            "count": 3
           },
           {
            "bin_end": 59.6,
            "bin_start": 29.8,
            "count": 0
           },
           {
            "bin_end": 89.4,
            "bin_start": 59.6,
            "count": 0
           },
           {
            "bin_end": 119.2,
            "bin_start": 89.4,
            "count": 0
           },
           {
            "bin_end": 149,
            "bin_start": 119.2,
            "count": 0
           },
           {
            "bin_end": 178.8,
            "bin_start": 149,
            "count": 0
           },
           {
            "bin_end": 208.6,
            "bin_start": 178.8,
            "count": 1
           },
           {
            "bin_end": 238.4,
            "bin_start": 208.6,
            "count": 0
           },
           {
            "bin_end": 268.2,
            "bin_start": 238.4,
            "count": 0
           },
           {
            "bin_end": 298,
            "bin_start": 268.2,
            "count": 1
           }
          ],
          "max": "298",
          "min": "0",
          "nan_count": 0,
          "unique_count": 3
         }
        },
        {
         "dtype": "int64",
         "name": "OpenPorchSF",
         "stats": {
          "histogram": [
           {
            "bin_end": 8.4,
            "bin_start": 0,
            "count": 1
           },
           {
            "bin_end": 16.8,
            "bin_start": 8.4,
            "count": 0
           },
           {
            "bin_end": 25.200000000000003,
            "bin_start": 16.8,
            "count": 0
           },
           {
            "bin_end": 33.6,
            "bin_start": 25.200000000000003,
            "count": 0
           },
           {
            "bin_end": 42,
            "bin_start": 33.6,
            "count": 1
           },
           {
            "bin_end": 50.400000000000006,
            "bin_start": 42,
            "count": 1
           },
           {
            "bin_end": 58.800000000000004,
            "bin_start": 50.400000000000006,
            "count": 0
           },
           {
            "bin_end": 67.2,
            "bin_start": 58.800000000000004,
            "count": 1
           },
           {
            "bin_end": 75.60000000000001,
            "bin_start": 67.2,
            "count": 0
           },
           {
            "bin_end": 84,
            "bin_start": 75.60000000000001,
            "count": 1
           }
          ],
          "max": "84",
          "min": "0",
          "nan_count": 0,
          "unique_count": 5
         }
        },
        {
         "dtype": "int64",
         "name": "EnclosedPorch",
         "stats": {
          "histogram": [
           {
            "bin_end": 27.2,
            "bin_start": 0,
            "count": 4
           },
           {
            "bin_end": 54.4,
            "bin_start": 27.2,
            "count": 0
           },
           {
            "bin_end": 81.6,
            "bin_start": 54.4,
            "count": 0
           },
           {
            "bin_end": 108.8,
            "bin_start": 81.6,
            "count": 0
           },
           {
            "bin_end": 136,
            "bin_start": 108.8,
            "count": 0
           },
           {
            "bin_end": 163.2,
            "bin_start": 136,
            "count": 0
           },
           {
            "bin_end": 190.4,
            "bin_start": 163.2,
            "count": 0
           },
           {
            "bin_end": 217.6,
            "bin_start": 190.4,
            "count": 0
           },
           {
            "bin_end": 244.79999999999998,
            "bin_start": 217.6,
            "count": 0
           },
           {
            "bin_end": 272,
            "bin_start": 244.79999999999998,
            "count": 1
           }
          ],
          "max": "272",
          "min": "0",
          "nan_count": 0,
          "unique_count": 2
         }
        },
        {
         "dtype": "int64",
         "name": "3SsnPorch",
         "stats": {
          "histogram": [
           {
            "bin_end": -0.4,
            "bin_start": -0.5,
            "count": 0
           },
           {
            "bin_end": -0.3,
            "bin_start": -0.4,
            "count": 0
           },
           {
            "bin_end": -0.19999999999999996,
            "bin_start": -0.3,
            "count": 0
           },
           {
            "bin_end": -0.09999999999999998,
            "bin_start": -0.19999999999999996,
            "count": 0
           },
           {
            "bin_end": 0,
            "bin_start": -0.09999999999999998,
            "count": 0
           },
           {
            "bin_end": 0.10000000000000009,
            "bin_start": 0,
            "count": 5
           },
           {
            "bin_end": 0.20000000000000007,
            "bin_start": 0.10000000000000009,
            "count": 0
           },
           {
            "bin_end": 0.30000000000000004,
            "bin_start": 0.20000000000000007,
            "count": 0
           },
           {
            "bin_end": 0.4,
            "bin_start": 0.30000000000000004,
            "count": 0
           },
           {
            "bin_end": 0.5,
            "bin_start": 0.4,
            "count": 0
           }
          ],
          "max": "0",
          "min": "0",
          "nan_count": 0,
          "unique_count": 1
         }
        },
        {
         "dtype": "int64",
         "name": "ScreenPorch",
         "stats": {
          "histogram": [
           {
            "bin_end": -0.4,
            "bin_start": -0.5,
            "count": 0
           },
           {
            "bin_end": -0.3,
            "bin_start": -0.4,
            "count": 0
           },
           {
            "bin_end": -0.19999999999999996,
            "bin_start": -0.3,
            "count": 0
           },
           {
            "bin_end": -0.09999999999999998,
            "bin_start": -0.19999999999999996,
            "count": 0
           },
           {
            "bin_end": 0,
            "bin_start": -0.09999999999999998,
            "count": 0
           },
           {
            "bin_end": 0.10000000000000009,
            "bin_start": 0,
            "count": 5
           },
           {
            "bin_end": 0.20000000000000007,
            "bin_start": 0.10000000000000009,
            "count": 0
           },
           {
            "bin_end": 0.30000000000000004,
            "bin_start": 0.20000000000000007,
            "count": 0
           },
           {
            "bin_end": 0.4,
            "bin_start": 0.30000000000000004,
            "count": 0
           },
           {
            "bin_end": 0.5,
            "bin_start": 0.4,
            "count": 0
           }
          ],
          "max": "0",
          "min": "0",
          "nan_count": 0,
          "unique_count": 1
         }
        },
        {
         "dtype": "int64",
         "name": "PoolArea",
         "stats": {
          "histogram": [
           {
            "bin_end": -0.4,
            "bin_start": -0.5,
            "count": 0
           },
           {
            "bin_end": -0.3,
            "bin_start": -0.4,
            "count": 0
           },
           {
            "bin_end": -0.19999999999999996,
            "bin_start": -0.3,
            "count": 0
           },
           {
            "bin_end": -0.09999999999999998,
            "bin_start": -0.19999999999999996,
            "count": 0
           },
           {
            "bin_end": 0,
            "bin_start": -0.09999999999999998,
            "count": 0
           },
           {
            "bin_end": 0.10000000000000009,
            "bin_start": 0,
            "count": 5
           },
           {
            "bin_end": 0.20000000000000007,
            "bin_start": 0.10000000000000009,
            "count": 0
           },
           {
            "bin_end": 0.30000000000000004,
            "bin_start": 0.20000000000000007,
            "count": 0
           },
           {
            "bin_end": 0.4,
            "bin_start": 0.30000000000000004,
            "count": 0
           },
           {
            "bin_end": 0.5,
            "bin_start": 0.4,
            "count": 0
           }
          ],
          "max": "0",
          "min": "0",
          "nan_count": 0,
          "unique_count": 1
         }
        },
        {
         "dtype": "object",
         "name": "PoolQC",
         "stats": {
          "categories": [
           {
            "count": 5,
            "name": "Missing"
           }
          ],
          "nan_count": 5,
          "unique_count": 0
         }
        },
        {
         "dtype": "object",
         "name": "Fence",
         "stats": {
          "categories": [
           {
            "count": 5,
            "name": "Missing"
           }
          ],
          "nan_count": 5,
          "unique_count": 0
         }
        },
        {
         "dtype": "object",
         "name": "MiscFeature",
         "stats": {
          "categories": [
           {
            "count": 5,
            "name": "Missing"
           }
          ],
          "nan_count": 5,
          "unique_count": 0
         }
        },
        {
         "dtype": "int64",
         "name": "MiscVal",
         "stats": {
          "histogram": [
           {
            "bin_end": -0.4,
            "bin_start": -0.5,
            "count": 0
           },
           {
            "bin_end": -0.3,
            "bin_start": -0.4,
            "count": 0
           },
           {
            "bin_end": -0.19999999999999996,
            "bin_start": -0.3,
            "count": 0
           },
           {
            "bin_end": -0.09999999999999998,
            "bin_start": -0.19999999999999996,
            "count": 0
           },
           {
            "bin_end": 0,
            "bin_start": -0.09999999999999998,
            "count": 0
           },
           {
            "bin_end": 0.10000000000000009,
            "bin_start": 0,
            "count": 5
           },
           {
            "bin_end": 0.20000000000000007,
            "bin_start": 0.10000000000000009,
            "count": 0
           },
           {
            "bin_end": 0.30000000000000004,
            "bin_start": 0.20000000000000007,
            "count": 0
           },
           {
            "bin_end": 0.4,
            "bin_start": 0.30000000000000004,
            "count": 0
           },
           {
            "bin_end": 0.5,
            "bin_start": 0.4,
            "count": 0
           }
          ],
          "max": "0",
          "min": "0",
          "nan_count": 0,
          "unique_count": 1
         }
        },
        {
         "dtype": "int64",
         "name": "MoSold",
         "stats": {
          "histogram": [
           {
            "bin_end": 3,
            "bin_start": 2,
            "count": 2
           },
           {
            "bin_end": 4,
            "bin_start": 3,
            "count": 0
           },
           {
            "bin_end": 5,
            "bin_start": 4,
            "count": 0
           },
           {
            "bin_end": 6,
            "bin_start": 5,
            "count": 1
           },
           {
            "bin_end": 7,
            "bin_start": 6,
            "count": 0
           },
           {
            "bin_end": 8,
            "bin_start": 7,
            "count": 0
           },
           {
            "bin_end": 9,
            "bin_start": 8,
            "count": 0
           },
           {
            "bin_end": 10,
            "bin_start": 9,
            "count": 1
           },
           {
            "bin_end": 11,
            "bin_start": 10,
            "count": 0
           },
           {
            "bin_end": 12,
            "bin_start": 11,
            "count": 1
           }
          ],
          "max": "12",
          "min": "2",
          "nan_count": 0,
          "unique_count": 4
         }
        },
        {
         "dtype": "int64",
         "name": "YrSold",
         "stats": {
          "histogram": [
           {
            "bin_end": 2006.2,
            "bin_start": 2006,
            "count": 1
           },
           {
            "bin_end": 2006.4,
            "bin_start": 2006.2,
            "count": 0
           },
           {
            "bin_end": 2006.6,
            "bin_start": 2006.4,
            "count": 0
           },
           {
            "bin_end": 2006.8,
            "bin_start": 2006.6,
            "count": 0
           },
           {
            "bin_end": 2007,
            "bin_start": 2006.8,
            "count": 0
           },
           {
            "bin_end": 2007.2,
            "bin_start": 2007,
            "count": 1
           },
           {
            "bin_end": 2007.4,
            "bin_start": 2007.2,
            "count": 0
           },
           {
            "bin_end": 2007.6,
            "bin_start": 2007.4,
            "count": 0
           },
           {
            "bin_end": 2007.8,
            "bin_start": 2007.6,
            "count": 0
           },
           {
            "bin_end": 2008,
            "bin_start": 2007.8,
            "count": 3
           }
          ],
          "max": "2008",
          "min": "2006",
          "nan_count": 0,
          "unique_count": 3
         }
        },
        {
         "dtype": "object",
         "name": "SaleType",
         "stats": {
          "categories": [
           {
            "count": 5,
            "name": "WD"
           }
          ],
          "nan_count": 0,
          "unique_count": 1
         }
        },
        {
         "dtype": "object",
         "name": "SaleCondition",
         "stats": {
          "categories": [
           {
            "count": 4,
            "name": "Normal"
           },
           {
            "count": 1,
            "name": "Abnorml"
           }
          ],
          "nan_count": 0,
          "unique_count": 2
         }
        },
        {
         "dtype": "int64",
         "name": "SalePrice",
         "stats": {
          "histogram": [
           {
            "bin_end": 151000,
            "bin_start": 140000,
            "count": 1
           },
           {
            "bin_end": 162000,
            "bin_start": 151000,
            "count": 0
           },
           {
            "bin_end": 173000,
            "bin_start": 162000,
            "count": 0
           },
           {
            "bin_end": 184000,
            "bin_start": 173000,
            "count": 1
           },
           {
            "bin_end": 195000,
            "bin_start": 184000,
            "count": 0
           },
           {
            "bin_end": 206000,
            "bin_start": 195000,
            "count": 0
           },
           {
            "bin_end": 217000,
            "bin_start": 206000,
            "count": 1
           },
           {
            "bin_end": 228000,
            "bin_start": 217000,
            "count": 1
           },
           {
            "bin_end": 239000,
            "bin_start": 228000,
            "count": 0
           },
           {
            "bin_end": 250000,
            "bin_start": 239000,
            "count": 1
           }
          ],
          "max": "250000",
          "min": "140000",
          "nan_count": 0,
          "unique_count": 5
         }
        },
        {
         "dtype": "int64",
         "name": "_deepnote_index_column"
        }
       ],
       "row_count": 5,
       "rows_bottom": null,
       "rows_top": [
        {
         "1stFlrSF": 856,
         "2ndFlrSF": 854,
         "3SsnPorch": 0,
         "Alley": "nan",
         "BedroomAbvGr": 3,
         "BldgType": "1Fam",
         "BsmtCond": "TA",
         "BsmtExposure": "No",
         "BsmtFinSF1": 706,
         "BsmtFinSF2": 0,
         "BsmtFinType1": "GLQ",
         "BsmtFinType2": "Unf",
         "BsmtFullBath": 1,
         "BsmtHalfBath": 0,
         "BsmtQual": "Gd",
         "BsmtUnfSF": 150,
         "CentralAir": "Y",
         "Condition1": "Norm",
         "Condition2": "Norm",
         "Electrical": "SBrkr",
         "EnclosedPorch": 0,
         "ExterCond": "TA",
         "ExterQual": "Gd",
         "Exterior1st": "VinylSd",
         "Exterior2nd": "VinylSd",
         "Fence": "nan",
         "FireplaceQu": "nan",
         "Fireplaces": 0,
         "Foundation": "PConc",
         "FullBath": 2,
         "Functional": "Typ",
         "GarageArea": 548,
         "GarageCars": 2,
         "GarageCond": "TA",
         "GarageFinish": "RFn",
         "GarageQual": "TA",
         "GarageType": "Attchd",
         "GarageYrBlt": 2003,
         "GrLivArea": 1710,
         "HalfBath": 1,
         "Heating": "GasA",
         "HeatingQC": "Ex",
         "HouseStyle": "2Story",
         "Id": 1,
         "KitchenAbvGr": 1,
         "KitchenQual": "Gd",
         "LandContour": "Lvl",
         "LandSlope": "Gtl",
         "LotArea": 8450,
         "LotConfig": "Inside",
         "LotFrontage": 65,
         "LotShape": "Reg",
         "LowQualFinSF": 0,
         "MSSubClass": 60,
         "MSZoning": "RL",
         "MasVnrArea": 196,
         "MasVnrType": "BrkFace",
         "MiscFeature": "nan",
         "MiscVal": 0,
         "MoSold": 2,
         "Neighborhood": "CollgCr",
         "OpenPorchSF": 61,
         "OverallCond": 5,
         "OverallQual": 7,
         "PavedDrive": "Y",
         "PoolArea": 0,
         "PoolQC": "nan",
         "RoofMatl": "CompShg",
         "RoofStyle": "Gable",
         "SaleCondition": "Normal",
         "SalePrice": 208500,
         "SaleType": "WD",
         "ScreenPorch": 0,
         "Street": "Pave",
         "TotRmsAbvGrd": 8,
         "TotalBsmtSF": 856,
         "Utilities": "AllPub",
         "WoodDeckSF": 0,
         "YearBuilt": 2003,
         "YearRemodAdd": 2003,
         "YrSold": 2008,
         "_deepnote_index_column": 0
        },
        {
         "1stFlrSF": 1262,
         "2ndFlrSF": 0,
         "3SsnPorch": 0,
         "Alley": "nan",
         "BedroomAbvGr": 3,
         "BldgType": "1Fam",
         "BsmtCond": "TA",
         "BsmtExposure": "Gd",
         "BsmtFinSF1": 978,
         "BsmtFinSF2": 0,
         "BsmtFinType1": "ALQ",
         "BsmtFinType2": "Unf",
         "BsmtFullBath": 0,
         "BsmtHalfBath": 1,
         "BsmtQual": "Gd",
         "BsmtUnfSF": 284,
         "CentralAir": "Y",
         "Condition1": "Feedr",
         "Condition2": "Norm",
         "Electrical": "SBrkr",
         "EnclosedPorch": 0,
         "ExterCond": "TA",
         "ExterQual": "TA",
         "Exterior1st": "MetalSd",
         "Exterior2nd": "MetalSd",
         "Fence": "nan",
         "FireplaceQu": "TA",
         "Fireplaces": 1,
         "Foundation": "CBlock",
         "FullBath": 2,
         "Functional": "Typ",
         "GarageArea": 460,
         "GarageCars": 2,
         "GarageCond": "TA",
         "GarageFinish": "RFn",
         "GarageQual": "TA",
         "GarageType": "Attchd",
         "GarageYrBlt": 1976,
         "GrLivArea": 1262,
         "HalfBath": 0,
         "Heating": "GasA",
         "HeatingQC": "Ex",
         "HouseStyle": "1Story",
         "Id": 2,
         "KitchenAbvGr": 1,
         "KitchenQual": "TA",
         "LandContour": "Lvl",
         "LandSlope": "Gtl",
         "LotArea": 9600,
         "LotConfig": "FR2",
         "LotFrontage": 80,
         "LotShape": "Reg",
         "LowQualFinSF": 0,
         "MSSubClass": 20,
         "MSZoning": "RL",
         "MasVnrArea": 0,
         "MasVnrType": "None",
         "MiscFeature": "nan",
         "MiscVal": 0,
         "MoSold": 5,
         "Neighborhood": "Veenker",
         "OpenPorchSF": 0,
         "OverallCond": 8,
         "OverallQual": 6,
         "PavedDrive": "Y",
         "PoolArea": 0,
         "PoolQC": "nan",
         "RoofMatl": "CompShg",
         "RoofStyle": "Gable",
         "SaleCondition": "Normal",
         "SalePrice": 181500,
         "SaleType": "WD",
         "ScreenPorch": 0,
         "Street": "Pave",
         "TotRmsAbvGrd": 6,
         "TotalBsmtSF": 1262,
         "Utilities": "AllPub",
         "WoodDeckSF": 298,
         "YearBuilt": 1976,
         "YearRemodAdd": 1976,
         "YrSold": 2007,
         "_deepnote_index_column": 1
        },
        {
         "1stFlrSF": 920,
         "2ndFlrSF": 866,
         "3SsnPorch": 0,
         "Alley": "nan",
         "BedroomAbvGr": 3,
         "BldgType": "1Fam",
         "BsmtCond": "TA",
         "BsmtExposure": "Mn",
         "BsmtFinSF1": 486,
         "BsmtFinSF2": 0,
         "BsmtFinType1": "GLQ",
         "BsmtFinType2": "Unf",
         "BsmtFullBath": 1,
         "BsmtHalfBath": 0,
         "BsmtQual": "Gd",
         "BsmtUnfSF": 434,
         "CentralAir": "Y",
         "Condition1": "Norm",
         "Condition2": "Norm",
         "Electrical": "SBrkr",
         "EnclosedPorch": 0,
         "ExterCond": "TA",
         "ExterQual": "Gd",
         "Exterior1st": "VinylSd",
         "Exterior2nd": "VinylSd",
         "Fence": "nan",
         "FireplaceQu": "TA",
         "Fireplaces": 1,
         "Foundation": "PConc",
         "FullBath": 2,
         "Functional": "Typ",
         "GarageArea": 608,
         "GarageCars": 2,
         "GarageCond": "TA",
         "GarageFinish": "RFn",
         "GarageQual": "TA",
         "GarageType": "Attchd",
         "GarageYrBlt": 2001,
         "GrLivArea": 1786,
         "HalfBath": 1,
         "Heating": "GasA",
         "HeatingQC": "Ex",
         "HouseStyle": "2Story",
         "Id": 3,
         "KitchenAbvGr": 1,
         "KitchenQual": "Gd",
         "LandContour": "Lvl",
         "LandSlope": "Gtl",
         "LotArea": 11250,
         "LotConfig": "Inside",
         "LotFrontage": 68,
         "LotShape": "IR1",
         "LowQualFinSF": 0,
         "MSSubClass": 60,
         "MSZoning": "RL",
         "MasVnrArea": 162,
         "MasVnrType": "BrkFace",
         "MiscFeature": "nan",
         "MiscVal": 0,
         "MoSold": 9,
         "Neighborhood": "CollgCr",
         "OpenPorchSF": 42,
         "OverallCond": 5,
         "OverallQual": 7,
         "PavedDrive": "Y",
         "PoolArea": 0,
         "PoolQC": "nan",
         "RoofMatl": "CompShg",
         "RoofStyle": "Gable",
         "SaleCondition": "Normal",
         "SalePrice": 223500,
         "SaleType": "WD",
         "ScreenPorch": 0,
         "Street": "Pave",
         "TotRmsAbvGrd": 6,
         "TotalBsmtSF": 920,
         "Utilities": "AllPub",
         "WoodDeckSF": 0,
         "YearBuilt": 2001,
         "YearRemodAdd": 2002,
         "YrSold": 2008,
         "_deepnote_index_column": 2
        },
        {
         "1stFlrSF": 961,
         "2ndFlrSF": 756,
         "3SsnPorch": 0,
         "Alley": "nan",
         "BedroomAbvGr": 3,
         "BldgType": "1Fam",
         "BsmtCond": "Gd",
         "BsmtExposure": "No",
         "BsmtFinSF1": 216,
         "BsmtFinSF2": 0,
         "BsmtFinType1": "ALQ",
         "BsmtFinType2": "Unf",
         "BsmtFullBath": 1,
         "BsmtHalfBath": 0,
         "BsmtQual": "TA",
         "BsmtUnfSF": 540,
         "CentralAir": "Y",
         "Condition1": "Norm",
         "Condition2": "Norm",
         "Electrical": "SBrkr",
         "EnclosedPorch": 272,
         "ExterCond": "TA",
         "ExterQual": "TA",
         "Exterior1st": "Wd Sdng",
         "Exterior2nd": "Wd Shng",
         "Fence": "nan",
         "FireplaceQu": "Gd",
         "Fireplaces": 1,
         "Foundation": "BrkTil",
         "FullBath": 1,
         "Functional": "Typ",
         "GarageArea": 642,
         "GarageCars": 3,
         "GarageCond": "TA",
         "GarageFinish": "Unf",
         "GarageQual": "TA",
         "GarageType": "Detchd",
         "GarageYrBlt": 1998,
         "GrLivArea": 1717,
         "HalfBath": 0,
         "Heating": "GasA",
         "HeatingQC": "Gd",
         "HouseStyle": "2Story",
         "Id": 4,
         "KitchenAbvGr": 1,
         "KitchenQual": "Gd",
         "LandContour": "Lvl",
         "LandSlope": "Gtl",
         "LotArea": 9550,
         "LotConfig": "Corner",
         "LotFrontage": 60,
         "LotShape": "IR1",
         "LowQualFinSF": 0,
         "MSSubClass": 70,
         "MSZoning": "RL",
         "MasVnrArea": 0,
         "MasVnrType": "None",
         "MiscFeature": "nan",
         "MiscVal": 0,
         "MoSold": 2,
         "Neighborhood": "Crawfor",
         "OpenPorchSF": 35,
         "OverallCond": 5,
         "OverallQual": 7,
         "PavedDrive": "Y",
         "PoolArea": 0,
         "PoolQC": "nan",
         "RoofMatl": "CompShg",
         "RoofStyle": "Gable",
         "SaleCondition": "Abnorml",
         "SalePrice": 140000,
         "SaleType": "WD",
         "ScreenPorch": 0,
         "Street": "Pave",
         "TotRmsAbvGrd": 7,
         "TotalBsmtSF": 756,
         "Utilities": "AllPub",
         "WoodDeckSF": 0,
         "YearBuilt": 1915,
         "YearRemodAdd": 1970,
         "YrSold": 2006,
         "_deepnote_index_column": 3
        },
        {
         "1stFlrSF": 1145,
         "2ndFlrSF": 1053,
         "3SsnPorch": 0,
         "Alley": "nan",
         "BedroomAbvGr": 4,
         "BldgType": "1Fam",
         "BsmtCond": "TA",
         "BsmtExposure": "Av",
         "BsmtFinSF1": 655,
         "BsmtFinSF2": 0,
         "BsmtFinType1": "GLQ",
         "BsmtFinType2": "Unf",
         "BsmtFullBath": 1,
         "BsmtHalfBath": 0,
         "BsmtQual": "Gd",
         "BsmtUnfSF": 490,
         "CentralAir": "Y",
         "Condition1": "Norm",
         "Condition2": "Norm",
         "Electrical": "SBrkr",
         "EnclosedPorch": 0,
         "ExterCond": "TA",
         "ExterQual": "Gd",
         "Exterior1st": "VinylSd",
         "Exterior2nd": "VinylSd",
         "Fence": "nan",
         "FireplaceQu": "TA",
         "Fireplaces": 1,
         "Foundation": "PConc",
         "FullBath": 2,
         "Functional": "Typ",
         "GarageArea": 836,
         "GarageCars": 3,
         "GarageCond": "TA",
         "GarageFinish": "RFn",
         "GarageQual": "TA",
         "GarageType": "Attchd",
         "GarageYrBlt": 2000,
         "GrLivArea": 2198,
         "HalfBath": 1,
         "Heating": "GasA",
         "HeatingQC": "Ex",
         "HouseStyle": "2Story",
         "Id": 5,
         "KitchenAbvGr": 1,
         "KitchenQual": "Gd",
         "LandContour": "Lvl",
         "LandSlope": "Gtl",
         "LotArea": 14260,
         "LotConfig": "FR2",
         "LotFrontage": 84,
         "LotShape": "IR1",
         "LowQualFinSF": 0,
         "MSSubClass": 60,
         "MSZoning": "RL",
         "MasVnrArea": 350,
         "MasVnrType": "BrkFace",
         "MiscFeature": "nan",
         "MiscVal": 0,
         "MoSold": 12,
         "Neighborhood": "NoRidge",
         "OpenPorchSF": 84,
         "OverallCond": 5,
         "OverallQual": 8,
         "PavedDrive": "Y",
         "PoolArea": 0,
         "PoolQC": "nan",
         "RoofMatl": "CompShg",
         "RoofStyle": "Gable",
         "SaleCondition": "Normal",
         "SalePrice": 250000,
         "SaleType": "WD",
         "ScreenPorch": 0,
         "Street": "Pave",
         "TotRmsAbvGrd": 9,
         "TotalBsmtSF": 1145,
         "Utilities": "AllPub",
         "WoodDeckSF": 192,
         "YearBuilt": 2000,
         "YearRemodAdd": 2000,
         "YrSold": 2008,
         "_deepnote_index_column": 4
        }
       ]
      },
      "text/html": [
       "<div>\n",
       "<style scoped>\n",
       "    .dataframe tbody tr th:only-of-type {\n",
       "        vertical-align: middle;\n",
       "    }\n",
       "\n",
       "    .dataframe tbody tr th {\n",
       "        vertical-align: top;\n",
       "    }\n",
       "\n",
       "    .dataframe thead th {\n",
       "        text-align: right;\n",
       "    }\n",
       "</style>\n",
       "<table border=\"1\" class=\"dataframe\">\n",
       "  <thead>\n",
       "    <tr style=\"text-align: right;\">\n",
       "      <th></th>\n",
       "      <th>Id</th>\n",
       "      <th>MSSubClass</th>\n",
       "      <th>MSZoning</th>\n",
       "      <th>LotFrontage</th>\n",
       "      <th>LotArea</th>\n",
       "      <th>Street</th>\n",
       "      <th>Alley</th>\n",
       "      <th>LotShape</th>\n",
       "      <th>LandContour</th>\n",
       "      <th>Utilities</th>\n",
       "      <th>...</th>\n",
       "      <th>PoolArea</th>\n",
       "      <th>PoolQC</th>\n",
       "      <th>Fence</th>\n",
       "      <th>MiscFeature</th>\n",
       "      <th>MiscVal</th>\n",
       "      <th>MoSold</th>\n",
       "      <th>YrSold</th>\n",
       "      <th>SaleType</th>\n",
       "      <th>SaleCondition</th>\n",
       "      <th>SalePrice</th>\n",
       "    </tr>\n",
       "  </thead>\n",
       "  <tbody>\n",
       "    <tr>\n",
       "      <th>0</th>\n",
       "      <td>1</td>\n",
       "      <td>60</td>\n",
       "      <td>RL</td>\n",
       "      <td>65.0</td>\n",
       "      <td>8450</td>\n",
       "      <td>Pave</td>\n",
       "      <td>NaN</td>\n",
       "      <td>Reg</td>\n",
       "      <td>Lvl</td>\n",
       "      <td>AllPub</td>\n",
       "      <td>...</td>\n",
       "      <td>0</td>\n",
       "      <td>NaN</td>\n",
       "      <td>NaN</td>\n",
       "      <td>NaN</td>\n",
       "      <td>0</td>\n",
       "      <td>2</td>\n",
       "      <td>2008</td>\n",
       "      <td>WD</td>\n",
       "      <td>Normal</td>\n",
       "      <td>208500</td>\n",
       "    </tr>\n",
       "    <tr>\n",
       "      <th>1</th>\n",
       "      <td>2</td>\n",
       "      <td>20</td>\n",
       "      <td>RL</td>\n",
       "      <td>80.0</td>\n",
       "      <td>9600</td>\n",
       "      <td>Pave</td>\n",
       "      <td>NaN</td>\n",
       "      <td>Reg</td>\n",
       "      <td>Lvl</td>\n",
       "      <td>AllPub</td>\n",
       "      <td>...</td>\n",
       "      <td>0</td>\n",
       "      <td>NaN</td>\n",
       "      <td>NaN</td>\n",
       "      <td>NaN</td>\n",
       "      <td>0</td>\n",
       "      <td>5</td>\n",
       "      <td>2007</td>\n",
       "      <td>WD</td>\n",
       "      <td>Normal</td>\n",
       "      <td>181500</td>\n",
       "    </tr>\n",
       "    <tr>\n",
       "      <th>2</th>\n",
       "      <td>3</td>\n",
       "      <td>60</td>\n",
       "      <td>RL</td>\n",
       "      <td>68.0</td>\n",
       "      <td>11250</td>\n",
       "      <td>Pave</td>\n",
       "      <td>NaN</td>\n",
       "      <td>IR1</td>\n",
       "      <td>Lvl</td>\n",
       "      <td>AllPub</td>\n",
       "      <td>...</td>\n",
       "      <td>0</td>\n",
       "      <td>NaN</td>\n",
       "      <td>NaN</td>\n",
       "      <td>NaN</td>\n",
       "      <td>0</td>\n",
       "      <td>9</td>\n",
       "      <td>2008</td>\n",
       "      <td>WD</td>\n",
       "      <td>Normal</td>\n",
       "      <td>223500</td>\n",
       "    </tr>\n",
       "    <tr>\n",
       "      <th>3</th>\n",
       "      <td>4</td>\n",
       "      <td>70</td>\n",
       "      <td>RL</td>\n",
       "      <td>60.0</td>\n",
       "      <td>9550</td>\n",
       "      <td>Pave</td>\n",
       "      <td>NaN</td>\n",
       "      <td>IR1</td>\n",
       "      <td>Lvl</td>\n",
       "      <td>AllPub</td>\n",
       "      <td>...</td>\n",
       "      <td>0</td>\n",
       "      <td>NaN</td>\n",
       "      <td>NaN</td>\n",
       "      <td>NaN</td>\n",
       "      <td>0</td>\n",
       "      <td>2</td>\n",
       "      <td>2006</td>\n",
       "      <td>WD</td>\n",
       "      <td>Abnorml</td>\n",
       "      <td>140000</td>\n",
       "    </tr>\n",
       "    <tr>\n",
       "      <th>4</th>\n",
       "      <td>5</td>\n",
       "      <td>60</td>\n",
       "      <td>RL</td>\n",
       "      <td>84.0</td>\n",
       "      <td>14260</td>\n",
       "      <td>Pave</td>\n",
       "      <td>NaN</td>\n",
       "      <td>IR1</td>\n",
       "      <td>Lvl</td>\n",
       "      <td>AllPub</td>\n",
       "      <td>...</td>\n",
       "      <td>0</td>\n",
       "      <td>NaN</td>\n",
       "      <td>NaN</td>\n",
       "      <td>NaN</td>\n",
       "      <td>0</td>\n",
       "      <td>12</td>\n",
       "      <td>2008</td>\n",
       "      <td>WD</td>\n",
       "      <td>Normal</td>\n",
       "      <td>250000</td>\n",
       "    </tr>\n",
       "  </tbody>\n",
       "</table>\n",
       "<p>5 rows × 81 columns</p>\n",
       "</div>"
      ],
      "text/plain": [
       "   Id  MSSubClass MSZoning  LotFrontage  LotArea Street Alley LotShape  \\\n",
       "0   1          60       RL         65.0     8450   Pave   NaN      Reg   \n",
       "1   2          20       RL         80.0     9600   Pave   NaN      Reg   \n",
       "2   3          60       RL         68.0    11250   Pave   NaN      IR1   \n",
       "3   4          70       RL         60.0     9550   Pave   NaN      IR1   \n",
       "4   5          60       RL         84.0    14260   Pave   NaN      IR1   \n",
       "\n",
       "  LandContour Utilities  ... PoolArea PoolQC Fence MiscFeature MiscVal MoSold  \\\n",
       "0         Lvl    AllPub  ...        0    NaN   NaN         NaN       0      2   \n",
       "1         Lvl    AllPub  ...        0    NaN   NaN         NaN       0      5   \n",
       "2         Lvl    AllPub  ...        0    NaN   NaN         NaN       0      9   \n",
       "3         Lvl    AllPub  ...        0    NaN   NaN         NaN       0      2   \n",
       "4         Lvl    AllPub  ...        0    NaN   NaN         NaN       0     12   \n",
       "\n",
       "  YrSold  SaleType  SaleCondition  SalePrice  \n",
       "0   2008        WD         Normal     208500  \n",
       "1   2007        WD         Normal     181500  \n",
       "2   2008        WD         Normal     223500  \n",
       "3   2006        WD        Abnorml     140000  \n",
       "4   2008        WD         Normal     250000  \n",
       "\n",
       "[5 rows x 81 columns]"
      ]
     },
     "execution_count": 2,
     "metadata": {},
     "output_type": "execute_result"
    }
   ],
   "source": [
    "# import the data using pandas\n",
    "house_data = pd.read_csv(\"../Data/House_price.csv\", header = 0, sep=\",\")\n",
    "\n",
    "# Display the first 5 rows and 10 colums of the dataset.\n",
    "house_data.head()"
   ]
  },
  {
   "cell_type": "markdown",
   "metadata": {
    "cell_id": "00006-b2c3ce77-4e4e-4172-976a-e4bcb32ab837",
    "deepnote_cell_type": "text-cell-h3",
    "tags": []
   },
   "source": [
    "### 2. Using the command&nbsp;.select_dtypes(include=#name),      create a subset of the otiginal data which contains only the data recorded\n",
    "     as int64 and float64. - The target is a float64, so it will be included in      this subset. - NB get rid of the&nbsp;Id&nbsp;column.\n"
   ]
  },
  {
   "cell_type": "code",
   "execution_count": null,
   "metadata": {
    "cell_id": "00004-75c6315e-3298-4bf0-bdaf-86b8032f8d97",
    "deepnote_cell_type": "code",
    "deepnote_to_be_reexecuted": false,
    "execution_millis": 56,
    "execution_start": 1621879886652,
    "source_hash": "7b2b6e81"
   },
   "outputs": [
    {
     "name": "stdout",
     "output_type": "stream",
     "text": [
      "`house_data` containes 348 missing values\n",
      "\n",
      "After the missing elimination, there are 0 missing in the data.\n",
      "   MSSubClass  LotFrontage  LotArea  OverallQual  OverallCond  YearBuilt  \\\n",
      "0          60         65.0     8450            7            5       2003   \n",
      "1          20         80.0     9600            6            8       1976   \n",
      "2          60         68.0    11250            7            5       2001   \n",
      "3          70         60.0     9550            7            5       1915   \n",
      "4          60         84.0    14260            8            5       2000   \n",
      "\n",
      "   YearRemodAdd  MasVnrArea  BsmtFinSF1  BsmtFinSF2  ...  WoodDeckSF  \\\n",
      "0          2003       196.0         706           0  ...           0   \n",
      "1          1976         0.0         978           0  ...         298   \n",
      "2          2002       162.0         486           0  ...           0   \n",
      "3          1970         0.0         216           0  ...           0   \n",
      "4          2000       350.0         655           0  ...         192   \n",
      "\n",
      "   OpenPorchSF  EnclosedPorch  3SsnPorch  ScreenPorch  PoolArea  MiscVal  \\\n",
      "0           61              0          0            0         0        0   \n",
      "1            0              0          0            0         0        0   \n",
      "2           42              0          0            0         0        0   \n",
      "3           35            272          0            0         0        0   \n",
      "4           84              0          0            0         0        0   \n",
      "\n",
      "   MoSold  YrSold  SalePrice  \n",
      "0       2    2008     208500  \n",
      "1       5    2007     181500  \n",
      "2       9    2008     223500  \n",
      "3       2    2006     140000  \n",
      "4      12    2008     250000  \n",
      "\n",
      "[5 rows x 37 columns]\n"
     ]
    }
   ],
   "source": [
    "# 1. Eliminate all the columns of type the object type data\n",
    "house_data = house_data.select_dtypes(include=['int64', 'float64'])\n",
    "\n",
    "# 2. Eliminate missing values\n",
    "print('`house_data` containes %d missing values' %(house_data.isnull().sum().sum()))\n",
    "house_data.dropna(inplace=True)\n",
    "\n",
    "print(\"\")\n",
    "# 3. Check presence of misisng\n",
    "print('After the missing elimination, there are %d missing in the data.' %(house_data.isnull().sum().sum()))\n",
    "\n",
    "# Delete ID column\n",
    "house_data = house_data.drop('Id', 1)\n",
    "print(house_data.head())"
   ]
  },
  {
   "cell_type": "markdown",
   "metadata": {
    "cell_id": "00008-88c9d93b-38ea-4270-bc2c-5e00b0a05101",
    "deepnote_cell_type": "text-cell-h3",
    "tags": []
   },
   "source": [
    "### 3. Compute the correlation matrix  of the subset matrix created at step 2, select the colums which refers\n",
    "     to&nbsp;SalePrice&nbsp;which contains how the variables correlates    with the target and as predictors X select the top 10 variables. (the one\n",
    "     with the highest correlation with SalePrice). Define the target variable Y     as&nbsp;SalePrice.\n"
   ]
  },
  {
   "cell_type": "code",
   "execution_count": null,
   "metadata": {
    "cell_id": "00005-4fcf6108-6f5e-445a-8cfc-d5c25448167d",
    "deepnote_cell_type": "code",
    "deepnote_to_be_reexecuted": false,
    "execution_millis": 42,
    "execution_start": 1621879886709,
    "source_hash": "836b4e09"
   },
   "outputs": [
    {
     "name": "stdout",
     "output_type": "stream",
     "text": [
      "OverallQual     0.797881\n",
      "GrLivArea       0.705154\n",
      "GarageCars      0.647034\n",
      "GarageArea      0.619330\n",
      "TotalBsmtSF     0.615612\n",
      "1stFlrSF        0.607969\n",
      "FullBath        0.566627\n",
      "TotRmsAbvGrd    0.547067\n",
      "YearBuilt       0.525394\n",
      "YearRemodAdd    0.521253\n",
      "Name: SalePrice, dtype: float64\n"
     ]
    }
   ],
   "source": [
    "# Compute correlations and select top10\n",
    "corr_matrix = house_data.corr()\n",
    "corr_salesprice = corr_matrix['SalePrice']\n",
    "corr_top = corr_salesprice.sort_values(ascending=False).head(11)\n",
    "corr_top10 = corr_top.drop('SalePrice', 0)\n",
    "print(corr_top10)"
   ]
  },
  {
   "cell_type": "markdown",
   "metadata": {
    "cell_id": "00010-c997ee0d-7c59-4797-a020-9ba5e4cc0597",
    "deepnote_cell_type": "text-cell-h3",
    "tags": []
   },
   "source": [
    "### 4.Split the data into training and test sample, fit the Linear Regression and compute the mean squared error (or the root mean squared error) and the R-squared on the test data."
   ]
  },
  {
   "cell_type": "code",
   "execution_count": null,
   "metadata": {
    "cell_id": "00007-f818dc3a-87f2-44b1-8e4d-3a52f79be78d",
    "deepnote_cell_type": "code",
    "deepnote_to_be_reexecuted": false,
    "execution_millis": 18,
    "execution_start": 1621879886748,
    "source_hash": "a69b432",
    "tags": []
   },
   "outputs": [],
   "source": [
    "# Define X and Y for the multivariate regression\n",
    "Y = house_data['SalePrice']  \n",
    "X = house_data[corr_top10.index.values] \n",
    "x_training, x_test, y_training, y_test = train_test_split(X, Y, train_size = 0.7, test_size = 0.3)"
   ]
  },
  {
   "cell_type": "code",
   "execution_count": null,
   "metadata": {
    "cell_id": "00013-6b9c4823-ecb0-48f2-a055-eab14081a001",
    "deepnote_cell_type": "code",
    "deepnote_to_be_reexecuted": false,
    "execution_millis": 32,
    "execution_start": 1621879886769,
    "source_hash": "51fdddfb",
    "tags": []
   },
   "outputs": [
    {
     "name": "stdout",
     "output_type": "stream",
     "text": [
      "               coefficients\n",
      "Intercept    -964432.754369\n",
      "OverallQual    24591.998289\n",
      "GrLivArea         44.463652\n",
      "GarageCars     20837.231847\n",
      "GarageArea        -1.225687\n",
      "TotalBsmtSF       12.088184\n",
      "1stFlrSF          16.761658\n",
      "FullBath       -8695.872649\n",
      "TotRmsAbvGrd     973.072943\n",
      "YearBuilt        209.378610\n",
      "YearRemodAdd     227.677971\n"
     ]
    }
   ],
   "source": [
    "# Perform regression to estimate parameters\n",
    "lr_mul = LinearRegression().fit(x_training, y_training.values.reshape(-1,1))\n",
    "reg = np.insert(corr_top10.index.values, 0, \"Intercept\")\n",
    "coef = pd.DataFrame(np.transpose(np.hstack(([lr_mul.intercept_],lr_mul.coef_))), reg, columns = ['coefficients'])\n",
    "print(coef)"
   ]
  },
  {
   "cell_type": "code",
   "execution_count": null,
   "metadata": {
    "cell_id": "00013-8e1e7363-9c85-432a-84ad-4583c66c85e0",
    "deepnote_cell_type": "code",
    "deepnote_to_be_reexecuted": false,
    "execution_millis": 41,
    "execution_start": 1621879886804,
    "source_hash": "57c56b2",
    "tags": []
   },
   "outputs": [
    {
     "name": "stdout",
     "output_type": "stream",
     "text": [
      "R-Squared(Training Data) :  0.748509553489211\n",
      "Mean Squared Error(Training Data):  42099.331622918115\n",
      "R-Squared(Test Data) :  0.801302512905925\n",
      "Mean Squared Error(Test Data):  35675.22143902126\n"
     ]
    }
   ],
   "source": [
    "# Compute R-Square and MSE\n",
    "y_pred_training_mul = lr_mul.predict(x_training)\n",
    "rSquare_training_mul = r2_score(y_training, y_pred_training_mul)\n",
    "mse_error_training_mul = mean_squared_error(y_training, y_pred_training_mul)\n",
    "print(\"R-Squared(Training Data) : \", rSquare_training_mul)\n",
    "print(\"Mean Squared Error(Training Data): \", np.sqrt(mse_error_training_mul))\n",
    "\n",
    "y_pred_mul_hat = lr_mul.predict(x_test)\n",
    "rSquare_test_mul = r2_score(y_test, y_pred_mul_hat)\n",
    "mse_error_test_mul = mean_squared_error(y_test, y_pred_mul_hat)\n",
    "print(\"R-Squared(Test Data) : \", rSquare_test_mul)\n",
    "print(\"Mean Squared Error(Test Data): \", np.sqrt(mse_error_test_mul))\n"
   ]
  },
  {
   "cell_type": "markdown",
   "metadata": {
    "cell_id": "00014-77fda678-81cc-4dd0-bc7b-0fe6dedc1add",
    "deepnote_cell_type": "text-cell-h3",
    "tags": []
   },
   "source": [
    "### 5. Escape linearity: take the variables&nbsp;GrLivArea,&nbsp;TotalBsmtSF,&nbsp;FullBath&nbsp;from\n",
    "     X, and by using the class&nbsp;PolynomialFeature&nbsp;create the\n",
    "     non-linear combinations. You need to compute all the second order\n",
    "     combinations. The option that needs to be specified are:&nbsp;degree=2,&nbsp;interaction_only=False,&nbsp;include_bias=False,\n",
    "     and then use the&nbsp;.fittransform(Data)&nbsp;to compute\n",
    "     all the elements. (guide can be found here:&nbsp;https://scikit-learn.org/stable/modules/generated/sklearn.preprocessing.PolynomialFeatures.html)\n",
    "\n",
    "\n"
   ]
  },
  {
   "cell_type": "code",
   "execution_count": null,
   "metadata": {
    "cell_id": "00008-078db8bb-cc85-457e-9241-26c567856ae4",
    "deepnote_cell_type": "code",
    "deepnote_to_be_reexecuted": false,
    "execution_millis": 13,
    "execution_start": 1621879886843,
    "source_hash": "2c491410",
    "tags": []
   },
   "outputs": [],
   "source": [
    "x_pol = house_data[['GrLivArea','TotalBsmtSF', 'FullBath']].values\n",
    "poly = PolynomialFeatures(degree=2, interaction_only = False, include_bias = False)\n",
    "x_pol_interaction = poly.fit_transform(x_pol)\n"
   ]
  },
  {
   "cell_type": "markdown",
   "metadata": {
    "cell_id": "00016-a838e203-14ca-4fd5-8cbe-96fbc3dd1323",
    "deepnote_cell_type": "text-cell-h3",
    "tags": []
   },
   "source": [
    "### 6.  Add the nonlinear interactions created at point X to the data selected at point 3 (the top 10 most correlated data with the target).\n"
   ]
  },
  {
   "cell_type": "code",
   "execution_count": null,
   "metadata": {
    "cell_id": "00017-b38f86f2-5180-4198-9172-9738c5e92b5d",
    "deepnote_cell_type": "code",
    "deepnote_to_be_reexecuted": false,
    "execution_millis": 22,
    "execution_start": 1621879886862,
    "source_hash": "ccde9350",
    "tags": []
   },
   "outputs": [
    {
     "data": {
      "text/plain": [
       "(1121, 19)"
      ]
     },
     "execution_count": 9,
     "metadata": {},
     "output_type": "execute_result"
    }
   ],
   "source": [
    "x_pol_interaction_df = pd.DataFrame(data = x_pol_interaction, index = X.index.values)\n",
    "x_pol_interaction_df.columns = ['GrLivArea', 'TotalBsmtSF', 'FullBath','GrLivArea^2', 'TotalBsmtSF^2', 'FullBath^2','GT', 'TF', 'FG']\n",
    "x_pol_interaction_df.drop = ['GrLivArea', 'TotalBsmtSF', 'FullBath']\n",
    "new_X = pd.concat([X, x_pol_interaction_df], axis = 1)\n",
    "new_X.shape"
   ]
  },
  {
   "cell_type": "markdown",
   "metadata": {
    "cell_id": "00018-e92cdf6c-27c5-43cb-94b3-180e699f7273",
    "deepnote_cell_type": "text-cell-h3",
    "tags": []
   },
   "source": [
    "### 7. Split the new dataset into  training and test sample, fit the Linear Regression and compute the mean  squared error (or the root mean squared error) and the R-squared on the test data.:\n"
   ]
  },
  {
   "cell_type": "code",
   "execution_count": null,
   "metadata": {
    "cell_id": "00018-5eca922d-3633-447b-93a8-0869d24bcb6c",
    "deepnote_cell_type": "code",
    "deepnote_to_be_reexecuted": false,
    "execution_millis": 174,
    "execution_start": 1621879886888,
    "source_hash": "4aab1e0c",
    "tags": []
   },
   "outputs": [
    {
     "name": "stdout",
     "output_type": "stream",
     "text": [
      "               coefficients\n",
      "Intercept     -1.167268e+06\n",
      "OverallQual    2.169578e+04\n",
      "GrLivArea      2.199325e+01\n",
      "GarageCars     7.049529e+03\n",
      "GarageArea     2.027898e+01\n",
      "TotalBsmtSF    2.778726e+01\n",
      "1stFlrSF       1.311541e+01\n",
      "FullBath      -3.999825e+04\n",
      "TotRmsAbvGrd   1.314279e+03\n",
      "YearBuilt      2.380948e+02\n",
      "YearRemodAdd   3.286630e+02\n",
      "GrLivArea      2.199325e+01\n",
      "TotalBsmtSF    2.778726e+01\n",
      "FullBath      -3.999825e+04\n",
      "GrLivArea^2   -1.994472e-02\n",
      "TotalBsmtSF^2 -1.382729e-02\n",
      "FullBath^2     5.166224e+01\n",
      "GT             1.231281e-03\n",
      "TF            -3.926277e+00\n",
      "FG            -2.228241e+03\n",
      "R-Squared(Training Data) :  0.8060748226217355\n",
      "Mean Squared Error(Training Data):  34942.720398281555\n",
      "R-Squared(Test Data) :  0.7968642794684268\n",
      "Mean Squared Error(Test Data):  40848.922327622546\n"
     ]
    }
   ],
   "source": [
    "Y = house_data['SalePrice']  \n",
    "x_training2, x_test2, y_training2, y_test2 = train_test_split(new_X, Y, train_size = 0.7, test_size = 0.3)\n",
    "\n",
    "lr_mul2 = LinearRegression().fit(x_training2, y_training2.values.reshape(-1,1))\n",
    "reg2 = np.insert(new_X.columns.values, 0, \"Intercept\")\n",
    "coef = pd.DataFrame(np.transpose(np.hstack(([lr_mul2.intercept_],lr_mul2.coef_))), reg2, columns = ['coefficients'])\n",
    "print(coef)\n",
    "\n",
    "# Compute R-Square and MSE\n",
    "y_pred_training_mul2 = lr_mul2.predict(x_training2)\n",
    "rSquare_training_mul2 = r2_score(y_training2, y_pred_training_mul2)\n",
    "mse_error_training_mul2 = mean_squared_error(y_training2, y_pred_training_mul2)\n",
    "print(\"R-Squared(Training Data) : \", rSquare_training_mul2)\n",
    "print(\"Mean Squared Error(Training Data): \", np.sqrt(mse_error_training_mul2))\n",
    "\n",
    "y_pred_mul_hat2 = lr_mul2.predict(x_test2)\n",
    "rSquare_test_mul2 = r2_score(y_test2, y_pred_mul_hat2)\n",
    "mse_error_test_mul2 = mean_squared_error(y_test2, y_pred_mul_hat2)\n",
    "print(\"R-Squared(Test Data) : \", rSquare_test_mul2)\n",
    "print(\"Mean Squared Error(Test Data): \", np.sqrt(mse_error_test_mul2))"
   ]
  },
  {
   "cell_type": "markdown",
   "metadata": {
    "cell_id": "00006-c0601c98-1426-451e-9889-4b80fd054acd",
    "deepnote_cell_type": "markdown"
   },
   "source": [
    "## Part B"
   ]
  },
  {
   "cell_type": "code",
   "execution_count": null,
   "metadata": {
    "cell_id": "00007-cd579126-5b3c-4890-8eca-8ebdb9907a95",
    "deepnote_cell_type": "code",
    "deepnote_to_be_reexecuted": false,
    "execution_millis": 1076,
    "execution_start": 1621879887072,
    "source_hash": "a1aeffee"
   },
   "outputs": [
    {
     "data": {
      "application/vnd.deepnote.dataframe.v2+json": {
       "column_count": 52,
       "columns": [
        {
         "dtype": "float64",
         "name": "AMT_CREDIT",
         "stats": {
          "histogram": [
           {
            "bin_end": 363780,
            "bin_start": 284400,
            "count": 2
           },
           {
            "bin_end": 443160,
            "bin_start": 363780,
            "count": 1
           },
           {
            "bin_end": 522540,
            "bin_start": 443160,
            "count": 0
           },
           {
            "bin_end": 601920,
            "bin_start": 522540,
            "count": 0
           },
           {
            "bin_end": 681300,
            "bin_start": 601920,
            "count": 0
           },
           {
            "bin_end": 760680,
            "bin_start": 681300,
            "count": 0
           },
           {
            "bin_end": 840060,
            "bin_start": 760680,
            "count": 0
           },
           {
            "bin_end": 919440,
            "bin_start": 840060,
            "count": 0
           },
           {
            "bin_end": 998820,
            "bin_start": 919440,
            "count": 1
           },
           {
            "bin_end": 1078200,
            "bin_start": 998820,
            "count": 1
           }
          ],
          "max": "1078200.0",
          "min": "284400.0",
          "nan_count": 0,
          "unique_count": 5
         }
        },
        {
         "dtype": "float64",
         "name": "AMT_GOODS_PRICE",
         "stats": {
          "histogram": [
           {
            "bin_end": 20628.9,
            "bin_start": 19134,
            "count": 1
           },
           {
            "bin_end": 22123.8,
            "bin_start": 20628.9,
            "count": 0
           },
           {
            "bin_end": 23618.7,
            "bin_start": 22123.8,
            "count": 0
           },
           {
            "bin_end": 25113.6,
            "bin_start": 23618.7,
            "count": 0
           },
           {
            "bin_end": 26608.5,
            "bin_start": 25113.6,
            "count": 1
           },
           {
            "bin_end": 28103.4,
            "bin_start": 26608.5,
            "count": 1
           },
           {
            "bin_end": 29598.300000000003,
            "bin_start": 28103.4,
            "count": 0
           },
           {
            "bin_end": 31093.2,
            "bin_start": 29598.300000000003,
            "count": 0
           },
           {
            "bin_end": 32588.1,
            "bin_start": 31093.2,
            "count": 1
           },
           {
            "bin_end": 34083,
            "bin_start": 32588.1,
            "count": 1
           }
          ],
          "max": "34083.0",
          "min": "19134.0",
          "nan_count": 0,
          "unique_count": 5
         }
        },
        {
         "dtype": "float64",
         "name": "AMT_INCOME_TOTAL",
         "stats": {
          "histogram": [
           {
            "bin_end": 132750,
            "bin_start": 112500,
            "count": 2
           },
           {
            "bin_end": 153000,
            "bin_start": 132750,
            "count": 1
           },
           {
            "bin_end": 173250,
            "bin_start": 153000,
            "count": 0
           },
           {
            "bin_end": 193500,
            "bin_start": 173250,
            "count": 0
           },
           {
            "bin_end": 213750,
            "bin_start": 193500,
            "count": 0
           },
           {
            "bin_end": 234000,
            "bin_start": 213750,
            "count": 0
           },
           {
            "bin_end": 254250,
            "bin_start": 234000,
            "count": 0
           },
           {
            "bin_end": 274500,
            "bin_start": 254250,
            "count": 1
           },
           {
            "bin_end": 294750,
            "bin_start": 274500,
            "count": 0
           },
           {
            "bin_end": 315000,
            "bin_start": 294750,
            "count": 1
           }
          ],
          "max": "315000.0",
          "min": "112500.0",
          "nan_count": 0,
          "unique_count": 5
         }
        },
        {
         "dtype": "int64",
         "name": "CNT_CHILDREN",
         "stats": {
          "histogram": [
           {
            "bin_end": 0.1,
            "bin_start": 0,
            "count": 3
           },
           {
            "bin_end": 0.2,
            "bin_start": 0.1,
            "count": 0
           },
           {
            "bin_end": 0.30000000000000004,
            "bin_start": 0.2,
            "count": 0
           },
           {
            "bin_end": 0.4,
            "bin_start": 0.30000000000000004,
            "count": 0
           },
           {
            "bin_end": 0.5,
            "bin_start": 0.4,
            "count": 0
           },
           {
            "bin_end": 0.6000000000000001,
            "bin_start": 0.5,
            "count": 0
           },
           {
            "bin_end": 0.7000000000000001,
            "bin_start": 0.6000000000000001,
            "count": 0
           },
           {
            "bin_end": 0.8,
            "bin_start": 0.7000000000000001,
            "count": 0
           },
           {
            "bin_end": 0.9,
            "bin_start": 0.8,
            "count": 0
           },
           {
            "bin_end": 1,
            "bin_start": 0.9,
            "count": 2
           }
          ],
          "max": "1",
          "min": "0",
          "nan_count": 0,
          "unique_count": 2
         }
        },
        {
         "dtype": "int64",
         "name": "CNT_FAM_MEMBERS",
         "stats": {
          "histogram": [
           {
            "bin_end": 1.2,
            "bin_start": 1,
            "count": 3
           },
           {
            "bin_end": 1.4,
            "bin_start": 1.2,
            "count": 0
           },
           {
            "bin_end": 1.6,
            "bin_start": 1.4,
            "count": 0
           },
           {
            "bin_end": 1.8,
            "bin_start": 1.6,
            "count": 0
           },
           {
            "bin_end": 2,
            "bin_start": 1.8,
            "count": 0
           },
           {
            "bin_end": 2.2,
            "bin_start": 2,
            "count": 0
           },
           {
            "bin_end": 2.4000000000000004,
            "bin_start": 2.2,
            "count": 0
           },
           {
            "bin_end": 2.6,
            "bin_start": 2.4000000000000004,
            "count": 0
           },
           {
            "bin_end": 2.8,
            "bin_start": 2.6,
            "count": 0
           },
           {
            "bin_end": 3,
            "bin_start": 2.8,
            "count": 2
           }
          ],
          "max": "3",
          "min": "1",
          "nan_count": 0,
          "unique_count": 2
         }
        },
        {
         "dtype": "object",
         "name": "CODE_GENDER",
         "stats": {
          "categories": [
           {
            "count": 4,
            "name": "F"
           },
           {
            "count": 1,
            "name": "M"
           }
          ],
          "nan_count": 0,
          "unique_count": 2
         }
        },
        {
         "dtype": "int64",
         "name": "DAYS_EMPLOYED",
         "stats": {
          "histogram": [
           {
            "bin_end": 34744.1,
            "bin_start": -1978,
            "count": 4
           },
           {
            "bin_end": 71466.2,
            "bin_start": 34744.1,
            "count": 0
           },
           {
            "bin_end": 108188.29999999999,
            "bin_start": 71466.2,
            "count": 0
           },
           {
            "bin_end": 144910.4,
            "bin_start": 108188.29999999999,
            "count": 0
           },
           {
            "bin_end": 181632.5,
            "bin_start": 144910.4,
            "count": 0
           },
           {
            "bin_end": 218354.59999999998,
            "bin_start": 181632.5,
            "count": 0
           },
           {
            "bin_end": 255076.69999999998,
            "bin_start": 218354.59999999998,
            "count": 0
           },
           {
            "bin_end": 291798.8,
            "bin_start": 255076.69999999998,
            "count": 0
           },
           {
            "bin_end": 328520.89999999997,
            "bin_start": 291798.8,
            "count": 0
           },
           {
            "bin_end": 365243,
            "bin_start": 328520.89999999997,
            "count": 1
           }
          ],
          "max": "365243",
          "min": "-1978",
          "nan_count": 0,
          "unique_count": 5
         }
        },
        {
         "dtype": "int64",
         "name": "DAYS_ID_PUBLISH",
         "stats": {
          "histogram": [
           {
            "bin_end": -3758.7,
            "bin_start": -4116,
            "count": 1
           },
           {
            "bin_end": -3401.4,
            "bin_start": -3758.7,
            "count": 0
           },
           {
            "bin_end": -3044.1,
            "bin_start": -3401.4,
            "count": 0
           },
           {
            "bin_end": -2686.8,
            "bin_start": -3044.1,
            "count": 0
           },
           {
            "bin_end": -2329.5,
            "bin_start": -2686.8,
            "count": 0
           },
           {
            "bin_end": -1972.1999999999998,
            "bin_start": -2329.5,
            "count": 0
           },
           {
            "bin_end": -1614.9,
            "bin_start": -1972.1999999999998,
            "count": 0
           },
           {
            "bin_end": -1257.6,
            "bin_start": -1614.9,
            "count": 0
           },
           {
            "bin_end": -900.2999999999997,
            "bin_start": -1257.6,
            "count": 2
           },
           {
            "bin_end": -543,
            "bin_start": -900.2999999999997,
            "count": 2
           }
          ],
          "max": "-543",
          "min": "-4116",
          "nan_count": 0,
          "unique_count": 5
         }
        },
        {
         "dtype": "float64",
         "name": "DAYS_LAST_PHONE_CHANGE",
         "stats": {
          "histogram": [
           {
            "bin_end": -1846.8,
            "bin_start": -2052,
            "count": 1
           },
           {
            "bin_end": -1641.6,
            "bin_start": -1846.8,
            "count": 0
           },
           {
            "bin_end": -1436.4,
            "bin_start": -1641.6,
            "count": 0
           },
           {
            "bin_end": -1231.2,
            "bin_start": -1436.4,
            "count": 0
           },
           {
            "bin_end": -1026,
            "bin_start": -1231.2,
            "count": 0
           },
           {
            "bin_end": -820.8000000000002,
            "bin_start": -1026,
            "count": 1
           },
           {
            "bin_end": -615.6000000000001,
            "bin_start": -820.8000000000002,
            "count": 1
           },
           {
            "bin_end": -410.4000000000001,
            "bin_start": -615.6000000000001,
            "count": 0
           },
           {
            "bin_end": -205.20000000000005,
            "bin_start": -410.4000000000001,
            "count": 0
           },
           {
            "bin_end": 0,
            "bin_start": -205.20000000000005,
            "count": 1
           }
          ],
          "max": "0.0",
          "min": "-2052.0",
          "nan_count": 1,
          "unique_count": 4
         }
        },
        {
         "dtype": "int64",
         "name": "DAYS_REGISTRATION",
         "stats": {
          "histogram": [
           {
            "bin_end": -4628.4,
            "bin_start": -5103,
            "count": 2
           },
           {
            "bin_end": -4153.8,
            "bin_start": -4628.4,
            "count": 1
           },
           {
            "bin_end": -3679.2,
            "bin_start": -4153.8,
            "count": 0
           },
           {
            "bin_end": -3204.6,
            "bin_start": -3679.2,
            "count": 0
           },
           {
            "bin_end": -2730,
            "bin_start": -3204.6,
            "count": 0
           },
           {
            "bin_end": -2255.3999999999996,
            "bin_start": -2730,
            "count": 0
           },
           {
            "bin_end": -1780.7999999999997,
            "bin_start": -2255.3999999999996,
            "count": 0
           },
           {
            "bin_end": -1306.1999999999998,
            "bin_start": -1780.7999999999997,
            "count": 0
           },
           {
            "bin_end": -831.5999999999995,
            "bin_start": -1306.1999999999998,
            "count": 0
           },
           {
            "bin_end": -357,
            "bin_start": -831.5999999999995,
            "count": 2
           }
          ],
          "max": "-357",
          "min": "-5103",
          "nan_count": 0,
          "unique_count": 5
         }
        },
        {
         "dtype": "int64",
         "name": "FLAG_DOCUMENT_10",
         "stats": {
          "histogram": [
           {
            "bin_end": -0.4,
            "bin_start": -0.5,
            "count": 0
           },
           {
            "bin_end": -0.3,
            "bin_start": -0.4,
            "count": 0
           },
           {
            "bin_end": -0.19999999999999996,
            "bin_start": -0.3,
            "count": 0
           },
           {
            "bin_end": -0.09999999999999998,
            "bin_start": -0.19999999999999996,
            "count": 0
           },
           {
            "bin_end": 0,
            "bin_start": -0.09999999999999998,
            "count": 0
           },
           {
            "bin_end": 0.10000000000000009,
            "bin_start": 0,
            "count": 5
           },
           {
            "bin_end": 0.20000000000000007,
            "bin_start": 0.10000000000000009,
            "count": 0
           },
           {
            "bin_end": 0.30000000000000004,
            "bin_start": 0.20000000000000007,
            "count": 0
           },
           {
            "bin_end": 0.4,
            "bin_start": 0.30000000000000004,
            "count": 0
           },
           {
            "bin_end": 0.5,
            "bin_start": 0.4,
            "count": 0
           }
          ],
          "max": "0",
          "min": "0",
          "nan_count": 0,
          "unique_count": 1
         }
        },
        {
         "dtype": "int64",
         "name": "FLAG_DOCUMENT_11",
         "stats": {
          "histogram": [
           {
            "bin_end": -0.4,
            "bin_start": -0.5,
            "count": 0
           },
           {
            "bin_end": -0.3,
            "bin_start": -0.4,
            "count": 0
           },
           {
            "bin_end": -0.19999999999999996,
            "bin_start": -0.3,
            "count": 0
           },
           {
            "bin_end": -0.09999999999999998,
            "bin_start": -0.19999999999999996,
            "count": 0
           },
           {
            "bin_end": 0,
            "bin_start": -0.09999999999999998,
            "count": 0
           },
           {
            "bin_end": 0.10000000000000009,
            "bin_start": 0,
            "count": 5
           },
           {
            "bin_end": 0.20000000000000007,
            "bin_start": 0.10000000000000009,
            "count": 0
           },
           {
            "bin_end": 0.30000000000000004,
            "bin_start": 0.20000000000000007,
            "count": 0
           },
           {
            "bin_end": 0.4,
            "bin_start": 0.30000000000000004,
            "count": 0
           },
           {
            "bin_end": 0.5,
            "bin_start": 0.4,
            "count": 0
           }
          ],
          "max": "0",
          "min": "0",
          "nan_count": 0,
          "unique_count": 1
         }
        },
        {
         "dtype": "int64",
         "name": "FLAG_DOCUMENT_12",
         "stats": {
          "histogram": [
           {
            "bin_end": -0.4,
            "bin_start": -0.5,
            "count": 0
           },
           {
            "bin_end": -0.3,
            "bin_start": -0.4,
            "count": 0
           },
           {
            "bin_end": -0.19999999999999996,
            "bin_start": -0.3,
            "count": 0
           },
           {
            "bin_end": -0.09999999999999998,
            "bin_start": -0.19999999999999996,
            "count": 0
           },
           {
            "bin_end": 0,
            "bin_start": -0.09999999999999998,
            "count": 0
           },
           {
            "bin_end": 0.10000000000000009,
            "bin_start": 0,
            "count": 5
           },
           {
            "bin_end": 0.20000000000000007,
            "bin_start": 0.10000000000000009,
            "count": 0
           },
           {
            "bin_end": 0.30000000000000004,
            "bin_start": 0.20000000000000007,
            "count": 0
           },
           {
            "bin_end": 0.4,
            "bin_start": 0.30000000000000004,
            "count": 0
           },
           {
            "bin_end": 0.5,
            "bin_start": 0.4,
            "count": 0
           }
          ],
          "max": "0",
          "min": "0",
          "nan_count": 0,
          "unique_count": 1
         }
        },
        {
         "dtype": "int64",
         "name": "FLAG_DOCUMENT_13",
         "stats": {
          "histogram": [
           {
            "bin_end": -0.4,
            "bin_start": -0.5,
            "count": 0
           },
           {
            "bin_end": -0.3,
            "bin_start": -0.4,
            "count": 0
           },
           {
            "bin_end": -0.19999999999999996,
            "bin_start": -0.3,
            "count": 0
           },
           {
            "bin_end": -0.09999999999999998,
            "bin_start": -0.19999999999999996,
            "count": 0
           },
           {
            "bin_end": 0,
            "bin_start": -0.09999999999999998,
            "count": 0
           },
           {
            "bin_end": 0.10000000000000009,
            "bin_start": 0,
            "count": 5
           },
           {
            "bin_end": 0.20000000000000007,
            "bin_start": 0.10000000000000009,
            "count": 0
           },
           {
            "bin_end": 0.30000000000000004,
            "bin_start": 0.20000000000000007,
            "count": 0
           },
           {
            "bin_end": 0.4,
            "bin_start": 0.30000000000000004,
            "count": 0
           },
           {
            "bin_end": 0.5,
            "bin_start": 0.4,
            "count": 0
           }
          ],
          "max": "0",
          "min": "0",
          "nan_count": 0,
          "unique_count": 1
         }
        },
        {
         "dtype": "int64",
         "name": "FLAG_DOCUMENT_14",
         "stats": {
          "histogram": [
           {
            "bin_end": -0.4,
            "bin_start": -0.5,
            "count": 0
           },
           {
            "bin_end": -0.3,
            "bin_start": -0.4,
            "count": 0
           },
           {
            "bin_end": -0.19999999999999996,
            "bin_start": -0.3,
            "count": 0
           },
           {
            "bin_end": -0.09999999999999998,
            "bin_start": -0.19999999999999996,
            "count": 0
           },
           {
            "bin_end": 0,
            "bin_start": -0.09999999999999998,
            "count": 0
           },
           {
            "bin_end": 0.10000000000000009,
            "bin_start": 0,
            "count": 5
           },
           {
            "bin_end": 0.20000000000000007,
            "bin_start": 0.10000000000000009,
            "count": 0
           },
           {
            "bin_end": 0.30000000000000004,
            "bin_start": 0.20000000000000007,
            "count": 0
           },
           {
            "bin_end": 0.4,
            "bin_start": 0.30000000000000004,
            "count": 0
           },
           {
            "bin_end": 0.5,
            "bin_start": 0.4,
            "count": 0
           }
          ],
          "max": "0",
          "min": "0",
          "nan_count": 0,
          "unique_count": 1
         }
        },
        {
         "dtype": "int64",
         "name": "FLAG_DOCUMENT_15",
         "stats": {
          "histogram": [
           {
            "bin_end": -0.4,
            "bin_start": -0.5,
            "count": 0
           },
           {
            "bin_end": -0.3,
            "bin_start": -0.4,
            "count": 0
           },
           {
            "bin_end": -0.19999999999999996,
            "bin_start": -0.3,
            "count": 0
           },
           {
            "bin_end": -0.09999999999999998,
            "bin_start": -0.19999999999999996,
            "count": 0
           },
           {
            "bin_end": 0,
            "bin_start": -0.09999999999999998,
            "count": 0
           },
           {
            "bin_end": 0.10000000000000009,
            "bin_start": 0,
            "count": 5
           },
           {
            "bin_end": 0.20000000000000007,
            "bin_start": 0.10000000000000009,
            "count": 0
           },
           {
            "bin_end": 0.30000000000000004,
            "bin_start": 0.20000000000000007,
            "count": 0
           },
           {
            "bin_end": 0.4,
            "bin_start": 0.30000000000000004,
            "count": 0
           },
           {
            "bin_end": 0.5,
            "bin_start": 0.4,
            "count": 0
           }
          ],
          "max": "0",
          "min": "0",
          "nan_count": 0,
          "unique_count": 1
         }
        },
        {
         "dtype": "int64",
         "name": "FLAG_DOCUMENT_16",
         "stats": {
          "histogram": [
           {
            "bin_end": -0.4,
            "bin_start": -0.5,
            "count": 0
           },
           {
            "bin_end": -0.3,
            "bin_start": -0.4,
            "count": 0
           },
           {
            "bin_end": -0.19999999999999996,
            "bin_start": -0.3,
            "count": 0
           },
           {
            "bin_end": -0.09999999999999998,
            "bin_start": -0.19999999999999996,
            "count": 0
           },
           {
            "bin_end": 0,
            "bin_start": -0.09999999999999998,
            "count": 0
           },
           {
            "bin_end": 0.10000000000000009,
            "bin_start": 0,
            "count": 5
           },
           {
            "bin_end": 0.20000000000000007,
            "bin_start": 0.10000000000000009,
            "count": 0
           },
           {
            "bin_end": 0.30000000000000004,
            "bin_start": 0.20000000000000007,
            "count": 0
           },
           {
            "bin_end": 0.4,
            "bin_start": 0.30000000000000004,
            "count": 0
           },
           {
            "bin_end": 0.5,
            "bin_start": 0.4,
            "count": 0
           }
          ],
          "max": "0",
          "min": "0",
          "nan_count": 0,
          "unique_count": 1
         }
        },
        {
         "dtype": "int64",
         "name": "FLAG_DOCUMENT_17",
         "stats": {
          "histogram": [
           {
            "bin_end": -0.4,
            "bin_start": -0.5,
            "count": 0
           },
           {
            "bin_end": -0.3,
            "bin_start": -0.4,
            "count": 0
           },
           {
            "bin_end": -0.19999999999999996,
            "bin_start": -0.3,
            "count": 0
           },
           {
            "bin_end": -0.09999999999999998,
            "bin_start": -0.19999999999999996,
            "count": 0
           },
           {
            "bin_end": 0,
            "bin_start": -0.09999999999999998,
            "count": 0
           },
           {
            "bin_end": 0.10000000000000009,
            "bin_start": 0,
            "count": 5
           },
           {
            "bin_end": 0.20000000000000007,
            "bin_start": 0.10000000000000009,
            "count": 0
           },
           {
            "bin_end": 0.30000000000000004,
            "bin_start": 0.20000000000000007,
            "count": 0
           },
           {
            "bin_end": 0.4,
            "bin_start": 0.30000000000000004,
            "count": 0
           },
           {
            "bin_end": 0.5,
            "bin_start": 0.4,
            "count": 0
           }
          ],
          "max": "0",
          "min": "0",
          "nan_count": 0,
          "unique_count": 1
         }
        },
        {
         "dtype": "int64",
         "name": "FLAG_DOCUMENT_18",
         "stats": {
          "histogram": [
           {
            "bin_end": -0.4,
            "bin_start": -0.5,
            "count": 0
           },
           {
            "bin_end": -0.3,
            "bin_start": -0.4,
            "count": 0
           },
           {
            "bin_end": -0.19999999999999996,
            "bin_start": -0.3,
            "count": 0
           },
           {
            "bin_end": -0.09999999999999998,
            "bin_start": -0.19999999999999996,
            "count": 0
           },
           {
            "bin_end": 0,
            "bin_start": -0.09999999999999998,
            "count": 0
           },
           {
            "bin_end": 0.10000000000000009,
            "bin_start": 0,
            "count": 5
           },
           {
            "bin_end": 0.20000000000000007,
            "bin_start": 0.10000000000000009,
            "count": 0
           },
           {
            "bin_end": 0.30000000000000004,
            "bin_start": 0.20000000000000007,
            "count": 0
           },
           {
            "bin_end": 0.4,
            "bin_start": 0.30000000000000004,
            "count": 0
           },
           {
            "bin_end": 0.5,
            "bin_start": 0.4,
            "count": 0
           }
          ],
          "max": "0",
          "min": "0",
          "nan_count": 0,
          "unique_count": 1
         }
        },
        {
         "dtype": "int64",
         "name": "FLAG_DOCUMENT_19",
         "stats": {
          "histogram": [
           {
            "bin_end": -0.4,
            "bin_start": -0.5,
            "count": 0
           },
           {
            "bin_end": -0.3,
            "bin_start": -0.4,
            "count": 0
           },
           {
            "bin_end": -0.19999999999999996,
            "bin_start": -0.3,
            "count": 0
           },
           {
            "bin_end": -0.09999999999999998,
            "bin_start": -0.19999999999999996,
            "count": 0
           },
           {
            "bin_end": 0,
            "bin_start": -0.09999999999999998,
            "count": 0
           },
           {
            "bin_end": 0.10000000000000009,
            "bin_start": 0,
            "count": 5
           },
           {
            "bin_end": 0.20000000000000007,
            "bin_start": 0.10000000000000009,
            "count": 0
           },
           {
            "bin_end": 0.30000000000000004,
            "bin_start": 0.20000000000000007,
            "count": 0
           },
           {
            "bin_end": 0.4,
            "bin_start": 0.30000000000000004,
            "count": 0
           },
           {
            "bin_end": 0.5,
            "bin_start": 0.4,
            "count": 0
           }
          ],
          "max": "0",
          "min": "0",
          "nan_count": 0,
          "unique_count": 1
         }
        },
        {
         "dtype": "int64",
         "name": "FLAG_DOCUMENT_2",
         "stats": {
          "histogram": [
           {
            "bin_end": -0.4,
            "bin_start": -0.5,
            "count": 0
           },
           {
            "bin_end": -0.3,
            "bin_start": -0.4,
            "count": 0
           },
           {
            "bin_end": -0.19999999999999996,
            "bin_start": -0.3,
            "count": 0
           },
           {
            "bin_end": -0.09999999999999998,
            "bin_start": -0.19999999999999996,
            "count": 0
           },
           {
            "bin_end": 0,
            "bin_start": -0.09999999999999998,
            "count": 0
           },
           {
            "bin_end": 0.10000000000000009,
            "bin_start": 0,
            "count": 5
           },
           {
            "bin_end": 0.20000000000000007,
            "bin_start": 0.10000000000000009,
            "count": 0
           },
           {
            "bin_end": 0.30000000000000004,
            "bin_start": 0.20000000000000007,
            "count": 0
           },
           {
            "bin_end": 0.4,
            "bin_start": 0.30000000000000004,
            "count": 0
           },
           {
            "bin_end": 0.5,
            "bin_start": 0.4,
            "count": 0
           }
          ],
          "max": "0",
          "min": "0",
          "nan_count": 0,
          "unique_count": 1
         }
        },
        {
         "dtype": "int64",
         "name": "FLAG_DOCUMENT_20",
         "stats": {
          "histogram": [
           {
            "bin_end": -0.4,
            "bin_start": -0.5,
            "count": 0
           },
           {
            "bin_end": -0.3,
            "bin_start": -0.4,
            "count": 0
           },
           {
            "bin_end": -0.19999999999999996,
            "bin_start": -0.3,
            "count": 0
           },
           {
            "bin_end": -0.09999999999999998,
            "bin_start": -0.19999999999999996,
            "count": 0
           },
           {
            "bin_end": 0,
            "bin_start": -0.09999999999999998,
            "count": 0
           },
           {
            "bin_end": 0.10000000000000009,
            "bin_start": 0,
            "count": 5
           },
           {
            "bin_end": 0.20000000000000007,
            "bin_start": 0.10000000000000009,
            "count": 0
           },
           {
            "bin_end": 0.30000000000000004,
            "bin_start": 0.20000000000000007,
            "count": 0
           },
           {
            "bin_end": 0.4,
            "bin_start": 0.30000000000000004,
            "count": 0
           },
           {
            "bin_end": 0.5,
            "bin_start": 0.4,
            "count": 0
           }
          ],
          "max": "0",
          "min": "0",
          "nan_count": 0,
          "unique_count": 1
         }
        },
        {
         "dtype": "int64",
         "name": "FLAG_DOCUMENT_21",
         "stats": {
          "histogram": [
           {
            "bin_end": -0.4,
            "bin_start": -0.5,
            "count": 0
           },
           {
            "bin_end": -0.3,
            "bin_start": -0.4,
            "count": 0
           },
           {
            "bin_end": -0.19999999999999996,
            "bin_start": -0.3,
            "count": 0
           },
           {
            "bin_end": -0.09999999999999998,
            "bin_start": -0.19999999999999996,
            "count": 0
           },
           {
            "bin_end": 0,
            "bin_start": -0.09999999999999998,
            "count": 0
           },
           {
            "bin_end": 0.10000000000000009,
            "bin_start": 0,
            "count": 5
           },
           {
            "bin_end": 0.20000000000000007,
            "bin_start": 0.10000000000000009,
            "count": 0
           },
           {
            "bin_end": 0.30000000000000004,
            "bin_start": 0.20000000000000007,
            "count": 0
           },
           {
            "bin_end": 0.4,
            "bin_start": 0.30000000000000004,
            "count": 0
           },
           {
            "bin_end": 0.5,
            "bin_start": 0.4,
            "count": 0
           }
          ],
          "max": "0",
          "min": "0",
          "nan_count": 0,
          "unique_count": 1
         }
        },
        {
         "dtype": "int64",
         "name": "FLAG_DOCUMENT_3",
         "stats": {
          "histogram": [
           {
            "bin_end": 0.1,
            "bin_start": 0,
            "count": 1
           },
           {
            "bin_end": 0.2,
            "bin_start": 0.1,
            "count": 0
           },
           {
            "bin_end": 0.30000000000000004,
            "bin_start": 0.2,
            "count": 0
           },
           {
            "bin_end": 0.4,
            "bin_start": 0.30000000000000004,
            "count": 0
           },
           {
            "bin_end": 0.5,
            "bin_start": 0.4,
            "count": 0
           },
           {
            "bin_end": 0.6000000000000001,
            "bin_start": 0.5,
            "count": 0
           },
           {
            "bin_end": 0.7000000000000001,
            "bin_start": 0.6000000000000001,
            "count": 0
           },
           {
            "bin_end": 0.8,
            "bin_start": 0.7000000000000001,
            "count": 0
           },
           {
            "bin_end": 0.9,
            "bin_start": 0.8,
            "count": 0
           },
           {
            "bin_end": 1,
            "bin_start": 0.9,
            "count": 4
           }
          ],
          "max": "1",
          "min": "0",
          "nan_count": 0,
          "unique_count": 2
         }
        },
        {
         "dtype": "int64",
         "name": "FLAG_DOCUMENT_4",
         "stats": {
          "histogram": [
           {
            "bin_end": -0.4,
            "bin_start": -0.5,
            "count": 0
           },
           {
            "bin_end": -0.3,
            "bin_start": -0.4,
            "count": 0
           },
           {
            "bin_end": -0.19999999999999996,
            "bin_start": -0.3,
            "count": 0
           },
           {
            "bin_end": -0.09999999999999998,
            "bin_start": -0.19999999999999996,
            "count": 0
           },
           {
            "bin_end": 0,
            "bin_start": -0.09999999999999998,
            "count": 0
           },
           {
            "bin_end": 0.10000000000000009,
            "bin_start": 0,
            "count": 5
           },
           {
            "bin_end": 0.20000000000000007,
            "bin_start": 0.10000000000000009,
            "count": 0
           },
           {
            "bin_end": 0.30000000000000004,
            "bin_start": 0.20000000000000007,
            "count": 0
           },
           {
            "bin_end": 0.4,
            "bin_start": 0.30000000000000004,
            "count": 0
           },
           {
            "bin_end": 0.5,
            "bin_start": 0.4,
            "count": 0
           }
          ],
          "max": "0",
          "min": "0",
          "nan_count": 0,
          "unique_count": 1
         }
        },
        {
         "dtype": "int64",
         "name": "FLAG_DOCUMENT_5",
         "stats": {
          "histogram": [
           {
            "bin_end": -0.4,
            "bin_start": -0.5,
            "count": 0
           },
           {
            "bin_end": -0.3,
            "bin_start": -0.4,
            "count": 0
           },
           {
            "bin_end": -0.19999999999999996,
            "bin_start": -0.3,
            "count": 0
           },
           {
            "bin_end": -0.09999999999999998,
            "bin_start": -0.19999999999999996,
            "count": 0
           },
           {
            "bin_end": 0,
            "bin_start": -0.09999999999999998,
            "count": 0
           },
           {
            "bin_end": 0.10000000000000009,
            "bin_start": 0,
            "count": 5
           },
           {
            "bin_end": 0.20000000000000007,
            "bin_start": 0.10000000000000009,
            "count": 0
           },
           {
            "bin_end": 0.30000000000000004,
            "bin_start": 0.20000000000000007,
            "count": 0
           },
           {
            "bin_end": 0.4,
            "bin_start": 0.30000000000000004,
            "count": 0
           },
           {
            "bin_end": 0.5,
            "bin_start": 0.4,
            "count": 0
           }
          ],
          "max": "0",
          "min": "0",
          "nan_count": 0,
          "unique_count": 1
         }
        },
        {
         "dtype": "int64",
         "name": "FLAG_DOCUMENT_6",
         "stats": {
          "histogram": [
           {
            "bin_end": 0.1,
            "bin_start": 0,
            "count": 4
           },
           {
            "bin_end": 0.2,
            "bin_start": 0.1,
            "count": 0
           },
           {
            "bin_end": 0.30000000000000004,
            "bin_start": 0.2,
            "count": 0
           },
           {
            "bin_end": 0.4,
            "bin_start": 0.30000000000000004,
            "count": 0
           },
           {
            "bin_end": 0.5,
            "bin_start": 0.4,
            "count": 0
           },
           {
            "bin_end": 0.6000000000000001,
            "bin_start": 0.5,
            "count": 0
           },
           {
            "bin_end": 0.7000000000000001,
            "bin_start": 0.6000000000000001,
            "count": 0
           },
           {
            "bin_end": 0.8,
            "bin_start": 0.7000000000000001,
            "count": 0
           },
           {
            "bin_end": 0.9,
            "bin_start": 0.8,
            "count": 0
           },
           {
            "bin_end": 1,
            "bin_start": 0.9,
            "count": 1
           }
          ],
          "max": "1",
          "min": "0",
          "nan_count": 0,
          "unique_count": 2
         }
        },
        {
         "dtype": "int64",
         "name": "FLAG_DOCUMENT_7",
         "stats": {
          "histogram": [
           {
            "bin_end": -0.4,
            "bin_start": -0.5,
            "count": 0
           },
           {
            "bin_end": -0.3,
            "bin_start": -0.4,
            "count": 0
           },
           {
            "bin_end": -0.19999999999999996,
            "bin_start": -0.3,
            "count": 0
           },
           {
            "bin_end": -0.09999999999999998,
            "bin_start": -0.19999999999999996,
            "count": 0
           },
           {
            "bin_end": 0,
            "bin_start": -0.09999999999999998,
            "count": 0
           },
           {
            "bin_end": 0.10000000000000009,
            "bin_start": 0,
            "count": 5
           },
           {
            "bin_end": 0.20000000000000007,
            "bin_start": 0.10000000000000009,
            "count": 0
           },
           {
            "bin_end": 0.30000000000000004,
            "bin_start": 0.20000000000000007,
            "count": 0
           },
           {
            "bin_end": 0.4,
            "bin_start": 0.30000000000000004,
            "count": 0
           },
           {
            "bin_end": 0.5,
            "bin_start": 0.4,
            "count": 0
           }
          ],
          "max": "0",
          "min": "0",
          "nan_count": 0,
          "unique_count": 1
         }
        },
        {
         "dtype": "int64",
         "name": "FLAG_DOCUMENT_8",
         "stats": {
          "histogram": [
           {
            "bin_end": -0.4,
            "bin_start": -0.5,
            "count": 0
           },
           {
            "bin_end": -0.3,
            "bin_start": -0.4,
            "count": 0
           },
           {
            "bin_end": -0.19999999999999996,
            "bin_start": -0.3,
            "count": 0
           },
           {
            "bin_end": -0.09999999999999998,
            "bin_start": -0.19999999999999996,
            "count": 0
           },
           {
            "bin_end": 0,
            "bin_start": -0.09999999999999998,
            "count": 0
           },
           {
            "bin_end": 0.10000000000000009,
            "bin_start": 0,
            "count": 5
           },
           {
            "bin_end": 0.20000000000000007,
            "bin_start": 0.10000000000000009,
            "count": 0
           },
           {
            "bin_end": 0.30000000000000004,
            "bin_start": 0.20000000000000007,
            "count": 0
           },
           {
            "bin_end": 0.4,
            "bin_start": 0.30000000000000004,
            "count": 0
           },
           {
            "bin_end": 0.5,
            "bin_start": 0.4,
            "count": 0
           }
          ],
          "max": "0",
          "min": "0",
          "nan_count": 0,
          "unique_count": 1
         }
        },
        {
         "dtype": "int64",
         "name": "FLAG_DOCUMENT_9",
         "stats": {
          "histogram": [
           {
            "bin_end": -0.4,
            "bin_start": -0.5,
            "count": 0
           },
           {
            "bin_end": -0.3,
            "bin_start": -0.4,
            "count": 0
           },
           {
            "bin_end": -0.19999999999999996,
            "bin_start": -0.3,
            "count": 0
           },
           {
            "bin_end": -0.09999999999999998,
            "bin_start": -0.19999999999999996,
            "count": 0
           },
           {
            "bin_end": 0,
            "bin_start": -0.09999999999999998,
            "count": 0
           },
           {
            "bin_end": 0.10000000000000009,
            "bin_start": 0,
            "count": 5
           },
           {
            "bin_end": 0.20000000000000007,
            "bin_start": 0.10000000000000009,
            "count": 0
           },
           {
            "bin_end": 0.30000000000000004,
            "bin_start": 0.20000000000000007,
            "count": 0
           },
           {
            "bin_end": 0.4,
            "bin_start": 0.30000000000000004,
            "count": 0
           },
           {
            "bin_end": 0.5,
            "bin_start": 0.4,
            "count": 0
           }
          ],
          "max": "0",
          "min": "0",
          "nan_count": 0,
          "unique_count": 1
         }
        },
        {
         "dtype": "int64",
         "name": "FLAG_EMAIL",
         "stats": {
          "histogram": [
           {
            "bin_end": 0.1,
            "bin_start": 0,
            "count": 3
           },
           {
            "bin_end": 0.2,
            "bin_start": 0.1,
            "count": 0
           },
           {
            "bin_end": 0.30000000000000004,
            "bin_start": 0.2,
            "count": 0
           },
           {
            "bin_end": 0.4,
            "bin_start": 0.30000000000000004,
            "count": 0
           },
           {
            "bin_end": 0.5,
            "bin_start": 0.4,
            "count": 0
           },
           {
            "bin_end": 0.6000000000000001,
            "bin_start": 0.5,
            "count": 0
           },
           {
            "bin_end": 0.7000000000000001,
            "bin_start": 0.6000000000000001,
            "count": 0
           },
           {
            "bin_end": 0.8,
            "bin_start": 0.7000000000000001,
            "count": 0
           },
           {
            "bin_end": 0.9,
            "bin_start": 0.8,
            "count": 0
           },
           {
            "bin_end": 1,
            "bin_start": 0.9,
            "count": 2
           }
          ],
          "max": "1",
          "min": "0",
          "nan_count": 0,
          "unique_count": 2
         }
        },
        {
         "dtype": "object",
         "name": "FLAG_OWN_CAR",
         "stats": {
          "categories": [
           {
            "count": 5,
            "name": "N"
           }
          ],
          "nan_count": 0,
          "unique_count": 1
         }
        },
        {
         "dtype": "object",
         "name": "FLAG_OWN_REALTY",
         "stats": {
          "categories": [
           {
            "count": 3,
            "name": "Y"
           },
           {
            "count": 2,
            "name": "N"
           }
          ],
          "nan_count": 0,
          "unique_count": 2
         }
        },
        {
         "dtype": "int64",
         "name": "FLAG_PHONE",
         "stats": {
          "histogram": [
           {
            "bin_end": 0.1,
            "bin_start": 0,
            "count": 3
           },
           {
            "bin_end": 0.2,
            "bin_start": 0.1,
            "count": 0
           },
           {
            "bin_end": 0.30000000000000004,
            "bin_start": 0.2,
            "count": 0
           },
           {
            "bin_end": 0.4,
            "bin_start": 0.30000000000000004,
            "count": 0
           },
           {
            "bin_end": 0.5,
            "bin_start": 0.4,
            "count": 0
           },
           {
            "bin_end": 0.6000000000000001,
            "bin_start": 0.5,
            "count": 0
           },
           {
            "bin_end": 0.7000000000000001,
            "bin_start": 0.6000000000000001,
            "count": 0
           },
           {
            "bin_end": 0.8,
            "bin_start": 0.7000000000000001,
            "count": 0
           },
           {
            "bin_end": 0.9,
            "bin_start": 0.8,
            "count": 0
           },
           {
            "bin_end": 1,
            "bin_start": 0.9,
            "count": 2
           }
          ],
          "max": "1",
          "min": "0",
          "nan_count": 0,
          "unique_count": 2
         }
        },
        {
         "dtype": "int64",
         "name": "FLAG_WORK_PHONE",
         "stats": {
          "histogram": [
           {
            "bin_end": -0.4,
            "bin_start": -0.5,
            "count": 0
           },
           {
            "bin_end": -0.3,
            "bin_start": -0.4,
            "count": 0
           },
           {
            "bin_end": -0.19999999999999996,
            "bin_start": -0.3,
            "count": 0
           },
           {
            "bin_end": -0.09999999999999998,
            "bin_start": -0.19999999999999996,
            "count": 0
           },
           {
            "bin_end": 0,
            "bin_start": -0.09999999999999998,
            "count": 0
           },
           {
            "bin_end": 0.10000000000000009,
            "bin_start": 0,
            "count": 5
           },
           {
            "bin_end": 0.20000000000000007,
            "bin_start": 0.10000000000000009,
            "count": 0
           },
           {
            "bin_end": 0.30000000000000004,
            "bin_start": 0.20000000000000007,
            "count": 0
           },
           {
            "bin_end": 0.4,
            "bin_start": 0.30000000000000004,
            "count": 0
           },
           {
            "bin_end": 0.5,
            "bin_start": 0.4,
            "count": 0
           }
          ],
          "max": "0",
          "min": "0",
          "nan_count": 0,
          "unique_count": 1
         }
        },
        {
         "dtype": "int64",
         "name": "LIVE_CITY_NOT_WORK_CITY",
         "stats": {
          "histogram": [
           {
            "bin_end": -0.4,
            "bin_start": -0.5,
            "count": 0
           },
           {
            "bin_end": -0.3,
            "bin_start": -0.4,
            "count": 0
           },
           {
            "bin_end": -0.19999999999999996,
            "bin_start": -0.3,
            "count": 0
           },
           {
            "bin_end": -0.09999999999999998,
            "bin_start": -0.19999999999999996,
            "count": 0
           },
           {
            "bin_end": 0,
            "bin_start": -0.09999999999999998,
            "count": 0
           },
           {
            "bin_end": 0.10000000000000009,
            "bin_start": 0,
            "count": 5
           },
           {
            "bin_end": 0.20000000000000007,
            "bin_start": 0.10000000000000009,
            "count": 0
           },
           {
            "bin_end": 0.30000000000000004,
            "bin_start": 0.20000000000000007,
            "count": 0
           },
           {
            "bin_end": 0.4,
            "bin_start": 0.30000000000000004,
            "count": 0
           },
           {
            "bin_end": 0.5,
            "bin_start": 0.4,
            "count": 0
           }
          ],
          "max": "0",
          "min": "0",
          "nan_count": 0,
          "unique_count": 1
         }
        },
        {
         "dtype": "int64",
         "name": "LIVE_REGION_NOT_WORK_REGION",
         "stats": {
          "histogram": [
           {
            "bin_end": 0.1,
            "bin_start": 0,
            "count": 4
           },
           {
            "bin_end": 0.2,
            "bin_start": 0.1,
            "count": 0
           },
           {
            "bin_end": 0.30000000000000004,
            "bin_start": 0.2,
            "count": 0
           },
           {
            "bin_end": 0.4,
            "bin_start": 0.30000000000000004,
            "count": 0
           },
           {
            "bin_end": 0.5,
            "bin_start": 0.4,
            "count": 0
           },
           {
            "bin_end": 0.6000000000000001,
            "bin_start": 0.5,
            "count": 0
           },
           {
            "bin_end": 0.7000000000000001,
            "bin_start": 0.6000000000000001,
            "count": 0
           },
           {
            "bin_end": 0.8,
            "bin_start": 0.7000000000000001,
            "count": 0
           },
           {
            "bin_end": 0.9,
            "bin_start": 0.8,
            "count": 0
           },
           {
            "bin_end": 1,
            "bin_start": 0.9,
            "count": 1
           }
          ],
          "max": "1",
          "min": "0",
          "nan_count": 0,
          "unique_count": 2
         }
        },
        {
         "dtype": "object",
         "name": "NAME_CONTRACT_TYPE",
         "stats": {
          "categories": [
           {
            "count": 5,
            "name": "Cash loans"
           }
          ],
          "nan_count": 0,
          "unique_count": 1
         }
        },
        {
         "dtype": "object",
         "name": "NAME_EDUCATION_TYPE",
         "stats": {
          "categories": [
           {
            "count": 4,
            "name": "Secondary / secondary special"
           },
           {
            "count": 1,
            "name": "Higher education"
           }
          ],
          "nan_count": 0,
          "unique_count": 2
         }
        },
        {
         "dtype": "object",
         "name": "NAME_FAMILY_STATUS",
         "stats": {
          "categories": [
           {
            "count": 2,
            "name": "Married"
           },
           {
            "count": 1,
            "name": "Widow"
           },
           {
            "count": 2,
            "name": "2 others"
           }
          ],
          "nan_count": 0,
          "unique_count": 4
         }
        },
        {
         "dtype": "object",
         "name": "NAME_HOUSING_TYPE",
         "stats": {
          "categories": [
           {
            "count": 3,
            "name": "House / apartment"
           },
           {
            "count": 1,
            "name": "Rented apartment"
           },
           {
            "count": 1,
            "name": "Office apartment"
           }
          ],
          "nan_count": 0,
          "unique_count": 3
         }
        },
        {
         "dtype": "object",
         "name": "NAME_INCOME_TYPE",
         "stats": {
          "categories": [
           {
            "count": 2,
            "name": "Commercial associate"
           },
           {
            "count": 2,
            "name": "Working"
           },
           {
            "count": 1,
            "name": "Pensioner"
           }
          ],
          "nan_count": 0,
          "unique_count": 3
         }
        },
        {
         "dtype": "object",
         "name": "NAME_TYPE_SUITE",
         "stats": {
          "categories": [
           {
            "count": 4,
            "name": "Unaccompanied"
           },
           {
            "count": 1,
            "name": "Family"
           }
          ],
          "nan_count": 0,
          "unique_count": 2
         }
        },
        {
         "dtype": "object",
         "name": "ORGANIZATION_TYPE",
         "stats": {
          "categories": [
           {
            "count": 2,
            "name": "Business Entity Type 3"
           },
           {
            "count": 1,
            "name": "Trade: type 2"
           },
           {
            "count": 2,
            "name": "2 others"
           }
          ],
          "nan_count": 0,
          "unique_count": 4
         }
        },
        {
         "dtype": "float64",
         "name": "REGION_POPULATION_RELATIVE",
         "stats": {
          "histogram": [
           {
            "bin_end": 0.0132169,
            "bin_start": 0.006629,
            "count": 3
           },
           {
            "bin_end": 0.0198048,
            "bin_start": 0.0132169,
            "count": 1
           },
           {
            "bin_end": 0.0263927,
            "bin_start": 0.0198048,
            "count": 0
           },
           {
            "bin_end": 0.032980600000000006,
            "bin_start": 0.0263927,
            "count": 0
           },
           {
            "bin_end": 0.039568500000000006,
            "bin_start": 0.032980600000000006,
            "count": 0
           },
           {
            "bin_end": 0.04615640000000001,
            "bin_start": 0.039568500000000006,
            "count": 0
           },
           {
            "bin_end": 0.05274430000000001,
            "bin_start": 0.04615640000000001,
            "count": 0
           },
           {
            "bin_end": 0.05933220000000001,
            "bin_start": 0.05274430000000001,
            "count": 0
           },
           {
            "bin_end": 0.06592010000000001,
            "bin_start": 0.05933220000000001,
            "count": 0
           },
           {
            "bin_end": 0.072508,
            "bin_start": 0.06592010000000001,
            "count": 1
           }
          ],
          "max": "0.072508",
          "min": "0.006629",
          "nan_count": 0,
          "unique_count": 5
         }
        },
        {
         "dtype": "int64",
         "name": "REGION_RATING_CLIENT",
         "stats": {
          "histogram": [
           {
            "bin_end": 1.1,
            "bin_start": 1,
            "count": 1
           },
           {
            "bin_end": 1.2,
            "bin_start": 1.1,
            "count": 0
           },
           {
            "bin_end": 1.3,
            "bin_start": 1.2,
            "count": 0
           },
           {
            "bin_end": 1.4,
            "bin_start": 1.3,
            "count": 0
           },
           {
            "bin_end": 1.5,
            "bin_start": 1.4,
            "count": 0
           },
           {
            "bin_end": 1.6,
            "bin_start": 1.5,
            "count": 0
           },
           {
            "bin_end": 1.7000000000000002,
            "bin_start": 1.6,
            "count": 0
           },
           {
            "bin_end": 1.8,
            "bin_start": 1.7000000000000002,
            "count": 0
           },
           {
            "bin_end": 1.9,
            "bin_start": 1.8,
            "count": 0
           },
           {
            "bin_end": 2,
            "bin_start": 1.9,
            "count": 4
           }
          ],
          "max": "2",
          "min": "1",
          "nan_count": 0,
          "unique_count": 2
         }
        },
        {
         "dtype": "int64",
         "name": "REGION_RATING_CLIENT_W_CITY",
         "stats": {
          "histogram": [
           {
            "bin_end": 1.1,
            "bin_start": 1,
            "count": 1
           },
           {
            "bin_end": 1.2,
            "bin_start": 1.1,
            "count": 0
           },
           {
            "bin_end": 1.3,
            "bin_start": 1.2,
            "count": 0
           },
           {
            "bin_end": 1.4,
            "bin_start": 1.3,
            "count": 0
           },
           {
            "bin_end": 1.5,
            "bin_start": 1.4,
            "count": 0
           },
           {
            "bin_end": 1.6,
            "bin_start": 1.5,
            "count": 0
           },
           {
            "bin_end": 1.7000000000000002,
            "bin_start": 1.6,
            "count": 0
           },
           {
            "bin_end": 1.8,
            "bin_start": 1.7000000000000002,
            "count": 0
           },
           {
            "bin_end": 1.9,
            "bin_start": 1.8,
            "count": 0
           },
           {
            "bin_end": 2,
            "bin_start": 1.9,
            "count": 4
           }
          ],
          "max": "2",
          "min": "1",
          "nan_count": 0,
          "unique_count": 2
         }
        },
        {
         "dtype": "int64",
         "name": "REG_CITY_NOT_LIVE_CITY",
         "stats": {
          "histogram": [
           {
            "bin_end": 0.1,
            "bin_start": 0,
            "count": 4
           },
           {
            "bin_end": 0.2,
            "bin_start": 0.1,
            "count": 0
           },
           {
            "bin_end": 0.30000000000000004,
            "bin_start": 0.2,
            "count": 0
           },
           {
            "bin_end": 0.4,
            "bin_start": 0.30000000000000004,
            "count": 0
           },
           {
            "bin_end": 0.5,
            "bin_start": 0.4,
            "count": 0
           },
           {
            "bin_end": 0.6000000000000001,
            "bin_start": 0.5,
            "count": 0
           },
           {
            "bin_end": 0.7000000000000001,
            "bin_start": 0.6000000000000001,
            "count": 0
           },
           {
            "bin_end": 0.8,
            "bin_start": 0.7000000000000001,
            "count": 0
           },
           {
            "bin_end": 0.9,
            "bin_start": 0.8,
            "count": 0
           },
           {
            "bin_end": 1,
            "bin_start": 0.9,
            "count": 1
           }
          ],
          "max": "1",
          "min": "0",
          "nan_count": 0,
          "unique_count": 2
         }
        },
        {
         "dtype": "int64",
         "name": "REG_CITY_NOT_WORK_CITY",
         "stats": {
          "histogram": [
           {
            "bin_end": 0.1,
            "bin_start": 0,
            "count": 4
           },
           {
            "bin_end": 0.2,
            "bin_start": 0.1,
            "count": 0
           },
           {
            "bin_end": 0.30000000000000004,
            "bin_start": 0.2,
            "count": 0
           },
           {
            "bin_end": 0.4,
            "bin_start": 0.30000000000000004,
            "count": 0
           },
           {
            "bin_end": 0.5,
            "bin_start": 0.4,
            "count": 0
           },
           {
            "bin_end": 0.6000000000000001,
            "bin_start": 0.5,
            "count": 0
           },
           {
            "bin_end": 0.7000000000000001,
            "bin_start": 0.6000000000000001,
            "count": 0
           },
           {
            "bin_end": 0.8,
            "bin_start": 0.7000000000000001,
            "count": 0
           },
           {
            "bin_end": 0.9,
            "bin_start": 0.8,
            "count": 0
           },
           {
            "bin_end": 1,
            "bin_start": 0.9,
            "count": 1
           }
          ],
          "max": "1",
          "min": "0",
          "nan_count": 0,
          "unique_count": 2
         }
        },
        {
         "dtype": "int64",
         "name": "REG_REGION_NOT_LIVE_REGION",
         "stats": {
          "histogram": [
           {
            "bin_end": 0.1,
            "bin_start": 0,
            "count": 4
           },
           {
            "bin_end": 0.2,
            "bin_start": 0.1,
            "count": 0
           },
           {
            "bin_end": 0.30000000000000004,
            "bin_start": 0.2,
            "count": 0
           },
           {
            "bin_end": 0.4,
            "bin_start": 0.30000000000000004,
            "count": 0
           },
           {
            "bin_end": 0.5,
            "bin_start": 0.4,
            "count": 0
           },
           {
            "bin_end": 0.6000000000000001,
            "bin_start": 0.5,
            "count": 0
           },
           {
            "bin_end": 0.7000000000000001,
            "bin_start": 0.6000000000000001,
            "count": 0
           },
           {
            "bin_end": 0.8,
            "bin_start": 0.7000000000000001,
            "count": 0
           },
           {
            "bin_end": 0.9,
            "bin_start": 0.8,
            "count": 0
           },
           {
            "bin_end": 1,
            "bin_start": 0.9,
            "count": 1
           }
          ],
          "max": "1",
          "min": "0",
          "nan_count": 0,
          "unique_count": 2
         }
        },
        {
         "dtype": "int64",
         "name": "REG_REGION_NOT_WORK_REGION",
         "stats": {
          "histogram": [
           {
            "bin_end": -0.4,
            "bin_start": -0.5,
            "count": 0
           },
           {
            "bin_end": -0.3,
            "bin_start": -0.4,
            "count": 0
           },
           {
            "bin_end": -0.19999999999999996,
            "bin_start": -0.3,
            "count": 0
           },
           {
            "bin_end": -0.09999999999999998,
            "bin_start": -0.19999999999999996,
            "count": 0
           },
           {
            "bin_end": 0,
            "bin_start": -0.09999999999999998,
            "count": 0
           },
           {
            "bin_end": 0.10000000000000009,
            "bin_start": 0,
            "count": 5
           },
           {
            "bin_end": 0.20000000000000007,
            "bin_start": 0.10000000000000009,
            "count": 0
           },
           {
            "bin_end": 0.30000000000000004,
            "bin_start": 0.20000000000000007,
            "count": 0
           },
           {
            "bin_end": 0.4,
            "bin_start": 0.30000000000000004,
            "count": 0
           },
           {
            "bin_end": 0.5,
            "bin_start": 0.4,
            "count": 0
           }
          ],
          "max": "0",
          "min": "0",
          "nan_count": 0,
          "unique_count": 1
         }
        },
        {
         "dtype": "int64",
         "name": "TARGET",
         "stats": {
          "histogram": [
           {
            "bin_end": 0.1,
            "bin_start": 0,
            "count": 1
           },
           {
            "bin_end": 0.2,
            "bin_start": 0.1,
            "count": 0
           },
           {
            "bin_end": 0.30000000000000004,
            "bin_start": 0.2,
            "count": 0
           },
           {
            "bin_end": 0.4,
            "bin_start": 0.30000000000000004,
            "count": 0
           },
           {
            "bin_end": 0.5,
            "bin_start": 0.4,
            "count": 0
           },
           {
            "bin_end": 0.6000000000000001,
            "bin_start": 0.5,
            "count": 0
           },
           {
            "bin_end": 0.7000000000000001,
            "bin_start": 0.6000000000000001,
            "count": 0
           },
           {
            "bin_end": 0.8,
            "bin_start": 0.7000000000000001,
            "count": 0
           },
           {
            "bin_end": 0.9,
            "bin_start": 0.8,
            "count": 0
           },
           {
            "bin_end": 1,
            "bin_start": 0.9,
            "count": 4
           }
          ],
          "max": "1",
          "min": "0",
          "nan_count": 0,
          "unique_count": 2
         }
        },
        {
         "dtype": "int64",
         "name": "_deepnote_index_column"
        }
       ],
       "row_count": 5,
       "rows_bottom": null,
       "rows_top": [
        {
         "AMT_CREDIT": 1078200,
         "AMT_GOODS_PRICE": 31522.5,
         "AMT_INCOME_TOTAL": 135000,
         "CNT_CHILDREN": 1,
         "CNT_FAM_MEMBERS": 3,
         "CODE_GENDER": "F",
         "DAYS_EMPLOYED": -230,
         "DAYS_ID_PUBLISH": -1118,
         "DAYS_LAST_PHONE_CHANGE": "nan",
         "DAYS_REGISTRATION": -4962,
         "FLAG_DOCUMENT_10": 0,
         "FLAG_DOCUMENT_11": 0,
         "FLAG_DOCUMENT_12": 0,
         "FLAG_DOCUMENT_13": 0,
         "FLAG_DOCUMENT_14": 0,
         "FLAG_DOCUMENT_15": 0,
         "FLAG_DOCUMENT_16": 0,
         "FLAG_DOCUMENT_17": 0,
         "FLAG_DOCUMENT_18": 0,
         "FLAG_DOCUMENT_19": 0,
         "FLAG_DOCUMENT_2": 0,
         "FLAG_DOCUMENT_20": 0,
         "FLAG_DOCUMENT_21": 0,
         "FLAG_DOCUMENT_3": 1,
         "FLAG_DOCUMENT_4": 0,
         "FLAG_DOCUMENT_5": 0,
         "FLAG_DOCUMENT_6": 0,
         "FLAG_DOCUMENT_7": 0,
         "FLAG_DOCUMENT_8": 0,
         "FLAG_DOCUMENT_9": 0,
         "FLAG_EMAIL": 0,
         "FLAG_OWN_CAR": "N",
         "FLAG_OWN_REALTY": "N",
         "FLAG_PHONE": 1,
         "FLAG_WORK_PHONE": 0,
         "LIVE_CITY_NOT_WORK_CITY": 0,
         "LIVE_REGION_NOT_WORK_REGION": 0,
         "NAME_CONTRACT_TYPE": "Cash loans",
         "NAME_EDUCATION_TYPE": "Secondary / secondary special",
         "NAME_FAMILY_STATUS": "Married",
         "NAME_HOUSING_TYPE": "Rented apartment",
         "NAME_INCOME_TYPE": "Commercial associate",
         "NAME_TYPE_SUITE": "Unaccompanied",
         "ORGANIZATION_TYPE": "Trade: type 2",
         "REGION_POPULATION_RELATIVE": 0.010643,
         "REGION_RATING_CLIENT": 2,
         "REGION_RATING_CLIENT_W_CITY": 2,
         "REG_CITY_NOT_LIVE_CITY": 1,
         "REG_CITY_NOT_WORK_CITY": 1,
         "REG_REGION_NOT_LIVE_REGION": 0,
         "REG_REGION_NOT_WORK_REGION": 0,
         "TARGET": 1,
         "_deepnote_index_column": 0
        },
        {
         "AMT_CREDIT": 284400,
         "AMT_GOODS_PRICE": 19134,
         "AMT_INCOME_TOTAL": 112500,
         "CNT_CHILDREN": 1,
         "CNT_FAM_MEMBERS": 3,
         "CODE_GENDER": "F",
         "DAYS_EMPLOYED": -1338,
         "DAYS_ID_PUBLISH": -1076,
         "DAYS_LAST_PHONE_CHANGE": "-938.0",
         "DAYS_REGISTRATION": -673,
         "FLAG_DOCUMENT_10": 0,
         "FLAG_DOCUMENT_11": 0,
         "FLAG_DOCUMENT_12": 0,
         "FLAG_DOCUMENT_13": 0,
         "FLAG_DOCUMENT_14": 0,
         "FLAG_DOCUMENT_15": 0,
         "FLAG_DOCUMENT_16": 0,
         "FLAG_DOCUMENT_17": 0,
         "FLAG_DOCUMENT_18": 0,
         "FLAG_DOCUMENT_19": 0,
         "FLAG_DOCUMENT_2": 0,
         "FLAG_DOCUMENT_20": 0,
         "FLAG_DOCUMENT_21": 0,
         "FLAG_DOCUMENT_3": 1,
         "FLAG_DOCUMENT_4": 0,
         "FLAG_DOCUMENT_5": 0,
         "FLAG_DOCUMENT_6": 0,
         "FLAG_DOCUMENT_7": 0,
         "FLAG_DOCUMENT_8": 0,
         "FLAG_DOCUMENT_9": 0,
         "FLAG_EMAIL": 0,
         "FLAG_OWN_CAR": "N",
         "FLAG_OWN_REALTY": "Y",
         "FLAG_PHONE": 0,
         "FLAG_WORK_PHONE": 0,
         "LIVE_CITY_NOT_WORK_CITY": 0,
         "LIVE_REGION_NOT_WORK_REGION": 0,
         "NAME_CONTRACT_TYPE": "Cash loans",
         "NAME_EDUCATION_TYPE": "Secondary / secondary special",
         "NAME_FAMILY_STATUS": "Married",
         "NAME_HOUSING_TYPE": "House / apartment",
         "NAME_INCOME_TYPE": "Commercial associate",
         "NAME_TYPE_SUITE": "Unaccompanied",
         "ORGANIZATION_TYPE": "Business Entity Type 3",
         "REGION_POPULATION_RELATIVE": 0.006629,
         "REGION_RATING_CLIENT": 2,
         "REGION_RATING_CLIENT_W_CITY": 2,
         "REG_CITY_NOT_LIVE_CITY": 0,
         "REG_CITY_NOT_WORK_CITY": 0,
         "REG_REGION_NOT_LIVE_REGION": 0,
         "REG_REGION_NOT_WORK_REGION": 0,
         "TARGET": 0,
         "_deepnote_index_column": 1
        },
        {
         "AMT_CREDIT": 942300,
         "AMT_GOODS_PRICE": 27679.5,
         "AMT_INCOME_TOTAL": 121500,
         "CNT_CHILDREN": 0,
         "CNT_FAM_MEMBERS": 1,
         "CODE_GENDER": "F",
         "DAYS_EMPLOYED": 365243,
         "DAYS_ID_PUBLISH": -4116,
         "DAYS_LAST_PHONE_CHANGE": "-2052.0",
         "DAYS_REGISTRATION": -357,
         "FLAG_DOCUMENT_10": 0,
         "FLAG_DOCUMENT_11": 0,
         "FLAG_DOCUMENT_12": 0,
         "FLAG_DOCUMENT_13": 0,
         "FLAG_DOCUMENT_14": 0,
         "FLAG_DOCUMENT_15": 0,
         "FLAG_DOCUMENT_16": 0,
         "FLAG_DOCUMENT_17": 0,
         "FLAG_DOCUMENT_18": 0,
         "FLAG_DOCUMENT_19": 0,
         "FLAG_DOCUMENT_2": 0,
         "FLAG_DOCUMENT_20": 0,
         "FLAG_DOCUMENT_21": 0,
         "FLAG_DOCUMENT_3": 0,
         "FLAG_DOCUMENT_4": 0,
         "FLAG_DOCUMENT_5": 0,
         "FLAG_DOCUMENT_6": 1,
         "FLAG_DOCUMENT_7": 0,
         "FLAG_DOCUMENT_8": 0,
         "FLAG_DOCUMENT_9": 0,
         "FLAG_EMAIL": 0,
         "FLAG_OWN_CAR": "N",
         "FLAG_OWN_REALTY": "Y",
         "FLAG_PHONE": 1,
         "FLAG_WORK_PHONE": 0,
         "LIVE_CITY_NOT_WORK_CITY": 0,
         "LIVE_REGION_NOT_WORK_REGION": 0,
         "NAME_CONTRACT_TYPE": "Cash loans",
         "NAME_EDUCATION_TYPE": "Secondary / secondary special",
         "NAME_FAMILY_STATUS": "Widow",
         "NAME_HOUSING_TYPE": "Office apartment",
         "NAME_INCOME_TYPE": "Pensioner",
         "NAME_TYPE_SUITE": "Unaccompanied",
         "ORGANIZATION_TYPE": "XNA",
         "REGION_POPULATION_RELATIVE": 0.019689,
         "REGION_RATING_CLIENT": 2,
         "REGION_RATING_CLIENT_W_CITY": 2,
         "REG_CITY_NOT_LIVE_CITY": 0,
         "REG_CITY_NOT_WORK_CITY": 0,
         "REG_REGION_NOT_LIVE_REGION": 0,
         "REG_REGION_NOT_WORK_REGION": 0,
         "TARGET": 1,
         "_deepnote_index_column": 2
        },
        {
         "AMT_CREDIT": 429763.5,
         "AMT_GOODS_PRICE": 34083,
         "AMT_INCOME_TOTAL": 315000,
         "CNT_CHILDREN": 0,
         "CNT_FAM_MEMBERS": 1,
         "CODE_GENDER": "F",
         "DAYS_EMPLOYED": -1978,
         "DAYS_ID_PUBLISH": -839,
         "DAYS_LAST_PHONE_CHANGE": "0.0",
         "DAYS_REGISTRATION": -4549,
         "FLAG_DOCUMENT_10": 0,
         "FLAG_DOCUMENT_11": 0,
         "FLAG_DOCUMENT_12": 0,
         "FLAG_DOCUMENT_13": 0,
         "FLAG_DOCUMENT_14": 0,
         "FLAG_DOCUMENT_15": 0,
         "FLAG_DOCUMENT_16": 0,
         "FLAG_DOCUMENT_17": 0,
         "FLAG_DOCUMENT_18": 0,
         "FLAG_DOCUMENT_19": 0,
         "FLAG_DOCUMENT_2": 0,
         "FLAG_DOCUMENT_20": 0,
         "FLAG_DOCUMENT_21": 0,
         "FLAG_DOCUMENT_3": 1,
         "FLAG_DOCUMENT_4": 0,
         "FLAG_DOCUMENT_5": 0,
         "FLAG_DOCUMENT_6": 0,
         "FLAG_DOCUMENT_7": 0,
         "FLAG_DOCUMENT_8": 0,
         "FLAG_DOCUMENT_9": 0,
         "FLAG_EMAIL": 1,
         "FLAG_OWN_CAR": "N",
         "FLAG_OWN_REALTY": "N",
         "FLAG_PHONE": 0,
         "FLAG_WORK_PHONE": 0,
         "LIVE_CITY_NOT_WORK_CITY": 0,
         "LIVE_REGION_NOT_WORK_REGION": 0,
         "NAME_CONTRACT_TYPE": "Cash loans",
         "NAME_EDUCATION_TYPE": "Secondary / secondary special",
         "NAME_FAMILY_STATUS": "Separated",
         "NAME_HOUSING_TYPE": "House / apartment",
         "NAME_INCOME_TYPE": "Working",
         "NAME_TYPE_SUITE": "Unaccompanied",
         "ORGANIZATION_TYPE": "Self-employed",
         "REGION_POPULATION_RELATIVE": 0.008019,
         "REGION_RATING_CLIENT": 2,
         "REGION_RATING_CLIENT_W_CITY": 2,
         "REG_CITY_NOT_LIVE_CITY": 0,
         "REG_CITY_NOT_WORK_CITY": 0,
         "REG_REGION_NOT_LIVE_REGION": 0,
         "REG_REGION_NOT_WORK_REGION": 0,
         "TARGET": 1,
         "_deepnote_index_column": 3
        },
        {
         "AMT_CREDIT": 323388,
         "AMT_GOODS_PRICE": 25677,
         "AMT_INCOME_TOTAL": 265500,
         "CNT_CHILDREN": 0,
         "CNT_FAM_MEMBERS": 1,
         "CODE_GENDER": "M",
         "DAYS_EMPLOYED": -890,
         "DAYS_ID_PUBLISH": -543,
         "DAYS_LAST_PHONE_CHANGE": "-714.0",
         "DAYS_REGISTRATION": -5103,
         "FLAG_DOCUMENT_10": 0,
         "FLAG_DOCUMENT_11": 0,
         "FLAG_DOCUMENT_12": 0,
         "FLAG_DOCUMENT_13": 0,
         "FLAG_DOCUMENT_14": 0,
         "FLAG_DOCUMENT_15": 0,
         "FLAG_DOCUMENT_16": 0,
         "FLAG_DOCUMENT_17": 0,
         "FLAG_DOCUMENT_18": 0,
         "FLAG_DOCUMENT_19": 0,
         "FLAG_DOCUMENT_2": 0,
         "FLAG_DOCUMENT_20": 0,
         "FLAG_DOCUMENT_21": 0,
         "FLAG_DOCUMENT_3": 1,
         "FLAG_DOCUMENT_4": 0,
         "FLAG_DOCUMENT_5": 0,
         "FLAG_DOCUMENT_6": 0,
         "FLAG_DOCUMENT_7": 0,
         "FLAG_DOCUMENT_8": 0,
         "FLAG_DOCUMENT_9": 0,
         "FLAG_EMAIL": 1,
         "FLAG_OWN_CAR": "N",
         "FLAG_OWN_REALTY": "Y",
         "FLAG_PHONE": 0,
         "FLAG_WORK_PHONE": 0,
         "LIVE_CITY_NOT_WORK_CITY": 0,
         "LIVE_REGION_NOT_WORK_REGION": 1,
         "NAME_CONTRACT_TYPE": "Cash loans",
         "NAME_EDUCATION_TYPE": "Higher education",
         "NAME_FAMILY_STATUS": "Single / not married",
         "NAME_HOUSING_TYPE": "House / apartment",
         "NAME_INCOME_TYPE": "Working",
         "NAME_TYPE_SUITE": "Family",
         "ORGANIZATION_TYPE": "Business Entity Type 3",
         "REGION_POPULATION_RELATIVE": 0.072508,
         "REGION_RATING_CLIENT": 1,
         "REGION_RATING_CLIENT_W_CITY": 1,
         "REG_CITY_NOT_LIVE_CITY": 0,
         "REG_CITY_NOT_WORK_CITY": 0,
         "REG_REGION_NOT_LIVE_REGION": 1,
         "REG_REGION_NOT_WORK_REGION": 0,
         "TARGET": 1,
         "_deepnote_index_column": 4
        }
       ]
      },
      "text/html": [
       "<div>\n",
       "<style scoped>\n",
       "    .dataframe tbody tr th:only-of-type {\n",
       "        vertical-align: middle;\n",
       "    }\n",
       "\n",
       "    .dataframe tbody tr th {\n",
       "        vertical-align: top;\n",
       "    }\n",
       "\n",
       "    .dataframe thead th {\n",
       "        text-align: right;\n",
       "    }\n",
       "</style>\n",
       "<table border=\"1\" class=\"dataframe\">\n",
       "  <thead>\n",
       "    <tr style=\"text-align: right;\">\n",
       "      <th></th>\n",
       "      <th>AMT_CREDIT</th>\n",
       "      <th>AMT_GOODS_PRICE</th>\n",
       "      <th>AMT_INCOME_TOTAL</th>\n",
       "      <th>CNT_CHILDREN</th>\n",
       "      <th>CNT_FAM_MEMBERS</th>\n",
       "      <th>CODE_GENDER</th>\n",
       "      <th>DAYS_EMPLOYED</th>\n",
       "      <th>DAYS_ID_PUBLISH</th>\n",
       "      <th>DAYS_LAST_PHONE_CHANGE</th>\n",
       "      <th>DAYS_REGISTRATION</th>\n",
       "      <th>...</th>\n",
       "      <th>NAME_TYPE_SUITE</th>\n",
       "      <th>ORGANIZATION_TYPE</th>\n",
       "      <th>REGION_POPULATION_RELATIVE</th>\n",
       "      <th>REGION_RATING_CLIENT</th>\n",
       "      <th>REGION_RATING_CLIENT_W_CITY</th>\n",
       "      <th>REG_CITY_NOT_LIVE_CITY</th>\n",
       "      <th>REG_CITY_NOT_WORK_CITY</th>\n",
       "      <th>REG_REGION_NOT_LIVE_REGION</th>\n",
       "      <th>REG_REGION_NOT_WORK_REGION</th>\n",
       "      <th>TARGET</th>\n",
       "    </tr>\n",
       "  </thead>\n",
       "  <tbody>\n",
       "    <tr>\n",
       "      <th>0</th>\n",
       "      <td>1078200.0</td>\n",
       "      <td>31522.5</td>\n",
       "      <td>135000.0</td>\n",
       "      <td>1</td>\n",
       "      <td>3</td>\n",
       "      <td>F</td>\n",
       "      <td>-230</td>\n",
       "      <td>-1118</td>\n",
       "      <td>NaN</td>\n",
       "      <td>-4962</td>\n",
       "      <td>...</td>\n",
       "      <td>Unaccompanied</td>\n",
       "      <td>Trade: type 2</td>\n",
       "      <td>0.010643</td>\n",
       "      <td>2</td>\n",
       "      <td>2</td>\n",
       "      <td>1</td>\n",
       "      <td>1</td>\n",
       "      <td>0</td>\n",
       "      <td>0</td>\n",
       "      <td>1</td>\n",
       "    </tr>\n",
       "    <tr>\n",
       "      <th>1</th>\n",
       "      <td>284400.0</td>\n",
       "      <td>19134.0</td>\n",
       "      <td>112500.0</td>\n",
       "      <td>1</td>\n",
       "      <td>3</td>\n",
       "      <td>F</td>\n",
       "      <td>-1338</td>\n",
       "      <td>-1076</td>\n",
       "      <td>-938.0</td>\n",
       "      <td>-673</td>\n",
       "      <td>...</td>\n",
       "      <td>Unaccompanied</td>\n",
       "      <td>Business Entity Type 3</td>\n",
       "      <td>0.006629</td>\n",
       "      <td>2</td>\n",
       "      <td>2</td>\n",
       "      <td>0</td>\n",
       "      <td>0</td>\n",
       "      <td>0</td>\n",
       "      <td>0</td>\n",
       "      <td>0</td>\n",
       "    </tr>\n",
       "    <tr>\n",
       "      <th>2</th>\n",
       "      <td>942300.0</td>\n",
       "      <td>27679.5</td>\n",
       "      <td>121500.0</td>\n",
       "      <td>0</td>\n",
       "      <td>1</td>\n",
       "      <td>F</td>\n",
       "      <td>365243</td>\n",
       "      <td>-4116</td>\n",
       "      <td>-2052.0</td>\n",
       "      <td>-357</td>\n",
       "      <td>...</td>\n",
       "      <td>Unaccompanied</td>\n",
       "      <td>XNA</td>\n",
       "      <td>0.019689</td>\n",
       "      <td>2</td>\n",
       "      <td>2</td>\n",
       "      <td>0</td>\n",
       "      <td>0</td>\n",
       "      <td>0</td>\n",
       "      <td>0</td>\n",
       "      <td>1</td>\n",
       "    </tr>\n",
       "    <tr>\n",
       "      <th>3</th>\n",
       "      <td>429763.5</td>\n",
       "      <td>34083.0</td>\n",
       "      <td>315000.0</td>\n",
       "      <td>0</td>\n",
       "      <td>1</td>\n",
       "      <td>F</td>\n",
       "      <td>-1978</td>\n",
       "      <td>-839</td>\n",
       "      <td>0.0</td>\n",
       "      <td>-4549</td>\n",
       "      <td>...</td>\n",
       "      <td>Unaccompanied</td>\n",
       "      <td>Self-employed</td>\n",
       "      <td>0.008019</td>\n",
       "      <td>2</td>\n",
       "      <td>2</td>\n",
       "      <td>0</td>\n",
       "      <td>0</td>\n",
       "      <td>0</td>\n",
       "      <td>0</td>\n",
       "      <td>1</td>\n",
       "    </tr>\n",
       "    <tr>\n",
       "      <th>4</th>\n",
       "      <td>323388.0</td>\n",
       "      <td>25677.0</td>\n",
       "      <td>265500.0</td>\n",
       "      <td>0</td>\n",
       "      <td>1</td>\n",
       "      <td>M</td>\n",
       "      <td>-890</td>\n",
       "      <td>-543</td>\n",
       "      <td>-714.0</td>\n",
       "      <td>-5103</td>\n",
       "      <td>...</td>\n",
       "      <td>Family</td>\n",
       "      <td>Business Entity Type 3</td>\n",
       "      <td>0.072508</td>\n",
       "      <td>1</td>\n",
       "      <td>1</td>\n",
       "      <td>0</td>\n",
       "      <td>0</td>\n",
       "      <td>1</td>\n",
       "      <td>0</td>\n",
       "      <td>1</td>\n",
       "    </tr>\n",
       "  </tbody>\n",
       "</table>\n",
       "<p>5 rows × 52 columns</p>\n",
       "</div>"
      ],
      "text/plain": [
       "   AMT_CREDIT  AMT_GOODS_PRICE  AMT_INCOME_TOTAL  CNT_CHILDREN  \\\n",
       "0   1078200.0          31522.5          135000.0             1   \n",
       "1    284400.0          19134.0          112500.0             1   \n",
       "2    942300.0          27679.5          121500.0             0   \n",
       "3    429763.5          34083.0          315000.0             0   \n",
       "4    323388.0          25677.0          265500.0             0   \n",
       "\n",
       "   CNT_FAM_MEMBERS CODE_GENDER  DAYS_EMPLOYED  DAYS_ID_PUBLISH  \\\n",
       "0                3           F           -230            -1118   \n",
       "1                3           F          -1338            -1076   \n",
       "2                1           F         365243            -4116   \n",
       "3                1           F          -1978             -839   \n",
       "4                1           M           -890             -543   \n",
       "\n",
       "   DAYS_LAST_PHONE_CHANGE  DAYS_REGISTRATION  ...  NAME_TYPE_SUITE  \\\n",
       "0                     NaN              -4962  ...    Unaccompanied   \n",
       "1                  -938.0               -673  ...    Unaccompanied   \n",
       "2                 -2052.0               -357  ...    Unaccompanied   \n",
       "3                     0.0              -4549  ...    Unaccompanied   \n",
       "4                  -714.0              -5103  ...           Family   \n",
       "\n",
       "        ORGANIZATION_TYPE  REGION_POPULATION_RELATIVE  REGION_RATING_CLIENT  \\\n",
       "0           Trade: type 2                    0.010643                     2   \n",
       "1  Business Entity Type 3                    0.006629                     2   \n",
       "2                     XNA                    0.019689                     2   \n",
       "3           Self-employed                    0.008019                     2   \n",
       "4  Business Entity Type 3                    0.072508                     1   \n",
       "\n",
       "   REGION_RATING_CLIENT_W_CITY  REG_CITY_NOT_LIVE_CITY  \\\n",
       "0                            2                       1   \n",
       "1                            2                       0   \n",
       "2                            2                       0   \n",
       "3                            2                       0   \n",
       "4                            1                       0   \n",
       "\n",
       "   REG_CITY_NOT_WORK_CITY  REG_REGION_NOT_LIVE_REGION  \\\n",
       "0                       1                           0   \n",
       "1                       0                           0   \n",
       "2                       0                           0   \n",
       "3                       0                           0   \n",
       "4                       0                           1   \n",
       "\n",
       "   REG_REGION_NOT_WORK_REGION  TARGET  \n",
       "0                           0       1  \n",
       "1                           0       0  \n",
       "2                           0       1  \n",
       "3                           0       1  \n",
       "4                           0       1  \n",
       "\n",
       "[5 rows x 52 columns]"
      ]
     },
     "execution_count": 11,
     "metadata": {},
     "output_type": "execute_result"
    }
   ],
   "source": [
    "# import the data using pandas\n",
    "loan_data = pd.read_csv(\"../Data/loan_balanced_missing.csv\", header = 0, sep=\",\")\n",
    "\n",
    "# Display the first 5 rows and 10 colums of the dataset.\n",
    "loan_data.head()"
   ]
  },
  {
   "cell_type": "code",
   "execution_count": null,
   "metadata": {
    "cell_id": "00008-9e49a11c-0361-4aae-8260-ff4386c5a075",
    "deepnote_cell_type": "code",
    "deepnote_to_be_reexecuted": false,
    "execution_millis": 0,
    "execution_start": 1621879888190,
    "source_hash": "7ba0b04"
   },
   "outputs": [],
   "source": [
    "# import metrics\n",
    "from sklearn.metrics import accuracy_score, classification_report"
   ]
  },
  {
   "cell_type": "code",
   "execution_count": null,
   "metadata": {
    "cell_id": "00012-03b4723e-f295-40c9-8cb6-c3ebccd78025",
    "deepnote_cell_type": "code",
    "deepnote_to_be_reexecuted": false,
    "execution_millis": 110,
    "execution_start": 1621879888191,
    "source_hash": "1f5cf777",
    "tags": []
   },
   "outputs": [
    {
     "name": "stdout",
     "output_type": "stream",
     "text": [
      "AMT_CREDIT                        0\n",
      "AMT_GOODS_PRICE                3795\n",
      "AMT_INCOME_TOTAL               3036\n",
      "CNT_CHILDREN                      0\n",
      "CNT_FAM_MEMBERS                   0\n",
      "CODE_GENDER                       0\n",
      "DAYS_EMPLOYED                     0\n",
      "DAYS_ID_PUBLISH                   0\n",
      "DAYS_LAST_PHONE_CHANGE         4554\n",
      "DAYS_REGISTRATION                 0\n",
      "FLAG_DOCUMENT_10                  0\n",
      "FLAG_DOCUMENT_11                  0\n",
      "FLAG_DOCUMENT_12                  0\n",
      "FLAG_DOCUMENT_13                  0\n",
      "FLAG_DOCUMENT_14                  0\n",
      "FLAG_DOCUMENT_15                  0\n",
      "FLAG_DOCUMENT_16                  0\n",
      "FLAG_DOCUMENT_17                  0\n",
      "FLAG_DOCUMENT_18                  0\n",
      "FLAG_DOCUMENT_19                  0\n",
      "FLAG_DOCUMENT_2                   0\n",
      "FLAG_DOCUMENT_20                  0\n",
      "FLAG_DOCUMENT_21                  0\n",
      "FLAG_DOCUMENT_3                   0\n",
      "FLAG_DOCUMENT_4                   0\n",
      "FLAG_DOCUMENT_5                   0\n",
      "FLAG_DOCUMENT_6                   0\n",
      "FLAG_DOCUMENT_7                   0\n",
      "FLAG_DOCUMENT_8                   0\n",
      "FLAG_DOCUMENT_9                   0\n",
      "FLAG_EMAIL                        0\n",
      "FLAG_OWN_CAR                      0\n",
      "FLAG_OWN_REALTY                   0\n",
      "FLAG_PHONE                        0\n",
      "FLAG_WORK_PHONE                   0\n",
      "LIVE_CITY_NOT_WORK_CITY           0\n",
      "LIVE_REGION_NOT_WORK_REGION       0\n",
      "NAME_CONTRACT_TYPE                0\n",
      "NAME_EDUCATION_TYPE               0\n",
      "NAME_FAMILY_STATUS                0\n",
      "NAME_HOUSING_TYPE                 0\n",
      "NAME_INCOME_TYPE                  0\n",
      "NAME_TYPE_SUITE                   0\n",
      "ORGANIZATION_TYPE                 0\n",
      "REGION_POPULATION_RELATIVE     1897\n",
      "REGION_RATING_CLIENT              0\n",
      "REGION_RATING_CLIENT_W_CITY       0\n",
      "REG_CITY_NOT_LIVE_CITY            0\n",
      "REG_CITY_NOT_WORK_CITY            0\n",
      "REG_REGION_NOT_LIVE_REGION        0\n",
      "REG_REGION_NOT_WORK_REGION        0\n",
      "TARGET                            0\n",
      "dtype: int64\n",
      "number of missing values: 13282\n"
     ]
    }
   ],
   "source": [
    "# check if there are missing\n",
    "print(loan_data.isnull().sum())\n",
    "# count the number of missing values \n",
    "print(\"number of missing values: %d\" %loan_data.isnull().sum().sum())"
   ]
  },
  {
   "cell_type": "code",
   "execution_count": null,
   "metadata": {
    "cell_id": "00013-b6a7771d-8c64-4105-9c27-e6a0c189cafc",
    "deepnote_cell_type": "code",
    "deepnote_to_be_reexecuted": false,
    "execution_millis": 9196,
    "execution_start": 1621879888353,
    "source_hash": "d0b64aaa",
    "tags": []
   },
   "outputs": [
    {
     "name": "stdout",
     "output_type": "stream",
     "text": [
      "Number of columns: 37947, number of rows: 52\n",
      "number of missing values: 0\n",
      "\n"
     ]
    }
   ],
   "source": [
    "# populate missings using the mean value\n",
    "loan_data_fillna_mean = loan_data.fillna(loan_data.mean()).copy()\n",
    "\n",
    "'''\n",
    "We used mean values to fill in the missing values (not medians) in order to increase comprehensiveness of the analysis,\n",
    "rather than to focus on mitigating the effect of outliers. \n",
    "'''\n",
    "# print(loan_data.mean())\n",
    "print(\"Number of columns: %d, number of rows: %d\" %(loan_data_fillna_mean.shape))\n",
    "print(\"number of missing values: %d\" %loan_data_fillna_mean.isnull().sum().sum())\n",
    "print(\"\")"
   ]
  },
  {
   "cell_type": "code",
   "execution_count": null,
   "metadata": {
    "cell_id": "00014-8ea2a7bc-799e-4252-b0de-2dfd5a6ff9d5",
    "deepnote_cell_type": "code",
    "deepnote_to_be_reexecuted": false,
    "execution_millis": 49454366,
    "execution_start": 1621879897569,
    "source_hash": "908167f9",
    "tags": []
   },
   "outputs": [],
   "source": [
    "# create a subset of original data which contains only the data in int64 and float64\n",
    "loan_data_fillna_mean = loan_data_fillna_mean.select_dtypes(include=['int64', 'float64'])"
   ]
  },
  {
   "cell_type": "code",
   "execution_count": null,
   "metadata": {
    "cell_id": "00015-fd31752a-2085-44ad-8cea-6ffc2c8112d4",
    "deepnote_cell_type": "code",
    "deepnote_to_be_reexecuted": false,
    "execution_millis": 30,
    "execution_start": 1621879897577,
    "source_hash": "a98057f2",
    "tags": []
   },
   "outputs": [
    {
     "name": "stdout",
     "output_type": "stream",
     "text": [
      "   AMT_CREDIT  AMT_GOODS_PRICE  AMT_INCOME_TOTAL  CNT_CHILDREN  \\\n",
      "0   1078200.0          31522.5          135000.0             1   \n",
      "1    284400.0          19134.0          112500.0             1   \n",
      "2    942300.0          27679.5          121500.0             0   \n",
      "3    429763.5          34083.0          315000.0             0   \n",
      "4    323388.0          25677.0          265500.0             0   \n",
      "\n",
      "   CNT_FAM_MEMBERS  DAYS_EMPLOYED  DAYS_LAST_PHONE_CHANGE  DAYS_REGISTRATION  \n",
      "0                3           -230             -906.158386              -4962  \n",
      "1                3          -1338             -938.000000               -673  \n",
      "2                1         365243            -2052.000000               -357  \n",
      "3                1          -1978                0.000000              -4549  \n",
      "4                1           -890             -714.000000              -5103  \n",
      "0    1\n",
      "1    0\n",
      "2    1\n",
      "3    1\n",
      "4    1\n",
      "Name: TARGET, dtype: int64\n"
     ]
    }
   ],
   "source": [
    "# create the matrix of predictors\n",
    "X = loan_data_fillna_mean[['AMT_CREDIT', 'AMT_GOODS_PRICE', 'AMT_INCOME_TOTAL', 'CNT_CHILDREN', 'CNT_FAM_MEMBERS', 'DAYS_EMPLOYED', 'DAYS_LAST_PHONE_CHANGE', 'DAYS_REGISTRATION']]\n",
    "print(X.head())\n",
    "\n",
    "# isolate the target variable Y\n",
    "Y = loan_data_fillna_mean['TARGET']\n",
    "print(Y.head())"
   ]
  },
  {
   "cell_type": "code",
   "execution_count": null,
   "metadata": {
    "cell_id": "00016-8efa6faa-8fdd-449d-8ddc-14b6f3294975",
    "deepnote_cell_type": "code",
    "deepnote_to_be_reexecuted": false,
    "execution_millis": 33,
    "execution_start": 1621879897603,
    "source_hash": "d07e9ab9",
    "tags": []
   },
   "outputs": [
    {
     "name": "stdout",
     "output_type": "stream",
     "text": [
      "37947\n",
      "26562\n",
      "26562\n",
      "11385\n",
      "11385\n"
     ]
    }
   ],
   "source": [
    "# Split data into training and test sample\n",
    "X_train, X_test, Y_train, Y_test = train_test_split( X, Y, train_size=0.7,test_size=0.3)\n",
    "print(len(X))\n",
    "print(len(X_train))\n",
    "print(len(Y_train))\n",
    "print(len(X_test))\n",
    "print(len(Y_test))\n"
   ]
  },
  {
   "cell_type": "code",
   "execution_count": null,
   "metadata": {
    "cell_id": "00017-b7593725-abe3-4cca-b41f-cff46145d69a",
    "deepnote_cell_type": "code",
    "deepnote_to_be_reexecuted": false,
    "execution_millis": 523,
    "execution_start": 1621879897639,
    "source_hash": "2e680de6",
    "tags": []
   },
   "outputs": [
    {
     "name": "stdout",
     "output_type": "stream",
     "text": [
      "                        coefficients\n",
      "intercept               6.251131e-08\n",
      "AMT_CREDIT             -3.957829e-07\n",
      "AMT_GOODS_PRICE         1.317751e-05\n",
      "AMT_INCOME_TOTAL       -9.069873e-08\n",
      "CNT_CHILDREN            4.896577e-08\n",
      "CNT_FAM_MEMBERS         1.201725e-07\n",
      "DAYS_EMPLOYED          -1.039617e-06\n",
      "DAYS_LAST_PHONE_CHANGE  2.165941e-04\n",
      "DAYS_REGISTRATION       1.882757e-05\n",
      "R2 score  -0.7585093037725312\n",
      "RMSE  0.660445279052511\n",
      "0.5638120333772507\n",
      "              precision    recall  f1-score   support\n",
      "\n",
      "           0       0.57      0.85      0.68      6196\n",
      "           1       0.55      0.22      0.32      5189\n",
      "\n",
      "    accuracy                           0.56     11385\n",
      "   macro avg       0.56      0.54      0.50     11385\n",
      "weighted avg       0.56      0.56      0.51     11385\n",
      "\n"
     ]
    },
    {
     "data": {
      "text/plain": [
       "'\\nRecall ratio is as high as 85%, which is consistent with the low accuracy.\\n'"
      ]
     },
     "execution_count": 18,
     "metadata": {},
     "output_type": "execute_result"
    }
   ],
   "source": [
    "# Fit the logistic regression params\n",
    "logr = LogisticRegression().fit(X_train, Y_train)\n",
    "reg = [\"intercept\",'AMT_CREDIT', 'AMT_GOODS_PRICE', 'AMT_INCOME_TOTAL', 'CNT_CHILDREN', 'CNT_FAM_MEMBERS', 'DAYS_EMPLOYED', 'DAYS_LAST_PHONE_CHANGE', 'DAYS_REGISTRATION']\n",
    "coef = pd.DataFrame(np.transpose(np.hstack(([logr.intercept_],logr.coef_))),reg, columns = ['coefficients'])\n",
    "print(coef)\n",
    "\n",
    "Y_hat_test = logr.predict(X_test)\n",
    "r2_test = r2_score(Y_test, Y_hat_test)\n",
    "mse_test = mean_squared_error(Y_test, Y_hat_test)\n",
    "rmse_test = np.sqrt(mse_test)\n",
    "print(\"R2 score \", r2_test)\n",
    "print(\"RMSE \", rmse_test)\n",
    "\n",
    "# Evaluate the out of sample model performances using the accuracy_score function and the classification_report function\n",
    "acc_score = accuracy_score(Y_test, Y_hat_test ,normalize = True, sample_weight = None)\n",
    "print(acc_score)\n",
    "'''\n",
    "Acc score is 55.89%. It is not very good. (i.e. it is far below 95%)\n",
    "'''\n",
    "\n",
    "class_rep = classification_report(Y_test, Y_hat_test, labels = None, target_names= None)\n",
    "print(class_rep)\n",
    "\n",
    "'''\n",
    "Recall ratio is as high as 85%, which is consistent with the low accuracy.\n",
    "'''"
   ]
  },
  {
   "cell_type": "markdown",
   "metadata": {
    "created_in_deepnote_cell": true,
    "deepnote_cell_type": "markdown",
    "tags": []
   },
   "source": [
    "<a style='text-decoration:none;line-height:16px;display:flex;color:#5B5B62;padding:10px;justify-content:end;' href='https://deepnote.com?utm_source=created-in-deepnote-cell&projectId=9e13e59d-74e7-4425-95cb-88a44c824bfc' target=\"_blank\">\n",
    "<img alt='Created in deepnote.com' style='display:inline;max-height:16px;margin:0px;margin-right:7.5px;' src='data:image/svg+xml;base64,PD94bWwgdmVyc2lvbj0iMS4wIiBlbmNvZGluZz0iVVRGLTgiPz4KPHN2ZyB3aWR0aD0iODBweCIgaGVpZ2h0PSI4MHB4IiB2aWV3Qm94PSIwIDAgODAgODAiIHZlcnNpb249IjEuMSIgeG1sbnM9Imh0dHA6Ly93d3cudzMub3JnLzIwMDAvc3ZnIiB4bWxuczp4bGluaz0iaHR0cDovL3d3dy53My5vcmcvMTk5OS94bGluayI+CiAgICA8IS0tIEdlbmVyYXRvcjogU2tldGNoIDU0LjEgKDc2NDkwKSAtIGh0dHBzOi8vc2tldGNoYXBwLmNvbSAtLT4KICAgIDx0aXRsZT5Hcm91cCAzPC90aXRsZT4KICAgIDxkZXNjPkNyZWF0ZWQgd2l0aCBTa2V0Y2guPC9kZXNjPgogICAgPGcgaWQ9IkxhbmRpbmciIHN0cm9rZT0ibm9uZSIgc3Ryb2tlLXdpZHRoPSIxIiBmaWxsPSJub25lIiBmaWxsLXJ1bGU9ImV2ZW5vZGQiPgogICAgICAgIDxnIGlkPSJBcnRib2FyZCIgdHJhbnNmb3JtPSJ0cmFuc2xhdGUoLTEyMzUuMDAwMDAwLCAtNzkuMDAwMDAwKSI+CiAgICAgICAgICAgIDxnIGlkPSJHcm91cC0zIiB0cmFuc2Zvcm09InRyYW5zbGF0ZSgxMjM1LjAwMDAwMCwgNzkuMDAwMDAwKSI+CiAgICAgICAgICAgICAgICA8cG9seWdvbiBpZD0iUGF0aC0yMCIgZmlsbD0iIzAyNjVCNCIgcG9pbnRzPSIyLjM3NjIzNzYyIDgwIDM4LjA0NzY2NjcgODAgNTcuODIxNzgyMiA3My44MDU3NTkyIDU3LjgyMTc4MjIgMzIuNzU5MjczOSAzOS4xNDAyMjc4IDMxLjY4MzE2ODMiPjwvcG9seWdvbj4KICAgICAgICAgICAgICAgIDxwYXRoIGQ9Ik0zNS4wMDc3MTgsODAgQzQyLjkwNjIwMDcsNzYuNDU0OTM1OCA0Ny41NjQ5MTY3LDcxLjU0MjI2NzEgNDguOTgzODY2LDY1LjI2MTk5MzkgQzUxLjExMjI4OTksNTUuODQxNTg0MiA0MS42NzcxNzk1LDQ5LjIxMjIyODQgMjUuNjIzOTg0Niw0OS4yMTIyMjg0IEMyNS40ODQ5Mjg5LDQ5LjEyNjg0NDggMjkuODI2MTI5Niw0My4yODM4MjQ4IDM4LjY0NzU4NjksMzEuNjgzMTY4MyBMNzIuODcxMjg3MSwzMi41NTQ0MjUgTDY1LjI4MDk3Myw2Ny42NzYzNDIxIEw1MS4xMTIyODk5LDc3LjM3NjE0NCBMMzUuMDA3NzE4LDgwIFoiIGlkPSJQYXRoLTIyIiBmaWxsPSIjMDAyODY4Ij48L3BhdGg+CiAgICAgICAgICAgICAgICA8cGF0aCBkPSJNMCwzNy43MzA0NDA1IEwyNy4xMTQ1MzcsMC4yNTcxMTE0MzYgQzYyLjM3MTUxMjMsLTEuOTkwNzE3MDEgODAsMTAuNTAwMzkyNyA4MCwzNy43MzA0NDA1IEM4MCw2NC45NjA0ODgyIDY0Ljc3NjUwMzgsNzkuMDUwMzQxNCAzNC4zMjk1MTEzLDgwIEM0Ny4wNTUzNDg5LDc3LjU2NzA4MDggNTMuNDE4MjY3Nyw3MC4zMTM2MTAzIDUzLjQxODI2NzcsNTguMjM5NTg4NSBDNTMuNDE4MjY3Nyw0MC4xMjg1NTU3IDM2LjMwMzk1NDQsMzcuNzMwNDQwNSAyNS4yMjc0MTcsMzcuNzMwNDQwNSBDMTcuODQzMDU4NiwzNy43MzA0NDA1IDkuNDMzOTE5NjYsMzcuNzMwNDQwNSAwLDM3LjczMDQ0MDUgWiIgaWQ9IlBhdGgtMTkiIGZpbGw9IiMzNzkzRUYiPjwvcGF0aD4KICAgICAgICAgICAgPC9nPgogICAgICAgIDwvZz4KICAgIDwvZz4KPC9zdmc+' > </img>\n",
    "Created in <span style='font-weight:600;margin-left:4px;'>Deepnote</span></a>"
   ]
  }
 ],
 "metadata": {
  "deepnote": {},
  "deepnote_execution_queue": [],
  "deepnote_notebook_id": "898efa57-4a49-48e3-a89a-743a74abd002",
  "kernelspec": {
   "display_name": "Python 3",
   "language": "python",
   "name": "python3"
  },
  "language_info": {
   "codemirror_mode": {
    "name": "ipython",
    "version": 3
   },
   "file_extension": ".py",
   "mimetype": "text/x-python",
   "name": "python",
   "nbconvert_exporter": "python",
   "pygments_lexer": "ipython3",
   "version": "3.7.9"
  }
 },
 "nbformat": 4,
 "nbformat_minor": 4
}
