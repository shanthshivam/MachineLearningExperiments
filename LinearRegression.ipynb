{
 "cells": [
  {
   "cell_type": "markdown",
   "metadata": {
    "cell_id": "00001-26a55994-2bf0-439d-bf00-8b4b4266efcb",
    "deepnote_cell_type": "markdown"
   },
   "source": []
  },
  {
   "cell_type": "markdown",
   "metadata": {},
   "source": [
    "## Linear Regression - House prices\n",
    "\n",
    "This first assignment has the scope to make you familiarize yourself with Python, apply what you have seen during the pre-course, work, and implement the first class of model we see during the course.\n",
    "\n",
    "In this assignment, we want to **predict the sale price of a house** using its features. Besides the sale price, the dataset contains many features for each house (size, number of bathrooms, year of construction, etc.). \n",
    "\n",
    "To understand the relations that link the house features with its price, each group has to do the following: \n",
    "\n",
    "1. Select the target variable (Y) from the data - The Target name is **SalePrice**, and  select the following variables as predictors (X) from the Data: **GrLivArea**, **LotArea**, and **LotFrontage**.\n",
    "2. Plot the scatter plot of each predictor (X) verus the target variable (Y) to see if there is a linear relation between the two variables.\n",
    "3. Split the data into training and test sample\n",
    "4. Estimate the parameters of the univariate regression using as predictor only the variable **LotArea**.\n",
    "5. Use the prameters to fit the linear regression line and add it to the relevant scatter plot of point 3.\n",
    "6. Compute the mean squared error and the R-squared of the univariate linear model using the test data.\n",
    "7. Estimate the parameters of the multivariate regression using as predictor all the X selected at point 2, using only the training data.\n",
    "8. Compute the mean squared error, and the R-squared of the multivariate linear model using the test data.\n",
    "9. Which model has the lowest mean squared error and the better R-squared? Why?"
   ]
  },
  {
   "cell_type": "code",
   "execution_count": 1,
   "metadata": {
    "cell_id": "00002-fbdfeeb9-195e-4ed7-b21b-b61ce082c53c",
    "deepnote_cell_type": "code",
    "deepnote_to_be_reexecuted": false,
    "execution_millis": 985,
    "execution_start": 1621277587788,
    "source_hash": "b4dab9c2"
   },
   "outputs": [],
   "source": [
    "# Load the packages\n",
    "import pandas as pd\n",
    "import numpy as np\n",
    "from sklearn.linear_model import LinearRegression\n",
    "from sklearn.metrics import mean_squared_error, r2_score\n",
    "from sklearn.model_selection import train_test_split\n",
    "\n",
    "import matplotlib.pyplot as plt"
   ]
  },
  {
   "cell_type": "code",
   "execution_count": 2,
   "metadata": {
    "cell_id": "00003-ad63c9fc-2d6b-4014-9940-bb370210c509",
    "deepnote_cell_type": "code",
    "deepnote_to_be_reexecuted": false,
    "execution_millis": 183,
    "execution_start": 1621277588776,
    "source_hash": "ed442ff2"
   },
   "outputs": [
    {
     "data": {
      "application/vnd.deepnote.dataframe.v2+json": {
       "column_count": 81,
       "columns": [
        {
         "dtype": "int64",
         "name": "Id",
         "stats": {
          "histogram": [
           {
            "bin_end": 1.4,
            "bin_start": 1,
            "count": 1
           },
           {
            "bin_end": 1.8,
            "bin_start": 1.4,
            "count": 0
           },
           {
            "bin_end": 2.2,
            "bin_start": 1.8,
            "count": 1
           },
           {
            "bin_end": 2.6,
            "bin_start": 2.2,
            "count": 0
           },
           {
            "bin_end": 3,
            "bin_start": 2.6,
            "count": 0
           },
           {
            "bin_end": 3.4000000000000004,
            "bin_start": 3,
            "count": 1
           },
           {
            "bin_end": 3.8000000000000003,
            "bin_start": 3.4000000000000004,
            "count": 0
           },
           {
            "bin_end": 4.2,
            "bin_start": 3.8000000000000003,
            "count": 1
           },
           {
            "bin_end": 4.6,
            "bin_start": 4.2,
            "count": 0
           },
           {
            "bin_end": 5,
            "bin_start": 4.6,
            "count": 1
           }
          ],
          "max": "5",
          "min": "1",
          "nan_count": 0,
          "unique_count": 5
         }
        },
        {
         "dtype": "int64",
         "name": "MSSubClass",
         "stats": {
          "histogram": [
           {
            "bin_end": 25,
            "bin_start": 20,
            "count": 1
           },
           {
            "bin_end": 30,
            "bin_start": 25,
            "count": 0
           },
           {
            "bin_end": 35,
            "bin_start": 30,
            "count": 0
           },
           {
            "bin_end": 40,
            "bin_start": 35,
            "count": 0
           },
           {
            "bin_end": 45,
            "bin_start": 40,
            "count": 0
           },
           {
            "bin_end": 50,
            "bin_start": 45,
            "count": 0
           },
           {
            "bin_end": 55,
            "bin_start": 50,
            "count": 0
           },
           {
            "bin_end": 60,
            "bin_start": 55,
            "count": 0
           },
           {
            "bin_end": 65,
            "bin_start": 60,
            "count": 3
           },
           {
            "bin_end": 70,
            "bin_start": 65,
            "count": 1
           }
          ],
          "max": "70",
          "min": "20",
          "nan_count": 0,
          "unique_count": 3
         }
        },
        {
         "dtype": "object",
         "name": "MSZoning",
         "stats": {
          "categories": [
           {
            "count": 5,
            "name": "RL"
           }
          ],
          "nan_count": 0,
          "unique_count": 1
         }
        },
        {
         "dtype": "float64",
         "name": "LotFrontage",
         "stats": {
          "histogram": [
           {
            "bin_end": 62.4,
            "bin_start": 60,
            "count": 1
           },
           {
            "bin_end": 64.8,
            "bin_start": 62.4,
            "count": 0
           },
           {
            "bin_end": 67.2,
            "bin_start": 64.8,
            "count": 1
           },
           {
            "bin_end": 69.6,
            "bin_start": 67.2,
            "count": 1
           },
           {
            "bin_end": 72,
            "bin_start": 69.6,
            "count": 0
           },
           {
            "bin_end": 74.4,
            "bin_start": 72,
            "count": 0
           },
           {
            "bin_end": 76.8,
            "bin_start": 74.4,
            "count": 0
           },
           {
            "bin_end": 79.2,
            "bin_start": 76.8,
            "count": 0
           },
           {
            "bin_end": 81.6,
            "bin_start": 79.2,
            "count": 1
           },
           {
            "bin_end": 84,
            "bin_start": 81.6,
            "count": 1
           }
          ],
          "max": "84.0",
          "min": "60.0",
          "nan_count": 0,
          "unique_count": 5
         }
        },
        {
         "dtype": "int64",
         "name": "LotArea",
         "stats": {
          "histogram": [
           {
            "bin_end": 9031,
            "bin_start": 8450,
            "count": 1
           },
           {
            "bin_end": 9612,
            "bin_start": 9031,
            "count": 2
           },
           {
            "bin_end": 10193,
            "bin_start": 9612,
            "count": 0
           },
           {
            "bin_end": 10774,
            "bin_start": 10193,
            "count": 0
           },
           {
            "bin_end": 11355,
            "bin_start": 10774,
            "count": 1
           },
           {
            "bin_end": 11936,
            "bin_start": 11355,
            "count": 0
           },
           {
            "bin_end": 12517,
            "bin_start": 11936,
            "count": 0
           },
           {
            "bin_end": 13098,
            "bin_start": 12517,
            "count": 0
           },
           {
            "bin_end": 13679,
            "bin_start": 13098,
            "count": 0
           },
           {
            "bin_end": 14260,
            "bin_start": 13679,
            "count": 1
           }
          ],
          "max": "14260",
          "min": "8450",
          "nan_count": 0,
          "unique_count": 5
         }
        },
        {
         "dtype": "object",
         "name": "Street",
         "stats": {
          "categories": [
           {
            "count": 5,
            "name": "Pave"
           }
          ],
          "nan_count": 0,
          "unique_count": 1
         }
        },
        {
         "dtype": "object",
         "name": "Alley",
         "stats": {
          "categories": [
           {
            "count": 5,
            "name": "Missing"
           }
          ],
          "nan_count": 5,
          "unique_count": 0
         }
        },
        {
         "dtype": "object",
         "name": "LotShape",
         "stats": {
          "categories": [
           {
            "count": 3,
            "name": "IR1"
           },
           {
            "count": 2,
            "name": "Reg"
           }
          ],
          "nan_count": 0,
          "unique_count": 2
         }
        },
        {
         "dtype": "object",
         "name": "LandContour",
         "stats": {
          "categories": [
           {
            "count": 5,
            "name": "Lvl"
           }
          ],
          "nan_count": 0,
          "unique_count": 1
         }
        },
        {
         "dtype": "object",
         "name": "Utilities",
         "stats": {
          "categories": [
           {
            "count": 5,
            "name": "AllPub"
           }
          ],
          "nan_count": 0,
          "unique_count": 1
         }
        },
        {
         "dtype": "object",
         "name": "LotConfig",
         "stats": {
          "categories": [
           {
            "count": 2,
            "name": "Inside"
           },
           {
            "count": 2,
            "name": "FR2"
           },
           {
            "count": 1,
            "name": "Corner"
           }
          ],
          "nan_count": 0,
          "unique_count": 3
         }
        },
        {
         "dtype": "object",
         "name": "LandSlope",
         "stats": {
          "categories": [
           {
            "count": 5,
            "name": "Gtl"
           }
          ],
          "nan_count": 0,
          "unique_count": 1
         }
        },
        {
         "dtype": "object",
         "name": "Neighborhood",
         "stats": {
          "categories": [
           {
            "count": 2,
            "name": "CollgCr"
           },
           {
            "count": 1,
            "name": "Veenker"
           },
           {
            "count": 2,
            "name": "2 others"
           }
          ],
          "nan_count": 0,
          "unique_count": 4
         }
        },
        {
         "dtype": "object",
         "name": "Condition1",
         "stats": {
          "categories": [
           {
            "count": 4,
            "name": "Norm"
           },
           {
            "count": 1,
            "name": "Feedr"
           }
          ],
          "nan_count": 0,
          "unique_count": 2
         }
        },
        {
         "dtype": "object",
         "name": "Condition2",
         "stats": {
          "categories": [
           {
            "count": 5,
            "name": "Norm"
           }
          ],
          "nan_count": 0,
          "unique_count": 1
         }
        },
        {
         "dtype": "object",
         "name": "BldgType",
         "stats": {
          "categories": [
           {
            "count": 5,
            "name": "1Fam"
           }
          ],
          "nan_count": 0,
          "unique_count": 1
         }
        },
        {
         "dtype": "object",
         "name": "HouseStyle",
         "stats": {
          "categories": [
           {
            "count": 4,
            "name": "2Story"
           },
           {
            "count": 1,
            "name": "1Story"
           }
          ],
          "nan_count": 0,
          "unique_count": 2
         }
        },
        {
         "dtype": "int64",
         "name": "OverallQual",
         "stats": {
          "histogram": [
           {
            "bin_end": 6.2,
            "bin_start": 6,
            "count": 1
           },
           {
            "bin_end": 6.4,
            "bin_start": 6.2,
            "count": 0
           },
           {
            "bin_end": 6.6,
            "bin_start": 6.4,
            "count": 0
           },
           {
            "bin_end": 6.8,
            "bin_start": 6.6,
            "count": 0
           },
           {
            "bin_end": 7,
            "bin_start": 6.8,
            "count": 0
           },
           {
            "bin_end": 7.2,
            "bin_start": 7,
            "count": 3
           },
           {
            "bin_end": 7.4,
            "bin_start": 7.2,
            "count": 0
           },
           {
            "bin_end": 7.6,
            "bin_start": 7.4,
            "count": 0
           },
           {
            "bin_end": 7.8,
            "bin_start": 7.6,
            "count": 0
           },
           {
            "bin_end": 8,
            "bin_start": 7.8,
            "count": 1
           }
          ],
          "max": "8",
          "min": "6",
          "nan_count": 0,
          "unique_count": 3
         }
        },
        {
         "dtype": "int64",
         "name": "OverallCond",
         "stats": {
          "histogram": [
           {
            "bin_end": 5.3,
            "bin_start": 5,
            "count": 4
           },
           {
            "bin_end": 5.6,
            "bin_start": 5.3,
            "count": 0
           },
           {
            "bin_end": 5.9,
            "bin_start": 5.6,
            "count": 0
           },
           {
            "bin_end": 6.2,
            "bin_start": 5.9,
            "count": 0
           },
           {
            "bin_end": 6.5,
            "bin_start": 6.2,
            "count": 0
           },
           {
            "bin_end": 6.8,
            "bin_start": 6.5,
            "count": 0
           },
           {
            "bin_end": 7.1,
            "bin_start": 6.8,
            "count": 0
           },
           {
            "bin_end": 7.4,
            "bin_start": 7.1,
            "count": 0
           },
           {
            "bin_end": 7.699999999999999,
            "bin_start": 7.4,
            "count": 0
           },
           {
            "bin_end": 8,
            "bin_start": 7.699999999999999,
            "count": 1
           }
          ],
          "max": "8",
          "min": "5",
          "nan_count": 0,
          "unique_count": 2
         }
        },
        {
         "dtype": "int64",
         "name": "YearBuilt",
         "stats": {
          "histogram": [
           {
            "bin_end": 1923.8,
            "bin_start": 1915,
            "count": 1
           },
           {
            "bin_end": 1932.6,
            "bin_start": 1923.8,
            "count": 0
           },
           {
            "bin_end": 1941.4,
            "bin_start": 1932.6,
            "count": 0
           },
           {
            "bin_end": 1950.2,
            "bin_start": 1941.4,
            "count": 0
           },
           {
            "bin_end": 1959,
            "bin_start": 1950.2,
            "count": 0
           },
           {
            "bin_end": 1967.8,
            "bin_start": 1959,
            "count": 0
           },
           {
            "bin_end": 1976.6,
            "bin_start": 1967.8,
            "count": 1
           },
           {
            "bin_end": 1985.4,
            "bin_start": 1976.6,
            "count": 0
           },
           {
            "bin_end": 1994.2,
            "bin_start": 1985.4,
            "count": 0
           },
           {
            "bin_end": 2003,
            "bin_start": 1994.2,
            "count": 3
           }
          ],
          "max": "2003",
          "min": "1915",
          "nan_count": 0,
          "unique_count": 5
         }
        },
        {
         "dtype": "int64",
         "name": "YearRemodAdd",
         "stats": {
          "histogram": [
           {
            "bin_end": 1973.3,
            "bin_start": 1970,
            "count": 1
           },
           {
            "bin_end": 1976.6,
            "bin_start": 1973.3,
            "count": 1
           },
           {
            "bin_end": 1979.9,
            "bin_start": 1976.6,
            "count": 0
           },
           {
            "bin_end": 1983.2,
            "bin_start": 1979.9,
            "count": 0
           },
           {
            "bin_end": 1986.5,
            "bin_start": 1983.2,
            "count": 0
           },
           {
            "bin_end": 1989.8,
            "bin_start": 1986.5,
            "count": 0
           },
           {
            "bin_end": 1993.1,
            "bin_start": 1989.8,
            "count": 0
           },
           {
            "bin_end": 1996.4,
            "bin_start": 1993.1,
            "count": 0
           },
           {
            "bin_end": 1999.7,
            "bin_start": 1996.4,
            "count": 0
           },
           {
            "bin_end": 2003,
            "bin_start": 1999.7,
            "count": 3
           }
          ],
          "max": "2003",
          "min": "1970",
          "nan_count": 0,
          "unique_count": 5
         }
        },
        {
         "dtype": "object",
         "name": "RoofStyle",
         "stats": {
          "categories": [
           {
            "count": 5,
            "name": "Gable"
           }
          ],
          "nan_count": 0,
          "unique_count": 1
         }
        },
        {
         "dtype": "object",
         "name": "RoofMatl",
         "stats": {
          "categories": [
           {
            "count": 5,
            "name": "CompShg"
           }
          ],
          "nan_count": 0,
          "unique_count": 1
         }
        },
        {
         "dtype": "object",
         "name": "Exterior1st",
         "stats": {
          "categories": [
           {
            "count": 3,
            "name": "VinylSd"
           },
           {
            "count": 1,
            "name": "MetalSd"
           },
           {
            "count": 1,
            "name": "Wd Sdng"
           }
          ],
          "nan_count": 0,
          "unique_count": 3
         }
        },
        {
         "dtype": "object",
         "name": "Exterior2nd",
         "stats": {
          "categories": [
           {
            "count": 3,
            "name": "VinylSd"
           },
           {
            "count": 1,
            "name": "MetalSd"
           },
           {
            "count": 1,
            "name": "Wd Shng"
           }
          ],
          "nan_count": 0,
          "unique_count": 3
         }
        },
        {
         "dtype": "object",
         "name": "MasVnrType",
         "stats": {
          "categories": [
           {
            "count": 3,
            "name": "BrkFace"
           },
           {
            "count": 2,
            "name": "None"
           }
          ],
          "nan_count": 0,
          "unique_count": 2
         }
        },
        {
         "dtype": "float64",
         "name": "MasVnrArea",
         "stats": {
          "histogram": [
           {
            "bin_end": 35,
            "bin_start": 0,
            "count": 2
           },
           {
            "bin_end": 70,
            "bin_start": 35,
            "count": 0
           },
           {
            "bin_end": 105,
            "bin_start": 70,
            "count": 0
           },
           {
            "bin_end": 140,
            "bin_start": 105,
            "count": 0
           },
           {
            "bin_end": 175,
            "bin_start": 140,
            "count": 1
           },
           {
            "bin_end": 210,
            "bin_start": 175,
            "count": 1
           },
           {
            "bin_end": 245,
            "bin_start": 210,
            "count": 0
           },
           {
            "bin_end": 280,
            "bin_start": 245,
            "count": 0
           },
           {
            "bin_end": 315,
            "bin_start": 280,
            "count": 0
           },
           {
            "bin_end": 350,
            "bin_start": 315,
            "count": 1
           }
          ],
          "max": "350.0",
          "min": "0.0",
          "nan_count": 0,
          "unique_count": 4
         }
        },
        {
         "dtype": "object",
         "name": "ExterQual",
         "stats": {
          "categories": [
           {
            "count": 3,
            "name": "Gd"
           },
           {
            "count": 2,
            "name": "TA"
           }
          ],
          "nan_count": 0,
          "unique_count": 2
         }
        },
        {
         "dtype": "object",
         "name": "ExterCond",
         "stats": {
          "categories": [
           {
            "count": 5,
            "name": "TA"
           }
          ],
          "nan_count": 0,
          "unique_count": 1
         }
        },
        {
         "dtype": "object",
         "name": "Foundation",
         "stats": {
          "categories": [
           {
            "count": 3,
            "name": "PConc"
           },
           {
            "count": 1,
            "name": "CBlock"
           },
           {
            "count": 1,
            "name": "BrkTil"
           }
          ],
          "nan_count": 0,
          "unique_count": 3
         }
        },
        {
         "dtype": "object",
         "name": "BsmtQual",
         "stats": {
          "categories": [
           {
            "count": 4,
            "name": "Gd"
           },
           {
            "count": 1,
            "name": "TA"
           }
          ],
          "nan_count": 0,
          "unique_count": 2
         }
        },
        {
         "dtype": "object",
         "name": "BsmtCond",
         "stats": {
          "categories": [
           {
            "count": 4,
            "name": "TA"
           },
           {
            "count": 1,
            "name": "Gd"
           }
          ],
          "nan_count": 0,
          "unique_count": 2
         }
        },
        {
         "dtype": "object",
         "name": "BsmtExposure",
         "stats": {
          "categories": [
           {
            "count": 2,
            "name": "No"
           },
           {
            "count": 1,
            "name": "Gd"
           },
           {
            "count": 2,
            "name": "2 others"
           }
          ],
          "nan_count": 0,
          "unique_count": 4
         }
        },
        {
         "dtype": "object",
         "name": "BsmtFinType1",
         "stats": {
          "categories": [
           {
            "count": 3,
            "name": "GLQ"
           },
           {
            "count": 2,
            "name": "ALQ"
           }
          ],
          "nan_count": 0,
          "unique_count": 2
         }
        },
        {
         "dtype": "int64",
         "name": "BsmtFinSF1",
         "stats": {
          "histogram": [
           {
            "bin_end": 292.2,
            "bin_start": 216,
            "count": 1
           },
           {
            "bin_end": 368.4,
            "bin_start": 292.2,
            "count": 0
           },
           {
            "bin_end": 444.6,
            "bin_start": 368.4,
            "count": 0
           },
           {
            "bin_end": 520.8,
            "bin_start": 444.6,
            "count": 1
           },
           {
            "bin_end": 597,
            "bin_start": 520.8,
            "count": 0
           },
           {
            "bin_end": 673.2,
            "bin_start": 597,
            "count": 1
           },
           {
            "bin_end": 749.4,
            "bin_start": 673.2,
            "count": 1
           },
           {
            "bin_end": 825.6,
            "bin_start": 749.4,
            "count": 0
           },
           {
            "bin_end": 901.8000000000001,
            "bin_start": 825.6,
            "count": 0
           },
           {
            "bin_end": 978,
            "bin_start": 901.8000000000001,
            "count": 1
           }
          ],
          "max": "978",
          "min": "216",
          "nan_count": 0,
          "unique_count": 5
         }
        },
        {
         "dtype": "object",
         "name": "BsmtFinType2",
         "stats": {
          "categories": [
           {
            "count": 5,
            "name": "Unf"
           }
          ],
          "nan_count": 0,
          "unique_count": 1
         }
        },
        {
         "dtype": "int64",
         "name": "BsmtFinSF2",
         "stats": {
          "histogram": [
           {
            "bin_end": -0.4,
            "bin_start": -0.5,
            "count": 0
           },
           {
            "bin_end": -0.3,
            "bin_start": -0.4,
            "count": 0
           },
           {
            "bin_end": -0.19999999999999996,
            "bin_start": -0.3,
            "count": 0
           },
           {
            "bin_end": -0.09999999999999998,
            "bin_start": -0.19999999999999996,
            "count": 0
           },
           {
            "bin_end": 0,
            "bin_start": -0.09999999999999998,
            "count": 0
           },
           {
            "bin_end": 0.10000000000000009,
            "bin_start": 0,
            "count": 5
           },
           {
            "bin_end": 0.20000000000000007,
            "bin_start": 0.10000000000000009,
            "count": 0
           },
           {
            "bin_end": 0.30000000000000004,
            "bin_start": 0.20000000000000007,
            "count": 0
           },
           {
            "bin_end": 0.4,
            "bin_start": 0.30000000000000004,
            "count": 0
           },
           {
            "bin_end": 0.5,
            "bin_start": 0.4,
            "count": 0
           }
          ],
          "max": "0",
          "min": "0",
          "nan_count": 0,
          "unique_count": 1
         }
        },
        {
         "dtype": "int64",
         "name": "BsmtUnfSF",
         "stats": {
          "histogram": [
           {
            "bin_end": 189,
            "bin_start": 150,
            "count": 1
           },
           {
            "bin_end": 228,
            "bin_start": 189,
            "count": 0
           },
           {
            "bin_end": 267,
            "bin_start": 228,
            "count": 0
           },
           {
            "bin_end": 306,
            "bin_start": 267,
            "count": 1
           },
           {
            "bin_end": 345,
            "bin_start": 306,
            "count": 0
           },
           {
            "bin_end": 384,
            "bin_start": 345,
            "count": 0
           },
           {
            "bin_end": 423,
            "bin_start": 384,
            "count": 0
           },
           {
            "bin_end": 462,
            "bin_start": 423,
            "count": 1
           },
           {
            "bin_end": 501,
            "bin_start": 462,
            "count": 1
           },
           {
            "bin_end": 540,
            "bin_start": 501,
            "count": 1
           }
          ],
          "max": "540",
          "min": "150",
          "nan_count": 0,
          "unique_count": 5
         }
        },
        {
         "dtype": "int64",
         "name": "TotalBsmtSF",
         "stats": {
          "histogram": [
           {
            "bin_end": 806.6,
            "bin_start": 756,
            "count": 1
           },
           {
            "bin_end": 857.2,
            "bin_start": 806.6,
            "count": 1
           },
           {
            "bin_end": 907.8,
            "bin_start": 857.2,
            "count": 0
           },
           {
            "bin_end": 958.4,
            "bin_start": 907.8,
            "count": 1
           },
           {
            "bin_end": 1009,
            "bin_start": 958.4,
            "count": 0
           },
           {
            "bin_end": 1059.6,
            "bin_start": 1009,
            "count": 0
           },
           {
            "bin_end": 1110.2,
            "bin_start": 1059.6,
            "count": 0
           },
           {
            "bin_end": 1160.8,
            "bin_start": 1110.2,
            "count": 1
           },
           {
            "bin_end": 1211.4,
            "bin_start": 1160.8,
            "count": 0
           },
           {
            "bin_end": 1262,
            "bin_start": 1211.4,
            "count": 1
           }
          ],
          "max": "1262",
          "min": "756",
          "nan_count": 0,
          "unique_count": 5
         }
        },
        {
         "dtype": "object",
         "name": "Heating",
         "stats": {
          "categories": [
           {
            "count": 5,
            "name": "GasA"
           }
          ],
          "nan_count": 0,
          "unique_count": 1
         }
        },
        {
         "dtype": "object",
         "name": "HeatingQC",
         "stats": {
          "categories": [
           {
            "count": 4,
            "name": "Ex"
           },
           {
            "count": 1,
            "name": "Gd"
           }
          ],
          "nan_count": 0,
          "unique_count": 2
         }
        },
        {
         "dtype": "object",
         "name": "CentralAir",
         "stats": {
          "categories": [
           {
            "count": 5,
            "name": "Y"
           }
          ],
          "nan_count": 0,
          "unique_count": 1
         }
        },
        {
         "dtype": "object",
         "name": "Electrical",
         "stats": {
          "categories": [
           {
            "count": 5,
            "name": "SBrkr"
           }
          ],
          "nan_count": 0,
          "unique_count": 1
         }
        },
        {
         "dtype": "int64",
         "name": "1stFlrSF",
         "stats": {
          "histogram": [
           {
            "bin_end": 896.6,
            "bin_start": 856,
            "count": 1
           },
           {
            "bin_end": 937.2,
            "bin_start": 896.6,
            "count": 1
           },
           {
            "bin_end": 977.8,
            "bin_start": 937.2,
            "count": 1
           },
           {
            "bin_end": 1018.4,
            "bin_start": 977.8,
            "count": 0
           },
           {
            "bin_end": 1059,
            "bin_start": 1018.4,
            "count": 0
           },
           {
            "bin_end": 1099.6,
            "bin_start": 1059,
            "count": 0
           },
           {
            "bin_end": 1140.2,
            "bin_start": 1099.6,
            "count": 0
           },
           {
            "bin_end": 1180.8,
            "bin_start": 1140.2,
            "count": 1
           },
           {
            "bin_end": 1221.4,
            "bin_start": 1180.8,
            "count": 0
           },
           {
            "bin_end": 1262,
            "bin_start": 1221.4,
            "count": 1
           }
          ],
          "max": "1262",
          "min": "856",
          "nan_count": 0,
          "unique_count": 5
         }
        },
        {
         "dtype": "int64",
         "name": "2ndFlrSF",
         "stats": {
          "histogram": [
           {
            "bin_end": 105.3,
            "bin_start": 0,
            "count": 1
           },
           {
            "bin_end": 210.6,
            "bin_start": 105.3,
            "count": 0
           },
           {
            "bin_end": 315.9,
            "bin_start": 210.6,
            "count": 0
           },
           {
            "bin_end": 421.2,
            "bin_start": 315.9,
            "count": 0
           },
           {
            "bin_end": 526.5,
            "bin_start": 421.2,
            "count": 0
           },
           {
            "bin_end": 631.8,
            "bin_start": 526.5,
            "count": 0
           },
           {
            "bin_end": 737.1,
            "bin_start": 631.8,
            "count": 0
           },
           {
            "bin_end": 842.4,
            "bin_start": 737.1,
            "count": 1
           },
           {
            "bin_end": 947.6999999999999,
            "bin_start": 842.4,
            "count": 2
           },
           {
            "bin_end": 1053,
            "bin_start": 947.6999999999999,
            "count": 1
           }
          ],
          "max": "1053",
          "min": "0",
          "nan_count": 0,
          "unique_count": 5
         }
        },
        {
         "dtype": "int64",
         "name": "LowQualFinSF",
         "stats": {
          "histogram": [
           {
            "bin_end": -0.4,
            "bin_start": -0.5,
            "count": 0
           },
           {
            "bin_end": -0.3,
            "bin_start": -0.4,
            "count": 0
           },
           {
            "bin_end": -0.19999999999999996,
            "bin_start": -0.3,
            "count": 0
           },
           {
            "bin_end": -0.09999999999999998,
            "bin_start": -0.19999999999999996,
            "count": 0
           },
           {
            "bin_end": 0,
            "bin_start": -0.09999999999999998,
            "count": 0
           },
           {
            "bin_end": 0.10000000000000009,
            "bin_start": 0,
            "count": 5
           },
           {
            "bin_end": 0.20000000000000007,
            "bin_start": 0.10000000000000009,
            "count": 0
           },
           {
            "bin_end": 0.30000000000000004,
            "bin_start": 0.20000000000000007,
            "count": 0
           },
           {
            "bin_end": 0.4,
            "bin_start": 0.30000000000000004,
            "count": 0
           },
           {
            "bin_end": 0.5,
            "bin_start": 0.4,
            "count": 0
           }
          ],
          "max": "0",
          "min": "0",
          "nan_count": 0,
          "unique_count": 1
         }
        },
        {
         "dtype": "int64",
         "name": "GrLivArea",
         "stats": {
          "histogram": [
           {
            "bin_end": 1355.6,
            "bin_start": 1262,
            "count": 1
           },
           {
            "bin_end": 1449.2,
            "bin_start": 1355.6,
            "count": 0
           },
           {
            "bin_end": 1542.8,
            "bin_start": 1449.2,
            "count": 0
           },
           {
            "bin_end": 1636.4,
            "bin_start": 1542.8,
            "count": 0
           },
           {
            "bin_end": 1730,
            "bin_start": 1636.4,
            "count": 2
           },
           {
            "bin_end": 1823.6,
            "bin_start": 1730,
            "count": 1
           },
           {
            "bin_end": 1917.1999999999998,
            "bin_start": 1823.6,
            "count": 0
           },
           {
            "bin_end": 2010.8,
            "bin_start": 1917.1999999999998,
            "count": 0
           },
           {
            "bin_end": 2104.4,
            "bin_start": 2010.8,
            "count": 0
           },
           {
            "bin_end": 2198,
            "bin_start": 2104.4,
            "count": 1
           }
          ],
          "max": "2198",
          "min": "1262",
          "nan_count": 0,
          "unique_count": 5
         }
        },
        {
         "dtype": "int64",
         "name": "BsmtFullBath",
         "stats": {
          "histogram": [
           {
            "bin_end": 0.1,
            "bin_start": 0,
            "count": 1
           },
           {
            "bin_end": 0.2,
            "bin_start": 0.1,
            "count": 0
           },
           {
            "bin_end": 0.30000000000000004,
            "bin_start": 0.2,
            "count": 0
           },
           {
            "bin_end": 0.4,
            "bin_start": 0.30000000000000004,
            "count": 0
           },
           {
            "bin_end": 0.5,
            "bin_start": 0.4,
            "count": 0
           },
           {
            "bin_end": 0.6000000000000001,
            "bin_start": 0.5,
            "count": 0
           },
           {
            "bin_end": 0.7000000000000001,
            "bin_start": 0.6000000000000001,
            "count": 0
           },
           {
            "bin_end": 0.8,
            "bin_start": 0.7000000000000001,
            "count": 0
           },
           {
            "bin_end": 0.9,
            "bin_start": 0.8,
            "count": 0
           },
           {
            "bin_end": 1,
            "bin_start": 0.9,
            "count": 4
           }
          ],
          "max": "1",
          "min": "0",
          "nan_count": 0,
          "unique_count": 2
         }
        },
        {
         "dtype": "int64",
         "name": "BsmtHalfBath",
         "stats": {
          "histogram": [
           {
            "bin_end": 0.1,
            "bin_start": 0,
            "count": 4
           },
           {
            "bin_end": 0.2,
            "bin_start": 0.1,
            "count": 0
           },
           {
            "bin_end": 0.30000000000000004,
            "bin_start": 0.2,
            "count": 0
           },
           {
            "bin_end": 0.4,
            "bin_start": 0.30000000000000004,
            "count": 0
           },
           {
            "bin_end": 0.5,
            "bin_start": 0.4,
            "count": 0
           },
           {
            "bin_end": 0.6000000000000001,
            "bin_start": 0.5,
            "count": 0
           },
           {
            "bin_end": 0.7000000000000001,
            "bin_start": 0.6000000000000001,
            "count": 0
           },
           {
            "bin_end": 0.8,
            "bin_start": 0.7000000000000001,
            "count": 0
           },
           {
            "bin_end": 0.9,
            "bin_start": 0.8,
            "count": 0
           },
           {
            "bin_end": 1,
            "bin_start": 0.9,
            "count": 1
           }
          ],
          "max": "1",
          "min": "0",
          "nan_count": 0,
          "unique_count": 2
         }
        },
        {
         "dtype": "int64",
         "name": "FullBath",
         "stats": {
          "histogram": [
           {
            "bin_end": 1.1,
            "bin_start": 1,
            "count": 1
           },
           {
            "bin_end": 1.2,
            "bin_start": 1.1,
            "count": 0
           },
           {
            "bin_end": 1.3,
            "bin_start": 1.2,
            "count": 0
           },
           {
            "bin_end": 1.4,
            "bin_start": 1.3,
            "count": 0
           },
           {
            "bin_end": 1.5,
            "bin_start": 1.4,
            "count": 0
           },
           {
            "bin_end": 1.6,
            "bin_start": 1.5,
            "count": 0
           },
           {
            "bin_end": 1.7000000000000002,
            "bin_start": 1.6,
            "count": 0
           },
           {
            "bin_end": 1.8,
            "bin_start": 1.7000000000000002,
            "count": 0
           },
           {
            "bin_end": 1.9,
            "bin_start": 1.8,
            "count": 0
           },
           {
            "bin_end": 2,
            "bin_start": 1.9,
            "count": 4
           }
          ],
          "max": "2",
          "min": "1",
          "nan_count": 0,
          "unique_count": 2
         }
        },
        {
         "dtype": "int64",
         "name": "HalfBath",
         "stats": {
          "histogram": [
           {
            "bin_end": 0.1,
            "bin_start": 0,
            "count": 2
           },
           {
            "bin_end": 0.2,
            "bin_start": 0.1,
            "count": 0
           },
           {
            "bin_end": 0.30000000000000004,
            "bin_start": 0.2,
            "count": 0
           },
           {
            "bin_end": 0.4,
            "bin_start": 0.30000000000000004,
            "count": 0
           },
           {
            "bin_end": 0.5,
            "bin_start": 0.4,
            "count": 0
           },
           {
            "bin_end": 0.6000000000000001,
            "bin_start": 0.5,
            "count": 0
           },
           {
            "bin_end": 0.7000000000000001,
            "bin_start": 0.6000000000000001,
            "count": 0
           },
           {
            "bin_end": 0.8,
            "bin_start": 0.7000000000000001,
            "count": 0
           },
           {
            "bin_end": 0.9,
            "bin_start": 0.8,
            "count": 0
           },
           {
            "bin_end": 1,
            "bin_start": 0.9,
            "count": 3
           }
          ],
          "max": "1",
          "min": "0",
          "nan_count": 0,
          "unique_count": 2
         }
        },
        {
         "dtype": "int64",
         "name": "BedroomAbvGr",
         "stats": {
          "histogram": [
           {
            "bin_end": 3.1,
            "bin_start": 3,
            "count": 4
           },
           {
            "bin_end": 3.2,
            "bin_start": 3.1,
            "count": 0
           },
           {
            "bin_end": 3.3,
            "bin_start": 3.2,
            "count": 0
           },
           {
            "bin_end": 3.4,
            "bin_start": 3.3,
            "count": 0
           },
           {
            "bin_end": 3.5,
            "bin_start": 3.4,
            "count": 0
           },
           {
            "bin_end": 3.6,
            "bin_start": 3.5,
            "count": 0
           },
           {
            "bin_end": 3.7,
            "bin_start": 3.6,
            "count": 0
           },
           {
            "bin_end": 3.8,
            "bin_start": 3.7,
            "count": 0
           },
           {
            "bin_end": 3.9,
            "bin_start": 3.8,
            "count": 0
           },
           {
            "bin_end": 4,
            "bin_start": 3.9,
            "count": 1
           }
          ],
          "max": "4",
          "min": "3",
          "nan_count": 0,
          "unique_count": 2
         }
        },
        {
         "dtype": "int64",
         "name": "KitchenAbvGr",
         "stats": {
          "histogram": [
           {
            "bin_end": 0.6,
            "bin_start": 0.5,
            "count": 0
           },
           {
            "bin_end": 0.7,
            "bin_start": 0.6,
            "count": 0
           },
           {
            "bin_end": 0.8,
            "bin_start": 0.7,
            "count": 0
           },
           {
            "bin_end": 0.9,
            "bin_start": 0.8,
            "count": 0
           },
           {
            "bin_end": 1,
            "bin_start": 0.9,
            "count": 0
           },
           {
            "bin_end": 1.1,
            "bin_start": 1,
            "count": 5
           },
           {
            "bin_end": 1.2000000000000002,
            "bin_start": 1.1,
            "count": 0
           },
           {
            "bin_end": 1.3,
            "bin_start": 1.2000000000000002,
            "count": 0
           },
           {
            "bin_end": 1.4,
            "bin_start": 1.3,
            "count": 0
           },
           {
            "bin_end": 1.5,
            "bin_start": 1.4,
            "count": 0
           }
          ],
          "max": "1",
          "min": "1",
          "nan_count": 0,
          "unique_count": 1
         }
        },
        {
         "dtype": "object",
         "name": "KitchenQual",
         "stats": {
          "categories": [
           {
            "count": 4,
            "name": "Gd"
           },
           {
            "count": 1,
            "name": "TA"
           }
          ],
          "nan_count": 0,
          "unique_count": 2
         }
        },
        {
         "dtype": "int64",
         "name": "TotRmsAbvGrd",
         "stats": {
          "histogram": [
           {
            "bin_end": 6.3,
            "bin_start": 6,
            "count": 2
           },
           {
            "bin_end": 6.6,
            "bin_start": 6.3,
            "count": 0
           },
           {
            "bin_end": 6.9,
            "bin_start": 6.6,
            "count": 0
           },
           {
            "bin_end": 7.2,
            "bin_start": 6.9,
            "count": 1
           },
           {
            "bin_end": 7.5,
            "bin_start": 7.2,
            "count": 0
           },
           {
            "bin_end": 7.8,
            "bin_start": 7.5,
            "count": 0
           },
           {
            "bin_end": 8.1,
            "bin_start": 7.8,
            "count": 1
           },
           {
            "bin_end": 8.4,
            "bin_start": 8.1,
            "count": 0
           },
           {
            "bin_end": 8.7,
            "bin_start": 8.4,
            "count": 0
           },
           {
            "bin_end": 9,
            "bin_start": 8.7,
            "count": 1
           }
          ],
          "max": "9",
          "min": "6",
          "nan_count": 0,
          "unique_count": 4
         }
        },
        {
         "dtype": "object",
         "name": "Functional",
         "stats": {
          "categories": [
           {
            "count": 5,
            "name": "Typ"
           }
          ],
          "nan_count": 0,
          "unique_count": 1
         }
        },
        {
         "dtype": "int64",
         "name": "Fireplaces",
         "stats": {
          "histogram": [
           {
            "bin_end": 0.1,
            "bin_start": 0,
            "count": 1
           },
           {
            "bin_end": 0.2,
            "bin_start": 0.1,
            "count": 0
           },
           {
            "bin_end": 0.30000000000000004,
            "bin_start": 0.2,
            "count": 0
           },
           {
            "bin_end": 0.4,
            "bin_start": 0.30000000000000004,
            "count": 0
           },
           {
            "bin_end": 0.5,
            "bin_start": 0.4,
            "count": 0
           },
           {
            "bin_end": 0.6000000000000001,
            "bin_start": 0.5,
            "count": 0
           },
           {
            "bin_end": 0.7000000000000001,
            "bin_start": 0.6000000000000001,
            "count": 0
           },
           {
            "bin_end": 0.8,
            "bin_start": 0.7000000000000001,
            "count": 0
           },
           {
            "bin_end": 0.9,
            "bin_start": 0.8,
            "count": 0
           },
           {
            "bin_end": 1,
            "bin_start": 0.9,
            "count": 4
           }
          ],
          "max": "1",
          "min": "0",
          "nan_count": 0,
          "unique_count": 2
         }
        },
        {
         "dtype": "object",
         "name": "FireplaceQu",
         "stats": {
          "categories": [
           {
            "count": 3,
            "name": "TA"
           },
           {
            "count": 1,
            "name": "Gd"
           },
           {
            "count": 1,
            "name": "Missing"
           }
          ],
          "nan_count": 1,
          "unique_count": 2
         }
        },
        {
         "dtype": "object",
         "name": "GarageType",
         "stats": {
          "categories": [
           {
            "count": 4,
            "name": "Attchd"
           },
           {
            "count": 1,
            "name": "Detchd"
           }
          ],
          "nan_count": 0,
          "unique_count": 2
         }
        },
        {
         "dtype": "float64",
         "name": "GarageYrBlt",
         "stats": {
          "histogram": [
           {
            "bin_end": 1978.7,
            "bin_start": 1976,
            "count": 1
           },
           {
            "bin_end": 1981.4,
            "bin_start": 1978.7,
            "count": 0
           },
           {
            "bin_end": 1984.1,
            "bin_start": 1981.4,
            "count": 0
           },
           {
            "bin_end": 1986.8,
            "bin_start": 1984.1,
            "count": 0
           },
           {
            "bin_end": 1989.5,
            "bin_start": 1986.8,
            "count": 0
           },
           {
            "bin_end": 1992.2,
            "bin_start": 1989.5,
            "count": 0
           },
           {
            "bin_end": 1994.9,
            "bin_start": 1992.2,
            "count": 0
           },
           {
            "bin_end": 1997.6,
            "bin_start": 1994.9,
            "count": 0
           },
           {
            "bin_end": 2000.3,
            "bin_start": 1997.6,
            "count": 2
           },
           {
            "bin_end": 2003,
            "bin_start": 2000.3,
            "count": 2
           }
          ],
          "max": "2003.0",
          "min": "1976.0",
          "nan_count": 0,
          "unique_count": 5
         }
        },
        {
         "dtype": "object",
         "name": "GarageFinish",
         "stats": {
          "categories": [
           {
            "count": 4,
            "name": "RFn"
           },
           {
            "count": 1,
            "name": "Unf"
           }
          ],
          "nan_count": 0,
          "unique_count": 2
         }
        },
        {
         "dtype": "int64",
         "name": "GarageCars",
         "stats": {
          "histogram": [
           {
            "bin_end": 2.1,
            "bin_start": 2,
            "count": 3
           },
           {
            "bin_end": 2.2,
            "bin_start": 2.1,
            "count": 0
           },
           {
            "bin_end": 2.3,
            "bin_start": 2.2,
            "count": 0
           },
           {
            "bin_end": 2.4,
            "bin_start": 2.3,
            "count": 0
           },
           {
            "bin_end": 2.5,
            "bin_start": 2.4,
            "count": 0
           },
           {
            "bin_end": 2.6,
            "bin_start": 2.5,
            "count": 0
           },
           {
            "bin_end": 2.7,
            "bin_start": 2.6,
            "count": 0
           },
           {
            "bin_end": 2.8,
            "bin_start": 2.7,
            "count": 0
           },
           {
            "bin_end": 2.9,
            "bin_start": 2.8,
            "count": 0
           },
           {
            "bin_end": 3,
            "bin_start": 2.9,
            "count": 2
           }
          ],
          "max": "3",
          "min": "2",
          "nan_count": 0,
          "unique_count": 2
         }
        },
        {
         "dtype": "int64",
         "name": "GarageArea",
         "stats": {
          "histogram": [
           {
            "bin_end": 497.6,
            "bin_start": 460,
            "count": 1
           },
           {
            "bin_end": 535.2,
            "bin_start": 497.6,
            "count": 0
           },
           {
            "bin_end": 572.8,
            "bin_start": 535.2,
            "count": 1
           },
           {
            "bin_end": 610.4,
            "bin_start": 572.8,
            "count": 1
           },
           {
            "bin_end": 648,
            "bin_start": 610.4,
            "count": 1
           },
           {
            "bin_end": 685.6,
            "bin_start": 648,
            "count": 0
           },
           {
            "bin_end": 723.2,
            "bin_start": 685.6,
            "count": 0
           },
           {
            "bin_end": 760.8,
            "bin_start": 723.2,
            "count": 0
           },
           {
            "bin_end": 798.4000000000001,
            "bin_start": 760.8,
            "count": 0
           },
           {
            "bin_end": 836,
            "bin_start": 798.4000000000001,
            "count": 1
           }
          ],
          "max": "836",
          "min": "460",
          "nan_count": 0,
          "unique_count": 5
         }
        },
        {
         "dtype": "object",
         "name": "GarageQual",
         "stats": {
          "categories": [
           {
            "count": 5,
            "name": "TA"
           }
          ],
          "nan_count": 0,
          "unique_count": 1
         }
        },
        {
         "dtype": "object",
         "name": "GarageCond",
         "stats": {
          "categories": [
           {
            "count": 5,
            "name": "TA"
           }
          ],
          "nan_count": 0,
          "unique_count": 1
         }
        },
        {
         "dtype": "object",
         "name": "PavedDrive",
         "stats": {
          "categories": [
           {
            "count": 5,
            "name": "Y"
           }
          ],
          "nan_count": 0,
          "unique_count": 1
         }
        },
        {
         "dtype": "int64",
         "name": "WoodDeckSF",
         "stats": {
          "histogram": [
           {
            "bin_end": 29.8,
            "bin_start": 0,
            "count": 3
           },
           {
            "bin_end": 59.6,
            "bin_start": 29.8,
            "count": 0
           },
           {
            "bin_end": 89.4,
            "bin_start": 59.6,
            "count": 0
           },
           {
            "bin_end": 119.2,
            "bin_start": 89.4,
            "count": 0
           },
           {
            "bin_end": 149,
            "bin_start": 119.2,
            "count": 0
           },
           {
            "bin_end": 178.8,
            "bin_start": 149,
            "count": 0
           },
           {
            "bin_end": 208.6,
            "bin_start": 178.8,
            "count": 1
           },
           {
            "bin_end": 238.4,
            "bin_start": 208.6,
            "count": 0
           },
           {
            "bin_end": 268.2,
            "bin_start": 238.4,
            "count": 0
           },
           {
            "bin_end": 298,
            "bin_start": 268.2,
            "count": 1
           }
          ],
          "max": "298",
          "min": "0",
          "nan_count": 0,
          "unique_count": 3
         }
        },
        {
         "dtype": "int64",
         "name": "OpenPorchSF",
         "stats": {
          "histogram": [
           {
            "bin_end": 8.4,
            "bin_start": 0,
            "count": 1
           },
           {
            "bin_end": 16.8,
            "bin_start": 8.4,
            "count": 0
           },
           {
            "bin_end": 25.200000000000003,
            "bin_start": 16.8,
            "count": 0
           },
           {
            "bin_end": 33.6,
            "bin_start": 25.200000000000003,
            "count": 0
           },
           {
            "bin_end": 42,
            "bin_start": 33.6,
            "count": 1
           },
           {
            "bin_end": 50.400000000000006,
            "bin_start": 42,
            "count": 1
           },
           {
            "bin_end": 58.800000000000004,
            "bin_start": 50.400000000000006,
            "count": 0
           },
           {
            "bin_end": 67.2,
            "bin_start": 58.800000000000004,
            "count": 1
           },
           {
            "bin_end": 75.60000000000001,
            "bin_start": 67.2,
            "count": 0
           },
           {
            "bin_end": 84,
            "bin_start": 75.60000000000001,
            "count": 1
           }
          ],
          "max": "84",
          "min": "0",
          "nan_count": 0,
          "unique_count": 5
         }
        },
        {
         "dtype": "int64",
         "name": "EnclosedPorch",
         "stats": {
          "histogram": [
           {
            "bin_end": 27.2,
            "bin_start": 0,
            "count": 4
           },
           {
            "bin_end": 54.4,
            "bin_start": 27.2,
            "count": 0
           },
           {
            "bin_end": 81.6,
            "bin_start": 54.4,
            "count": 0
           },
           {
            "bin_end": 108.8,
            "bin_start": 81.6,
            "count": 0
           },
           {
            "bin_end": 136,
            "bin_start": 108.8,
            "count": 0
           },
           {
            "bin_end": 163.2,
            "bin_start": 136,
            "count": 0
           },
           {
            "bin_end": 190.4,
            "bin_start": 163.2,
            "count": 0
           },
           {
            "bin_end": 217.6,
            "bin_start": 190.4,
            "count": 0
           },
           {
            "bin_end": 244.79999999999998,
            "bin_start": 217.6,
            "count": 0
           },
           {
            "bin_end": 272,
            "bin_start": 244.79999999999998,
            "count": 1
           }
          ],
          "max": "272",
          "min": "0",
          "nan_count": 0,
          "unique_count": 2
         }
        },
        {
         "dtype": "int64",
         "name": "3SsnPorch",
         "stats": {
          "histogram": [
           {
            "bin_end": -0.4,
            "bin_start": -0.5,
            "count": 0
           },
           {
            "bin_end": -0.3,
            "bin_start": -0.4,
            "count": 0
           },
           {
            "bin_end": -0.19999999999999996,
            "bin_start": -0.3,
            "count": 0
           },
           {
            "bin_end": -0.09999999999999998,
            "bin_start": -0.19999999999999996,
            "count": 0
           },
           {
            "bin_end": 0,
            "bin_start": -0.09999999999999998,
            "count": 0
           },
           {
            "bin_end": 0.10000000000000009,
            "bin_start": 0,
            "count": 5
           },
           {
            "bin_end": 0.20000000000000007,
            "bin_start": 0.10000000000000009,
            "count": 0
           },
           {
            "bin_end": 0.30000000000000004,
            "bin_start": 0.20000000000000007,
            "count": 0
           },
           {
            "bin_end": 0.4,
            "bin_start": 0.30000000000000004,
            "count": 0
           },
           {
            "bin_end": 0.5,
            "bin_start": 0.4,
            "count": 0
           }
          ],
          "max": "0",
          "min": "0",
          "nan_count": 0,
          "unique_count": 1
         }
        },
        {
         "dtype": "int64",
         "name": "ScreenPorch",
         "stats": {
          "histogram": [
           {
            "bin_end": -0.4,
            "bin_start": -0.5,
            "count": 0
           },
           {
            "bin_end": -0.3,
            "bin_start": -0.4,
            "count": 0
           },
           {
            "bin_end": -0.19999999999999996,
            "bin_start": -0.3,
            "count": 0
           },
           {
            "bin_end": -0.09999999999999998,
            "bin_start": -0.19999999999999996,
            "count": 0
           },
           {
            "bin_end": 0,
            "bin_start": -0.09999999999999998,
            "count": 0
           },
           {
            "bin_end": 0.10000000000000009,
            "bin_start": 0,
            "count": 5
           },
           {
            "bin_end": 0.20000000000000007,
            "bin_start": 0.10000000000000009,
            "count": 0
           },
           {
            "bin_end": 0.30000000000000004,
            "bin_start": 0.20000000000000007,
            "count": 0
           },
           {
            "bin_end": 0.4,
            "bin_start": 0.30000000000000004,
            "count": 0
           },
           {
            "bin_end": 0.5,
            "bin_start": 0.4,
            "count": 0
           }
          ],
          "max": "0",
          "min": "0",
          "nan_count": 0,
          "unique_count": 1
         }
        },
        {
         "dtype": "int64",
         "name": "PoolArea",
         "stats": {
          "histogram": [
           {
            "bin_end": -0.4,
            "bin_start": -0.5,
            "count": 0
           },
           {
            "bin_end": -0.3,
            "bin_start": -0.4,
            "count": 0
           },
           {
            "bin_end": -0.19999999999999996,
            "bin_start": -0.3,
            "count": 0
           },
           {
            "bin_end": -0.09999999999999998,
            "bin_start": -0.19999999999999996,
            "count": 0
           },
           {
            "bin_end": 0,
            "bin_start": -0.09999999999999998,
            "count": 0
           },
           {
            "bin_end": 0.10000000000000009,
            "bin_start": 0,
            "count": 5
           },
           {
            "bin_end": 0.20000000000000007,
            "bin_start": 0.10000000000000009,
            "count": 0
           },
           {
            "bin_end": 0.30000000000000004,
            "bin_start": 0.20000000000000007,
            "count": 0
           },
           {
            "bin_end": 0.4,
            "bin_start": 0.30000000000000004,
            "count": 0
           },
           {
            "bin_end": 0.5,
            "bin_start": 0.4,
            "count": 0
           }
          ],
          "max": "0",
          "min": "0",
          "nan_count": 0,
          "unique_count": 1
         }
        },
        {
         "dtype": "object",
         "name": "PoolQC",
         "stats": {
          "categories": [
           {
            "count": 5,
            "name": "Missing"
           }
          ],
          "nan_count": 5,
          "unique_count": 0
         }
        },
        {
         "dtype": "object",
         "name": "Fence",
         "stats": {
          "categories": [
           {
            "count": 5,
            "name": "Missing"
           }
          ],
          "nan_count": 5,
          "unique_count": 0
         }
        },
        {
         "dtype": "object",
         "name": "MiscFeature",
         "stats": {
          "categories": [
           {
            "count": 5,
            "name": "Missing"
           }
          ],
          "nan_count": 5,
          "unique_count": 0
         }
        },
        {
         "dtype": "int64",
         "name": "MiscVal",
         "stats": {
          "histogram": [
           {
            "bin_end": -0.4,
            "bin_start": -0.5,
            "count": 0
           },
           {
            "bin_end": -0.3,
            "bin_start": -0.4,
            "count": 0
           },
           {
            "bin_end": -0.19999999999999996,
            "bin_start": -0.3,
            "count": 0
           },
           {
            "bin_end": -0.09999999999999998,
            "bin_start": -0.19999999999999996,
            "count": 0
           },
           {
            "bin_end": 0,
            "bin_start": -0.09999999999999998,
            "count": 0
           },
           {
            "bin_end": 0.10000000000000009,
            "bin_start": 0,
            "count": 5
           },
           {
            "bin_end": 0.20000000000000007,
            "bin_start": 0.10000000000000009,
            "count": 0
           },
           {
            "bin_end": 0.30000000000000004,
            "bin_start": 0.20000000000000007,
            "count": 0
           },
           {
            "bin_end": 0.4,
            "bin_start": 0.30000000000000004,
            "count": 0
           },
           {
            "bin_end": 0.5,
            "bin_start": 0.4,
            "count": 0
           }
          ],
          "max": "0",
          "min": "0",
          "nan_count": 0,
          "unique_count": 1
         }
        },
        {
         "dtype": "int64",
         "name": "MoSold",
         "stats": {
          "histogram": [
           {
            "bin_end": 3,
            "bin_start": 2,
            "count": 2
           },
           {
            "bin_end": 4,
            "bin_start": 3,
            "count": 0
           },
           {
            "bin_end": 5,
            "bin_start": 4,
            "count": 0
           },
           {
            "bin_end": 6,
            "bin_start": 5,
            "count": 1
           },
           {
            "bin_end": 7,
            "bin_start": 6,
            "count": 0
           },
           {
            "bin_end": 8,
            "bin_start": 7,
            "count": 0
           },
           {
            "bin_end": 9,
            "bin_start": 8,
            "count": 0
           },
           {
            "bin_end": 10,
            "bin_start": 9,
            "count": 1
           },
           {
            "bin_end": 11,
            "bin_start": 10,
            "count": 0
           },
           {
            "bin_end": 12,
            "bin_start": 11,
            "count": 1
           }
          ],
          "max": "12",
          "min": "2",
          "nan_count": 0,
          "unique_count": 4
         }
        },
        {
         "dtype": "int64",
         "name": "YrSold",
         "stats": {
          "histogram": [
           {
            "bin_end": 2006.2,
            "bin_start": 2006,
            "count": 1
           },
           {
            "bin_end": 2006.4,
            "bin_start": 2006.2,
            "count": 0
           },
           {
            "bin_end": 2006.6,
            "bin_start": 2006.4,
            "count": 0
           },
           {
            "bin_end": 2006.8,
            "bin_start": 2006.6,
            "count": 0
           },
           {
            "bin_end": 2007,
            "bin_start": 2006.8,
            "count": 0
           },
           {
            "bin_end": 2007.2,
            "bin_start": 2007,
            "count": 1
           },
           {
            "bin_end": 2007.4,
            "bin_start": 2007.2,
            "count": 0
           },
           {
            "bin_end": 2007.6,
            "bin_start": 2007.4,
            "count": 0
           },
           {
            "bin_end": 2007.8,
            "bin_start": 2007.6,
            "count": 0
           },
           {
            "bin_end": 2008,
            "bin_start": 2007.8,
            "count": 3
           }
          ],
          "max": "2008",
          "min": "2006",
          "nan_count": 0,
          "unique_count": 3
         }
        },
        {
         "dtype": "object",
         "name": "SaleType",
         "stats": {
          "categories": [
           {
            "count": 5,
            "name": "WD"
           }
          ],
          "nan_count": 0,
          "unique_count": 1
         }
        },
        {
         "dtype": "object",
         "name": "SaleCondition",
         "stats": {
          "categories": [
           {
            "count": 4,
            "name": "Normal"
           },
           {
            "count": 1,
            "name": "Abnorml"
           }
          ],
          "nan_count": 0,
          "unique_count": 2
         }
        },
        {
         "dtype": "int64",
         "name": "SalePrice",
         "stats": {
          "histogram": [
           {
            "bin_end": 151000,
            "bin_start": 140000,
            "count": 1
           },
           {
            "bin_end": 162000,
            "bin_start": 151000,
            "count": 0
           },
           {
            "bin_end": 173000,
            "bin_start": 162000,
            "count": 0
           },
           {
            "bin_end": 184000,
            "bin_start": 173000,
            "count": 1
           },
           {
            "bin_end": 195000,
            "bin_start": 184000,
            "count": 0
           },
           {
            "bin_end": 206000,
            "bin_start": 195000,
            "count": 0
           },
           {
            "bin_end": 217000,
            "bin_start": 206000,
            "count": 1
           },
           {
            "bin_end": 228000,
            "bin_start": 217000,
            "count": 1
           },
           {
            "bin_end": 239000,
            "bin_start": 228000,
            "count": 0
           },
           {
            "bin_end": 250000,
            "bin_start": 239000,
            "count": 1
           }
          ],
          "max": "250000",
          "min": "140000",
          "nan_count": 0,
          "unique_count": 5
         }
        },
        {
         "dtype": "int64",
         "name": "_deepnote_index_column"
        }
       ],
       "row_count": 5,
       "rows_bottom": null,
       "rows_top": [
        {
         "1stFlrSF": 856,
         "2ndFlrSF": 854,
         "3SsnPorch": 0,
         "Alley": "nan",
         "BedroomAbvGr": 3,
         "BldgType": "1Fam",
         "BsmtCond": "TA",
         "BsmtExposure": "No",
         "BsmtFinSF1": 706,
         "BsmtFinSF2": 0,
         "BsmtFinType1": "GLQ",
         "BsmtFinType2": "Unf",
         "BsmtFullBath": 1,
         "BsmtHalfBath": 0,
         "BsmtQual": "Gd",
         "BsmtUnfSF": 150,
         "CentralAir": "Y",
         "Condition1": "Norm",
         "Condition2": "Norm",
         "Electrical": "SBrkr",
         "EnclosedPorch": 0,
         "ExterCond": "TA",
         "ExterQual": "Gd",
         "Exterior1st": "VinylSd",
         "Exterior2nd": "VinylSd",
         "Fence": "nan",
         "FireplaceQu": "nan",
         "Fireplaces": 0,
         "Foundation": "PConc",
         "FullBath": 2,
         "Functional": "Typ",
         "GarageArea": 548,
         "GarageCars": 2,
         "GarageCond": "TA",
         "GarageFinish": "RFn",
         "GarageQual": "TA",
         "GarageType": "Attchd",
         "GarageYrBlt": 2003,
         "GrLivArea": 1710,
         "HalfBath": 1,
         "Heating": "GasA",
         "HeatingQC": "Ex",
         "HouseStyle": "2Story",
         "Id": 1,
         "KitchenAbvGr": 1,
         "KitchenQual": "Gd",
         "LandContour": "Lvl",
         "LandSlope": "Gtl",
         "LotArea": 8450,
         "LotConfig": "Inside",
         "LotFrontage": 65,
         "LotShape": "Reg",
         "LowQualFinSF": 0,
         "MSSubClass": 60,
         "MSZoning": "RL",
         "MasVnrArea": 196,
         "MasVnrType": "BrkFace",
         "MiscFeature": "nan",
         "MiscVal": 0,
         "MoSold": 2,
         "Neighborhood": "CollgCr",
         "OpenPorchSF": 61,
         "OverallCond": 5,
         "OverallQual": 7,
         "PavedDrive": "Y",
         "PoolArea": 0,
         "PoolQC": "nan",
         "RoofMatl": "CompShg",
         "RoofStyle": "Gable",
         "SaleCondition": "Normal",
         "SalePrice": 208500,
         "SaleType": "WD",
         "ScreenPorch": 0,
         "Street": "Pave",
         "TotRmsAbvGrd": 8,
         "TotalBsmtSF": 856,
         "Utilities": "AllPub",
         "WoodDeckSF": 0,
         "YearBuilt": 2003,
         "YearRemodAdd": 2003,
         "YrSold": 2008,
         "_deepnote_index_column": 0
        },
        {
         "1stFlrSF": 1262,
         "2ndFlrSF": 0,
         "3SsnPorch": 0,
         "Alley": "nan",
         "BedroomAbvGr": 3,
         "BldgType": "1Fam",
         "BsmtCond": "TA",
         "BsmtExposure": "Gd",
         "BsmtFinSF1": 978,
         "BsmtFinSF2": 0,
         "BsmtFinType1": "ALQ",
         "BsmtFinType2": "Unf",
         "BsmtFullBath": 0,
         "BsmtHalfBath": 1,
         "BsmtQual": "Gd",
         "BsmtUnfSF": 284,
         "CentralAir": "Y",
         "Condition1": "Feedr",
         "Condition2": "Norm",
         "Electrical": "SBrkr",
         "EnclosedPorch": 0,
         "ExterCond": "TA",
         "ExterQual": "TA",
         "Exterior1st": "MetalSd",
         "Exterior2nd": "MetalSd",
         "Fence": "nan",
         "FireplaceQu": "TA",
         "Fireplaces": 1,
         "Foundation": "CBlock",
         "FullBath": 2,
         "Functional": "Typ",
         "GarageArea": 460,
         "GarageCars": 2,
         "GarageCond": "TA",
         "GarageFinish": "RFn",
         "GarageQual": "TA",
         "GarageType": "Attchd",
         "GarageYrBlt": 1976,
         "GrLivArea": 1262,
         "HalfBath": 0,
         "Heating": "GasA",
         "HeatingQC": "Ex",
         "HouseStyle": "1Story",
         "Id": 2,
         "KitchenAbvGr": 1,
         "KitchenQual": "TA",
         "LandContour": "Lvl",
         "LandSlope": "Gtl",
         "LotArea": 9600,
         "LotConfig": "FR2",
         "LotFrontage": 80,
         "LotShape": "Reg",
         "LowQualFinSF": 0,
         "MSSubClass": 20,
         "MSZoning": "RL",
         "MasVnrArea": 0,
         "MasVnrType": "None",
         "MiscFeature": "nan",
         "MiscVal": 0,
         "MoSold": 5,
         "Neighborhood": "Veenker",
         "OpenPorchSF": 0,
         "OverallCond": 8,
         "OverallQual": 6,
         "PavedDrive": "Y",
         "PoolArea": 0,
         "PoolQC": "nan",
         "RoofMatl": "CompShg",
         "RoofStyle": "Gable",
         "SaleCondition": "Normal",
         "SalePrice": 181500,
         "SaleType": "WD",
         "ScreenPorch": 0,
         "Street": "Pave",
         "TotRmsAbvGrd": 6,
         "TotalBsmtSF": 1262,
         "Utilities": "AllPub",
         "WoodDeckSF": 298,
         "YearBuilt": 1976,
         "YearRemodAdd": 1976,
         "YrSold": 2007,
         "_deepnote_index_column": 1
        },
        {
         "1stFlrSF": 920,
         "2ndFlrSF": 866,
         "3SsnPorch": 0,
         "Alley": "nan",
         "BedroomAbvGr": 3,
         "BldgType": "1Fam",
         "BsmtCond": "TA",
         "BsmtExposure": "Mn",
         "BsmtFinSF1": 486,
         "BsmtFinSF2": 0,
         "BsmtFinType1": "GLQ",
         "BsmtFinType2": "Unf",
         "BsmtFullBath": 1,
         "BsmtHalfBath": 0,
         "BsmtQual": "Gd",
         "BsmtUnfSF": 434,
         "CentralAir": "Y",
         "Condition1": "Norm",
         "Condition2": "Norm",
         "Electrical": "SBrkr",
         "EnclosedPorch": 0,
         "ExterCond": "TA",
         "ExterQual": "Gd",
         "Exterior1st": "VinylSd",
         "Exterior2nd": "VinylSd",
         "Fence": "nan",
         "FireplaceQu": "TA",
         "Fireplaces": 1,
         "Foundation": "PConc",
         "FullBath": 2,
         "Functional": "Typ",
         "GarageArea": 608,
         "GarageCars": 2,
         "GarageCond": "TA",
         "GarageFinish": "RFn",
         "GarageQual": "TA",
         "GarageType": "Attchd",
         "GarageYrBlt": 2001,
         "GrLivArea": 1786,
         "HalfBath": 1,
         "Heating": "GasA",
         "HeatingQC": "Ex",
         "HouseStyle": "2Story",
         "Id": 3,
         "KitchenAbvGr": 1,
         "KitchenQual": "Gd",
         "LandContour": "Lvl",
         "LandSlope": "Gtl",
         "LotArea": 11250,
         "LotConfig": "Inside",
         "LotFrontage": 68,
         "LotShape": "IR1",
         "LowQualFinSF": 0,
         "MSSubClass": 60,
         "MSZoning": "RL",
         "MasVnrArea": 162,
         "MasVnrType": "BrkFace",
         "MiscFeature": "nan",
         "MiscVal": 0,
         "MoSold": 9,
         "Neighborhood": "CollgCr",
         "OpenPorchSF": 42,
         "OverallCond": 5,
         "OverallQual": 7,
         "PavedDrive": "Y",
         "PoolArea": 0,
         "PoolQC": "nan",
         "RoofMatl": "CompShg",
         "RoofStyle": "Gable",
         "SaleCondition": "Normal",
         "SalePrice": 223500,
         "SaleType": "WD",
         "ScreenPorch": 0,
         "Street": "Pave",
         "TotRmsAbvGrd": 6,
         "TotalBsmtSF": 920,
         "Utilities": "AllPub",
         "WoodDeckSF": 0,
         "YearBuilt": 2001,
         "YearRemodAdd": 2002,
         "YrSold": 2008,
         "_deepnote_index_column": 2
        },
        {
         "1stFlrSF": 961,
         "2ndFlrSF": 756,
         "3SsnPorch": 0,
         "Alley": "nan",
         "BedroomAbvGr": 3,
         "BldgType": "1Fam",
         "BsmtCond": "Gd",
         "BsmtExposure": "No",
         "BsmtFinSF1": 216,
         "BsmtFinSF2": 0,
         "BsmtFinType1": "ALQ",
         "BsmtFinType2": "Unf",
         "BsmtFullBath": 1,
         "BsmtHalfBath": 0,
         "BsmtQual": "TA",
         "BsmtUnfSF": 540,
         "CentralAir": "Y",
         "Condition1": "Norm",
         "Condition2": "Norm",
         "Electrical": "SBrkr",
         "EnclosedPorch": 272,
         "ExterCond": "TA",
         "ExterQual": "TA",
         "Exterior1st": "Wd Sdng",
         "Exterior2nd": "Wd Shng",
         "Fence": "nan",
         "FireplaceQu": "Gd",
         "Fireplaces": 1,
         "Foundation": "BrkTil",
         "FullBath": 1,
         "Functional": "Typ",
         "GarageArea": 642,
         "GarageCars": 3,
         "GarageCond": "TA",
         "GarageFinish": "Unf",
         "GarageQual": "TA",
         "GarageType": "Detchd",
         "GarageYrBlt": 1998,
         "GrLivArea": 1717,
         "HalfBath": 0,
         "Heating": "GasA",
         "HeatingQC": "Gd",
         "HouseStyle": "2Story",
         "Id": 4,
         "KitchenAbvGr": 1,
         "KitchenQual": "Gd",
         "LandContour": "Lvl",
         "LandSlope": "Gtl",
         "LotArea": 9550,
         "LotConfig": "Corner",
         "LotFrontage": 60,
         "LotShape": "IR1",
         "LowQualFinSF": 0,
         "MSSubClass": 70,
         "MSZoning": "RL",
         "MasVnrArea": 0,
         "MasVnrType": "None",
         "MiscFeature": "nan",
         "MiscVal": 0,
         "MoSold": 2,
         "Neighborhood": "Crawfor",
         "OpenPorchSF": 35,
         "OverallCond": 5,
         "OverallQual": 7,
         "PavedDrive": "Y",
         "PoolArea": 0,
         "PoolQC": "nan",
         "RoofMatl": "CompShg",
         "RoofStyle": "Gable",
         "SaleCondition": "Abnorml",
         "SalePrice": 140000,
         "SaleType": "WD",
         "ScreenPorch": 0,
         "Street": "Pave",
         "TotRmsAbvGrd": 7,
         "TotalBsmtSF": 756,
         "Utilities": "AllPub",
         "WoodDeckSF": 0,
         "YearBuilt": 1915,
         "YearRemodAdd": 1970,
         "YrSold": 2006,
         "_deepnote_index_column": 3
        },
        {
         "1stFlrSF": 1145,
         "2ndFlrSF": 1053,
         "3SsnPorch": 0,
         "Alley": "nan",
         "BedroomAbvGr": 4,
         "BldgType": "1Fam",
         "BsmtCond": "TA",
         "BsmtExposure": "Av",
         "BsmtFinSF1": 655,
         "BsmtFinSF2": 0,
         "BsmtFinType1": "GLQ",
         "BsmtFinType2": "Unf",
         "BsmtFullBath": 1,
         "BsmtHalfBath": 0,
         "BsmtQual": "Gd",
         "BsmtUnfSF": 490,
         "CentralAir": "Y",
         "Condition1": "Norm",
         "Condition2": "Norm",
         "Electrical": "SBrkr",
         "EnclosedPorch": 0,
         "ExterCond": "TA",
         "ExterQual": "Gd",
         "Exterior1st": "VinylSd",
         "Exterior2nd": "VinylSd",
         "Fence": "nan",
         "FireplaceQu": "TA",
         "Fireplaces": 1,
         "Foundation": "PConc",
         "FullBath": 2,
         "Functional": "Typ",
         "GarageArea": 836,
         "GarageCars": 3,
         "GarageCond": "TA",
         "GarageFinish": "RFn",
         "GarageQual": "TA",
         "GarageType": "Attchd",
         "GarageYrBlt": 2000,
         "GrLivArea": 2198,
         "HalfBath": 1,
         "Heating": "GasA",
         "HeatingQC": "Ex",
         "HouseStyle": "2Story",
         "Id": 5,
         "KitchenAbvGr": 1,
         "KitchenQual": "Gd",
         "LandContour": "Lvl",
         "LandSlope": "Gtl",
         "LotArea": 14260,
         "LotConfig": "FR2",
         "LotFrontage": 84,
         "LotShape": "IR1",
         "LowQualFinSF": 0,
         "MSSubClass": 60,
         "MSZoning": "RL",
         "MasVnrArea": 350,
         "MasVnrType": "BrkFace",
         "MiscFeature": "nan",
         "MiscVal": 0,
         "MoSold": 12,
         "Neighborhood": "NoRidge",
         "OpenPorchSF": 84,
         "OverallCond": 5,
         "OverallQual": 8,
         "PavedDrive": "Y",
         "PoolArea": 0,
         "PoolQC": "nan",
         "RoofMatl": "CompShg",
         "RoofStyle": "Gable",
         "SaleCondition": "Normal",
         "SalePrice": 250000,
         "SaleType": "WD",
         "ScreenPorch": 0,
         "Street": "Pave",
         "TotRmsAbvGrd": 9,
         "TotalBsmtSF": 1145,
         "Utilities": "AllPub",
         "WoodDeckSF": 192,
         "YearBuilt": 2000,
         "YearRemodAdd": 2000,
         "YrSold": 2008,
         "_deepnote_index_column": 4
        }
       ]
      },
      "text/html": [
       "<div>\n",
       "<style scoped>\n",
       "    .dataframe tbody tr th:only-of-type {\n",
       "        vertical-align: middle;\n",
       "    }\n",
       "\n",
       "    .dataframe tbody tr th {\n",
       "        vertical-align: top;\n",
       "    }\n",
       "\n",
       "    .dataframe thead th {\n",
       "        text-align: right;\n",
       "    }\n",
       "</style>\n",
       "<table border=\"1\" class=\"dataframe\">\n",
       "  <thead>\n",
       "    <tr style=\"text-align: right;\">\n",
       "      <th></th>\n",
       "      <th>Id</th>\n",
       "      <th>MSSubClass</th>\n",
       "      <th>MSZoning</th>\n",
       "      <th>LotFrontage</th>\n",
       "      <th>LotArea</th>\n",
       "      <th>Street</th>\n",
       "      <th>Alley</th>\n",
       "      <th>LotShape</th>\n",
       "      <th>LandContour</th>\n",
       "      <th>Utilities</th>\n",
       "      <th>...</th>\n",
       "      <th>PoolArea</th>\n",
       "      <th>PoolQC</th>\n",
       "      <th>Fence</th>\n",
       "      <th>MiscFeature</th>\n",
       "      <th>MiscVal</th>\n",
       "      <th>MoSold</th>\n",
       "      <th>YrSold</th>\n",
       "      <th>SaleType</th>\n",
       "      <th>SaleCondition</th>\n",
       "      <th>SalePrice</th>\n",
       "    </tr>\n",
       "  </thead>\n",
       "  <tbody>\n",
       "    <tr>\n",
       "      <th>0</th>\n",
       "      <td>1</td>\n",
       "      <td>60</td>\n",
       "      <td>RL</td>\n",
       "      <td>65.0</td>\n",
       "      <td>8450</td>\n",
       "      <td>Pave</td>\n",
       "      <td>NaN</td>\n",
       "      <td>Reg</td>\n",
       "      <td>Lvl</td>\n",
       "      <td>AllPub</td>\n",
       "      <td>...</td>\n",
       "      <td>0</td>\n",
       "      <td>NaN</td>\n",
       "      <td>NaN</td>\n",
       "      <td>NaN</td>\n",
       "      <td>0</td>\n",
       "      <td>2</td>\n",
       "      <td>2008</td>\n",
       "      <td>WD</td>\n",
       "      <td>Normal</td>\n",
       "      <td>208500</td>\n",
       "    </tr>\n",
       "    <tr>\n",
       "      <th>1</th>\n",
       "      <td>2</td>\n",
       "      <td>20</td>\n",
       "      <td>RL</td>\n",
       "      <td>80.0</td>\n",
       "      <td>9600</td>\n",
       "      <td>Pave</td>\n",
       "      <td>NaN</td>\n",
       "      <td>Reg</td>\n",
       "      <td>Lvl</td>\n",
       "      <td>AllPub</td>\n",
       "      <td>...</td>\n",
       "      <td>0</td>\n",
       "      <td>NaN</td>\n",
       "      <td>NaN</td>\n",
       "      <td>NaN</td>\n",
       "      <td>0</td>\n",
       "      <td>5</td>\n",
       "      <td>2007</td>\n",
       "      <td>WD</td>\n",
       "      <td>Normal</td>\n",
       "      <td>181500</td>\n",
       "    </tr>\n",
       "    <tr>\n",
       "      <th>2</th>\n",
       "      <td>3</td>\n",
       "      <td>60</td>\n",
       "      <td>RL</td>\n",
       "      <td>68.0</td>\n",
       "      <td>11250</td>\n",
       "      <td>Pave</td>\n",
       "      <td>NaN</td>\n",
       "      <td>IR1</td>\n",
       "      <td>Lvl</td>\n",
       "      <td>AllPub</td>\n",
       "      <td>...</td>\n",
       "      <td>0</td>\n",
       "      <td>NaN</td>\n",
       "      <td>NaN</td>\n",
       "      <td>NaN</td>\n",
       "      <td>0</td>\n",
       "      <td>9</td>\n",
       "      <td>2008</td>\n",
       "      <td>WD</td>\n",
       "      <td>Normal</td>\n",
       "      <td>223500</td>\n",
       "    </tr>\n",
       "    <tr>\n",
       "      <th>3</th>\n",
       "      <td>4</td>\n",
       "      <td>70</td>\n",
       "      <td>RL</td>\n",
       "      <td>60.0</td>\n",
       "      <td>9550</td>\n",
       "      <td>Pave</td>\n",
       "      <td>NaN</td>\n",
       "      <td>IR1</td>\n",
       "      <td>Lvl</td>\n",
       "      <td>AllPub</td>\n",
       "      <td>...</td>\n",
       "      <td>0</td>\n",
       "      <td>NaN</td>\n",
       "      <td>NaN</td>\n",
       "      <td>NaN</td>\n",
       "      <td>0</td>\n",
       "      <td>2</td>\n",
       "      <td>2006</td>\n",
       "      <td>WD</td>\n",
       "      <td>Abnorml</td>\n",
       "      <td>140000</td>\n",
       "    </tr>\n",
       "    <tr>\n",
       "      <th>4</th>\n",
       "      <td>5</td>\n",
       "      <td>60</td>\n",
       "      <td>RL</td>\n",
       "      <td>84.0</td>\n",
       "      <td>14260</td>\n",
       "      <td>Pave</td>\n",
       "      <td>NaN</td>\n",
       "      <td>IR1</td>\n",
       "      <td>Lvl</td>\n",
       "      <td>AllPub</td>\n",
       "      <td>...</td>\n",
       "      <td>0</td>\n",
       "      <td>NaN</td>\n",
       "      <td>NaN</td>\n",
       "      <td>NaN</td>\n",
       "      <td>0</td>\n",
       "      <td>12</td>\n",
       "      <td>2008</td>\n",
       "      <td>WD</td>\n",
       "      <td>Normal</td>\n",
       "      <td>250000</td>\n",
       "    </tr>\n",
       "  </tbody>\n",
       "</table>\n",
       "<p>5 rows × 81 columns</p>\n",
       "</div>"
      ],
      "text/plain": [
       "   Id  MSSubClass MSZoning  LotFrontage  LotArea Street Alley LotShape  \\\n",
       "0   1          60       RL         65.0     8450   Pave   NaN      Reg   \n",
       "1   2          20       RL         80.0     9600   Pave   NaN      Reg   \n",
       "2   3          60       RL         68.0    11250   Pave   NaN      IR1   \n",
       "3   4          70       RL         60.0     9550   Pave   NaN      IR1   \n",
       "4   5          60       RL         84.0    14260   Pave   NaN      IR1   \n",
       "\n",
       "  LandContour Utilities  ... PoolArea PoolQC Fence MiscFeature MiscVal MoSold  \\\n",
       "0         Lvl    AllPub  ...        0    NaN   NaN         NaN       0      2   \n",
       "1         Lvl    AllPub  ...        0    NaN   NaN         NaN       0      5   \n",
       "2         Lvl    AllPub  ...        0    NaN   NaN         NaN       0      9   \n",
       "3         Lvl    AllPub  ...        0    NaN   NaN         NaN       0      2   \n",
       "4         Lvl    AllPub  ...        0    NaN   NaN         NaN       0     12   \n",
       "\n",
       "  YrSold  SaleType  SaleCondition  SalePrice  \n",
       "0   2008        WD         Normal     208500  \n",
       "1   2007        WD         Normal     181500  \n",
       "2   2008        WD         Normal     223500  \n",
       "3   2006        WD        Abnorml     140000  \n",
       "4   2008        WD         Normal     250000  \n",
       "\n",
       "[5 rows x 81 columns]"
      ]
     },
     "execution_count": 2,
     "metadata": {},
     "output_type": "execute_result"
    }
   ],
   "source": [
    "# import the data using pandas\n",
    "house_data = pd.read_csv(\"../Data/House_price.csv\", header = 0)\n",
    "house_data.head()"
   ]
  },
  {
   "cell_type": "markdown",
   "metadata": {
    "cell_id": "00004-c5b784ea-f7d3-41a2-9fcf-6dcab6277e31",
    "deepnote_cell_type": "markdown"
   },
   "source": [
    "### Data Manipulation\n",
    "\n",
    "In this first assignment, since we have not seen already how to perform a little of data manipulation, which includes: dummy conversion, missing elimination or substitution, outlier elimination etc... We will clean the data for you so you can start to work with a \"cleaned\" data matrix.\n",
    "\n",
    "**Data Manipulation** will be showed in detail on the first tutorial of the course this Thursday.\n",
    "\n",
    "\n",
    "We modify the **house_data** as follow:\n",
    "\n",
    "1. Eliminate all the object type data\n",
    "2. Eliminate all the missings"
   ]
  },
  {
   "cell_type": "code",
   "execution_count": 3,
   "metadata": {
    "cell_id": "00005-845ac71b-8a7a-4c41-991d-b6e43b1a7b09",
    "deepnote_cell_type": "code",
    "deepnote_to_be_reexecuted": false,
    "execution_millis": 23,
    "execution_start": 1621277588956,
    "source_hash": "394c042b"
   },
   "outputs": [
    {
     "name": "stdout",
     "output_type": "stream",
     "text": [
      "`house_data` containes 348 missing values\n",
      "\n",
      "After the missing elimination, there are 0 missing in the data.\n"
     ]
    }
   ],
   "source": [
    "# 1. Eliminate all the columns of type the object type data\n",
    "house_data = house_data.select_dtypes(include=['int64', 'float64'])\n",
    "\n",
    "# 2. Eliminate missing values\n",
    "print('`house_data` containes %d missing values' %(house_data.isnull().sum().sum()))\n",
    "house_data.dropna(inplace=True)\n",
    "\n",
    "print(\"\")\n",
    "# 3. Check presence of misisng\n",
    "print('After the missing elimination, there are %d missing in the data.' %(house_data.isnull().sum().sum()))"
   ]
  },
  {
   "cell_type": "markdown",
   "metadata": {
    "cell_id": "00006-747ca1cf-0fb5-4fc3-991c-bb52e121dca5",
    "deepnote_cell_type": "markdown"
   },
   "source": [
    "### 1. Select the Target variable (Y) and the predictors (X)."
   ]
  },
  {
   "cell_type": "code",
   "execution_count": 4,
   "metadata": {
    "cell_id": "00007-6827324d-0117-428c-a9b5-3fe521c87c36",
    "deepnote_cell_type": "code",
    "deepnote_to_be_reexecuted": false,
    "execution_millis": 13,
    "execution_start": 1621277588976,
    "source_hash": "aa821f87"
   },
   "outputs": [
    {
     "name": "stdout",
     "output_type": "stream",
     "text": [
      "0       208500\n",
      "1       181500\n",
      "2       223500\n",
      "3       140000\n",
      "4       250000\n",
      "         ...  \n",
      "1455    175000\n",
      "1456    210000\n",
      "1457    266500\n",
      "1458    142125\n",
      "1459    147500\n",
      "Name: SalePrice, Length: 1121, dtype: int64\n",
      "      GrLivArea  LotArea  LotFrontage\n",
      "0          1710     8450         65.0\n",
      "1          1262     9600         80.0\n",
      "2          1786    11250         68.0\n",
      "3          1717     9550         60.0\n",
      "4          2198    14260         84.0\n",
      "...         ...      ...          ...\n",
      "1455       1647     7917         62.0\n",
      "1456       2073    13175         85.0\n",
      "1457       2340     9042         66.0\n",
      "1458       1078     9717         68.0\n",
      "1459       1256     9937         75.0\n",
      "\n",
      "[1121 rows x 3 columns]\n"
     ]
    }
   ],
   "source": [
    "Y = house_data['SalePrice']\n",
    "X = house_data[['GrLivArea', 'LotArea', 'LotFrontage']]\n",
    "print(Y)\n",
    "print(X)"
   ]
  },
  {
   "cell_type": "markdown",
   "metadata": {
    "cell_id": "00008-c7d05f76-b717-4795-831f-a9886b0be4db",
    "deepnote_cell_type": "text-cell-h3",
    "tags": []
   },
   "source": [
    "###  2. Plot the scatter plot of each predictor (X) verus the target variable (Y)"
   ]
  },
  {
   "cell_type": "code",
   "execution_count": 5,
   "metadata": {
    "cell_id": "00009-145ac293-bef3-404b-82f8-485f2b5df95a",
    "deepnote_cell_type": "code",
    "deepnote_to_be_reexecuted": false,
    "execution_millis": 176,
    "execution_start": 1621277589016,
    "source_hash": "3ede2750",
    "tags": []
   },
   "outputs": [
    {
     "data": {
      "image/png": "[encoded data removed]",
      "text/plain": [
       "<Figure size 720x576 with 1 Axes>"
      ]
     },
     "metadata": {
      "image/png": {
       "height": 496,
       "width": 631
      },
      "needs_background": "light"
     },
     "output_type": "display_data"
    }
   ],
   "source": [
    "# GrLivArea\n",
    "X1 = X['GrLivArea']\n",
    "plt.figure(figsize=(10,8))\n",
    "plt.scatter(X1, Y)\n",
    "plt.title('Scatter plot of GrLivArea versus SalePrice')\n",
    "plt.xlabel(\"GrLivArea\")\n",
    "plt.ylabel(\"SalePrice\")\n",
    "plt.show()"
   ]
  },
  {
   "cell_type": "code",
   "execution_count": 6,
   "metadata": {
    "cell_id": "00010-2458ca04-9d2c-4ee4-ac3c-a283e5f02114",
    "deepnote_cell_type": "code",
    "deepnote_to_be_reexecuted": false,
    "execution_millis": 159,
    "execution_start": 1621277589209,
    "source_hash": "210f102b",
    "tags": []
   },
   "outputs": [
    {
     "data": {
      "image/png": "[encoded data removed]",
      "text/plain": [
       "<Figure size 720x576 with 1 Axes>"
      ]
     },
     "metadata": {
      "image/png": {
       "height": 496,
       "width": 631
      },
      "needs_background": "light"
     },
     "output_type": "display_data"
    }
   ],
   "source": [
    "# LotArea\n",
    "X2 = X['LotArea']\n",
    "plt.figure(figsize=(10,8))\n",
    "plt.scatter(X2, Y)\n",
    "plt.title('Scatter plot of LotArea versus SalePrice')\n",
    "plt.xlabel(\"LotArea\")\n",
    "plt.ylabel(\"SalePrice\")\n",
    "plt.show()"
   ]
  },
  {
   "cell_type": "code",
   "execution_count": 7,
   "metadata": {
    "cell_id": "00011-24035cbb-f713-4f06-89cc-fc8ad00c0c66",
    "deepnote_cell_type": "code",
    "deepnote_to_be_reexecuted": false,
    "execution_millis": 164,
    "execution_start": 1621277589385,
    "source_hash": "5651b2e3",
    "tags": []
   },
   "outputs": [
    {
     "data": {
      "image/png": "[encoded data removed]",
      "text/plain": [
       "<Figure size 720x576 with 1 Axes>"
      ]
     },
     "metadata": {
      "image/png": {
       "height": 496,
       "width": 631
      },
      "needs_background": "light"
     },
     "output_type": "display_data"
    }
   ],
   "source": [
    "# LotFrontage\n",
    "X3 = X['LotFrontage']\n",
    "plt.figure(figsize=(10,8))\n",
    "plt.scatter(X3, Y)\n",
    "plt.title('Scatter plot of LotFrontage versus SalePrice')\n",
    "plt.xlabel(\"LotFrontage\")\n",
    "plt.ylabel(\"SalePrice\")\n",
    "plt.show()"
   ]
  },
  {
   "cell_type": "markdown",
   "metadata": {
    "cell_id": "00012-3e786e49-2736-46c9-b7fc-b206662e882d",
    "deepnote_cell_type": "text-cell-h3",
    "tags": []
   },
   "source": [
    "### 3. Split the data into training and test sample"
   ]
  },
  {
   "cell_type": "code",
   "execution_count": 8,
   "metadata": {
    "cell_id": "00012-3a962f8e-a0eb-4518-bde9-dc3c9905b389",
    "deepnote_cell_type": "code",
    "deepnote_to_be_reexecuted": false,
    "execution_millis": 8,
    "execution_start": 1621277589586,
    "source_hash": "62e4e72",
    "tags": []
   },
   "outputs": [
    {
     "name": "stdout",
     "output_type": "stream",
     "text": [
      "784\n",
      "337\n"
     ]
    }
   ],
   "source": [
    "#Split the data into training(70%) and test(30%)\n",
    "df_training, df_test = train_test_split(house_data, train_size = 0.7, test_size = 0.3)\n",
    "print(len(df_training))\n",
    "print(len(df_test))\n"
   ]
  },
  {
   "cell_type": "markdown",
   "metadata": {
    "cell_id": "00014-5906768b-80fc-4b54-9ff4-763e00c11299",
    "deepnote_cell_type": "text-cell-h3",
    "tags": []
   },
   "source": [
    "### 4. Estimate&nbsp;the&nbsp;parameters&nbsp;of&nbsp;the&nbsp;univariate&nbsp;regression&nbsp;using&nbsp;as&nbsp;predictor&nbsp;only&nbsp;the&nbsp;variable&nbsp;LotArea."
   ]
  },
  {
   "cell_type": "code",
   "execution_count": 9,
   "metadata": {
    "cell_id": "00013-44f15ffe-d228-40e2-8185-722b946cc306",
    "deepnote_cell_type": "code",
    "deepnote_to_be_reexecuted": false,
    "execution_millis": 7,
    "execution_start": 1621277589587,
    "source_hash": "5880a6fc",
    "tags": []
   },
   "outputs": [
    {
     "name": "stdout",
     "output_type": "stream",
     "text": [
      "            coefficients\n",
      "intercept  158245.257977\n",
      "Lot_Area        2.663405\n"
     ]
    }
   ],
   "source": [
    "# Define X and Y for the univariate regression\n",
    "lot_area_training = df_training['LotArea'] # X-axis\n",
    "sale_price_training = df_training['SalePrice'] # Y-axis\n",
    "\n",
    "# Perform regression to estimate parameters\n",
    "lr = LinearRegression().fit(lot_area_training.values.reshape(-1,1), sale_price_training.values.reshape(-1,1))\n",
    "reg = [\"intercept\", \"Lot_Area\"]\n",
    "coef = pd.DataFrame([lr.intercept_,lr.coef_[0]],reg, columns = ['coefficients'])\n",
    "print(coef)"
   ]
  },
  {
   "cell_type": "markdown",
   "metadata": {
    "cell_id": "00016-cdaa13e9-4610-465f-9035-29cc5dcb7e92",
    "deepnote_cell_type": "text-cell-h3",
    "tags": []
   },
   "source": [
    "### 5. Use the parameters to fit the linear regression line and add it to the relevant scatter plot of point 3"
   ]
  },
  {
   "cell_type": "code",
   "execution_count": 10,
   "metadata": {
    "cell_id": "00014-4d2afabb-da2f-47ed-ad74-e8d59dbfc853",
    "deepnote_cell_type": "code",
    "deepnote_to_be_reexecuted": false,
    "execution_millis": 171,
    "execution_start": 1621277589588,
    "source_hash": "4608669e",
    "tags": []
   },
   "outputs": [
    {
     "name": "stdout",
     "output_type": "stream",
     "text": [
      "R-Squared(Training Data) :  0.07779228480213773\n",
      "Mean Squared Error(Training Data):  79333.66064385648\n"
     ]
    },
    {
     "data": {
      "image/png": "[encoded data removed]",
      "text/plain": [
       "<Figure size 720x576 with 1 Axes>"
      ]
     },
     "metadata": {
      "image/png": {
       "height": 496,
       "width": 631
      },
      "needs_background": "light"
     },
     "output_type": "display_data"
    }
   ],
   "source": [
    "# Calculate R-Square and MSE\n",
    "y_pred = lr.predict(lot_area_training.values.reshape(-1,1))\n",
    "rSquare = r2_score(sale_price_training.values.reshape(-1,1), y_pred)\n",
    "mse_error = mean_squared_error(sale_price_training, y_pred)\n",
    "print(\"R-Squared(Training Data) : \", rSquare)\n",
    "print(\"Mean Squared Error(Training Data): \", np.sqrt(mse_error))\n",
    "\n",
    "# Display the fitted line on top of the scatter plots\n",
    "plt.figure(figsize=(10,8))\n",
    "plt.scatter(lot_area_training, sale_price_training)\n",
    "plt.plot(lot_area_training, y_pred, 'r')\n",
    "plt.title('Best linear regression')\n",
    "plt.xlabel(\"LotArea\")\n",
    "plt.ylabel(\"SalePrice\")\n",
    "plt.show() "
   ]
  },
  {
   "cell_type": "markdown",
   "metadata": {
    "cell_id": "00018-4147fec5-ec0d-429c-b1d6-8f57aef1ebc1",
    "deepnote_cell_type": "text-cell-h3",
    "tags": []
   },
   "source": [
    "### 6. Compute the mean squared error and the R-squared of the univariate linear model using the test data"
   ]
  },
  {
   "cell_type": "code",
   "execution_count": 11,
   "metadata": {
    "cell_id": "00016-35d5e578-fb03-42ac-9ce0-480dc0d86948",
    "deepnote_cell_type": "code",
    "deepnote_to_be_reexecuted": false,
    "execution_millis": 20,
    "execution_start": 1621277589746,
    "source_hash": "f4f79e23",
    "tags": []
   },
   "outputs": [
    {
     "name": "stdout",
     "output_type": "stream",
     "text": [
      "R-Squared(Test Data) :  0.11208044953240337\n",
      "Mean Squared Error(Test Data):  78917.62131668716\n"
     ]
    }
   ],
   "source": [
    "# Define X and (true) Y\n",
    "lot_area_test = df_test['LotArea'] # X-axis\n",
    "sale_price_test = df_test['SalePrice'] # True Y\n",
    "\n",
    "# Calculate predicted Y (Y hat)\n",
    "y_pred_hat = lr.predict(lot_area_test.values.reshape(-1,1))\n",
    "\n",
    "# Compute R-Square and MSE\n",
    "rSquare_test_uni = r2_score(sale_price_test.values.reshape(-1,1), y_pred_hat)\n",
    "mse_error_test_uni = mean_squared_error(sale_price_test, y_pred_hat)\n",
    "print(\"R-Squared(Test Data) : \", rSquare_test_uni)\n",
    "print(\"Mean Squared Error(Test Data): \", np.sqrt(mse_error_test_uni))"
   ]
  },
  {
   "cell_type": "markdown",
   "metadata": {
    "cell_id": "00020-d04cce87-b360-45d2-accc-b1586ee4c35d",
    "deepnote_cell_type": "text-cell-h3",
    "tags": []
   },
   "source": [
    "### 7. Estimate the parameters of the multivariate regression using as predictor all the X selected at point 2, using only the training data"
   ]
  },
  {
   "cell_type": "code",
   "execution_count": 12,
   "metadata": {
    "cell_id": "00017-5ad662c1-31f0-4e06-a54a-9b336d7984c5",
    "deepnote_cell_type": "code",
    "deepnote_to_be_reexecuted": false,
    "execution_millis": 105,
    "execution_start": 1621277589781,
    "source_hash": "ff480bc9",
    "tags": []
   },
   "outputs": [
    {
     "name": "stdout",
     "output_type": "stream",
     "text": [
      "             coefficients\n",
      "intercept    -6759.126545\n",
      "GrLivArea      104.206691\n",
      "LotArea          0.681488\n",
      "LotFrontage    361.897496\n",
      "R-Squared(Training Data) :  0.5202000413617691\n",
      "Mean Squared Error(Training Data):  57223.342450984186\n"
     ]
    }
   ],
   "source": [
    "# Define X and Y for the multivariate regression\n",
    "sale_price_training = df_training['SalePrice'] # X-axis\n",
    "predictors_training = df_training[['GrLivArea', 'LotArea', 'LotFrontage']] # Y-axis\n",
    "\n",
    "# Perform regression to estimate parameters\n",
    "lr_mul = LinearRegression().fit(predictors_training, sale_price_training.values.reshape(-1,1))\n",
    "reg2 = [\"intercept\",'GrLivArea', 'LotArea', 'LotFrontage']\n",
    "coef2 = pd.DataFrame(np.transpose(np.hstack(([lr_mul.intercept_],lr_mul.coef_))),index = reg2, columns = ['coefficients'])\n",
    "print(coef2)\n",
    "\n",
    "# Compute R-Square and MSE\n",
    "y_pred_training_mul = lr_mul.predict(predictors_training)\n",
    "rSquare_training_mul = r2_score(sale_price_training, y_pred_training_mul)\n",
    "mse_error_training_mul = mean_squared_error(sale_price_training, y_pred_training_mul)\n",
    "print(\"R-Squared(Training Data) : \", rSquare_training_mul)\n",
    "print(\"Mean Squared Error(Training Data): \", np.sqrt(mse_error_training_mul))\n",
    "\n"
   ]
  },
  {
   "cell_type": "markdown",
   "metadata": {
    "cell_id": "00022-ad9b84f6-05bb-4f5e-af66-84b358599c17",
    "deepnote_cell_type": "text-cell-h3",
    "tags": []
   },
   "source": [
    "### 3. Compute the mean squared error, and the R-squared of the multivariate linear model using the test data"
   ]
  },
  {
   "cell_type": "code",
   "execution_count": 13,
   "metadata": {
    "cell_id": "00018-bf6bf33e-2e04-4d58-9fd3-2681a2664283",
    "deepnote_cell_type": "code",
    "deepnote_to_be_reexecuted": false,
    "execution_millis": 105,
    "execution_start": 1621277589781,
    "source_hash": "98e039bc",
    "tags": []
   },
   "outputs": [
    {
     "name": "stdout",
     "output_type": "stream",
     "text": [
      "R-Squared(Test Data) :  0.4676014785665973\n",
      "Mean Squared Error(Test Data):  61109.05920317725\n"
     ]
    }
   ],
   "source": [
    "# Define X and (true) Y\n",
    "predictors_test = df_test[['GrLivArea', 'LotArea', 'LotFrontage']] # X-axis\n",
    "sale_price_test = df_test['SalePrice'] # True Y\n",
    "\n",
    "y_pred_mul_hat = lr_mul.predict(predictors_test)\n",
    "rSquare_test_mul = r2_score(sale_price_test, y_pred_mul_hat)\n",
    "mse_error_test_mul = mean_squared_error(sale_price_test, y_pred_mul_hat)\n",
    "print(\"R-Squared(Test Data) : \", rSquare_test_mul)\n",
    "print(\"Mean Squared Error(Test Data): \", np.sqrt(mse_error_test_mul))"
   ]
  },
  {
   "cell_type": "markdown",
   "metadata": {
    "cell_id": "00024-0013bd78-1e93-4210-b21c-01e90796159e",
    "deepnote_cell_type": "text-cell-h3",
    "tags": []
   },
   "source": [
    "### 9. Which model has the lowest mean squared error and the better R-squared? Why?"
   ]
  },
  {
   "cell_type": "code",
   "execution_count": 14,
   "metadata": {
    "cell_id": "00025-0a456d69-eb47-4888-be5c-66c0f33c2491",
    "deepnote_cell_type": "code",
    "deepnote_to_be_reexecuted": false,
    "execution_millis": 111,
    "execution_start": 1621277589782,
    "source_hash": "6f522d5b",
    "tags": []
   },
   "outputs": [
    {
     "name": "stdout",
     "output_type": "stream",
     "text": [
      "Univariate R2 :  0.11208044953240337\n",
      "Multivariate R2 :  0.4676014785665973\n",
      "Improvement 3.17\n",
      "Univariate MSE(Test Data):  78917.62131668716\n",
      "Multivariate MSE(Test Data):  61109.05920317725\n",
      "Improvement -0.23\n"
     ]
    }
   ],
   "source": [
    "# R-squared\n",
    "print(\"Univariate R2 : \", rSquare_test_uni)\n",
    "print(\"Multivariate R2 : \", rSquare_test_mul)\n",
    "print('Improvement', round((rSquare_test_mul - rSquare_test_uni) / rSquare_test_uni,2))\n",
    "\n",
    "# MSE\n",
    "print(\"Univariate MSE(Test Data): \", np.sqrt(mse_error_test_uni))\n",
    "print(\"Multivariate MSE(Test Data): \", np.sqrt(mse_error_test_mul))\n",
    "print('Improvement', round((np.sqrt(mse_error_test_mul) - np.sqrt(mse_error_test_uni)) / np.sqrt(mse_error_test_uni),2))\n"
   ]
  },
  {
   "cell_type": "markdown",
   "metadata": {
    "cell_id": "00019-bdce538e-28a7-4c41-b822-46cb5f916a0b",
    "deepnote_cell_type": "markdown",
    "tags": []
   },
   "source": [
    "### Analysis\n",
    "The multivariate model has the lowest mean squared error and the better R-squared.\n",
    "The reason behind this is that multiple predictors provide a better-fitted regression model than a simple predictor given that the analysis is performed on the same sample data.\n",
    "\n"
   ]
  },
  {
   "cell_type": "markdown",
   "metadata": {
    "created_in_deepnote_cell": true,
    "deepnote_cell_type": "markdown",
    "tags": []
   },
   "source": [
    "<a style='text-decoration:none;line-height:16px;display:flex;color:#5B5B62;padding:10px;justify-content:end;' href='https://deepnote.com?utm_source=created-in-deepnote-cell&projectId=5cba99b1-0985-46f8-a887-709fbaf6b05e' target=\"_blank\">\n",
    "<img alt='Created in deepnote.com' style='display:inline;max-height:16px;margin:0px;margin-right:7.5px;' src='data:image/svg+xml;base64,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' > </img>\n",
    "Created in <span style='font-weight:600;margin-left:4px;'>Deepnote</span></a>"
   ]
  }
 ],
 "metadata": {
  "deepnote": {},
  "deepnote_execution_queue": [],
  "deepnote_notebook_id": "4d2a97b5-9f30-47d1-b6dd-cabcf22984c8",
  "kernelspec": {
   "display_name": "Python 3",
   "language": "python",
   "name": "python3"
  },
  "language_info": {
   "codemirror_mode": {
    "name": "ipython",
    "version": 3
   },
   "file_extension": ".py",
   "mimetype": "text/x-python",
   "name": "python",
   "nbconvert_exporter": "python",
   "pygments_lexer": "ipython3",
   "version": "3.8.6"
  }
 },
 "nbformat": 4,
 "nbformat_minor": 4
}
