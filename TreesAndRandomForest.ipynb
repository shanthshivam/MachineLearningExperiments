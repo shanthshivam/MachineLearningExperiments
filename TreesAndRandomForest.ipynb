{
 "cells": [
  {
   "cell_type": "markdown",
   "metadata": {
    "cell_id": "00001-5900c1a8-db0e-4148-b800-6cd7a48ddc9d",
    "deepnote_cell_type": "markdown",
    "tags": []
   },
   "source": [
    "# Trees and Random Forest\n",
    "\n",
    "The fourth assignment will takle the classification problem by using two non-parametric methods: **trees** and **random forest**. The latter is a generalization of the former. \n",
    "These methods can be applied when we have a lot of predictors in order to divide the sample of data into groups with similar values. They are called *non-parametic* methods because they do not estimate any parameters, i.e. $\\beta$s to shape the relationship between the X and the Y. In order to predict the outcome they split the sample based on some statistics (i.e. mean, median, etc...) referred to one or more features (Xs) in order to minimize the impurity of the sample split. These methods are applied to both the regression and the classification problem but they have had more applications and success in the *classification* framework.\n",
    "\n",
    "We will see them applied to the **classification** problem.\n",
    "\n",
    "The dataset uses a target variable with only 2 possible values: 0 or 1, and it is no longer a continuous output. The dataset if about a marketing campaign run by a Bank in order to persuade people to open a deposit account. The target variable called **deposit** is equal to 1 if after the marketing campaign the individual has opened a deposit account and 0 otherwise. In the dataset there are multiple vairables related to the individuals like: age, job, marital status, contact, etc...\n",
    "\n",
    "So far we have seen only parametric methods, the logistic regression and its penalized version, today we will use non parametrics method.\n",
    "\n",
    "The dataset is not \"ready-to-go\", hence before fitting the models you will need to manipulate the data in order to clean them. Moreover, there are some initial steps in order to include dummy vairables and non-linear predictors which you have already seen in the previous assignmemnt.\n",
    "\n",
    "Each group has to do the following: \n",
    "\n",
    "1. From sklearn.metrics import the following metrics to evaluate the models: accuracy score, roc_auc_score,confusion_matrix, classification report, roc_curve and precision_score\n",
    "2. From sklearn import the packages needed to perform: Logist Regression, GridSearchCV, train test split and from the tree and ensemble method you need to import the DecisionTreeClassifier and the RandomForestClassifier.\n",
    "3. Drop the variables: 'day' and 'poutcome'.\n",
    "4. Convert all the 'object' variables into dumy using the command **.get_dummies()** proper of the pandas DataFrame Structure, and include them to the original dataset.\n",
    "5. Split the data into train and test sample.\n",
    "6. **Do not drop any dummy variable**, use all of them to fit the model. Since we are deaing with the Decision Tree and the Random Forest do we need to standardize the variables? If yes, why?\n",
    "\n",
    "\n",
    "7. Fit the simple Logistic Regression using the training data. Using the test sample produce the predictions, and evaluate the model using average acucracy, roc aur score.\n",
    "8. Produce the confusione matrix and the classification report for the simple Logistic regression. The simple Logistic Regression will be used as baseline model.\n",
    "\n",
    "\n",
    "9. Fit the decision Tree Classifier using as hyperparameters to calibrate: **max_depth** and **min_samples_split**. For max_depth try at least 5 values from 2 to 20 and for min_sample_split try at least 10 values from 2 to 20. Which are the best value for the max_depth and min_samples_split from the cross-validation?\n",
    "10. Using the test sample produce the predictions, and evaluate the model using average acucracy, roc aur score.\n",
    "11. Produce the confusione matrix and the classification report for the Decision Tree Classifier.\n",
    "\n",
    "\n",
    "12. Fit the decision Random Forest Classifier using as hyperparameters to calibrate: **n_estimators**, **max_depth** and **min_samples_split**. For n_estimators use at elast 4 values minimum 50 and maximum 250, for max_depth try at least 4 values from 2 to 14 and for min_sample_split try at least 5 values from 2 to 20. Which are the best value for n_estimators, max_depth and min_samples_split from the cross-validation?\n",
    "13. Using the test sample produce the predictions, and evaluate the model using average acucracy, roc aur score.\n",
    "14. Produce the confusione matrix and the classification report for the Random Forest Classifier.\n",
    "\n",
    "\n",
    "15.  Which is the best model in terms of accuracy? In temrs of precision? Why for you is that the case?\n",
    "\n",
    "16. Using the best value for the hyperparameters determined in the cross-validation re-fit the Decision Tree Classifier and the Random Forest Classifier.\n",
    "17. Once you have re-fit both models create a DataFrame that contains the \\text{feature_importances_}, one for each model.\n",
    "18. Make the barplot with the top 10 features for each model. Are they similar? If not, what are the main differences?\n",
    "\n",
    "\n"
   ]
  },
  {
   "cell_type": "code",
   "execution_count": null,
   "metadata": {
    "cell_id": "00002-a34ea22b-ffd3-4282-862a-3d8702aea070",
    "deepnote_cell_type": "code",
    "deepnote_to_be_reexecuted": false,
    "execution_millis": 2211,
    "execution_start": 1622876908991,
    "source_hash": "6595a166",
    "tags": []
   },
   "outputs": [],
   "source": [
    "import pandas as pd\n",
    "import numpy as np\n",
    "import math\n",
    "import matplotlib.pyplot as plt\n",
    "from sklearn.metrics import accuracy_score, roc_auc_score,confusion_matrix, classification_report, roc_curve, precision_score\n",
    "from sklearn.linear_model import LogisticRegression\n",
    "from sklearn.model_selection import GridSearchCV, train_test_split\n",
    "from sklearn.tree import DecisionTreeClassifier\n",
    "from sklearn.ensemble import RandomForestClassifier\n",
    "import warnings\n",
    "warnings.filterwarnings('ignore')\n",
    "\n",
    "## load all the other packages, class or function in order to complete the assignment."
   ]
  },
  {
   "cell_type": "code",
   "execution_count": null,
   "metadata": {
    "cell_id": "00001-afcd60e5-69a1-40ff-b5ac-24ad6509afd3",
    "deepnote_cell_type": "code",
    "deepnote_to_be_reexecuted": false,
    "execution_millis": 322,
    "execution_start": 1622876911214,
    "source_hash": "65a2027",
    "tags": []
   },
   "outputs": [
    {
     "name": "stdout",
     "output_type": "stream",
     "text": [
      "Accuracy score:  0.807\n",
      "Roc auc score:  0.806\n",
      "              precision    recall  f1-score   support\n",
      "\n",
      "       False       0.82      0.82      0.82      1199\n",
      "        True       0.79      0.80      0.79      1034\n",
      "\n",
      "    accuracy                           0.81      2233\n",
      "   macro avg       0.81      0.81      0.81      2233\n",
      "weighted avg       0.81      0.81      0.81      2233\n",
      "\n",
      "[[979 220]\n",
      " [211 823]]\n"
     ]
    }
   ],
   "source": [
    "# import the data using pandas\n",
    "mrk_data = pd.read_csv(\"../Data/BankMarketing.csv\", header = 0, sep=\",\")\n",
    "\n",
    "# Display the first 5 rows and 10 colums of the dataset.\n",
    "mrk_data.head()\n",
    "\n",
    "# Changing \"deposit\" to binary values\n",
    "mrk_data.loc[mrk_data[\"deposit\"] ==\"yes\", \"deposit\"] = 1\n",
    "mrk_data.loc[mrk_data[\"deposit\"] ==\"no\", \"deposit\"] = 0\n",
    "mrk_data[\"deposit\"] = mrk_data[\"deposit\"].astype('bool')\n",
    "\n",
    "\n",
    "#3. Drop variables, separating exogenous and endogenous variables\n",
    "mrk_data_y=mrk_data[\"deposit\"]\n",
    "mrk_data_x=mrk_data.drop(columns=[\"day\", \"poutcome\",\"deposit\"])\n",
    "\n",
    "#4 Adding Dummies\n",
    "mrk_data_x= pd.get_dummies(mrk_data_x, drop_first=True)\n",
    "\n",
    "\n",
    "#5 Split Data into Train and Test\n",
    "X_training, X_test, Y_train, Y_test = train_test_split(mrk_data_x,mrk_data_y,test_size=0.2, random_state=3)\n",
    "\n",
    "\n",
    "#6 Standardization of Decision Tree and Random Forest\n",
    "#We do not need to standardize variables for DT and RF. Regions in the decision are not affected\n",
    "#by the scale of the variable. In a linear or logistic model, relation between endogenous and \n",
    "#exogenous variable must be standardize into a linear relation for the model to correctly capture\n",
    "#it. This is not the case in decision tree where regions can be split in any size. For example,\n",
    "#if we want to modelize a logarithmic relation, we would have to linearize the x variable before\n",
    "#fitting a linear model. For the decision tree, we could just split regions accordingly (for example\n",
    "#region1 goes from 1 to 10, region2 goes from 10 to 100, region3 goes from 100 to 1000,...).\n",
    "\n",
    "#7 Logistic Regression, accuracy score and roc auc score\n",
    "mrk_data_LR=LogisticRegression(random_state=0).fit(X_training, Y_train)\n",
    "Y_log_predict=mrk_data_LR.predict(X_test)\n",
    "\n",
    "acc_score_lr = accuracy_score(Y_test, Y_log_predict)\n",
    "rocauc_lr = roc_auc_score(Y_test, Y_log_predict)\n",
    "\n",
    "print('Accuracy score: ', round(acc_score_lr,3))\n",
    "print('Roc auc score: ', round(rocauc_lr,3))\n",
    "\n",
    "#8 Confusion matrix and the classification report\n",
    "class_rep_lr=classification_report(Y_test, Y_log_predict)\n",
    "print(class_rep_lr)\n",
    "\n",
    "# Confusion matrix\n",
    "conf_mat_lr = confusion_matrix(Y_test, Y_log_predict)\n",
    "print(conf_mat_lr)\n"
   ]
  },
  {
   "cell_type": "code",
   "execution_count": null,
   "metadata": {
    "cell_id": "00004-3124bc71-00a6-45fa-b565-84204c27bca0",
    "deepnote_cell_type": "code",
    "deepnote_to_be_reexecuted": false,
    "execution_millis": 24440,
    "execution_start": 1622876911567,
    "source_hash": "e702c4fa",
    "tags": []
   },
   "outputs": [
    {
     "name": "stdout",
     "output_type": "stream",
     "text": [
      "0.9077756821188507 {'max_depth': 10, 'min_samples_split': 18}\n",
      "Accuracy score:  0.82\n",
      "Roc auc score:  0.821\n",
      "              precision    recall  f1-score   support\n",
      "\n",
      "       False       0.84      0.82      0.83      1199\n",
      "        True       0.79      0.83      0.81      1034\n",
      "\n",
      "    accuracy                           0.82      2233\n",
      "   macro avg       0.82      0.82      0.82      2233\n",
      "weighted avg       0.82      0.82      0.82      2233\n",
      "\n",
      "[[978 221]\n",
      " [180 854]]\n"
     ]
    }
   ],
   "source": [
    "#9. Decision Tree\n",
    "\n",
    "mrk_DTR = DecisionTreeClassifier()\n",
    "parameters={'max_depth':range(2,20,4),'min_samples_split':range(2,21,2)}\n",
    "cv_DTR=GridSearchCV(mrk_DTR, parameters, cv=10)\n",
    "cv_DTR.fit(X_training, Y_train)\n",
    "mrk_tree_model=cv_DTR.best_estimator_\n",
    "print(math.sqrt(cv_DTR.best_score_), cv_DTR.best_params_)\n",
    "\n",
    "#10. Predictions, Acucracy, Roc Aur score.\n",
    "y_tree_predict=mrk_tree_model.predict(X_test)\n",
    "\n",
    "acc_score_tree = accuracy_score(Y_test, y_tree_predict)\n",
    "rocauc_tree = roc_auc_score(Y_test, y_tree_predict)\n",
    "\n",
    "print('Accuracy score: ', round(acc_score_tree,3))\n",
    "print('Roc auc score: ', round(rocauc_tree,3))\n",
    "\n",
    "#11 Confusion matrix and the classification report\n",
    "class_rep_tree=classification_report(Y_test, y_tree_predict)\n",
    "print(class_rep_tree)\n",
    "\n",
    "# Confusion matrix\n",
    "conf_mat_tree = confusion_matrix(Y_test, y_tree_predict)\n",
    "print(conf_mat_tree)"
   ]
  },
  {
   "cell_type": "code",
   "execution_count": null,
   "metadata": {
    "cell_id": "00006-6f856179-7491-4f1a-8f9c-2fc247680b22",
    "deepnote_cell_type": "visualization",
    "deepnote_to_be_reexecuted": false,
    "execution_millis": 4,
    "execution_start": 1622876936005,
    "source_hash": "b623e53d"
   },
   "outputs": [],
   "source": []
  },
  {
   "cell_type": "code",
   "execution_count": null,
   "metadata": {
    "cell_id": "00006-337a57dd-e9fe-449c-9213-d2dd42699f9e",
    "deepnote_cell_type": "code",
    "deepnote_to_be_reexecuted": false,
    "execution_millis": 1222271,
    "execution_start": 1622876936019,
    "source_hash": "c89a21df",
    "tags": []
   },
   "outputs": [
    {
     "name": "stdout",
     "output_type": "stream",
     "text": [
      "0.9182633109970865 {'max_depth': 11, 'min_samples_split': 4, 'n_estimators': 150}\n",
      "Accuracy score:  0.837\n",
      "Roc auc score:  0.84\n",
      "              precision    recall  f1-score   support\n",
      "\n",
      "       False       0.89      0.80      0.84      1199\n",
      "        True       0.79      0.88      0.83      1034\n",
      "\n",
      "    accuracy                           0.84      2233\n",
      "   macro avg       0.84      0.84      0.84      2233\n",
      "weighted avg       0.84      0.84      0.84      2233\n",
      "\n",
      "[[957 242]\n",
      " [122 912]]\n"
     ]
    }
   ],
   "source": [
    "# 12 Random Forest \n",
    "\n",
    "mrk_RF = RandomForestClassifier()\n",
    "parameters={'max_depth':range(2,14,3),'min_samples_split':range(2,21,2),'n_estimators':range(50,250,50)}\n",
    "cv_RF=GridSearchCV(mrk_RF, parameters, cv=10)\n",
    "cv_RF.fit(X_training, Y_train)\n",
    "mrk_forest_model=cv_RF.best_estimator_\n",
    "print(math.sqrt(cv_RF.best_score_), cv_RF.best_params_)\n",
    "\n",
    "#13. Predictions, Acucracy, Roc Aur score.\n",
    "y_forest_predict=mrk_forest_model.predict(X_test)\n",
    "\n",
    "acc_score_forest = accuracy_score(Y_test, y_forest_predict)\n",
    "rocauc_forest = roc_auc_score(Y_test, y_forest_predict)\n",
    "\n",
    "print('Accuracy score: ', round(acc_score_forest,3))\n",
    "print('Roc auc score: ', round(rocauc_forest,3))\n",
    "\n",
    "#14 Confusion matrix and the classification report\n",
    "class_rep_forest=classification_report(Y_test, y_forest_predict)\n",
    "print(class_rep_forest)\n",
    "\n",
    "# Confusion matrix\n",
    "conf_mat_forest = confusion_matrix(Y_test, y_forest_predict)\n",
    "print(conf_mat_forest)"
   ]
  },
  {
   "cell_type": "markdown",
   "metadata": {
    "cell_id": "00007-9f110882-cf53-4b23-aff0-6b1579f5b543",
    "deepnote_cell_type": "text-cell-p",
    "tags": []
   },
   "source": [
    "#15 Which is the best model in terms of accuracy? In terms of precision? Why for you is that the case? Both in term of accuracy and precision, the best model is the random forest, followed by the decision tree and the worst is the logistic regression. The prediction scores are 0.88 for the random forest, 85 for the decision tree, while it is 0.82 for the logistic regression. The accuracy scores are respectively 0.83, 0.82 and 0.81. The reason why the random forest is better than the decision tree model is that a random forest combines multiple decision tree, the prediction of a random forest is based on a majority rules from its multiple decision trees. This makes it more precise and\n",
    "accurate than the simple decision tree. "
   ]
  },
  {
   "cell_type": "code",
   "execution_count": null,
   "metadata": {
    "cell_id": "00007-a4181c36-44dc-4c0f-80de-21204183bc88",
    "deepnote_cell_type": "code",
    "deepnote_to_be_reexecuted": false,
    "execution_millis": 0,
    "execution_start": 1622886629401,
    "source_hash": "7c52418d",
    "tags": []
   },
   "outputs": [],
   "source": [
    "#16 Using the best value for the hyperparameters determined in the cross-validation \n",
    "#re-fit the Decision Tree Classifier and the Random Forest Classifier.\n",
    "\n",
    "#We have already fitted the Decision Tree Classifier and the Random Forest Classifier in \n",
    "#previous sections.The Decision Tree Classifier is called mrk_tree_model and the Random\n",
    "#Forest Classifier is called mrk_forest_model\n",
    "\n",
    "#17 Once you have re-fit both models create a DataFrame that contains the \n",
    "#\\text{featureimportances}, one for each model.\n",
    "column_x = pd.DataFrame(X_training.columns)\n",
    "imp_feat_tree=pd.concat([column_x,pd.DataFrame(mrk_tree_model.feature_importances_)],axis=1)\n",
    "imp_feat_forest=pd.concat([column_x,pd.DataFrame(mrk_forest_model.feature_importances_)],axis=1)\n",
    "\n"
   ]
  },
  {
   "cell_type": "markdown",
   "metadata": {
    "cell_id": "00010-f25caefd-384c-444e-8c33-45bbca083aee",
    "deepnote_cell_type": "text-cell-p",
    "tags": []
   },
   "source": [
    "#18 \n",
    "\n",
    "The two most important parameters were the same: duration, recent_pdays. Those two parameters represent more than 50% of the importance for both models. The remaining parameters are similar but do not have the same weight.\n",
    "\n"
   ]
  },
  {
   "cell_type": "code",
   "execution_count": null,
   "metadata": {
    "cell_id": "00010-a976de19-85b4-4799-beab-de27f49e9d36",
    "deepnote_cell_type": "code",
    "deepnote_to_be_reexecuted": false,
    "execution_millis": 448,
    "execution_start": 1622886637377,
    "source_hash": "ff4c9a36",
    "tags": []
   },
   "outputs": [
    {
     "data": {
      "image/png": "[encoded data removed]",
      "text/plain": [
       "<Figure size 432x288 with 1 Axes>"
      ]
     },
     "metadata": {
      "image/png": {
       "height": 301,
       "width": 372
      },
      "needs_background": "light"
     },
     "output_type": "display_data"
    },
    {
     "data": {
      "image/png": "[encoded data removed]",
      "text/plain": [
       "<Figure size 432x288 with 1 Axes>"
      ]
     },
     "metadata": {
      "image/png": {
       "height": 301,
       "width": 373
      },
      "needs_background": "light"
     },
     "output_type": "display_data"
    }
   ],
   "source": [
    "#18 Plot bar\n",
    "#Adding columns for easier data manipulation\n",
    "imp_feat_tree.columns= ['Parameter Name','Importance']\n",
    "imp_feat_forest.columns= ['Parameter Name','Importance']\n",
    "\n",
    "#Sorting value by importance\n",
    "sortedvalue_tree=imp_feat_tree.sort_values(by=imp_feat_tree.columns[1],ascending=False)\n",
    "sortedvalue_forest=imp_feat_forest.sort_values(by=imp_feat_forest.columns[1],ascending=False)\n",
    "\n",
    "#Getting the 10 most important\n",
    "imp_tree_10=sortedvalue_tree[0:10]\n",
    "imp_forest_10=sortedvalue_forest[0:10]\n",
    "\n",
    "plt.clf()\n",
    "plt.bar(imp_tree_10.iloc[:,0],imp_tree_10.iloc[:,1])\n",
    "plt.xticks(rotation=25)\n",
    "plt.title(\"Decision Tree\")\n",
    "plt.show()\n",
    "\n",
    "plt.clf()\n",
    "plt.bar(imp_forest_10.iloc[:,0],imp_forest_10.iloc[:,1])\n",
    "plt.xticks(rotation=25)\n",
    "plt.title(\"Random Forest\")\n",
    "plt.show()"
   ]
  },
  {
   "cell_type": "code",
   "execution_count": null,
   "metadata": {
    "cell_id": "00011-0d44a5e4-06ed-4968-8bda-39daa9c45d17",
    "deepnote_cell_type": "code",
    "tags": []
   },
   "outputs": [],
   "source": []
  },
  {
   "cell_type": "markdown",
   "metadata": {
    "created_in_deepnote_cell": true,
    "deepnote_cell_type": "markdown",
    "tags": []
   },
   "source": [
    "<a style='text-decoration:none;line-height:16px;display:flex;color:#5B5B62;padding:10px;justify-content:end;' href='https://deepnote.com?utm_source=created-in-deepnote-cell&projectId=cd5dab38-5e7c-42d3-9bd3-477a51125002' target=\"_blank\">\n",
    "<img alt='Created in deepnote.com' style='display:inline;max-height:16px;margin:0px;margin-right:7.5px;' src='data:image/svg+xml;base64,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' > </img>\n",
    "Created in <span style='font-weight:600;margin-left:4px;'>Deepnote</span></a>"
   ]
  }
 ],
 "metadata": {
  "deepnote": {
   "is_reactive": false
  },
  "deepnote_execution_queue": [],
  "deepnote_notebook_id": "e5949e53-1413-4760-bcc7-52c82392bf41",
  "kernelspec": {
   "display_name": "Python 3",
   "language": "python",
   "name": "python3"
  },
  "language_info": {
   "codemirror_mode": {
    "name": "ipython",
    "version": 3
   },
   "file_extension": ".py",
   "mimetype": "text/x-python",
   "name": "python",
   "nbconvert_exporter": "python",
   "pygments_lexer": "ipython3",
   "version": "3.7.9"
  }
 },
 "nbformat": 4,
 "nbformat_minor": 2
}
